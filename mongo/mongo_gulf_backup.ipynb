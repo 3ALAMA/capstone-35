{
 "cells": [
  {
   "cell_type": "code",
   "execution_count": 1,
   "metadata": {},
   "outputs": [],
   "source": [
    "#!pip install --quiet pymongo"
   ]
  },
  {
   "cell_type": "code",
   "execution_count": 2,
   "metadata": {},
   "outputs": [],
   "source": [
    "import pymongo\n",
    "import pandas as pd\n",
    "import json\n",
    "import pprint"
   ]
  },
  {
   "cell_type": "code",
   "execution_count": 3,
   "metadata": {},
   "outputs": [],
   "source": [
    "client = pymongo.MongoClient('35.167.189.162', 27016)"
   ]
  },
  {
   "cell_type": "markdown",
   "metadata": {},
   "source": [
    "### Databases on MongoDB Server"
   ]
  },
  {
   "cell_type": "code",
   "execution_count": 4,
   "metadata": {},
   "outputs": [
    {
     "data": {
      "text/plain": [
       "['admin', 'local', 'tweets']"
      ]
     },
     "execution_count": 4,
     "metadata": {},
     "output_type": "execute_result"
    }
   ],
   "source": [
    "client.database_names()"
   ]
  },
  {
   "cell_type": "markdown",
   "metadata": {},
   "source": [
    "### Create a Reference to the `tweets` Database"
   ]
  },
  {
   "cell_type": "code",
   "execution_count": 5,
   "metadata": {},
   "outputs": [],
   "source": [
    "twitter_db = client.tweets"
   ]
  },
  {
   "cell_type": "code",
   "execution_count": 6,
   "metadata": {},
   "outputs": [
    {
     "data": {
      "text/plain": [
       "['my_gulf_collection', 'my_eg_collection']"
      ]
     },
     "execution_count": 6,
     "metadata": {},
     "output_type": "execute_result"
    }
   ],
   "source": [
    "twitter_db.collection_names()"
   ]
  },
  {
   "cell_type": "code",
   "execution_count": 7,
   "metadata": {},
   "outputs": [],
   "source": [
    "#twitter_db.my_gulf_collection.drop()"
   ]
  },
  {
   "cell_type": "code",
   "execution_count": 8,
   "metadata": {},
   "outputs": [],
   "source": [
    "# for a in tweets_db.my_eg_collection.find():\n",
    "#     pprint.pprint(a)"
   ]
  },
  {
   "cell_type": "markdown",
   "metadata": {},
   "source": [
    "#### Create a reference to `my_gulf_collection`"
   ]
  },
  {
   "cell_type": "code",
   "execution_count": 9,
   "metadata": {},
   "outputs": [],
   "source": [
    "gulf_coll_ref = twitter_db.my_gulf_collection"
   ]
  },
  {
   "cell_type": "code",
   "execution_count": 10,
   "metadata": {},
   "outputs": [
    {
     "data": {
      "text/plain": [
       "(['admin', 'local', 'tweets'], ['my_gulf_collection', 'my_eg_collection'])"
      ]
     },
     "execution_count": 10,
     "metadata": {},
     "output_type": "execute_result"
    }
   ],
   "source": [
    "client.database_names(), twitter_db.collection_names()"
   ]
  },
  {
   "cell_type": "markdown",
   "metadata": {},
   "source": [
    "## Concatenate cleaned pickles and insert into MongoDB for storage"
   ]
  },
  {
   "cell_type": "code",
   "execution_count": 133,
   "metadata": {},
   "outputs": [],
   "source": [
    "df_batch_1 = pd.read_pickle('../gulf_twitter_pickled/user_timeline_amoor99111.p')"
   ]
  },
  {
   "cell_type": "code",
   "execution_count": 134,
   "metadata": {},
   "outputs": [],
   "source": [
    "df_batch_2 = pd.read_pickle('../gulf_twitter_pickled/user_timeline_alyazeedi96.p')"
   ]
  },
  {
   "cell_type": "code",
   "execution_count": 135,
   "metadata": {},
   "outputs": [],
   "source": [
    "df_batch_3 = pd.read_pickle('../gulf_twitter_pickled/user_timeline_Basbosah.p')"
   ]
  },
  {
   "cell_type": "code",
   "execution_count": 136,
   "metadata": {},
   "outputs": [],
   "source": [
    "#df_batch_4 = pd.read_pickle('../gulf_twitter_pickled/user_timeline_6al_asmaaa_.p')"
   ]
  },
  {
   "cell_type": "code",
   "execution_count": 137,
   "metadata": {
    "scrolled": false
   },
   "outputs": [
    {
     "data": {
      "text/html": [
       "<div>\n",
       "<table border=\"1\" class=\"dataframe\">\n",
       "  <thead>\n",
       "    <tr style=\"text-align: right;\">\n",
       "      <th></th>\n",
       "      <th>cleaned_text</th>\n",
       "      <th>cleaned_name</th>\n",
       "      <th>cleaned_geo</th>\n",
       "    </tr>\n",
       "  </thead>\n",
       "  <tbody>\n",
       "    <tr>\n",
       "      <th>0</th>\n",
       "      <td>وانا اشهد حبيبتي مساءك جميل استاذتنا</td>\n",
       "      <td>amoor99111</td>\n",
       "      <td></td>\n",
       "    </tr>\n",
       "    <tr>\n",
       "      <th>1</th>\n",
       "      <td>مغردي عمان بنت البدو في علوم الطيب سباقه من صغ...</td>\n",
       "      <td>amoor99111</td>\n",
       "      <td></td>\n",
       "    </tr>\n",
       "    <tr>\n",
       "      <th>2</th>\n",
       "      <td>المغرد العماني مقطع فيديو معبر جداً عن الواقع ...</td>\n",
       "      <td>amoor99111</td>\n",
       "      <td></td>\n",
       "    </tr>\n",
       "  </tbody>\n",
       "</table>\n",
       "</div>"
      ],
      "text/plain": [
       "                                        cleaned_text cleaned_name cleaned_geo\n",
       "0               وانا اشهد حبيبتي مساءك جميل استاذتنا   amoor99111            \n",
       "1  مغردي عمان بنت البدو في علوم الطيب سباقه من صغ...   amoor99111            \n",
       "2  المغرد العماني مقطع فيديو معبر جداً عن الواقع ...   amoor99111            "
      ]
     },
     "execution_count": 137,
     "metadata": {},
     "output_type": "execute_result"
    }
   ],
   "source": [
    "df_batch_1.head(3)"
   ]
  },
  {
   "cell_type": "code",
   "execution_count": 138,
   "metadata": {},
   "outputs": [
    {
     "data": {
      "text/html": [
       "<div>\n",
       "<table border=\"1\" class=\"dataframe\">\n",
       "  <thead>\n",
       "    <tr style=\"text-align: right;\">\n",
       "      <th></th>\n",
       "      <th>cleaned_text</th>\n",
       "      <th>cleaned_name</th>\n",
       "      <th>cleaned_geo</th>\n",
       "    </tr>\n",
       "  </thead>\n",
       "  <tbody>\n",
       "    <tr>\n",
       "      <th>0</th>\n",
       "      <td>صارحوني بشيء مثيرٍ للاهتمام اثابكم الله</td>\n",
       "      <td>alyazeedi96</td>\n",
       "      <td>Insomnia</td>\n",
       "    </tr>\n",
       "    <tr>\n",
       "      <th>1</th>\n",
       "      <td>خبروني معلومات غريبة عن العالم</td>\n",
       "      <td>alyazeedi96</td>\n",
       "      <td>Insomnia</td>\n",
       "    </tr>\n",
       "    <tr>\n",
       "      <th>2</th>\n",
       "      <td>ملل</td>\n",
       "      <td>alyazeedi96</td>\n",
       "      <td>Insomnia</td>\n",
       "    </tr>\n",
       "  </tbody>\n",
       "</table>\n",
       "</div>"
      ],
      "text/plain": [
       "                              cleaned_text cleaned_name cleaned_geo\n",
       "0  صارحوني بشيء مثيرٍ للاهتمام اثابكم الله  alyazeedi96    Insomnia\n",
       "1           خبروني معلومات غريبة عن العالم  alyazeedi96    Insomnia\n",
       "2                                      ملل  alyazeedi96    Insomnia"
      ]
     },
     "execution_count": 138,
     "metadata": {},
     "output_type": "execute_result"
    }
   ],
   "source": [
    "df_batch_2.head(3)"
   ]
  },
  {
   "cell_type": "code",
   "execution_count": 139,
   "metadata": {
    "scrolled": true
   },
   "outputs": [
    {
     "data": {
      "text/html": [
       "<div>\n",
       "<table border=\"1\" class=\"dataframe\">\n",
       "  <thead>\n",
       "    <tr style=\"text-align: right;\">\n",
       "      <th></th>\n",
       "      <th>cleaned_text</th>\n",
       "      <th>cleaned_name</th>\n",
       "      <th>cleaned_geo</th>\n",
       "    </tr>\n",
       "  </thead>\n",
       "  <tbody>\n",
       "    <tr>\n",
       "      <th>0</th>\n",
       "      <td>فديت اهل الإمارات 🤗🤗🤗</td>\n",
       "      <td>Basbosah</td>\n",
       "      <td>East - مملكتي</td>\n",
       "    </tr>\n",
       "    <tr>\n",
       "      <th>1</th>\n",
       "      <td>تخيلي مليار نسمة وتحبيلك واحد ياختي اقل حاجة ح...</td>\n",
       "      <td>Basbosah</td>\n",
       "      <td>East - مملكتي</td>\n",
       "    </tr>\n",
       "    <tr>\n",
       "      <th>2</th>\n",
       "      <td>استقبل بشار الأسد اليوم الرئيس الروسي بوتن بدا...</td>\n",
       "      <td>Basbosah</td>\n",
       "      <td>East - مملكتي</td>\n",
       "    </tr>\n",
       "  </tbody>\n",
       "</table>\n",
       "</div>"
      ],
      "text/plain": [
       "                                        cleaned_text cleaned_name  \\\n",
       "0                              فديت اهل الإمارات 🤗🤗🤗     Basbosah   \n",
       "1  تخيلي مليار نسمة وتحبيلك واحد ياختي اقل حاجة ح...     Basbosah   \n",
       "2  استقبل بشار الأسد اليوم الرئيس الروسي بوتن بدا...     Basbosah   \n",
       "\n",
       "     cleaned_geo  \n",
       "0  East - مملكتي  \n",
       "1  East - مملكتي  \n",
       "2  East - مملكتي  "
      ]
     },
     "execution_count": 139,
     "metadata": {},
     "output_type": "execute_result"
    }
   ],
   "source": [
    "df_batch_3.head(3)"
   ]
  },
  {
   "cell_type": "code",
   "execution_count": 140,
   "metadata": {},
   "outputs": [],
   "source": [
    "#df_batch_4.head(3)"
   ]
  },
  {
   "cell_type": "code",
   "execution_count": 141,
   "metadata": {},
   "outputs": [],
   "source": [
    "gulf_df = df_batch_1.append([df_batch_2, df_batch_3])"
   ]
  },
  {
   "cell_type": "code",
   "execution_count": 142,
   "metadata": {},
   "outputs": [
    {
     "data": {
      "text/html": [
       "<div>\n",
       "<table border=\"1\" class=\"dataframe\">\n",
       "  <thead>\n",
       "    <tr style=\"text-align: right;\">\n",
       "      <th></th>\n",
       "      <th>cleaned_text</th>\n",
       "      <th>cleaned_name</th>\n",
       "      <th>cleaned_geo</th>\n",
       "    </tr>\n",
       "  </thead>\n",
       "  <tbody>\n",
       "    <tr>\n",
       "      <th>2668</th>\n",
       "      <td>انتظري نقوم من النوم اول</td>\n",
       "      <td>alyazeedi96</td>\n",
       "      <td>Insomnia</td>\n",
       "    </tr>\n",
       "    <tr>\n",
       "      <th>1117</th>\n",
       "      <td>الوقت ما يناسبني للاسف</td>\n",
       "      <td>alyazeedi96</td>\n",
       "      <td>Insomnia</td>\n",
       "    </tr>\n",
       "    <tr>\n",
       "      <th>393</th>\n",
       "      <td>روووعة ما شاء الله</td>\n",
       "      <td>amoor99111</td>\n",
       "      <td></td>\n",
       "    </tr>\n",
       "    <tr>\n",
       "      <th>1620</th>\n",
       "      <td>صباح الخير يا اول من ذكرته في طريق الصبح صباح ...</td>\n",
       "      <td>amoor99111</td>\n",
       "      <td></td>\n",
       "    </tr>\n",
       "    <tr>\n",
       "      <th>2291</th>\n",
       "      <td>أوصى بعض الحكماء فقال أصلحوا ألسِنتكم، فإن الر...</td>\n",
       "      <td>Basbosah</td>\n",
       "      <td>East - مملكتي</td>\n",
       "    </tr>\n",
       "    <tr>\n",
       "      <th>1388</th>\n",
       "      <td>صباح مُنير في عُيون المُتأملينّ بالحَياة ، لكَ...</td>\n",
       "      <td>amoor99111</td>\n",
       "      <td></td>\n",
       "    </tr>\n",
       "    <tr>\n",
       "      <th>2169</th>\n",
       "      <td>حفلة طلاق في موريتانيا</td>\n",
       "      <td>amoor99111</td>\n",
       "      <td></td>\n",
       "    </tr>\n",
       "    <tr>\n",
       "      <th>434</th>\n",
       "      <td>كمية نكد بهالموال ماصارت ماكملته لأن الجو حلو ...</td>\n",
       "      <td>Basbosah</td>\n",
       "      <td>East - مملكتي</td>\n",
       "    </tr>\n",
       "    <tr>\n",
       "      <th>1099</th>\n",
       "      <td>ㅤㅤㅤㅤㅤㅤㅤㅤㅤㅤㅤㅤㅤㅤ ياللي ترابك ذهب ونسمة هوائك طيب...</td>\n",
       "      <td>amoor99111</td>\n",
       "      <td></td>\n",
       "    </tr>\n",
       "    <tr>\n",
       "      <th>2885</th>\n",
       "      <td>هو ما ذكر ان الجفا فيه كسره للخافق الي من هوى ...</td>\n",
       "      <td>amoor99111</td>\n",
       "      <td></td>\n",
       "    </tr>\n",
       "  </tbody>\n",
       "</table>\n",
       "</div>"
      ],
      "text/plain": [
       "                                           cleaned_text cleaned_name  \\\n",
       "2668                           انتظري نقوم من النوم اول  alyazeedi96   \n",
       "1117                             الوقت ما يناسبني للاسف  alyazeedi96   \n",
       "393                                  روووعة ما شاء الله   amoor99111   \n",
       "1620  صباح الخير يا اول من ذكرته في طريق الصبح صباح ...   amoor99111   \n",
       "2291  أوصى بعض الحكماء فقال أصلحوا ألسِنتكم، فإن الر...     Basbosah   \n",
       "1388  صباح مُنير في عُيون المُتأملينّ بالحَياة ، لكَ...   amoor99111   \n",
       "2169                             حفلة طلاق في موريتانيا   amoor99111   \n",
       "434   كمية نكد بهالموال ماصارت ماكملته لأن الجو حلو ...     Basbosah   \n",
       "1099  ㅤㅤㅤㅤㅤㅤㅤㅤㅤㅤㅤㅤㅤㅤ ياللي ترابك ذهب ونسمة هوائك طيب...   amoor99111   \n",
       "2885  هو ما ذكر ان الجفا فيه كسره للخافق الي من هوى ...   amoor99111   \n",
       "\n",
       "        cleaned_geo  \n",
       "2668       Insomnia  \n",
       "1117       Insomnia  \n",
       "393                  \n",
       "1620                 \n",
       "2291  East - مملكتي  \n",
       "1388                 \n",
       "2169                 \n",
       "434   East - مملكتي  \n",
       "1099                 \n",
       "2885                 "
      ]
     },
     "execution_count": 142,
     "metadata": {},
     "output_type": "execute_result"
    }
   ],
   "source": [
    "gulf_df.sample(10)"
   ]
  },
  {
   "cell_type": "code",
   "execution_count": 143,
   "metadata": {},
   "outputs": [
    {
     "data": {
      "text/html": [
       "<div>\n",
       "<table border=\"1\" class=\"dataframe\">\n",
       "  <thead>\n",
       "    <tr style=\"text-align: right;\">\n",
       "      <th></th>\n",
       "      <th>cleaned_text</th>\n",
       "      <th>cleaned_name</th>\n",
       "      <th>cleaned_geo</th>\n",
       "    </tr>\n",
       "  </thead>\n",
       "  <tbody>\n",
       "    <tr>\n",
       "      <th>3178</th>\n",
       "      <td>منعونه البطله</td>\n",
       "      <td>Basbosah</td>\n",
       "      <td>East - مملكتي</td>\n",
       "    </tr>\n",
       "    <tr>\n",
       "      <th>3179</th>\n",
       "      <td>ضحكة ملك</td>\n",
       "      <td>Basbosah</td>\n",
       "      <td>East - مملكتي</td>\n",
       "    </tr>\n",
       "    <tr>\n",
       "      <th>3180</th>\n",
       "      <td>( …</td>\n",
       "      <td>Basbosah</td>\n",
       "      <td>East - مملكتي</td>\n",
       "    </tr>\n",
       "    <tr>\n",
       "      <th>3181</th>\n",
       "      <td>اناملاحظه إن اخوتناالعرب مساندينابكل شي وبكل ا...</td>\n",
       "      <td>Basbosah</td>\n",
       "      <td>East - مملكتي</td>\n",
       "    </tr>\n",
       "    <tr>\n",
       "      <th>3182</th>\n",
       "      <td>شف ابتسامات المعجبين وراه</td>\n",
       "      <td>Basbosah</td>\n",
       "      <td>East - مملكتي</td>\n",
       "    </tr>\n",
       "  </tbody>\n",
       "</table>\n",
       "</div>"
      ],
      "text/plain": [
       "                                           cleaned_text cleaned_name  \\\n",
       "3178                                      منعونه البطله     Basbosah   \n",
       "3179                                           ضحكة ملك     Basbosah   \n",
       "3180                                                ( …     Basbosah   \n",
       "3181  اناملاحظه إن اخوتناالعرب مساندينابكل شي وبكل ا...     Basbosah   \n",
       "3182                          شف ابتسامات المعجبين وراه     Basbosah   \n",
       "\n",
       "        cleaned_geo  \n",
       "3178  East - مملكتي  \n",
       "3179  East - مملكتي  \n",
       "3180  East - مملكتي  \n",
       "3181  East - مملكتي  \n",
       "3182  East - مملكتي  "
      ]
     },
     "execution_count": 143,
     "metadata": {},
     "output_type": "execute_result"
    }
   ],
   "source": [
    "gulf_df.tail()"
   ]
  },
  {
   "cell_type": "code",
   "execution_count": 144,
   "metadata": {},
   "outputs": [
    {
     "name": "stdout",
     "output_type": "stream",
     "text": [
      "<class 'pandas.core.frame.DataFrame'>\n",
      "Int64Index: 7139 entries, 0 to 3182\n",
      "Data columns (total 3 columns):\n",
      "cleaned_text    7139 non-null object\n",
      "cleaned_name    7139 non-null object\n",
      "cleaned_geo     7139 non-null object\n",
      "dtypes: object(3)\n",
      "memory usage: 223.1+ KB\n"
     ]
    }
   ],
   "source": [
    "gulf_df.info()"
   ]
  },
  {
   "cell_type": "code",
   "execution_count": 145,
   "metadata": {},
   "outputs": [
    {
     "data": {
      "text/plain": [
       "88545"
      ]
     },
     "execution_count": 145,
     "metadata": {},
     "output_type": "execute_result"
    }
   ],
   "source": [
    "gulf_coll_ref.count()"
   ]
  },
  {
   "cell_type": "code",
   "execution_count": 146,
   "metadata": {},
   "outputs": [
    {
     "data": {
      "text/plain": [
       "<pymongo.results.InsertManyResult at 0x7f7f10a059d8>"
      ]
     },
     "execution_count": 146,
     "metadata": {},
     "output_type": "execute_result"
    }
   ],
   "source": [
    "gulf_coll_ref.insert_many(gulf_df.to_dict('records'))"
   ]
  },
  {
   "cell_type": "code",
   "execution_count": 147,
   "metadata": {},
   "outputs": [
    {
     "data": {
      "text/plain": [
       "95684"
      ]
     },
     "execution_count": 147,
     "metadata": {},
     "output_type": "execute_result"
    }
   ],
   "source": [
    "gulf_coll_ref.count()"
   ]
  },
  {
   "cell_type": "code",
   "execution_count": 132,
   "metadata": {},
   "outputs": [
    {
     "data": {
      "text/plain": [
       "(['admin', 'local', 'tweets'], ['my_gulf_collection', 'my_eg_collection'])"
      ]
     },
     "execution_count": 132,
     "metadata": {},
     "output_type": "execute_result"
    }
   ],
   "source": [
    "client.database_names(), twitter_db.collection_names()"
   ]
  },
  {
   "cell_type": "code",
   "execution_count": null,
   "metadata": {},
   "outputs": [],
   "source": []
  },
  {
   "cell_type": "code",
   "execution_count": null,
   "metadata": {},
   "outputs": [],
   "source": []
  },
  {
   "cell_type": "code",
   "execution_count": 21,
   "metadata": {},
   "outputs": [],
   "source": [
    "# df_json = df_batch_1.to_json()"
   ]
  },
  {
   "cell_type": "code",
   "execution_count": 22,
   "metadata": {},
   "outputs": [
    {
     "data": {
      "text/plain": [
       "<pymongo.results.InsertOneResult at 0x7fcafda95f30>"
      ]
     },
     "execution_count": 22,
     "metadata": {},
     "output_type": "execute_result"
    }
   ],
   "source": [
    "# data = json.loads(df_json)\n",
    "\n",
    "# coll_ref.insert_one(data)"
   ]
  },
  {
   "cell_type": "code",
   "execution_count": null,
   "metadata": {},
   "outputs": [],
   "source": []
  }
 ],
 "metadata": {
  "kernelspec": {
   "display_name": "Python 3",
   "language": "python",
   "name": "python3"
  },
  "language_info": {
   "codemirror_mode": {
    "name": "ipython",
    "version": 3
   },
   "file_extension": ".py",
   "mimetype": "text/x-python",
   "name": "python",
   "nbconvert_exporter": "python",
   "pygments_lexer": "ipython3",
   "version": "3.6.3"
  }
 },
 "nbformat": 4,
 "nbformat_minor": 2
}
