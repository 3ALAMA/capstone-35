{
 "cells": [
  {
   "cell_type": "code",
   "execution_count": null,
   "metadata": {},
   "outputs": [],
   "source": [
    "#!pip install nltk"
   ]
  },
  {
   "cell_type": "markdown",
   "metadata": {},
   "source": [
    "## EDA ON GULF TWEETS"
   ]
  },
  {
   "cell_type": "code",
   "execution_count": 1,
   "metadata": {},
   "outputs": [],
   "source": [
    "import nltk"
   ]
  },
  {
   "cell_type": "code",
   "execution_count": 2,
   "metadata": {},
   "outputs": [],
   "source": [
    "import pandas as pd\n",
    "import json\n",
    "import matplotlib.pyplot as plt\n",
    "%matplotlib inline  "
   ]
  },
  {
   "cell_type": "code",
   "execution_count": 3,
   "metadata": {},
   "outputs": [],
   "source": [
    "pd.options.display.max_colwidth = 75"
   ]
  },
  {
   "cell_type": "code",
   "execution_count": 4,
   "metadata": {},
   "outputs": [
    {
     "data": {
      "text/plain": [
       "'/home/jovyan/capstone-35/eda'"
      ]
     },
     "execution_count": 4,
     "metadata": {},
     "output_type": "execute_result"
    }
   ],
   "source": [
    "pwd"
   ]
  },
  {
   "cell_type": "code",
   "execution_count": 6,
   "metadata": {},
   "outputs": [
    {
     "name": "stdout",
     "output_type": "stream",
     "text": [
      "/home/jovyan/capstone-35/gulf_twitter_pickled\n"
     ]
    }
   ],
   "source": [
    "cd ../../capstone-35/gulf_twitter_pickled"
   ]
  },
  {
   "cell_type": "code",
   "execution_count": 7,
   "metadata": {},
   "outputs": [
    {
     "name": "stdout",
     "output_type": "stream",
     "text": [
      "stream_الطريج.p               user_timeline_Hasan95780025.p\r\n",
      "stream_تميلح.p                user_timeline_iMothaSm.p\r\n",
      "stream_ثقيل.p                 user_timeline_majed9064.p\r\n",
      "user_timeline_A_sh066.p       user_timeline_Nora_buhamad.p\r\n",
      "user_timeline_BatoolALQ_.p    user_timeline_vvllm.p\r\n",
      "user_timeline_DeviantFatma.p  user_timeline_white_pearla.p\r\n"
     ]
    }
   ],
   "source": [
    "ls"
   ]
  },
  {
   "cell_type": "markdown",
   "metadata": {},
   "source": [
    "### Instantiate cleaned pickles"
   ]
  },
  {
   "cell_type": "code",
   "execution_count": 8,
   "metadata": {},
   "outputs": [],
   "source": [
    "df_batch_1 = pd.read_pickle('../gulf_twitter_pickled/stream_ثقيل.p')"
   ]
  },
  {
   "cell_type": "markdown",
   "metadata": {},
   "source": [
    "### Identify most frequent `locations` and `names`"
   ]
  },
  {
   "cell_type": "code",
   "execution_count": 9,
   "metadata": {},
   "outputs": [
    {
     "data": {
      "text/plain": [
       "None            394\n",
       "Saudi Arabia     80\n",
       "Kuwait           25\n",
       "                 17\n",
       "Egypt             7\n",
       "Name: cleaned_geo, dtype: int64"
      ]
     },
     "execution_count": 9,
     "metadata": {},
     "output_type": "execute_result"
    }
   ],
   "source": [
    "df_batch_1.cleaned_geo.value_counts().head()"
   ]
  },
  {
   "cell_type": "code",
   "execution_count": 10,
   "metadata": {
    "scrolled": true
   },
   "outputs": [
    {
     "data": {
      "text/plain": [
       "<matplotlib.axes._subplots.AxesSubplot at 0x7f7240552470>"
      ]
     },
     "execution_count": 10,
     "metadata": {},
     "output_type": "execute_result"
    },
    {
     "data": {
      "image/png": "[encoded data removed]",
      "text/plain": [
       "<matplotlib.figure.Figure at 0x7f720f839128>"
      ]
     },
     "metadata": {},
     "output_type": "display_data"
    }
   ],
   "source": [
    "df_batch_1.cleaned_geo.value_counts().hist()"
   ]
  },
  {
   "cell_type": "code",
   "execution_count": 11,
   "metadata": {},
   "outputs": [
    {
     "data": {
      "text/plain": [
       "raedyassin3    5\n",
       "ksa_jop        2\n",
       "K21OOF         2\n",
       "Arrraaz        2\n",
       "AlissaNawaf    2\n",
       "Name: cleaned_name, dtype: int64"
      ]
     },
     "execution_count": 11,
     "metadata": {},
     "output_type": "execute_result"
    }
   ],
   "source": [
    "df_batch_1.cleaned_name.value_counts().head()"
   ]
  },
  {
   "cell_type": "code",
   "execution_count": 12,
   "metadata": {},
   "outputs": [
    {
     "data": {
      "text/plain": [
       "<matplotlib.axes._subplots.AxesSubplot at 0x7f720fafff98>"
      ]
     },
     "execution_count": 12,
     "metadata": {},
     "output_type": "execute_result"
    },
    {
     "data": {
      "image/png": "[encoded data removed]",
      "text/plain": [
       "<matplotlib.figure.Figure at 0x7f720d1787b8>"
      ]
     },
     "metadata": {},
     "output_type": "display_data"
    }
   ],
   "source": [
    "df_batch_1.cleaned_name.value_counts().hist()"
   ]
  },
  {
   "cell_type": "code",
   "execution_count": 13,
   "metadata": {},
   "outputs": [
    {
     "data": {
      "text/plain": [
       "array(['None', 'نصفي دُفن مع أبي.', 'Manchester, Kuwait',\n",
       "       'جدة, مكة المكرمة', 'دولة الكويت 🇰🇼', 'يارب انك ترحم أمي️',\n",
       "       'Saudi Arabia', 'Kuwait', 'القطيف', 'saudi arabia,Qatar',\n",
       "       'Dammam, Saudi Arabia', '', 'دبي, الامارات العربية المتحدة',\n",
       "       'مكتفيه قروبات', 'Kurdistan of Iraq - Erbil', 'Bayan, Kuwait',\n",
       "       'كل الوطن العربي', 'أرض الله', 'تحت أقدام أمي',\n",
       "       'الخبر, المملكة العربية السعودية', 'oh-man', 'your heart.',\n",
       "       'الحناكية, المدينة المنورة', 'خيال الظل', 'Not Sorry for anything',\n",
       "       'اي فتحة ادخل فيها زبي', 'نوال الكويتيه️', 'Bahrain',\n",
       "       'الامارات العربية المتحدة', 'Dhahran Eastern | Doha', 'الدوحه',\n",
       "       '\\u200fاللهم صلي وسلم على نبينا محمد', 'بين الغيوم.', 'الطائف',\n",
       "       'أرض الأحلام⭐️', 'Redwood City, CA', 'مدونتي-أبها',\n",
       "       'أدعوك لزيارة قائمه الإعجاب', 'twice.straykids', 'طرابلس',\n",
       "       'Mishrif , kuwait', 'Egypt', 'شتات', 'Nowhere.', '.', 'عرعر',\n",
       "       'حائل _المملكة العربية السعودية', 'صمتي شموخي', 'الحـجاز', 'riyadh',\n",
       "       'جدة', 'SDN | KSA', 'Libya', 'TURAIF.', 'Barcelona, Spain',\n",
       "       'Iraq 🇮🇶', 'Khartoum, ياما شايلك فيني حايم', 'Benghazi Elfuehat',\n",
       "       'الشرقيه', 'Bahrain🇧🇭', 'بلاد الله خلق الله', 'مكة.', 'ايمان،منصه',\n",
       "       'Tabuk .', 'Barca-alnassr.', 'Libya AKA Hell Hole',\n",
       "       'ارض الله الواسعه.', '...', 'Yemen',\n",
       "       'تغريداتي أغلبها مقتبسه سامحوني', 'في القلوب الطيبة', 'Dubai .',\n",
       "       'الجبيل, المملكة العربية السعودية', 'حيث الظلام',\n",
       "       'Makkah Al Mukarrama', 'قلب السعوديه ( نجد )', \"' مايو\",\n",
       "       'الساحل الشرقي .j \" حجازي الهوى', 'Indonesia', 'Barcelona, España',\n",
       "       'مّ.', 'غامد.', 'لا أقبل قروبات ......قصيميه',\n",
       "       'الاحمدى, دولة الكويت', 'dammam & khobar', 'alhilal', 'Jeddah.',\n",
       "       'Hafr Al Batin', 'k.s.a', 'Deep.', 'Benghazi', 'Khobar',\n",
       "       'الدوحة, دولة قطر', \"what's your income ?\", 'Dhahran, Eastern',\n",
       "       'الرياض-تحت سقف غرفتي', 'Qatar', 'اقتباسات أدبيه', 'حفرالباطن',\n",
       "       'jory', 'Al Rayyan, Qatar', '{الحِجاز العظيمة}', '- -',\n",
       "       'الشمال, المملكة العربية السعود', '🇶🇦', 'لا تُسلّم عقلك لغيرك',\n",
       "       'Algérie', '🇸🇦KSA.. AL_Qassim', 'Somewhere', 'UAE', 'Oman',\n",
       "       'في بيتي', '- مُجبر .', 'أرض ربي الواسعة', 'Kuwait,Riydah,kuinv',\n",
       "       'القدس', 'في العزبة', 'Los Angeles, CA', 'giza',\n",
       "       'حفر الباطن, المملكة العربية السعودية', 'waq waq', 'مزهريه',\n",
       "       'Traveller', 'بريدة', 'جزائرية و افتخر Tlemcen', 'كوكب الزهرة',\n",
       "       'نجد العذيّه', 'Rhône-Alpes, France', 'في قلوبكم', 'Dammanhour',\n",
       "       'من عقر داري', 'Qatif, Kingdom of Saudi Arabia',\n",
       "       \"Royaume d'Arabie Saoudite\", 'Jeddah,Saudi Arabia. \\u200f',\n",
       "       'مؤقتا فوق الارض وتحت السماء', 'TWD - Prison Break', 'KSA',\n",
       "       'زير بارون', 'فراغ .', 'معلم قيد الانشاء', 'B', '’s', 'وحيد',\n",
       "       'every where', 'غير صالح لعلاقات الحبالقمر', 'آنا والقمر .',\n",
       "       'الشرقية,المملكةالعربيةالسعودية', 'الدمام, الشرقيه',\n",
       "       'Riyadh , kuwait', 'alx', 'Elfhelm', 'المملكة المغربية', 'HR.',\n",
       "       \"K'278\", 'ksa', 'Karbala 🇮🇶', 'اغرد بكل مايخص التقنية ios&apk',\n",
       "       'استغفر الله وأتوب إليه', 'USA', 'خُلقت هكذآ بعيده', 'Dammam.',\n",
       "       'من عتبان البرازيل', 'المملكة العربية السعودية 🇸🇦', '️',\n",
       "       'Abu Dhabi, United Arab Emirate', 'No.',\n",
       "       'مكة المكرمة, المملكة العربية السعودية', '-7-1433',\n",
       "       'Worldwide Queen', 'Sep ,17️.', '🇰🇼', 'لَ ولد سعود.',\n",
       "       'شمال أفريقيا', 'اتزان العاقلين', 'BRIDE OF THE NORTH',\n",
       "       'الاحساء, الشرقية', 'Coldplay', 'Abo Dhabi ,Dubai Jordan', '/5',\n",
       "       'kookmin', 'قاعد على قلبكم', 'E - OT12 - wu yi fan.', 'مدينة العلم',\n",
       "       ':08', 'محافظة الزرقاء, المملكة الأردن', 'Saudi Arabia سيهات',\n",
       "       'ᎷyᎪngel,Ꮪadeem.', 'k s a - jeddah', 'BTS, SJ.',\n",
       "       'الرياض الين الله يفرجها', '•ورحمتُ ربك خيرٌ مما يُجمعُون•',\n",
       "       'مخمجة بثنايا دماغي .', 'Galaxy', 'الشراره الاولي سبهـــــــــــا',\n",
       "       'nct e bp', 'الرياض, المملكة العربية السعود',\n",
       "       'Oman| Developer&C.Eng |Working', 'العدان - فيلجا.', 'Future',\n",
       "       'مواليد', 'kik: mo3ath__0', 'القصيم, المملكة العربية السعودية',\n",
       "       'Alhilal ⬅️ Riyadh', 'Iraq', 'Las Vegas, NV',\n",
       "       'Amman, Hashemite Kingdom of Jo', 'snap; iiHKTR', 'TUNIS / TUNISIA',\n",
       "       'Mam', 'Makkah Al Mukarrama, Kingdom of Saudi Arabia', 'DAM.',\n",
       "       'Yanbu.', \"'\", 'دير الزور', 'تبادل5/5', 'Atleti️.',\n",
       "       'Fountainebleau, FL', 'dmm', 'نهر', 'مسقط, سلطنة عمان', 'Abu Dhabi',\n",
       "       'المدينه المنورة.', 'Oman for ever️', 'الله ثم مليكي ووطني',\n",
       "       '/ / هـ | مصلى الرابعة', 'فوق كل ارض وتحت كل سماء',\n",
       "       'مكة المكرمة, المملكة العربية ا', 'هُنا الكويت', 'K u w a i t',\n",
       "       '\\u200fحيثٌ النصر', 'تونه بانيوتيلا', 'Rio de Janeiro',\n",
       "       'جازان, المملكة العربية السعودي', 'Saudi arabia , dammam', 'بغداد',\n",
       "       '️ September /', 'AL MARREEKH', 'Makkah', 'benghazi \\\\ libya',\n",
       "       'سلطنة عمان 🇴🇲', 'ينبع, المملكة العربية السعودية', '`세븐틴..방탄소년단`',\n",
       "       'Algeria', 'بئرٌ وبندقية', 'اليمن Yemen', 'red velvet',\n",
       "       'الإعـجـ️ــاابـ️ــااتـ️ے', 'الطائف, المملكة العربية السعود',\n",
       "       'me,myself&i.', 'Riyadh, kingdom of saudi arabia',\n",
       "       \"Riyadh ' /10/9786..\", 'المستقبل المنشق', 'البحر',\n",
       "       'أسيرة الحزن، أخت للجميع', 'Germany', 'United States',\n",
       "       'Qassim_Riyadh', 'مملكة البحرين', 'space', 'Suarez .',\n",
       "       'في عينه اليمنى', 'HFC', 'Ittihad', 'Saudi Arabia - Riyadh',\n",
       "       'بين النجوم .', 'ابو ظبي', 'الرياض المملكةالعربية السعودية',\n",
       "       'الرياض - دبي - لندن', 'بين الامل والرضى..', 'Ghّid',\n",
       "       'قناتي يوتيوب', 'الاحساء, المملكة العربية السعو', 'حيث الهلال',\n",
       "       'London, England', 'idk.', 'حنين وارق .', 'Afghanistan',\n",
       "       'Kingdom of Saudi Arabia.', 'Jeddah, Kingdom of Saudi Arabia',\n",
       "       'ALQASSIM', 'الرياض • اليونان', 'Atlantis', ',Dec🇶🇦.', '..', 'JED',\n",
       "       \"l'm faded.\", 'Madinah', 'حياتك.6.', 'فانز استديو جيبلي',\n",
       "       'أطهر شعب في أطهر أرض ️', 'دعواتگم لابوي بالرحمه', 'Kirkuk',\n",
       "       'جده حقنا', 'Saudi Arabia ، Ad Dammam', 'المريخ',\n",
       "       'اليمن (انصار الله)قادمون', 'Kygo Smith', 'ᴜ̲ᴀ̲ᴇ̲ ᴅ̲ᴜ̲ʙ̲ᴀ̲ɪ̲',\n",
       "       'MaًٓkkaٓH .. Hadi..', 'ألشمّري.', 'Abu Dhabi - Alain', 'اليمن',\n",
       "       'جدة,عشقي وغرامي نادي الشباب', 'NFC - FCB', 'Jeddah-Saudi Arabia',\n",
       "       'ʙᴇɴɢʜᴀᴢɪ - ʟɪʙʏᴀ', 'Jabriya|🇦🇪🇪🇸', 'هلالي /اليمن_تعز',\n",
       "       '༼つಠ益ಠ༽つ ─=≡ΣO))', 'Mohammedia, Royaume du Maroc', 'حائل',\n",
       "       'الحساب مشترك', 'in your butt', 'Muscat & Dhofar', 'ماجد المهندس',\n",
       "       'المريخ ***الحساب مشترك', 'عسير, المملكة العربية السعودية',\n",
       "       'مدينة الجبيل الصناعية, المملكة', 'طريف, المملكة العربية السعودية',\n",
       "       'فهد التميمي & ساره الشمري', 'بحّة عبادي.', 'syria', 'ويلان العز',\n",
       "       'القصيم - بريدة', 'أدخل الرابط واشبع فضولك', 'GIVE ME SOME SPACE .',\n",
       "       'الدمام, المملكة العربية السعودية', 'L', 'صل على محمد', 'الهلال',\n",
       "       'عنيزة - العوشزية', 'LA', 'ياجبار أجبرني ..', 'Qatif',\n",
       "       'Muscat, Oman', 'N', 'المملكة الأردنية الهاشمية',\n",
       "       'Doha, UK \\u200e\\u200b', 'الجموم شمال مكة ويالبئ الشمال',\n",
       "       'benghazi', 'Riyadh ..', 'tabuk', 'BBM :754112C0',\n",
       "       'Independent since', '/alfailkawei', 'نفسي',\n",
       "       'Kuwait , HalaMadrid y Nada Más', 'STARLING,CITY',\n",
       "       'Artist Animation', 'ربي اجعلني مباركاً اينما كنت', 'كلنا للوطن 🇸🇦',\n",
       "       'لعبتي', 'HalaMadrid', ':58:00', 'بومحمد', 'كل ما هو جميل',\n",
       "       'Canda, Veneto', 'WITH THE UNICORNS 🦄⭐️'], dtype=object)"
      ]
     },
     "execution_count": 13,
     "metadata": {},
     "output_type": "execute_result"
    }
   ],
   "source": [
    "df_batch_1.cleaned_geo.unique()"
   ]
  },
  {
   "cell_type": "code",
   "execution_count": 14,
   "metadata": {},
   "outputs": [
    {
     "name": "stdout",
     "output_type": "stream",
     "text": [
      "<class 'pandas.core.frame.DataFrame'>\n",
      "Int64Index: 912 entries, 14 to 6126\n",
      "Data columns (total 3 columns):\n",
      "cleaned_text    912 non-null object\n",
      "cleaned_name    912 non-null object\n",
      "cleaned_geo     912 non-null object\n",
      "dtypes: object(3)\n",
      "memory usage: 28.5+ KB\n"
     ]
    }
   ],
   "source": [
    "df_batch_1.info()"
   ]
  },
  {
   "cell_type": "code",
   "execution_count": 15,
   "metadata": {},
   "outputs": [
    {
     "data": {
      "text/plain": [
       "891"
      ]
     },
     "execution_count": 15,
     "metadata": {},
     "output_type": "execute_result"
    }
   ],
   "source": [
    "df_batch_1.cleaned_name.nunique()"
   ]
  },
  {
   "cell_type": "markdown",
   "metadata": {},
   "source": [
    "__Finding users with highest lexical diversity scores to add them to timelines search__"
   ]
  },
  {
   "cell_type": "code",
   "execution_count": 16,
   "metadata": {},
   "outputs": [],
   "source": [
    "def lexical_diversity(text):\n",
    "    return len(set(text)) / len(text)"
   ]
  },
  {
   "cell_type": "code",
   "execution_count": 17,
   "metadata": {},
   "outputs": [],
   "source": [
    "#creating cleaned text score in a new column\n",
    "df_batch_1['cleaned_text_score'] = df_batch_1['cleaned_text'].map(lambda x: lexical_diversity(x))"
   ]
  },
  {
   "cell_type": "code",
   "execution_count": 18,
   "metadata": {},
   "outputs": [],
   "source": [
    "#creating length of cleaned text in a new column to remove short tweets w/high lexical diversity score\n",
    "df_batch_1['cleaned_text_len'] = df_batch_1['cleaned_text'].map(lambda x: len(x))"
   ]
  },
  {
   "cell_type": "code",
   "execution_count": 19,
   "metadata": {},
   "outputs": [],
   "source": [
    "#creating mask of tweets w/ lexical diversity scores over 0.4\n",
    "df_highest_user_scores = df_batch_1.loc[df_batch_1['cleaned_text_score'] >= 0.4, ['cleaned_name','cleaned_text_score', 'cleaned_text', 'cleaned_text_len']]"
   ]
  },
  {
   "cell_type": "code",
   "execution_count": 26,
   "metadata": {},
   "outputs": [
    {
     "data": {
      "text/html": [
       "<div>\n",
       "<table border=\"1\" class=\"dataframe\">\n",
       "  <thead>\n",
       "    <tr style=\"text-align: right;\">\n",
       "      <th></th>\n",
       "      <th>cleaned_name</th>\n",
       "      <th>cleaned_text_score</th>\n",
       "      <th>cleaned_text</th>\n",
       "      <th>cleaned_text_len</th>\n",
       "    </tr>\n",
       "  </thead>\n",
       "  <tbody>\n",
       "    <tr>\n",
       "      <th>241</th>\n",
       "      <td>nadaaltunji</td>\n",
       "      <td>0.413043</td>\n",
       "      <td>للحروف وزن ثقيل قد لا نعرفه إلا بعد طلق سراحها</td>\n",
       "      <td>46</td>\n",
       "    </tr>\n",
       "    <tr>\n",
       "      <th>302</th>\n",
       "      <td>alkandri_</td>\n",
       "      <td>0.444444</td>\n",
       "      <td>ي صـاحبي خلك ثقيل لا يهزك عـابر، ولآ يغرك حكي</td>\n",
       "      <td>45</td>\n",
       "    </tr>\n",
       "    <tr>\n",
       "      <th>475</th>\n",
       "      <td>fatmaalsh50</td>\n",
       "      <td>0.434783</td>\n",
       "      <td>لابسه ثقيل على أساس الجو صقيع و بالاخر ميته حر</td>\n",
       "      <td>46</td>\n",
       "    </tr>\n",
       "    <tr>\n",
       "      <th>483</th>\n",
       "      <td>xiii2_ll</td>\n",
       "      <td>0.436364</td>\n",
       "      <td>اللهم عُونك اذا باتْ كل شي ثقيل اللهّم نفس مُطمئنه وجنه</td>\n",
       "      <td>55</td>\n",
       "    </tr>\n",
       "    <tr>\n",
       "      <th>498</th>\n",
       "      <td>Shatha__ma</td>\n",
       "      <td>0.428571</td>\n",
       "      <td>اي والله فيه و من عيار ثقيل كمان لإختبار الهيئة 🤓</td>\n",
       "      <td>49</td>\n",
       "    </tr>\n",
       "    <tr>\n",
       "      <th>566</th>\n",
       "      <td>fhth2020</td>\n",
       "      <td>0.425926</td>\n",
       "      <td>أعترف همّي على صدري ثقيل لو لا رب الكـــون كيف أتحملّه</td>\n",
       "      <td>54</td>\n",
       "    </tr>\n",
       "    <tr>\n",
       "      <th>679</th>\n",
       "      <td>ilreem148</td>\n",
       "      <td>0.431034</td>\n",
       "      <td>شعور إنّك ثقيل على أحد سيّء لدرجة يخلّيك تكره الحياة كلّها</td>\n",
       "      <td>58</td>\n",
       "    </tr>\n",
       "    <tr>\n",
       "      <th>682</th>\n",
       "      <td>_avv</td>\n",
       "      <td>0.411765</td>\n",
       "      <td>لعل ركعة واحدة تكون نهاية حزن ثقيل وبداية فرح مقيم️</td>\n",
       "      <td>51</td>\n",
       "    </tr>\n",
       "    <tr>\n",
       "      <th>772</th>\n",
       "      <td>Sam82x_</td>\n",
       "      <td>0.560976</td>\n",
       "      <td>اللهُم عونك إن بات كل شيء ثقيل علَى صَدري</td>\n",
       "      <td>41</td>\n",
       "    </tr>\n",
       "    <tr>\n",
       "      <th>1066</th>\n",
       "      <td>_nahl</td>\n",
       "      <td>0.422222</td>\n",
       "      <td>ٓ ٓ ٓ ٓ ٓ ٓ لمحت الود بعيُوني ولكنك ثقيل شعور</td>\n",
       "      <td>45</td>\n",
       "    </tr>\n",
       "    <tr>\n",
       "      <th>1110</th>\n",
       "      <td>rty__Gh</td>\n",
       "      <td>0.415094</td>\n",
       "      <td>منشن شخص بتويتر ودك تتهاوش معه وتحسه ثقيل دم وماينهضم</td>\n",
       "      <td>53</td>\n",
       "    </tr>\n",
       "    <tr>\n",
       "      <th>1150</th>\n",
       "      <td>_Queen4_</td>\n",
       "      <td>0.585366</td>\n",
       "      <td>اللُهم عونك إذا بات كل شيء ثقيل على صدّري</td>\n",
       "      <td>41</td>\n",
       "    </tr>\n",
       "    <tr>\n",
       "      <th>1164</th>\n",
       "      <td>fatma97971</td>\n",
       "      <td>0.450000</td>\n",
       "      <td>ترا قلبي ثقيل و بغير قلبك ماأرضى هالقربّ</td>\n",
       "      <td>40</td>\n",
       "    </tr>\n",
       "    <tr>\n",
       "      <th>1171</th>\n",
       "      <td>T_HWIEW</td>\n",
       "      <td>0.428571</td>\n",
       "      <td>نفسيا مانتريحش في معهد الابتهال دمه ثقيل كلوط هكي</td>\n",
       "      <td>49</td>\n",
       "    </tr>\n",
       "    <tr>\n",
       "      <th>1232</th>\n",
       "      <td>Alqahtani__55</td>\n",
       "      <td>0.512195</td>\n",
       "      <td>البعد افضل من شعور انك شخص ثقيل عند احدهم</td>\n",
       "      <td>41</td>\n",
       "    </tr>\n",
       "    <tr>\n",
       "      <th>1329</th>\n",
       "      <td>eman2365</td>\n",
       "      <td>0.434783</td>\n",
       "      <td>ربي ان كنت ثقيل على احد خلني على قلبه لين يفطس</td>\n",
       "      <td>46</td>\n",
       "    </tr>\n",
       "    <tr>\n",
       "      <th>1332</th>\n",
       "      <td>ckOdBI18R9ChN5e</td>\n",
       "      <td>0.454545</td>\n",
       "      <td>كل ما شفته تضحك اشوف مقاطع بس ماضحك دمي ثقيل</td>\n",
       "      <td>44</td>\n",
       "    </tr>\n",
       "    <tr>\n",
       "      <th>1411</th>\n",
       "      <td>mufls</td>\n",
       "      <td>0.413043</td>\n",
       "      <td>يا اني صرت ثقيل دم، او الناس صاروا تافهين جداً</td>\n",
       "      <td>46</td>\n",
       "    </tr>\n",
       "    <tr>\n",
       "      <th>1464</th>\n",
       "      <td>boalwa69</td>\n",
       "      <td>0.404762</td>\n",
       "      <td>المهاجم لازم يكون رشيق مو ثقيل مثل فابيانو</td>\n",
       "      <td>42</td>\n",
       "    </tr>\n",
       "    <tr>\n",
       "      <th>1486</th>\n",
       "      <td>jalaldenas</td>\n",
       "      <td>0.439024</td>\n",
       "      <td>هذا دليل على انه ثقيل دم وتتمني ان يغادرك</td>\n",
       "      <td>41</td>\n",
       "    </tr>\n",
       "    <tr>\n",
       "      <th>1597</th>\n",
       "      <td>iiiiiirrl0</td>\n",
       "      <td>0.536585</td>\n",
       "      <td>اللهُم عونك اذا بات كُل شيء ثقيل على صدري</td>\n",
       "      <td>41</td>\n",
       "    </tr>\n",
       "    <tr>\n",
       "      <th>1718</th>\n",
       "      <td>avs_199</td>\n",
       "      <td>0.500000</td>\n",
       "      <td>، لازمْ تعرف آن الوقتّ اللي يمر بدونكٓ ثقيل جداً</td>\n",
       "      <td>48</td>\n",
       "    </tr>\n",
       "    <tr>\n",
       "      <th>1927</th>\n",
       "      <td>oixa</td>\n",
       "      <td>0.452381</td>\n",
       "      <td>محتاجين إختراع \" \" لأي يوم ثقيل يمرّ علينا</td>\n",
       "      <td>42</td>\n",
       "    </tr>\n",
       "    <tr>\n",
       "      <th>2111</th>\n",
       "      <td>onlyforme20</td>\n",
       "      <td>0.511111</td>\n",
       "      <td>إنه أمرٌ ثقيل أنْ يحاول الإنسان استعادة نَفسه</td>\n",
       "      <td>45</td>\n",
       "    </tr>\n",
       "    <tr>\n",
       "      <th>2294</th>\n",
       "      <td>eye211231</td>\n",
       "      <td>0.407407</td>\n",
       "      <td>يعتمد ع شو الطلب يمكن ثقيل وسحب عليش جعل محد يحسب غيره</td>\n",
       "      <td>54</td>\n",
       "    </tr>\n",
       "    <tr>\n",
       "      <th>2429</th>\n",
       "      <td>awrrvd</td>\n",
       "      <td>0.413043</td>\n",
       "      <td>الله ياخذ البلاغه يارب العالمين، ثقيل طينه وجع</td>\n",
       "      <td>46</td>\n",
       "    </tr>\n",
       "    <tr>\n",
       "      <th>2431</th>\n",
       "      <td>JHITsqP1qBNCaIE</td>\n",
       "      <td>0.511111</td>\n",
       "      <td>“إنه أمرٌ ثقيل أن يحاول الإنسان استعادة نفسه”</td>\n",
       "      <td>45</td>\n",
       "    </tr>\n",
       "    <tr>\n",
       "      <th>2481</th>\n",
       "      <td>Mh3r</td>\n",
       "      <td>0.420000</td>\n",
       "      <td>والله زيك احاول اكون ثقيل بعد ساعه ارجع اخف من قبل</td>\n",
       "      <td>50</td>\n",
       "    </tr>\n",
       "    <tr>\n",
       "      <th>2494</th>\n",
       "      <td>memaat30</td>\n",
       "      <td>0.400000</td>\n",
       "      <td>ههههههههه تخوفين ام ثقيل ترى فيري مو لبن</td>\n",
       "      <td>40</td>\n",
       "    </tr>\n",
       "    <tr>\n",
       "      <th>2518</th>\n",
       "      <td>monanoor12121</td>\n",
       "      <td>0.476190</td>\n",
       "      <td>اعطذرهم شكلهم تعشو عشاء ثقيل وللحين راقدين</td>\n",
       "      <td>42</td>\n",
       "    </tr>\n",
       "    <tr>\n",
       "      <th>...</th>\n",
       "      <td>...</td>\n",
       "      <td>...</td>\n",
       "      <td>...</td>\n",
       "      <td>...</td>\n",
       "    </tr>\n",
       "    <tr>\n",
       "      <th>2884</th>\n",
       "      <td>tunitrend</td>\n",
       "      <td>0.403846</td>\n",
       "      <td>وزيرة المرأة ملف فساد ثقيل يحيط بمركز لرعاية المسنين</td>\n",
       "      <td>52</td>\n",
       "    </tr>\n",
       "    <tr>\n",
       "      <th>2975</th>\n",
       "      <td>Sqqq511</td>\n",
       "      <td>0.475000</td>\n",
       "      <td>اكره الكتمه الي تجي بسبب شعور ثقيل بصدري</td>\n",
       "      <td>40</td>\n",
       "    </tr>\n",
       "    <tr>\n",
       "      <th>3084</th>\n",
       "      <td></td>\n",
       "      <td>0.446809</td>\n",
       "      <td>جفنشي الأحمر ممتاز، أما الأبيض ما ينفع ثقيل شوي</td>\n",
       "      <td>47</td>\n",
       "    </tr>\n",
       "    <tr>\n",
       "      <th>3128</th>\n",
       "      <td>iillhn</td>\n",
       "      <td>0.418182</td>\n",
       "      <td>صبح الشتاء مايشبه إلا شعوري باردَ ثقيل ، وكل مافيه هادي</td>\n",
       "      <td>55</td>\n",
       "    </tr>\n",
       "    <tr>\n",
       "      <th>3227</th>\n",
       "      <td>i__ru7</td>\n",
       "      <td>0.441860</td>\n",
       "      <td>وأحيانًا أبتعد لأني أحس أني ثقيل عليك وهكذا</td>\n",
       "      <td>43</td>\n",
       "    </tr>\n",
       "    <tr>\n",
       "      <th>3360</th>\n",
       "      <td>atheerrxi</td>\n",
       "      <td>0.416667</td>\n",
       "      <td>حلو النقطة المهمه لا تسوي نفسك ذبيب وانت ثقيل دم</td>\n",
       "      <td>48</td>\n",
       "    </tr>\n",
       "    <tr>\n",
       "      <th>3395</th>\n",
       "      <td>w_h_1990</td>\n",
       "      <td>0.418605</td>\n",
       "      <td>لا ماحبيت حرف الدال ثقيل عندي وشلون لو تكرر</td>\n",
       "      <td>43</td>\n",
       "    </tr>\n",
       "    <tr>\n",
       "      <th>3443</th>\n",
       "      <td>mahaabdullrhman</td>\n",
       "      <td>0.422222</td>\n",
       "      <td>فيه نفسه قطره بعد تجي ثقيل مفعولها قوووي بطله</td>\n",
       "      <td>45</td>\n",
       "    </tr>\n",
       "    <tr>\n",
       "      <th>3567</th>\n",
       "      <td>iohoud_88</td>\n",
       "      <td>0.425000</td>\n",
       "      <td>ماتحس راسها ثقيل وهي حاطه كل هالاكستينشن</td>\n",
       "      <td>40</td>\n",
       "    </tr>\n",
       "    <tr>\n",
       "      <th>3607</th>\n",
       "      <td>RE_A09</td>\n",
       "      <td>0.500000</td>\n",
       "      <td>متى رح افهم ان الجو برد ولازم اللبس ثقيل</td>\n",
       "      <td>40</td>\n",
       "    </tr>\n",
       "    <tr>\n",
       "      <th>3617</th>\n",
       "      <td>__AQ00</td>\n",
       "      <td>0.420000</td>\n",
       "      <td>ثقيل وما أحب الا عيونك تبطي عيون غيرك لأجل احبها️️</td>\n",
       "      <td>50</td>\n",
       "    </tr>\n",
       "    <tr>\n",
       "      <th>3636</th>\n",
       "      <td>HindN_22</td>\n",
       "      <td>0.463415</td>\n",
       "      <td>واذا كتبت كان ثقيل عالنفس وعالقلب تستحرمه</td>\n",
       "      <td>41</td>\n",
       "    </tr>\n",
       "    <tr>\n",
       "      <th>4158</th>\n",
       "      <td>Maryam13875</td>\n",
       "      <td>0.413043</td>\n",
       "      <td>الا ارتاحت بطون الناس منه ثقيل ودسم على المعده</td>\n",
       "      <td>46</td>\n",
       "    </tr>\n",
       "    <tr>\n",
       "      <th>4229</th>\n",
       "      <td>MD_27</td>\n",
       "      <td>0.400000</td>\n",
       "      <td>مهب مبطين ساعة بس ويجي ثقيل الدم ويتعادل ويحوس جوك</td>\n",
       "      <td>50</td>\n",
       "    </tr>\n",
       "    <tr>\n",
       "      <th>4417</th>\n",
       "      <td>oowr_79</td>\n",
       "      <td>0.568182</td>\n",
       "      <td>شعور جداً بشع لما تحس نفسك ثقيل على شخص تحبه</td>\n",
       "      <td>44</td>\n",
       "    </tr>\n",
       "    <tr>\n",
       "      <th>4538</th>\n",
       "      <td>shokat_sad</td>\n",
       "      <td>0.466667</td>\n",
       "      <td>غير صحيح انما ثقيل فقط وهذا سبب فني من الشركه</td>\n",
       "      <td>45</td>\n",
       "    </tr>\n",
       "    <tr>\n",
       "      <th>4838</th>\n",
       "      <td>priv_asx</td>\n",
       "      <td>0.560976</td>\n",
       "      <td>اللهُم عونك إذا بات كُل شيء ثقيل على صدري</td>\n",
       "      <td>41</td>\n",
       "    </tr>\n",
       "    <tr>\n",
       "      <th>5021</th>\n",
       "      <td>LouiStyleZ</td>\n",
       "      <td>0.411765</td>\n",
       "      <td>ايجِيرَك الله مـ البنت السمحة اللي دمها ثقيل ، أتحسْ روحك وقعت في فخ</td>\n",
       "      <td>68</td>\n",
       "    </tr>\n",
       "    <tr>\n",
       "      <th>5068</th>\n",
       "      <td>watbitchlll</td>\n",
       "      <td>0.441860</td>\n",
       "      <td>يغتصب مو كأنه اوفر تستخدمين دي الكلمه يافله</td>\n",
       "      <td>43</td>\n",
       "    </tr>\n",
       "    <tr>\n",
       "      <th>5101</th>\n",
       "      <td>diavch</td>\n",
       "      <td>0.404762</td>\n",
       "      <td>اذا هذا ثقيل دم احلى ثقالة دم شفتها بحياتي</td>\n",
       "      <td>42</td>\n",
       "    </tr>\n",
       "    <tr>\n",
       "      <th>5163</th>\n",
       "      <td>memo14311</td>\n",
       "      <td>0.400000</td>\n",
       "      <td>إذا م نام كفايه كذا يصير فيه،نومه ثقيل وم يشبع منه</td>\n",
       "      <td>50</td>\n",
       "    </tr>\n",
       "    <tr>\n",
       "      <th>5301</th>\n",
       "      <td>theonly1cyrine</td>\n",
       "      <td>0.522727</td>\n",
       "      <td>صراحة انت ثقيل و زنخ بس الهاشتاغ دمعلي عيوني</td>\n",
       "      <td>44</td>\n",
       "    </tr>\n",
       "    <tr>\n",
       "      <th>5356</th>\n",
       "      <td>memas1_</td>\n",
       "      <td>0.425000</td>\n",
       "      <td>ياليت فيه سكب لـ كل شي ثقيل أتحمله لحالي</td>\n",
       "      <td>40</td>\n",
       "    </tr>\n",
       "    <tr>\n",
       "      <th>5451</th>\n",
       "      <td>hnan5357</td>\n",
       "      <td>0.437500</td>\n",
       "      <td>شفتوه يطقطق ويمزح ماسسواا ثقيل ،حاجه تبشر بالخير</td>\n",
       "      <td>48</td>\n",
       "    </tr>\n",
       "    <tr>\n",
       "      <th>5502</th>\n",
       "      <td>shadi_the_king</td>\n",
       "      <td>0.433962</td>\n",
       "      <td>بصراحة اللي يسوي كذا اعتبره انسان تافه ودمه ثقيل وغبي</td>\n",
       "      <td>53</td>\n",
       "    </tr>\n",
       "    <tr>\n",
       "      <th>5691</th>\n",
       "      <td>oo8k__</td>\n",
       "      <td>0.440000</td>\n",
       "      <td>ثقيل وما أحب إلا عيونك تبطي عيون غيرك لأجل أحبها ء</td>\n",
       "      <td>50</td>\n",
       "    </tr>\n",
       "    <tr>\n",
       "      <th>5697</th>\n",
       "      <td>MDSK_10</td>\n",
       "      <td>0.428571</td>\n",
       "      <td>اما وقلة شرب الماء تاثر علئ الدم عشان ثقيل</td>\n",
       "      <td>42</td>\n",
       "    </tr>\n",
       "    <tr>\n",
       "      <th>5734</th>\n",
       "      <td>yeollibabe</td>\n",
       "      <td>0.400000</td>\n",
       "      <td>كارهه الانستقرام الايام هذي صاير ثقيل دم</td>\n",
       "      <td>40</td>\n",
       "    </tr>\n",
       "    <tr>\n",
       "      <th>5857</th>\n",
       "      <td>Hathal14Khalaf</td>\n",
       "      <td>0.500000</td>\n",
       "      <td>مافي أصعب من لما تحس أنك ثقيل هذا الشعور بشع</td>\n",
       "      <td>44</td>\n",
       "    </tr>\n",
       "    <tr>\n",
       "      <th>5883</th>\n",
       "      <td>isha__ii</td>\n",
       "      <td>0.560976</td>\n",
       "      <td>ثقيل مايرد علي كنت بس أبغى أشوف ناس طماعه</td>\n",
       "      <td>41</td>\n",
       "    </tr>\n",
       "  </tbody>\n",
       "</table>\n",
       "<p>68 rows × 4 columns</p>\n",
       "</div>"
      ],
      "text/plain": [
       "         cleaned_name  cleaned_text_score  \\\n",
       "241       nadaaltunji            0.413043   \n",
       "302         alkandri_            0.444444   \n",
       "475       fatmaalsh50            0.434783   \n",
       "483          xiii2_ll            0.436364   \n",
       "498        Shatha__ma            0.428571   \n",
       "566          fhth2020            0.425926   \n",
       "679         ilreem148            0.431034   \n",
       "682              _avv            0.411765   \n",
       "772           Sam82x_            0.560976   \n",
       "1066            _nahl            0.422222   \n",
       "1110          rty__Gh            0.415094   \n",
       "1150         _Queen4_            0.585366   \n",
       "1164       fatma97971            0.450000   \n",
       "1171          T_HWIEW            0.428571   \n",
       "1232    Alqahtani__55            0.512195   \n",
       "1329         eman2365            0.434783   \n",
       "1332  ckOdBI18R9ChN5e            0.454545   \n",
       "1411            mufls            0.413043   \n",
       "1464         boalwa69            0.404762   \n",
       "1486       jalaldenas            0.439024   \n",
       "1597       iiiiiirrl0            0.536585   \n",
       "1718          avs_199            0.500000   \n",
       "1927             oixa            0.452381   \n",
       "2111      onlyforme20            0.511111   \n",
       "2294        eye211231            0.407407   \n",
       "2429           awrrvd            0.413043   \n",
       "2431  JHITsqP1qBNCaIE            0.511111   \n",
       "2481             Mh3r            0.420000   \n",
       "2494         memaat30            0.400000   \n",
       "2518    monanoor12121            0.476190   \n",
       "...               ...                 ...   \n",
       "2884        tunitrend            0.403846   \n",
       "2975          Sqqq511            0.475000   \n",
       "3084                             0.446809   \n",
       "3128           iillhn            0.418182   \n",
       "3227           i__ru7            0.441860   \n",
       "3360        atheerrxi            0.416667   \n",
       "3395         w_h_1990            0.418605   \n",
       "3443  mahaabdullrhman            0.422222   \n",
       "3567        iohoud_88            0.425000   \n",
       "3607           RE_A09            0.500000   \n",
       "3617           __AQ00            0.420000   \n",
       "3636         HindN_22            0.463415   \n",
       "4158      Maryam13875            0.413043   \n",
       "4229            MD_27            0.400000   \n",
       "4417          oowr_79            0.568182   \n",
       "4538       shokat_sad            0.466667   \n",
       "4838         priv_asx            0.560976   \n",
       "5021       LouiStyleZ            0.411765   \n",
       "5068      watbitchlll            0.441860   \n",
       "5101           diavch            0.404762   \n",
       "5163        memo14311            0.400000   \n",
       "5301   theonly1cyrine            0.522727   \n",
       "5356          memas1_            0.425000   \n",
       "5451         hnan5357            0.437500   \n",
       "5502   shadi_the_king            0.433962   \n",
       "5691           oo8k__            0.440000   \n",
       "5697          MDSK_10            0.428571   \n",
       "5734       yeollibabe            0.400000   \n",
       "5857   Hathal14Khalaf            0.500000   \n",
       "5883         isha__ii            0.560976   \n",
       "\n",
       "                                                              cleaned_text  \\\n",
       "241                         للحروف وزن ثقيل قد لا نعرفه إلا بعد طلق سراحها   \n",
       "302                          ي صـاحبي خلك ثقيل لا يهزك عـابر، ولآ يغرك حكي   \n",
       "475                         لابسه ثقيل على أساس الجو صقيع و بالاخر ميته حر   \n",
       "483                اللهم عُونك اذا باتْ كل شي ثقيل اللهّم نفس مُطمئنه وجنه   \n",
       "498                      اي والله فيه و من عيار ثقيل كمان لإختبار الهيئة 🤓   \n",
       "566                 أعترف همّي على صدري ثقيل لو لا رب الكـــون كيف أتحملّه   \n",
       "679             شعور إنّك ثقيل على أحد سيّء لدرجة يخلّيك تكره الحياة كلّها   \n",
       "682                    لعل ركعة واحدة تكون نهاية حزن ثقيل وبداية فرح مقيم️   \n",
       "772                              اللهُم عونك إن بات كل شيء ثقيل علَى صَدري   \n",
       "1066                         ٓ ٓ ٓ ٓ ٓ ٓ لمحت الود بعيُوني ولكنك ثقيل شعور   \n",
       "1110                 منشن شخص بتويتر ودك تتهاوش معه وتحسه ثقيل دم وماينهضم   \n",
       "1150                             اللُهم عونك إذا بات كل شيء ثقيل على صدّري   \n",
       "1164                              ترا قلبي ثقيل و بغير قلبك ماأرضى هالقربّ   \n",
       "1171                     نفسيا مانتريحش في معهد الابتهال دمه ثقيل كلوط هكي   \n",
       "1232                             البعد افضل من شعور انك شخص ثقيل عند احدهم   \n",
       "1329                        ربي ان كنت ثقيل على احد خلني على قلبه لين يفطس   \n",
       "1332                          كل ما شفته تضحك اشوف مقاطع بس ماضحك دمي ثقيل   \n",
       "1411                        يا اني صرت ثقيل دم، او الناس صاروا تافهين جداً   \n",
       "1464                            المهاجم لازم يكون رشيق مو ثقيل مثل فابيانو   \n",
       "1486                             هذا دليل على انه ثقيل دم وتتمني ان يغادرك   \n",
       "1597                             اللهُم عونك اذا بات كُل شيء ثقيل على صدري   \n",
       "1718                      ، لازمْ تعرف آن الوقتّ اللي يمر بدونكٓ ثقيل جداً   \n",
       "1927                            محتاجين إختراع \" \" لأي يوم ثقيل يمرّ علينا   \n",
       "2111                         إنه أمرٌ ثقيل أنْ يحاول الإنسان استعادة نَفسه   \n",
       "2294                يعتمد ع شو الطلب يمكن ثقيل وسحب عليش جعل محد يحسب غيره   \n",
       "2429                        الله ياخذ البلاغه يارب العالمين، ثقيل طينه وجع   \n",
       "2431                         “إنه أمرٌ ثقيل أن يحاول الإنسان استعادة نفسه”   \n",
       "2481                    والله زيك احاول اكون ثقيل بعد ساعه ارجع اخف من قبل   \n",
       "2494                              ههههههههه تخوفين ام ثقيل ترى فيري مو لبن   \n",
       "2518                            اعطذرهم شكلهم تعشو عشاء ثقيل وللحين راقدين   \n",
       "...                                                                    ...   \n",
       "2884                  وزيرة المرأة ملف فساد ثقيل يحيط بمركز لرعاية المسنين   \n",
       "2975                              اكره الكتمه الي تجي بسبب شعور ثقيل بصدري   \n",
       "3084                       جفنشي الأحمر ممتاز، أما الأبيض ما ينفع ثقيل شوي   \n",
       "3128               صبح الشتاء مايشبه إلا شعوري باردَ ثقيل ، وكل مافيه هادي   \n",
       "3227                           وأحيانًا أبتعد لأني أحس أني ثقيل عليك وهكذا   \n",
       "3360                      حلو النقطة المهمه لا تسوي نفسك ذبيب وانت ثقيل دم   \n",
       "3395                           لا ماحبيت حرف الدال ثقيل عندي وشلون لو تكرر   \n",
       "3443                         فيه نفسه قطره بعد تجي ثقيل مفعولها قوووي بطله   \n",
       "3567                              ماتحس راسها ثقيل وهي حاطه كل هالاكستينشن   \n",
       "3607                              متى رح افهم ان الجو برد ولازم اللبس ثقيل   \n",
       "3617                    ثقيل وما أحب الا عيونك تبطي عيون غيرك لأجل احبها️️   \n",
       "3636                             واذا كتبت كان ثقيل عالنفس وعالقلب تستحرمه   \n",
       "4158                        الا ارتاحت بطون الناس منه ثقيل ودسم على المعده   \n",
       "4229                    مهب مبطين ساعة بس ويجي ثقيل الدم ويتعادل ويحوس جوك   \n",
       "4417                          شعور جداً بشع لما تحس نفسك ثقيل على شخص تحبه   \n",
       "4538                         غير صحيح انما ثقيل فقط وهذا سبب فني من الشركه   \n",
       "4838                             اللهُم عونك إذا بات كُل شيء ثقيل على صدري   \n",
       "5021  ايجِيرَك الله مـ البنت السمحة اللي دمها ثقيل ، أتحسْ روحك وقعت في فخ   \n",
       "5068                           يغتصب مو كأنه اوفر تستخدمين دي الكلمه يافله   \n",
       "5101                            اذا هذا ثقيل دم احلى ثقالة دم شفتها بحياتي   \n",
       "5163                    إذا م نام كفايه كذا يصير فيه،نومه ثقيل وم يشبع منه   \n",
       "5301                          صراحة انت ثقيل و زنخ بس الهاشتاغ دمعلي عيوني   \n",
       "5356                              ياليت فيه سكب لـ كل شي ثقيل أتحمله لحالي   \n",
       "5451                      شفتوه يطقطق ويمزح ماسسواا ثقيل ،حاجه تبشر بالخير   \n",
       "5502                 بصراحة اللي يسوي كذا اعتبره انسان تافه ودمه ثقيل وغبي   \n",
       "5691                    ثقيل وما أحب إلا عيونك تبطي عيون غيرك لأجل أحبها ء   \n",
       "5697                            اما وقلة شرب الماء تاثر علئ الدم عشان ثقيل   \n",
       "5734                              كارهه الانستقرام الايام هذي صاير ثقيل دم   \n",
       "5857                          مافي أصعب من لما تحس أنك ثقيل هذا الشعور بشع   \n",
       "5883                             ثقيل مايرد علي كنت بس أبغى أشوف ناس طماعه   \n",
       "\n",
       "      cleaned_text_len  \n",
       "241                 46  \n",
       "302                 45  \n",
       "475                 46  \n",
       "483                 55  \n",
       "498                 49  \n",
       "566                 54  \n",
       "679                 58  \n",
       "682                 51  \n",
       "772                 41  \n",
       "1066                45  \n",
       "1110                53  \n",
       "1150                41  \n",
       "1164                40  \n",
       "1171                49  \n",
       "1232                41  \n",
       "1329                46  \n",
       "1332                44  \n",
       "1411                46  \n",
       "1464                42  \n",
       "1486                41  \n",
       "1597                41  \n",
       "1718                48  \n",
       "1927                42  \n",
       "2111                45  \n",
       "2294                54  \n",
       "2429                46  \n",
       "2431                45  \n",
       "2481                50  \n",
       "2494                40  \n",
       "2518                42  \n",
       "...                ...  \n",
       "2884                52  \n",
       "2975                40  \n",
       "3084                47  \n",
       "3128                55  \n",
       "3227                43  \n",
       "3360                48  \n",
       "3395                43  \n",
       "3443                45  \n",
       "3567                40  \n",
       "3607                40  \n",
       "3617                50  \n",
       "3636                41  \n",
       "4158                46  \n",
       "4229                50  \n",
       "4417                44  \n",
       "4538                45  \n",
       "4838                41  \n",
       "5021                68  \n",
       "5068                43  \n",
       "5101                42  \n",
       "5163                50  \n",
       "5301                44  \n",
       "5356                40  \n",
       "5451                48  \n",
       "5502                53  \n",
       "5691                50  \n",
       "5697                42  \n",
       "5734                40  \n",
       "5857                44  \n",
       "5883                41  \n",
       "\n",
       "[68 rows x 4 columns]"
      ]
     },
     "execution_count": 26,
     "metadata": {},
     "output_type": "execute_result"
    }
   ],
   "source": [
    "#adding mask to exclude tweets under 40 characters\n",
    "df_highest_user_scores[(df_highest_user_scores['cleaned_text_score'] >= 0.40) \n",
    "                         & (df_highest_user_scores['cleaned_text_len'] >= 40)]"
   ]
  },
  {
   "cell_type": "code",
   "execution_count": 21,
   "metadata": {
    "scrolled": false
   },
   "outputs": [
    {
     "data": {
      "text/html": [
       "<div>\n",
       "<table border=\"1\" class=\"dataframe\">\n",
       "  <thead>\n",
       "    <tr style=\"text-align: right;\">\n",
       "      <th></th>\n",
       "      <th>cleaned_name</th>\n",
       "      <th>cleaned_text_score</th>\n",
       "      <th>cleaned_text</th>\n",
       "      <th>cleaned_text_len</th>\n",
       "    </tr>\n",
       "  </thead>\n",
       "  <tbody>\n",
       "    <tr>\n",
       "      <th>325</th>\n",
       "      <td>Alajmi7E7</td>\n",
       "      <td>1.0</td>\n",
       "      <td>امين</td>\n",
       "      <td>4</td>\n",
       "    </tr>\n",
       "    <tr>\n",
       "      <th>154</th>\n",
       "      <td>KahledRashdi</td>\n",
       "      <td>1.0</td>\n",
       "      <td>دمك ثقيل</td>\n",
       "      <td>8</td>\n",
       "    </tr>\n",
       "    <tr>\n",
       "      <th>4241</th>\n",
       "      <td>isa_althawadi96</td>\n",
       "      <td>1.0</td>\n",
       "      <td>انت ثقيل</td>\n",
       "      <td>8</td>\n",
       "    </tr>\n",
       "    <tr>\n",
       "      <th>3280</th>\n",
       "      <td>weej_188</td>\n",
       "      <td>1.0</td>\n",
       "      <td>من جد</td>\n",
       "      <td>5</td>\n",
       "    </tr>\n",
       "    <tr>\n",
       "      <th>2947</th>\n",
       "      <td>adnan_R10</td>\n",
       "      <td>1.0</td>\n",
       "      <td>فعلاً</td>\n",
       "      <td>5</td>\n",
       "    </tr>\n",
       "  </tbody>\n",
       "</table>\n",
       "</div>"
      ],
      "text/plain": [
       "         cleaned_name  cleaned_text_score cleaned_text  cleaned_text_len\n",
       "325         Alajmi7E7                 1.0         امين                 4\n",
       "154      KahledRashdi                 1.0     دمك ثقيل                 8\n",
       "4241  isa_althawadi96                 1.0     انت ثقيل                 8\n",
       "3280         weej_188                 1.0        من جد                 5\n",
       "2947        adnan_R10                 1.0        فعلاً                 5"
      ]
     },
     "execution_count": 21,
     "metadata": {},
     "output_type": "execute_result"
    }
   ],
   "source": [
    "df_highest_user_scores.sort_values('cleaned_text_score', ascending=False).head()"
   ]
  },
  {
   "cell_type": "markdown",
   "metadata": {},
   "source": [
    "### Conduct EDA on tweets"
   ]
  },
  {
   "cell_type": "code",
   "execution_count": 22,
   "metadata": {},
   "outputs": [],
   "source": [
    "word_list = [word for line in df_batch_1['cleaned_text'] for word in line.split()]"
   ]
  },
  {
   "cell_type": "code",
   "execution_count": 23,
   "metadata": {},
   "outputs": [
    {
     "data": {
      "text/plain": [
       "['تياقو', 'نيفيز', 'قال', 'اول', 'انا']"
      ]
     },
     "execution_count": 23,
     "metadata": {},
     "output_type": "execute_result"
    }
   ],
   "source": [
    "word_list[:5]"
   ]
  },
  {
   "cell_type": "code",
   "execution_count": null,
   "metadata": {},
   "outputs": [],
   "source": [
    "word_list.count('مغسلة')"
   ]
  },
  {
   "cell_type": "code",
   "execution_count": null,
   "metadata": {},
   "outputs": [],
   "source": [
    "len(word_list)"
   ]
  },
  {
   "cell_type": "code",
   "execution_count": null,
   "metadata": {},
   "outputs": [],
   "source": [
    "vocab = set(word_list)\n",
    "vocab_size = len(vocab)\n",
    "vocab_size"
   ]
  },
  {
   "cell_type": "code",
   "execution_count": null,
   "metadata": {},
   "outputs": [],
   "source": [
    "from nltk.text import Text  "
   ]
  },
  {
   "cell_type": "code",
   "execution_count": null,
   "metadata": {},
   "outputs": [],
   "source": [
    "text_eda = Text(word_list)"
   ]
  },
  {
   "cell_type": "code",
   "execution_count": null,
   "metadata": {},
   "outputs": [],
   "source": [
    "def percentage(count, total):\n",
    "    return 100 * count / total"
   ]
  },
  {
   "cell_type": "code",
   "execution_count": null,
   "metadata": {},
   "outputs": [],
   "source": [
    "percentage(text_eda.count('مغسلة'), len(text_eda))"
   ]
  },
  {
   "cell_type": "code",
   "execution_count": null,
   "metadata": {
    "scrolled": true
   },
   "outputs": [],
   "source": [
    "text_eda.concordance(\"مغسلة\")"
   ]
  },
  {
   "cell_type": "code",
   "execution_count": null,
   "metadata": {},
   "outputs": [],
   "source": [
    "from nltk import FreqDist"
   ]
  },
  {
   "cell_type": "code",
   "execution_count": null,
   "metadata": {},
   "outputs": [],
   "source": [
    "fdist1 = FreqDist(text_eda)"
   ]
  },
  {
   "cell_type": "code",
   "execution_count": null,
   "metadata": {
    "scrolled": true
   },
   "outputs": [],
   "source": [
    "vocabulary1 = list(fdist1.keys())\n",
    "vocabulary1[:10]"
   ]
  },
  {
   "cell_type": "code",
   "execution_count": null,
   "metadata": {},
   "outputs": [],
   "source": [
    "fdist1.plot(50, cumulative=True)"
   ]
  },
  {
   "cell_type": "code",
   "execution_count": null,
   "metadata": {},
   "outputs": [],
   "source": [
    "text_eda.dispersion_plot([u\"مغسلة\", \"ياخذون\", \"فقط\", \"داخل\", \"عايز\"])"
   ]
  },
  {
   "cell_type": "code",
   "execution_count": null,
   "metadata": {},
   "outputs": [],
   "source": [
    "text_eda.similar(\"مغسلة\")"
   ]
  },
  {
   "cell_type": "code",
   "execution_count": null,
   "metadata": {},
   "outputs": [],
   "source": [
    "sorted([w for w in set(word_list) if len(w) > 2 and fdist1[w] > 10])"
   ]
  },
  {
   "cell_type": "code",
   "execution_count": null,
   "metadata": {},
   "outputs": [],
   "source": [
    "word_length = [len(w) for w in text_eda]"
   ]
  },
  {
   "cell_type": "code",
   "execution_count": null,
   "metadata": {},
   "outputs": [],
   "source": [
    "word_length[:10]"
   ]
  },
  {
   "cell_type": "code",
   "execution_count": null,
   "metadata": {},
   "outputs": [],
   "source": [
    "fdist = FreqDist([len(w) for w in text_eda])"
   ]
  },
  {
   "cell_type": "code",
   "execution_count": null,
   "metadata": {},
   "outputs": [],
   "source": [
    "print(fdist)"
   ]
  },
  {
   "cell_type": "code",
   "execution_count": null,
   "metadata": {},
   "outputs": [],
   "source": [
    "fdist.items()"
   ]
  },
  {
   "cell_type": "code",
   "execution_count": null,
   "metadata": {
    "scrolled": true
   },
   "outputs": [],
   "source": [
    "fdist.max()"
   ]
  },
  {
   "cell_type": "code",
   "execution_count": null,
   "metadata": {},
   "outputs": [],
   "source": [
    "fdist.freq(2)"
   ]
  }
 ],
 "metadata": {
  "kernelspec": {
   "display_name": "Python 3",
   "language": "python",
   "name": "python3"
  },
  "language_info": {
   "codemirror_mode": {
    "name": "ipython",
    "version": 3
   },
   "file_extension": ".py",
   "mimetype": "text/x-python",
   "name": "python",
   "nbconvert_exporter": "python",
   "pygments_lexer": "ipython3",
   "version": "3.6.3"
  }
 },
 "nbformat": 4,
 "nbformat_minor": 2
}
