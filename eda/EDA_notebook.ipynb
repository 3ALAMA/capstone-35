{
 "cells": [
  {
   "cell_type": "code",
   "execution_count": null,
   "metadata": {},
   "outputs": [],
   "source": [
    "#!pip install nltk"
   ]
  },
  {
   "cell_type": "markdown",
   "metadata": {},
   "source": [
    "## EDA ON GULF TWEETS"
   ]
  },
  {
   "cell_type": "code",
   "execution_count": 1,
   "metadata": {},
   "outputs": [],
   "source": [
    "import nltk"
   ]
  },
  {
   "cell_type": "code",
   "execution_count": 2,
   "metadata": {},
   "outputs": [],
   "source": [
    "import pandas as pd\n",
    "import json\n",
    "import matplotlib.pyplot as plt\n",
    "%matplotlib inline  "
   ]
  },
  {
   "cell_type": "code",
   "execution_count": 3,
   "metadata": {},
   "outputs": [],
   "source": [
    "pd.options.display.max_colwidth = 75"
   ]
  },
  {
   "cell_type": "code",
   "execution_count": 89,
   "metadata": {
    "scrolled": true
   },
   "outputs": [
    {
     "data": {
      "text/plain": [
       "'/home/jovyan/capstone-35/gulf_twitter_raw/gulf_timelines'"
      ]
     },
     "execution_count": 89,
     "metadata": {},
     "output_type": "execute_result"
    }
   ],
   "source": [
    "pwd"
   ]
  },
  {
   "cell_type": "code",
   "execution_count": 84,
   "metadata": {},
   "outputs": [
    {
     "name": "stdout",
     "output_type": "stream",
     "text": [
      "/home/jovyan/capstone-35/gulf_twitter_raw/gulf_timelines\n"
     ]
    }
   ],
   "source": [
    "#cd ../../capstone-35/gulf_twitter_raw/gulf_timelines/"
   ]
  },
  {
   "cell_type": "code",
   "execution_count": 90,
   "metadata": {},
   "outputs": [
    {
     "name": "stdout",
     "output_type": "stream",
     "text": [
      "/home/jovyan/capstone-35/gulf_twitter_pickled\n"
     ]
    }
   ],
   "source": [
    "cd ../../../capstone-35/gulf_twitter_pickled"
   ]
  },
  {
   "cell_type": "code",
   "execution_count": 93,
   "metadata": {},
   "outputs": [
    {
     "name": "stdout",
     "output_type": "stream",
     "text": [
      "stream_أثول.p                    user_timeline_amalh2719.p\r\n",
      "stream_الطريج.p                  user_timeline_BX4XBX.p\r\n",
      "stream_تميلح.p                   user_timeline_fhth2020.p\r\n",
      "stream_ثقيل.p                    user_timeline_g6vvngu.p\r\n",
      "stream_مغسلة.p                   user_timeline_hnooo922.p\r\n",
      "user_timeline_6al_asmaaa_.p      user_timeline__khaledalkuwari.p\r\n",
      "user_timeline_Abdulelah__ITTI.p  user_timeline_Re9912Re.p\r\n",
      "user_timeline_alobisan.p         user_timeline_twl_w.p\r\n"
     ]
    }
   ],
   "source": [
    "ls"
   ]
  },
  {
   "cell_type": "markdown",
   "metadata": {},
   "source": [
    "### Instantiate cleaned pickles"
   ]
  },
  {
   "cell_type": "code",
   "execution_count": 94,
   "metadata": {},
   "outputs": [],
   "source": [
    "df_batch_1 = pd.read_pickle('../gulf_twitter_pickled/user_timeline_Re9912Re.p')"
   ]
  },
  {
   "cell_type": "markdown",
   "metadata": {},
   "source": [
    "### Identify most frequent `locations` and `names`"
   ]
  },
  {
   "cell_type": "code",
   "execution_count": 95,
   "metadata": {},
   "outputs": [
    {
     "data": {
      "text/plain": [
       "Saudi Arabia    2622\n",
       "Name: cleaned_geo, dtype: int64"
      ]
     },
     "execution_count": 95,
     "metadata": {},
     "output_type": "execute_result"
    }
   ],
   "source": [
    "df_batch_1.cleaned_geo.value_counts().head()"
   ]
  },
  {
   "cell_type": "code",
   "execution_count": 96,
   "metadata": {
    "scrolled": true
   },
   "outputs": [
    {
     "data": {
      "text/plain": [
       "<matplotlib.axes._subplots.AxesSubplot at 0x7ff1aa38c278>"
      ]
     },
     "execution_count": 96,
     "metadata": {},
     "output_type": "execute_result"
    },
    {
     "data": {
      "image/png": "[encoded data removed]",
      "text/plain": [
       "<matplotlib.figure.Figure at 0x7ff1a97b7ef0>"
      ]
     },
     "metadata": {},
     "output_type": "display_data"
    }
   ],
   "source": [
    "df_batch_1.cleaned_geo.value_counts().hist()"
   ]
  },
  {
   "cell_type": "code",
   "execution_count": 97,
   "metadata": {},
   "outputs": [
    {
     "data": {
      "text/plain": [
       "Re9912Re    2622\n",
       "Name: cleaned_name, dtype: int64"
      ]
     },
     "execution_count": 97,
     "metadata": {},
     "output_type": "execute_result"
    }
   ],
   "source": [
    "df_batch_1.cleaned_name.value_counts().head()"
   ]
  },
  {
   "cell_type": "code",
   "execution_count": 98,
   "metadata": {},
   "outputs": [
    {
     "data": {
      "text/plain": [
       "<matplotlib.axes._subplots.AxesSubplot at 0x7ff1aa0ec940>"
      ]
     },
     "execution_count": 98,
     "metadata": {},
     "output_type": "execute_result"
    },
    {
     "data": {
      "image/png": "[encoded data removed]",
      "text/plain": [
       "<matplotlib.figure.Figure at 0x7ff1aa1dbcc0>"
      ]
     },
     "metadata": {},
     "output_type": "display_data"
    }
   ],
   "source": [
    "df_batch_1.cleaned_name.value_counts().hist()"
   ]
  },
  {
   "cell_type": "code",
   "execution_count": 99,
   "metadata": {},
   "outputs": [
    {
     "data": {
      "text/plain": [
       "array(['Saudi Arabia'], dtype=object)"
      ]
     },
     "execution_count": 99,
     "metadata": {},
     "output_type": "execute_result"
    }
   ],
   "source": [
    "df_batch_1.cleaned_geo.unique()"
   ]
  },
  {
   "cell_type": "code",
   "execution_count": 100,
   "metadata": {},
   "outputs": [
    {
     "name": "stdout",
     "output_type": "stream",
     "text": [
      "<class 'pandas.core.frame.DataFrame'>\n",
      "Int64Index: 2622 entries, 0 to 3198\n",
      "Data columns (total 3 columns):\n",
      "cleaned_text    2622 non-null object\n",
      "cleaned_name    2622 non-null object\n",
      "cleaned_geo     2622 non-null object\n",
      "dtypes: object(3)\n",
      "memory usage: 81.9+ KB\n"
     ]
    }
   ],
   "source": [
    "df_batch_1.info()"
   ]
  },
  {
   "cell_type": "code",
   "execution_count": 101,
   "metadata": {},
   "outputs": [
    {
     "data": {
      "text/plain": [
       "1"
      ]
     },
     "execution_count": 101,
     "metadata": {},
     "output_type": "execute_result"
    }
   ],
   "source": [
    "df_batch_1.cleaned_name.nunique()"
   ]
  },
  {
   "cell_type": "markdown",
   "metadata": {},
   "source": [
    "__Finding users with highest lexical diversity scores to add them to timelines search__"
   ]
  },
  {
   "cell_type": "code",
   "execution_count": 102,
   "metadata": {},
   "outputs": [],
   "source": [
    "def lexical_diversity(text):\n",
    "    return len(set(text)) / len(text)"
   ]
  },
  {
   "cell_type": "code",
   "execution_count": 103,
   "metadata": {},
   "outputs": [],
   "source": [
    "#creating cleaned text score in a new column\n",
    "df_batch_1['cleaned_text_score'] = df_batch_1['cleaned_text'].map(lambda x: lexical_diversity(x))"
   ]
  },
  {
   "cell_type": "code",
   "execution_count": 104,
   "metadata": {},
   "outputs": [],
   "source": [
    "#creating length of cleaned text in a new column to remove short tweets w/high lexical diversity score\n",
    "df_batch_1['cleaned_text_len'] = df_batch_1['cleaned_text'].map(lambda x: len(x))"
   ]
  },
  {
   "cell_type": "code",
   "execution_count": 105,
   "metadata": {},
   "outputs": [],
   "source": [
    "#creating mask of tweets w/ lexical diversity scores over 0.4\n",
    "df_highest_user_scores = df_batch_1.loc[df_batch_1['cleaned_text_score'] >= 0.4, ['cleaned_name','cleaned_text_score', 'cleaned_text', 'cleaned_text_len']]"
   ]
  },
  {
   "cell_type": "code",
   "execution_count": 106,
   "metadata": {},
   "outputs": [
    {
     "data": {
      "text/html": [
       "<div>\n",
       "<table border=\"1\" class=\"dataframe\">\n",
       "  <thead>\n",
       "    <tr style=\"text-align: right;\">\n",
       "      <th></th>\n",
       "      <th>cleaned_name</th>\n",
       "      <th>cleaned_text_score</th>\n",
       "      <th>cleaned_text</th>\n",
       "      <th>cleaned_text_len</th>\n",
       "    </tr>\n",
       "  </thead>\n",
       "  <tbody>\n",
       "    <tr>\n",
       "      <th>3</th>\n",
       "      <td>Re9912Re</td>\n",
       "      <td>0.400000</td>\n",
       "      <td>ب الصلاه والفلوس والنوم والسفر</td>\n",
       "      <td>30</td>\n",
       "    </tr>\n",
       "    <tr>\n",
       "      <th>5</th>\n",
       "      <td>Re9912Re</td>\n",
       "      <td>0.800000</td>\n",
       "      <td>طب وش عطرك</td>\n",
       "      <td>10</td>\n",
       "    </tr>\n",
       "    <tr>\n",
       "      <th>6</th>\n",
       "      <td>Re9912Re</td>\n",
       "      <td>0.550000</td>\n",
       "      <td>بخيغ فصفص اخباغك انت</td>\n",
       "      <td>20</td>\n",
       "    </tr>\n",
       "    <tr>\n",
       "      <th>13</th>\n",
       "      <td>Re9912Re</td>\n",
       "      <td>0.642857</td>\n",
       "      <td>ياحلوه ي كتكوت</td>\n",
       "      <td>14</td>\n",
       "    </tr>\n",
       "    <tr>\n",
       "      <th>16</th>\n",
       "      <td>Re9912Re</td>\n",
       "      <td>0.733333</td>\n",
       "      <td>اغلبهم ثوم وبيض</td>\n",
       "      <td>15</td>\n",
       "    </tr>\n",
       "    <tr>\n",
       "      <th>17</th>\n",
       "      <td>Re9912Re</td>\n",
       "      <td>0.818182</td>\n",
       "      <td>الله يعينكم</td>\n",
       "      <td>11</td>\n",
       "    </tr>\n",
       "    <tr>\n",
       "      <th>19</th>\n",
       "      <td>Re9912Re</td>\n",
       "      <td>0.705882</td>\n",
       "      <td>يسعد صباحك ياقلبي</td>\n",
       "      <td>17</td>\n",
       "    </tr>\n",
       "    <tr>\n",
       "      <th>20</th>\n",
       "      <td>Re9912Re</td>\n",
       "      <td>0.575758</td>\n",
       "      <td>ابد شبعت نوم وكمان صاحيه من الفجر</td>\n",
       "      <td>33</td>\n",
       "    </tr>\n",
       "    <tr>\n",
       "      <th>25</th>\n",
       "      <td>Re9912Re</td>\n",
       "      <td>0.521739</td>\n",
       "      <td>حنه حنه وفي احلا من كدا</td>\n",
       "      <td>23</td>\n",
       "    </tr>\n",
       "    <tr>\n",
       "      <th>29</th>\n",
       "      <td>Re9912Re</td>\n",
       "      <td>0.700000</td>\n",
       "      <td>مسموح للكل</td>\n",
       "      <td>10</td>\n",
       "    </tr>\n",
       "    <tr>\n",
       "      <th>30</th>\n",
       "      <td>Re9912Re</td>\n",
       "      <td>0.750000</td>\n",
       "      <td>ذكرتني بنكته</td>\n",
       "      <td>12</td>\n",
       "    </tr>\n",
       "    <tr>\n",
       "      <th>34</th>\n",
       "      <td>Re9912Re</td>\n",
       "      <td>0.592593</td>\n",
       "      <td>ماعرفها بس اتفق انك اكوس شي</td>\n",
       "      <td>27</td>\n",
       "    </tr>\n",
       "    <tr>\n",
       "      <th>35</th>\n",
       "      <td>Re9912Re</td>\n",
       "      <td>0.461538</td>\n",
       "      <td>يالزيزريارايئ</td>\n",
       "      <td>13</td>\n",
       "    </tr>\n",
       "    <tr>\n",
       "      <th>40</th>\n",
       "      <td>Re9912Re</td>\n",
       "      <td>0.518519</td>\n",
       "      <td>اعزك الله واكرمك ليه مستحيل</td>\n",
       "      <td>27</td>\n",
       "    </tr>\n",
       "    <tr>\n",
       "      <th>42</th>\n",
       "      <td>Re9912Re</td>\n",
       "      <td>0.800000</td>\n",
       "      <td>هل عندك شك</td>\n",
       "      <td>10</td>\n",
       "    </tr>\n",
       "    <tr>\n",
       "      <th>44</th>\n",
       "      <td>Re9912Re</td>\n",
       "      <td>0.681818</td>\n",
       "      <td>ويسعدك ربي هذا من ذوقك</td>\n",
       "      <td>22</td>\n",
       "    </tr>\n",
       "    <tr>\n",
       "      <th>46</th>\n",
       "      <td>Re9912Re</td>\n",
       "      <td>0.476190</td>\n",
       "      <td>اشكرك وانا احبكم كمان</td>\n",
       "      <td>21</td>\n",
       "    </tr>\n",
       "    <tr>\n",
       "      <th>47</th>\n",
       "      <td>Re9912Re</td>\n",
       "      <td>0.727273</td>\n",
       "      <td>ماراح اغيره</td>\n",
       "      <td>11</td>\n",
       "    </tr>\n",
       "    <tr>\n",
       "      <th>50</th>\n",
       "      <td>Re9912Re</td>\n",
       "      <td>0.500000</td>\n",
       "      <td>والله الثوم اقوا</td>\n",
       "      <td>16</td>\n",
       "    </tr>\n",
       "    <tr>\n",
       "      <th>51</th>\n",
       "      <td>Re9912Re</td>\n",
       "      <td>0.647059</td>\n",
       "      <td>كلها لذيذه ومفيده</td>\n",
       "      <td>17</td>\n",
       "    </tr>\n",
       "    <tr>\n",
       "      <th>52</th>\n",
       "      <td>Re9912Re</td>\n",
       "      <td>0.666667</td>\n",
       "      <td>نعناع ومشاوي</td>\n",
       "      <td>12</td>\n",
       "    </tr>\n",
       "    <tr>\n",
       "      <th>55</th>\n",
       "      <td>Re9912Re</td>\n",
       "      <td>0.541667</td>\n",
       "      <td>شكشوكه بالهجري والميلادي</td>\n",
       "      <td>24</td>\n",
       "    </tr>\n",
       "    <tr>\n",
       "      <th>58</th>\n",
       "      <td>Re9912Re</td>\n",
       "      <td>1.000000</td>\n",
       "      <td>زينه المسك</td>\n",
       "      <td>10</td>\n",
       "    </tr>\n",
       "    <tr>\n",
       "      <th>60</th>\n",
       "      <td>Re9912Re</td>\n",
       "      <td>0.800000</td>\n",
       "      <td>حنه يالبيه</td>\n",
       "      <td>10</td>\n",
       "    </tr>\n",
       "    <tr>\n",
       "      <th>61</th>\n",
       "      <td>Re9912Re</td>\n",
       "      <td>0.727273</td>\n",
       "      <td>تحبين الحنا</td>\n",
       "      <td>11</td>\n",
       "    </tr>\n",
       "    <tr>\n",
       "      <th>63</th>\n",
       "      <td>Re9912Re</td>\n",
       "      <td>0.818182</td>\n",
       "      <td>ميلادي هجري</td>\n",
       "      <td>11</td>\n",
       "    </tr>\n",
       "    <tr>\n",
       "      <th>64</th>\n",
       "      <td>Re9912Re</td>\n",
       "      <td>0.571429</td>\n",
       "      <td>يااستربوري انت ياقميل</td>\n",
       "      <td>21</td>\n",
       "    </tr>\n",
       "    <tr>\n",
       "      <th>66</th>\n",
       "      <td>Re9912Re</td>\n",
       "      <td>0.615385</td>\n",
       "      <td>ياحلو ياكتكوت</td>\n",
       "      <td>13</td>\n",
       "    </tr>\n",
       "    <tr>\n",
       "      <th>68</th>\n",
       "      <td>Re9912Re</td>\n",
       "      <td>0.666667</td>\n",
       "      <td>البارفيوم تركيزه عالي</td>\n",
       "      <td>21</td>\n",
       "    </tr>\n",
       "    <tr>\n",
       "      <th>70</th>\n",
       "      <td>Re9912Re</td>\n",
       "      <td>0.736842</td>\n",
       "      <td>منشني كله كراث وبيض</td>\n",
       "      <td>19</td>\n",
       "    </tr>\n",
       "    <tr>\n",
       "      <th>...</th>\n",
       "      <td>...</td>\n",
       "      <td>...</td>\n",
       "      <td>...</td>\n",
       "      <td>...</td>\n",
       "    </tr>\n",
       "    <tr>\n",
       "      <th>3145</th>\n",
       "      <td>Re9912Re</td>\n",
       "      <td>0.666667</td>\n",
       "      <td>ازورك يوم اعيش،جوك</td>\n",
       "      <td>18</td>\n",
       "    </tr>\n",
       "    <tr>\n",
       "      <th>3146</th>\n",
       "      <td>Re9912Re</td>\n",
       "      <td>0.473684</td>\n",
       "      <td>ياخي انت قول اسم الهرمون صح بعدين تعال</td>\n",
       "      <td>38</td>\n",
       "    </tr>\n",
       "    <tr>\n",
       "      <th>3149</th>\n",
       "      <td>Re9912Re</td>\n",
       "      <td>0.454545</td>\n",
       "      <td>مليون كل طابق مليون والسرداب هديه</td>\n",
       "      <td>33</td>\n",
       "    </tr>\n",
       "    <tr>\n",
       "      <th>3151</th>\n",
       "      <td>Re9912Re</td>\n",
       "      <td>0.615385</td>\n",
       "      <td>ايام المراهقه</td>\n",
       "      <td>13</td>\n",
       "    </tr>\n",
       "    <tr>\n",
       "      <th>3154</th>\n",
       "      <td>Re9912Re</td>\n",
       "      <td>0.550000</td>\n",
       "      <td>هذي تبع الشاتات ياخي</td>\n",
       "      <td>20</td>\n",
       "    </tr>\n",
       "    <tr>\n",
       "      <th>3155</th>\n",
       "      <td>Re9912Re</td>\n",
       "      <td>0.600000</td>\n",
       "      <td>عاد جت عليك التتفيسه</td>\n",
       "      <td>20</td>\n",
       "    </tr>\n",
       "    <tr>\n",
       "      <th>3156</th>\n",
       "      <td>Re9912Re</td>\n",
       "      <td>0.454545</td>\n",
       "      <td>ارمم ابو جدو كمان بس من اصبح افلح</td>\n",
       "      <td>33</td>\n",
       "    </tr>\n",
       "    <tr>\n",
       "      <th>3157</th>\n",
       "      <td>Re9912Re</td>\n",
       "      <td>0.466667</td>\n",
       "      <td>انت تصير مقاول وانا اصير طاغيه</td>\n",
       "      <td>30</td>\n",
       "    </tr>\n",
       "    <tr>\n",
       "      <th>3158</th>\n",
       "      <td>Re9912Re</td>\n",
       "      <td>0.545455</td>\n",
       "      <td>كلنا تتضرر ايس في كلام</td>\n",
       "      <td>22</td>\n",
       "    </tr>\n",
       "    <tr>\n",
       "      <th>3159</th>\n",
       "      <td>Re9912Re</td>\n",
       "      <td>0.750000</td>\n",
       "      <td>صح انت والله</td>\n",
       "      <td>12</td>\n",
       "    </tr>\n",
       "    <tr>\n",
       "      <th>3160</th>\n",
       "      <td>Re9912Re</td>\n",
       "      <td>0.565217</td>\n",
       "      <td>هقوتي جلبي جاسي اجوى شي</td>\n",
       "      <td>23</td>\n",
       "    </tr>\n",
       "    <tr>\n",
       "      <th>3162</th>\n",
       "      <td>Re9912Re</td>\n",
       "      <td>0.727273</td>\n",
       "      <td>من زين اسمك</td>\n",
       "      <td>11</td>\n",
       "    </tr>\n",
       "    <tr>\n",
       "      <th>3168</th>\n",
       "      <td>Re9912Re</td>\n",
       "      <td>0.454545</td>\n",
       "      <td>لا تسبني عند الغرباء ياجليل الحيا</td>\n",
       "      <td>33</td>\n",
       "    </tr>\n",
       "    <tr>\n",
       "      <th>3169</th>\n",
       "      <td>Re9912Re</td>\n",
       "      <td>0.800000</td>\n",
       "      <td>قشروا راسك</td>\n",
       "      <td>10</td>\n",
       "    </tr>\n",
       "    <tr>\n",
       "      <th>3170</th>\n",
       "      <td>Re9912Re</td>\n",
       "      <td>0.727273</td>\n",
       "      <td>صوتها جونان</td>\n",
       "      <td>11</td>\n",
       "    </tr>\n",
       "    <tr>\n",
       "      <th>3172</th>\n",
       "      <td>Re9912Re</td>\n",
       "      <td>0.520000</td>\n",
       "      <td>كف ع وشك قال باسووردك قال</td>\n",
       "      <td>25</td>\n",
       "    </tr>\n",
       "    <tr>\n",
       "      <th>3173</th>\n",
       "      <td>Re9912Re</td>\n",
       "      <td>0.434783</td>\n",
       "      <td>لقيت لقلبك بديل عن قلبي</td>\n",
       "      <td>23</td>\n",
       "    </tr>\n",
       "    <tr>\n",
       "      <th>3175</th>\n",
       "      <td>Re9912Re</td>\n",
       "      <td>0.447368</td>\n",
       "      <td>لا اذا حسيت اني ماعاد برجعله ابد حذفته</td>\n",
       "      <td>38</td>\n",
       "    </tr>\n",
       "    <tr>\n",
       "      <th>3180</th>\n",
       "      <td>Re9912Re</td>\n",
       "      <td>0.413793</td>\n",
       "      <td>دوم يارب عال العال ولله الحمد</td>\n",
       "      <td>29</td>\n",
       "    </tr>\n",
       "    <tr>\n",
       "      <th>3181</th>\n",
       "      <td>Re9912Re</td>\n",
       "      <td>0.923077</td>\n",
       "      <td>عن قسوة غيابك</td>\n",
       "      <td>13</td>\n",
       "    </tr>\n",
       "    <tr>\n",
       "      <th>3182</th>\n",
       "      <td>Re9912Re</td>\n",
       "      <td>0.500000</td>\n",
       "      <td>حلاتي وجودك ياجلب جلبي</td>\n",
       "      <td>22</td>\n",
       "    </tr>\n",
       "    <tr>\n",
       "      <th>3184</th>\n",
       "      <td>Re9912Re</td>\n",
       "      <td>0.608696</td>\n",
       "      <td>روماف التبن حذفت حسابها</td>\n",
       "      <td>23</td>\n",
       "    </tr>\n",
       "    <tr>\n",
       "      <th>3185</th>\n",
       "      <td>Re9912Re</td>\n",
       "      <td>0.692308</td>\n",
       "      <td>مجاره امواحات</td>\n",
       "      <td>13</td>\n",
       "    </tr>\n",
       "    <tr>\n",
       "      <th>3186</th>\n",
       "      <td>Re9912Re</td>\n",
       "      <td>0.636364</td>\n",
       "      <td>كيفك ياعيني</td>\n",
       "      <td>11</td>\n",
       "    </tr>\n",
       "    <tr>\n",
       "      <th>3187</th>\n",
       "      <td>Re9912Re</td>\n",
       "      <td>0.542857</td>\n",
       "      <td>جرب تعرف ذوق مياسه وخش الرابط وجاوب</td>\n",
       "      <td>35</td>\n",
       "    </tr>\n",
       "    <tr>\n",
       "      <th>3189</th>\n",
       "      <td>Re9912Re</td>\n",
       "      <td>0.647059</td>\n",
       "      <td>حقير الجوع مايرحم</td>\n",
       "      <td>17</td>\n",
       "    </tr>\n",
       "    <tr>\n",
       "      <th>3190</th>\n",
       "      <td>Re9912Re</td>\n",
       "      <td>0.666667</td>\n",
       "      <td>اعرفك انا نسخه مني</td>\n",
       "      <td>18</td>\n",
       "    </tr>\n",
       "    <tr>\n",
       "      <th>3194</th>\n",
       "      <td>Re9912Re</td>\n",
       "      <td>0.400000</td>\n",
       "      <td>هيه اجل انا اشبه شيلاء ليه خير</td>\n",
       "      <td>30</td>\n",
       "    </tr>\n",
       "    <tr>\n",
       "      <th>3195</th>\n",
       "      <td>Re9912Re</td>\n",
       "      <td>0.500000</td>\n",
       "      <td>اوك بسحب عليهم بس انت ليه ماشوفك</td>\n",
       "      <td>32</td>\n",
       "    </tr>\n",
       "    <tr>\n",
       "      <th>3196</th>\n",
       "      <td>Re9912Re</td>\n",
       "      <td>0.900000</td>\n",
       "      <td>نجذب والله</td>\n",
       "      <td>10</td>\n",
       "    </tr>\n",
       "  </tbody>\n",
       "</table>\n",
       "<p>1537 rows × 4 columns</p>\n",
       "</div>"
      ],
      "text/plain": [
       "     cleaned_name  cleaned_text_score                            cleaned_text  \\\n",
       "3        Re9912Re            0.400000          ب الصلاه والفلوس والنوم والسفر   \n",
       "5        Re9912Re            0.800000                              طب وش عطرك   \n",
       "6        Re9912Re            0.550000                    بخيغ فصفص اخباغك انت   \n",
       "13       Re9912Re            0.642857                          ياحلوه ي كتكوت   \n",
       "16       Re9912Re            0.733333                         اغلبهم ثوم وبيض   \n",
       "17       Re9912Re            0.818182                             الله يعينكم   \n",
       "19       Re9912Re            0.705882                       يسعد صباحك ياقلبي   \n",
       "20       Re9912Re            0.575758       ابد شبعت نوم وكمان صاحيه من الفجر   \n",
       "25       Re9912Re            0.521739                 حنه حنه وفي احلا من كدا   \n",
       "29       Re9912Re            0.700000                              مسموح للكل   \n",
       "30       Re9912Re            0.750000                            ذكرتني بنكته   \n",
       "34       Re9912Re            0.592593             ماعرفها بس اتفق انك اكوس شي   \n",
       "35       Re9912Re            0.461538                           يالزيزريارايئ   \n",
       "40       Re9912Re            0.518519             اعزك الله واكرمك ليه مستحيل   \n",
       "42       Re9912Re            0.800000                              هل عندك شك   \n",
       "44       Re9912Re            0.681818                  ويسعدك ربي هذا من ذوقك   \n",
       "46       Re9912Re            0.476190                   اشكرك وانا احبكم كمان   \n",
       "47       Re9912Re            0.727273                             ماراح اغيره   \n",
       "50       Re9912Re            0.500000                        والله الثوم اقوا   \n",
       "51       Re9912Re            0.647059                       كلها لذيذه ومفيده   \n",
       "52       Re9912Re            0.666667                            نعناع ومشاوي   \n",
       "55       Re9912Re            0.541667                شكشوكه بالهجري والميلادي   \n",
       "58       Re9912Re            1.000000                              زينه المسك   \n",
       "60       Re9912Re            0.800000                              حنه يالبيه   \n",
       "61       Re9912Re            0.727273                             تحبين الحنا   \n",
       "63       Re9912Re            0.818182                             ميلادي هجري   \n",
       "64       Re9912Re            0.571429                   يااستربوري انت ياقميل   \n",
       "66       Re9912Re            0.615385                           ياحلو ياكتكوت   \n",
       "68       Re9912Re            0.666667                   البارفيوم تركيزه عالي   \n",
       "70       Re9912Re            0.736842                     منشني كله كراث وبيض   \n",
       "...           ...                 ...                                     ...   \n",
       "3145     Re9912Re            0.666667                      ازورك يوم اعيش،جوك   \n",
       "3146     Re9912Re            0.473684  ياخي انت قول اسم الهرمون صح بعدين تعال   \n",
       "3149     Re9912Re            0.454545       مليون كل طابق مليون والسرداب هديه   \n",
       "3151     Re9912Re            0.615385                           ايام المراهقه   \n",
       "3154     Re9912Re            0.550000                    هذي تبع الشاتات ياخي   \n",
       "3155     Re9912Re            0.600000                    عاد جت عليك التتفيسه   \n",
       "3156     Re9912Re            0.454545       ارمم ابو جدو كمان بس من اصبح افلح   \n",
       "3157     Re9912Re            0.466667          انت تصير مقاول وانا اصير طاغيه   \n",
       "3158     Re9912Re            0.545455                  كلنا تتضرر ايس في كلام   \n",
       "3159     Re9912Re            0.750000                            صح انت والله   \n",
       "3160     Re9912Re            0.565217                 هقوتي جلبي جاسي اجوى شي   \n",
       "3162     Re9912Re            0.727273                             من زين اسمك   \n",
       "3168     Re9912Re            0.454545       لا تسبني عند الغرباء ياجليل الحيا   \n",
       "3169     Re9912Re            0.800000                              قشروا راسك   \n",
       "3170     Re9912Re            0.727273                             صوتها جونان   \n",
       "3172     Re9912Re            0.520000               كف ع وشك قال باسووردك قال   \n",
       "3173     Re9912Re            0.434783                 لقيت لقلبك بديل عن قلبي   \n",
       "3175     Re9912Re            0.447368  لا اذا حسيت اني ماعاد برجعله ابد حذفته   \n",
       "3180     Re9912Re            0.413793           دوم يارب عال العال ولله الحمد   \n",
       "3181     Re9912Re            0.923077                           عن قسوة غيابك   \n",
       "3182     Re9912Re            0.500000                  حلاتي وجودك ياجلب جلبي   \n",
       "3184     Re9912Re            0.608696                 روماف التبن حذفت حسابها   \n",
       "3185     Re9912Re            0.692308                           مجاره امواحات   \n",
       "3186     Re9912Re            0.636364                             كيفك ياعيني   \n",
       "3187     Re9912Re            0.542857     جرب تعرف ذوق مياسه وخش الرابط وجاوب   \n",
       "3189     Re9912Re            0.647059                       حقير الجوع مايرحم   \n",
       "3190     Re9912Re            0.666667                      اعرفك انا نسخه مني   \n",
       "3194     Re9912Re            0.400000          هيه اجل انا اشبه شيلاء ليه خير   \n",
       "3195     Re9912Re            0.500000        اوك بسحب عليهم بس انت ليه ماشوفك   \n",
       "3196     Re9912Re            0.900000                              نجذب والله   \n",
       "\n",
       "      cleaned_text_len  \n",
       "3                   30  \n",
       "5                   10  \n",
       "6                   20  \n",
       "13                  14  \n",
       "16                  15  \n",
       "17                  11  \n",
       "19                  17  \n",
       "20                  33  \n",
       "25                  23  \n",
       "29                  10  \n",
       "30                  12  \n",
       "34                  27  \n",
       "35                  13  \n",
       "40                  27  \n",
       "42                  10  \n",
       "44                  22  \n",
       "46                  21  \n",
       "47                  11  \n",
       "50                  16  \n",
       "51                  17  \n",
       "52                  12  \n",
       "55                  24  \n",
       "58                  10  \n",
       "60                  10  \n",
       "61                  11  \n",
       "63                  11  \n",
       "64                  21  \n",
       "66                  13  \n",
       "68                  21  \n",
       "70                  19  \n",
       "...                ...  \n",
       "3145                18  \n",
       "3146                38  \n",
       "3149                33  \n",
       "3151                13  \n",
       "3154                20  \n",
       "3155                20  \n",
       "3156                33  \n",
       "3157                30  \n",
       "3158                22  \n",
       "3159                12  \n",
       "3160                23  \n",
       "3162                11  \n",
       "3168                33  \n",
       "3169                10  \n",
       "3170                11  \n",
       "3172                25  \n",
       "3173                23  \n",
       "3175                38  \n",
       "3180                29  \n",
       "3181                13  \n",
       "3182                22  \n",
       "3184                23  \n",
       "3185                13  \n",
       "3186                11  \n",
       "3187                35  \n",
       "3189                17  \n",
       "3190                18  \n",
       "3194                30  \n",
       "3195                32  \n",
       "3196                10  \n",
       "\n",
       "[1537 rows x 4 columns]"
      ]
     },
     "execution_count": 106,
     "metadata": {},
     "output_type": "execute_result"
    }
   ],
   "source": [
    "#adding mask to exclude tweets under 40 characters\n",
    "df_highest_user_scores[(df_highest_user_scores['cleaned_text_score'] >= 0.10) \n",
    "                         & (df_highest_user_scores['cleaned_text_len'] >= 10)]"
   ]
  },
  {
   "cell_type": "code",
   "execution_count": 107,
   "metadata": {
    "scrolled": false
   },
   "outputs": [
    {
     "data": {
      "text/html": [
       "<div>\n",
       "<table border=\"1\" class=\"dataframe\">\n",
       "  <thead>\n",
       "    <tr style=\"text-align: right;\">\n",
       "      <th></th>\n",
       "      <th>cleaned_name</th>\n",
       "      <th>cleaned_text_score</th>\n",
       "      <th>cleaned_text</th>\n",
       "      <th>cleaned_text_len</th>\n",
       "    </tr>\n",
       "  </thead>\n",
       "  <tbody>\n",
       "    <tr>\n",
       "      <th>3197</th>\n",
       "      <td>Re9912Re</td>\n",
       "      <td>1.0</td>\n",
       "      <td>نسولف</td>\n",
       "      <td>5</td>\n",
       "    </tr>\n",
       "    <tr>\n",
       "      <th>2238</th>\n",
       "      <td>Re9912Re</td>\n",
       "      <td>1.0</td>\n",
       "      <td>نيڨر</td>\n",
       "      <td>4</td>\n",
       "    </tr>\n",
       "    <tr>\n",
       "      <th>2223</th>\n",
       "      <td>Re9912Re</td>\n",
       "      <td>1.0</td>\n",
       "      <td>فخامه</td>\n",
       "      <td>5</td>\n",
       "    </tr>\n",
       "    <tr>\n",
       "      <th>2208</th>\n",
       "      <td>Re9912Re</td>\n",
       "      <td>1.0</td>\n",
       "      <td>تسلاب</td>\n",
       "      <td>5</td>\n",
       "    </tr>\n",
       "    <tr>\n",
       "      <th>2151</th>\n",
       "      <td>Re9912Re</td>\n",
       "      <td>1.0</td>\n",
       "      <td>متل</td>\n",
       "      <td>3</td>\n",
       "    </tr>\n",
       "  </tbody>\n",
       "</table>\n",
       "</div>"
      ],
      "text/plain": [
       "     cleaned_name  cleaned_text_score cleaned_text  cleaned_text_len\n",
       "3197     Re9912Re                 1.0        نسولف                 5\n",
       "2238     Re9912Re                 1.0         نيڨر                 4\n",
       "2223     Re9912Re                 1.0        فخامه                 5\n",
       "2208     Re9912Re                 1.0        تسلاب                 5\n",
       "2151     Re9912Re                 1.0          متل                 3"
      ]
     },
     "execution_count": 107,
     "metadata": {},
     "output_type": "execute_result"
    }
   ],
   "source": [
    "df_highest_user_scores.sort_values('cleaned_text_score', ascending=False).head()"
   ]
  },
  {
   "cell_type": "markdown",
   "metadata": {},
   "source": [
    "### Conduct EDA on tweets"
   ]
  },
  {
   "cell_type": "code",
   "execution_count": 55,
   "metadata": {},
   "outputs": [],
   "source": [
    "word_list = [word for line in df_batch_1['cleaned_text'] for word in line.split()]"
   ]
  },
  {
   "cell_type": "code",
   "execution_count": 79,
   "metadata": {},
   "outputs": [
    {
     "data": {
      "text/plain": [
       "['أقبلت',\n",
       " 'تدفع',\n",
       " 'عجل',\n",
       " 'كرسيّها',\n",
       " 'وتعدي',\n",
       " 'خايف',\n",
       " 'ومرتاب',\n",
       " 'لأجل',\n",
       " 'أم',\n",
       " 'الستر']"
      ]
     },
     "execution_count": 79,
     "metadata": {},
     "output_type": "execute_result"
    }
   ],
   "source": [
    "word_list[:10]"
   ]
  },
  {
   "cell_type": "code",
   "execution_count": 70,
   "metadata": {},
   "outputs": [
    {
     "data": {
      "text/plain": [
       "2"
      ]
     },
     "execution_count": 70,
     "metadata": {},
     "output_type": "execute_result"
    }
   ],
   "source": [
    "word_list.count('عجل')"
   ]
  },
  {
   "cell_type": "code",
   "execution_count": 58,
   "metadata": {},
   "outputs": [
    {
     "data": {
      "text/plain": [
       "29871"
      ]
     },
     "execution_count": 58,
     "metadata": {},
     "output_type": "execute_result"
    }
   ],
   "source": [
    "len(word_list)"
   ]
  },
  {
   "cell_type": "code",
   "execution_count": 59,
   "metadata": {},
   "outputs": [
    {
     "data": {
      "text/plain": [
       "13584"
      ]
     },
     "execution_count": 59,
     "metadata": {},
     "output_type": "execute_result"
    }
   ],
   "source": [
    "vocab = set(word_list)\n",
    "vocab_size = len(vocab)\n",
    "vocab_size"
   ]
  },
  {
   "cell_type": "code",
   "execution_count": 60,
   "metadata": {},
   "outputs": [],
   "source": [
    "from nltk.text import Text  "
   ]
  },
  {
   "cell_type": "code",
   "execution_count": 61,
   "metadata": {},
   "outputs": [],
   "source": [
    "text_eda = Text(word_list)"
   ]
  },
  {
   "cell_type": "code",
   "execution_count": 62,
   "metadata": {},
   "outputs": [],
   "source": [
    "def percentage(count, total):\n",
    "    return 100 * count / total"
   ]
  },
  {
   "cell_type": "code",
   "execution_count": 71,
   "metadata": {},
   "outputs": [
    {
     "data": {
      "text/plain": [
       "0.00669545713233571"
      ]
     },
     "execution_count": 71,
     "metadata": {},
     "output_type": "execute_result"
    }
   ],
   "source": [
    "percentage(text_eda.count('عجل'), len(text_eda))"
   ]
  },
  {
   "cell_type": "code",
   "execution_count": 78,
   "metadata": {
    "scrolled": true
   },
   "outputs": [
    {
     "name": "stdout",
     "output_type": "stream",
     "text": [
      "No matches\n"
     ]
    }
   ],
   "source": [
    "text_eda.concordance(\"موصج\")"
   ]
  },
  {
   "cell_type": "code",
   "execution_count": 65,
   "metadata": {},
   "outputs": [],
   "source": [
    "from nltk import FreqDist"
   ]
  },
  {
   "cell_type": "code",
   "execution_count": 66,
   "metadata": {},
   "outputs": [],
   "source": [
    "fdist1 = FreqDist(text_eda)"
   ]
  },
  {
   "cell_type": "code",
   "execution_count": 67,
   "metadata": {
    "scrolled": true
   },
   "outputs": [
    {
     "data": {
      "text/plain": [
       "['أقبلت',\n",
       " 'تدفع',\n",
       " 'عجل',\n",
       " 'كرسيّها',\n",
       " 'وتعدي',\n",
       " 'خايف',\n",
       " 'ومرتاب',\n",
       " 'لأجل',\n",
       " 'أم',\n",
       " 'الستر']"
      ]
     },
     "execution_count": 67,
     "metadata": {},
     "output_type": "execute_result"
    }
   ],
   "source": [
    "vocabulary1 = list(fdist1.keys())\n",
    "vocabulary1[:10]"
   ]
  },
  {
   "cell_type": "code",
   "execution_count": 68,
   "metadata": {},
   "outputs": [
    {
     "data": {
      "image/png": "[encoded data removed]",
      "text/plain": [
       "<matplotlib.figure.Figure at 0x7ff1a9f564a8>"
      ]
     },
     "metadata": {},
     "output_type": "display_data"
    }
   ],
   "source": [
    "fdist1.plot(50, cumulative=True)"
   ]
  },
  {
   "cell_type": "code",
   "execution_count": 73,
   "metadata": {},
   "outputs": [
    {
     "data": {
      "image/png": "[encoded data removed]",
      "text/plain": [
       "<matplotlib.figure.Figure at 0x7ff1aa162a90>"
      ]
     },
     "metadata": {},
     "output_type": "display_data"
    }
   ],
   "source": [
    "text_eda.dispersion_plot([u\"مغسلة\", \"ياخذون\", \"فقط\", \"داخل\", \"عجل\"])"
   ]
  },
  {
   "cell_type": "code",
   "execution_count": 80,
   "metadata": {},
   "outputs": [
    {
     "name": "stdout",
     "output_type": "stream",
     "text": [
      "\n"
     ]
    }
   ],
   "source": [
    "text_eda.similar(\"عجل\")"
   ]
  },
  {
   "cell_type": "code",
   "execution_count": null,
   "metadata": {},
   "outputs": [],
   "source": [
    "sorted([w for w in set(word_list) if len(w) > 2 and fdist1[w] > 10])"
   ]
  },
  {
   "cell_type": "code",
   "execution_count": null,
   "metadata": {},
   "outputs": [],
   "source": [
    "word_length = [len(w) for w in text_eda]"
   ]
  },
  {
   "cell_type": "code",
   "execution_count": null,
   "metadata": {},
   "outputs": [],
   "source": [
    "word_length[:10]"
   ]
  },
  {
   "cell_type": "code",
   "execution_count": null,
   "metadata": {},
   "outputs": [],
   "source": [
    "fdist = FreqDist([len(w) for w in text_eda])"
   ]
  },
  {
   "cell_type": "code",
   "execution_count": null,
   "metadata": {},
   "outputs": [],
   "source": [
    "print(fdist)"
   ]
  },
  {
   "cell_type": "code",
   "execution_count": null,
   "metadata": {},
   "outputs": [],
   "source": [
    "fdist.items()"
   ]
  },
  {
   "cell_type": "code",
   "execution_count": null,
   "metadata": {
    "scrolled": true
   },
   "outputs": [],
   "source": [
    "fdist.max()"
   ]
  },
  {
   "cell_type": "code",
   "execution_count": null,
   "metadata": {},
   "outputs": [],
   "source": [
    "fdist.freq(2)"
   ]
  }
 ],
 "metadata": {
  "kernelspec": {
   "display_name": "Python 3",
   "language": "python",
   "name": "python3"
  },
  "language_info": {
   "codemirror_mode": {
    "name": "ipython",
    "version": 3
   },
   "file_extension": ".py",
   "mimetype": "text/x-python",
   "name": "python",
   "nbconvert_exporter": "python",
   "pygments_lexer": "ipython3",
   "version": "3.6.3"
  }
 },
 "nbformat": 4,
 "nbformat_minor": 2
}
