{
 "cells": [
  {
   "cell_type": "code",
   "execution_count": null,
   "metadata": {},
   "outputs": [],
   "source": [
    "#!pip install nltk\n",
    "#!pip install folium"
   ]
  },
  {
   "cell_type": "markdown",
   "metadata": {},
   "source": [
    "## EDA ON GULF TWEETS"
   ]
  },
  {
   "cell_type": "code",
   "execution_count": 53,
   "metadata": {},
   "outputs": [],
   "source": [
    "import nltk"
   ]
  },
  {
   "cell_type": "code",
   "execution_count": 54,
   "metadata": {},
   "outputs": [],
   "source": [
    "import pandas as pd\n",
    "import json\n",
    "import matplotlib.pyplot as plt\n",
    "%matplotlib inline  "
   ]
  },
  {
   "cell_type": "code",
   "execution_count": 55,
   "metadata": {},
   "outputs": [],
   "source": [
    "pd.options.display.max_colwidth = 75"
   ]
  },
  {
   "cell_type": "code",
   "execution_count": 56,
   "metadata": {
    "scrolled": true
   },
   "outputs": [
    {
     "data": {
      "text/plain": [
       "'/home/jovyan/capstone-35/eda'"
      ]
     },
     "execution_count": 56,
     "metadata": {},
     "output_type": "execute_result"
    }
   ],
   "source": [
    "pwd"
   ]
  },
  {
   "cell_type": "code",
   "execution_count": 57,
   "metadata": {},
   "outputs": [],
   "source": [
    "#cd ../../capstone-35/gulf_twitter_raw/gulf_timelines/"
   ]
  },
  {
   "cell_type": "code",
   "execution_count": 8,
   "metadata": {},
   "outputs": [
    {
     "name": "stdout",
     "output_type": "stream",
     "text": [
      "/home/jovyan/capstone-35/gulf_twitter_pickled\n"
     ]
    }
   ],
   "source": [
    "cd ../../capstone-35/gulf_twitter_pickled"
   ]
  },
  {
   "cell_type": "code",
   "execution_count": 9,
   "metadata": {},
   "outputs": [
    {
     "name": "stdout",
     "output_type": "stream",
     "text": [
      "stream_أثول.p                   user_timeline_fhth2020.p\r\n",
      "stream_الطريج.p                 user_timeline_GhadaSabt.p\r\n",
      "stream_تميلح.p                  user_timeline_hoossin2012.p\r\n",
      "stream_ثقيل.p                   user_timeline_LabeebHub.p\r\n",
      "stream_مغسلة.p                  user_timeline_mSvP68iXNTp6LgW.p\r\n",
      "user_timeline_careless_83.p     user_timeline_VegiAlaa.p\r\n",
      "user_timeline_d7mts.p           user_timeline_xxt44.p\r\n",
      "user_timeline_f_alabdulkarim.p\r\n"
     ]
    }
   ],
   "source": [
    "ls"
   ]
  },
  {
   "cell_type": "markdown",
   "metadata": {},
   "source": [
    "### Instantiate cleaned pickles"
   ]
  },
  {
   "cell_type": "code",
   "execution_count": 58,
   "metadata": {},
   "outputs": [],
   "source": [
    "df_batch_1 = pd.read_pickle('../gulf_twitter_pickled/stream_الطريج.p')"
   ]
  },
  {
   "cell_type": "markdown",
   "metadata": {},
   "source": [
    "### Identify most frequent `locations` and `names`"
   ]
  },
  {
   "cell_type": "code",
   "execution_count": 59,
   "metadata": {},
   "outputs": [
    {
     "data": {
      "text/plain": [
       "None               62\n",
       "Kuwait             53\n",
       "Saudi Arabia        3\n",
       "UAE                 2\n",
       "بعيدة عن المنال     1\n",
       "Name: cleaned_geo, dtype: int64"
      ]
     },
     "execution_count": 59,
     "metadata": {},
     "output_type": "execute_result"
    }
   ],
   "source": [
    "df_batch_1.cleaned_geo.value_counts().head()"
   ]
  },
  {
   "cell_type": "code",
   "execution_count": 60,
   "metadata": {
    "scrolled": true
   },
   "outputs": [
    {
     "data": {
      "text/plain": [
       "<matplotlib.axes._subplots.AxesSubplot at 0x7f3a5d484390>"
      ]
     },
     "execution_count": 60,
     "metadata": {},
     "output_type": "execute_result"
    },
    {
     "data": {
      "image/png": "[encoded data removed]",
      "text/plain": [
       "<matplotlib.figure.Figure at 0x7f3a6d148320>"
      ]
     },
     "metadata": {},
     "output_type": "display_data"
    }
   ],
   "source": [
    "df_batch_1.cleaned_geo.value_counts().hist()"
   ]
  },
  {
   "cell_type": "code",
   "execution_count": 97,
   "metadata": {},
   "outputs": [
    {
     "data": {
      "text/plain": [
       "Re9912Re    2622\n",
       "Name: cleaned_name, dtype: int64"
      ]
     },
     "execution_count": 97,
     "metadata": {},
     "output_type": "execute_result"
    }
   ],
   "source": [
    "df_batch_1.cleaned_name.value_counts().head()"
   ]
  },
  {
   "cell_type": "code",
   "execution_count": 98,
   "metadata": {},
   "outputs": [
    {
     "data": {
      "text/plain": [
       "<matplotlib.axes._subplots.AxesSubplot at 0x7ff1aa0ec940>"
      ]
     },
     "execution_count": 98,
     "metadata": {},
     "output_type": "execute_result"
    },
    {
     "data": {
      "image/png": "[encoded data removed]",
      "text/plain": [
       "<matplotlib.figure.Figure at 0x7ff1aa1dbcc0>"
      ]
     },
     "metadata": {},
     "output_type": "display_data"
    }
   ],
   "source": [
    "df_batch_1.cleaned_name.value_counts().hist()"
   ]
  },
  {
   "cell_type": "code",
   "execution_count": 99,
   "metadata": {},
   "outputs": [
    {
     "data": {
      "text/plain": [
       "array(['Saudi Arabia'], dtype=object)"
      ]
     },
     "execution_count": 99,
     "metadata": {},
     "output_type": "execute_result"
    }
   ],
   "source": [
    "df_batch_1.cleaned_geo.unique()"
   ]
  },
  {
   "cell_type": "code",
   "execution_count": 100,
   "metadata": {},
   "outputs": [
    {
     "name": "stdout",
     "output_type": "stream",
     "text": [
      "<class 'pandas.core.frame.DataFrame'>\n",
      "Int64Index: 2622 entries, 0 to 3198\n",
      "Data columns (total 3 columns):\n",
      "cleaned_text    2622 non-null object\n",
      "cleaned_name    2622 non-null object\n",
      "cleaned_geo     2622 non-null object\n",
      "dtypes: object(3)\n",
      "memory usage: 81.9+ KB\n"
     ]
    }
   ],
   "source": [
    "df_batch_1.info()"
   ]
  },
  {
   "cell_type": "code",
   "execution_count": 101,
   "metadata": {},
   "outputs": [
    {
     "data": {
      "text/plain": [
       "1"
      ]
     },
     "execution_count": 101,
     "metadata": {},
     "output_type": "execute_result"
    }
   ],
   "source": [
    "df_batch_1.cleaned_name.nunique()"
   ]
  },
  {
   "cell_type": "markdown",
   "metadata": {},
   "source": [
    "__Finding users with highest lexical diversity scores to add them to timelines search__"
   ]
  },
  {
   "cell_type": "code",
   "execution_count": 12,
   "metadata": {},
   "outputs": [],
   "source": [
    "def lexical_diversity(text):\n",
    "    return len(set(text)) / len(text)"
   ]
  },
  {
   "cell_type": "code",
   "execution_count": 13,
   "metadata": {},
   "outputs": [],
   "source": [
    "#creating cleaned text score in a new column\n",
    "df_batch_1['cleaned_text_score'] = df_batch_1['cleaned_text'].map(lambda x: lexical_diversity(x))"
   ]
  },
  {
   "cell_type": "code",
   "execution_count": 14,
   "metadata": {},
   "outputs": [],
   "source": [
    "#creating length of cleaned text in a new column to remove short tweets w/high lexical diversity score\n",
    "df_batch_1['cleaned_text_len'] = df_batch_1['cleaned_text'].map(lambda x: len(x))"
   ]
  },
  {
   "cell_type": "code",
   "execution_count": 15,
   "metadata": {},
   "outputs": [],
   "source": [
    "#creating mask of tweets w/ lexical diversity scores over 0.4\n",
    "df_highest_user_scores = df_batch_1.loc[df_batch_1['cleaned_text_score'] >= 0.4, ['cleaned_name','cleaned_text_score', 'cleaned_text', 'cleaned_text_len']]"
   ]
  },
  {
   "cell_type": "code",
   "execution_count": 16,
   "metadata": {},
   "outputs": [
    {
     "data": {
      "text/html": [
       "<div>\n",
       "<table border=\"1\" class=\"dataframe\">\n",
       "  <thead>\n",
       "    <tr style=\"text-align: right;\">\n",
       "      <th></th>\n",
       "      <th>cleaned_name</th>\n",
       "      <th>cleaned_text_score</th>\n",
       "      <th>cleaned_text</th>\n",
       "      <th>cleaned_text_len</th>\n",
       "    </tr>\n",
       "  </thead>\n",
       "  <tbody>\n",
       "    <tr>\n",
       "      <th>7</th>\n",
       "      <td>Hasan95780025</td>\n",
       "      <td>0.454545</td>\n",
       "      <td>وحدة مكافحة الموز في الطريج الموز</td>\n",
       "      <td>33</td>\n",
       "    </tr>\n",
       "    <tr>\n",
       "      <th>17</th>\n",
       "      <td>hodaaa_q8</td>\n",
       "      <td>0.566667</td>\n",
       "      <td>اوك مسافة الطريج يايتلچ ‍️‍️‍️</td>\n",
       "      <td>30</td>\n",
       "    </tr>\n",
       "    <tr>\n",
       "      <th>26</th>\n",
       "      <td>R__Aey</td>\n",
       "      <td>0.500000</td>\n",
       "      <td>لما أكون مستعيله ويغلط السواق ف الطريج</td>\n",
       "      <td>38</td>\n",
       "    </tr>\n",
       "    <tr>\n",
       "      <th>42</th>\n",
       "      <td>f36s_x</td>\n",
       "      <td>0.631579</td>\n",
       "      <td>ماشفت هالشي شنو هذا</td>\n",
       "      <td>19</td>\n",
       "    </tr>\n",
       "    <tr>\n",
       "      <th>53</th>\n",
       "      <td>alnweiam</td>\n",
       "      <td>0.687500</td>\n",
       "      <td>الطريج يخوف بليل</td>\n",
       "      <td>16</td>\n",
       "    </tr>\n",
       "    <tr>\n",
       "      <th>55</th>\n",
       "      <td>subzoe</td>\n",
       "      <td>0.526316</td>\n",
       "      <td>الله يحييچ يلا مسافة الطريج وأكون عندچ</td>\n",
       "      <td>38</td>\n",
       "    </tr>\n",
       "    <tr>\n",
       "      <th>105</th>\n",
       "      <td>mhseen11</td>\n",
       "      <td>0.450000</td>\n",
       "      <td>اتمنى مناقشة طريج الوفرة تعبنا من الطريج</td>\n",
       "      <td>40</td>\n",
       "    </tr>\n",
       "    <tr>\n",
       "      <th>121</th>\n",
       "      <td>paulsmith_66</td>\n",
       "      <td>0.600000</td>\n",
       "      <td>وقتها تذكرون شنو صار</td>\n",
       "      <td>20</td>\n",
       "    </tr>\n",
       "    <tr>\n",
       "      <th>127</th>\n",
       "      <td>HKBMDH77</td>\n",
       "      <td>0.608696</td>\n",
       "      <td>الحين أمرج مسافه الطريج</td>\n",
       "      <td>23</td>\n",
       "    </tr>\n",
       "    <tr>\n",
       "      <th>158</th>\n",
       "      <td>RienMieuxQueMoi</td>\n",
       "      <td>1.000000</td>\n",
       "      <td>عبده التصوير</td>\n",
       "      <td>12</td>\n",
       "    </tr>\n",
       "    <tr>\n",
       "      <th>161</th>\n",
       "      <td>Z64x_m</td>\n",
       "      <td>0.705882</td>\n",
       "      <td>مضيع الطريج حبيبي</td>\n",
       "      <td>17</td>\n",
       "    </tr>\n",
       "    <tr>\n",
       "      <th>164</th>\n",
       "      <td>white_pearla</td>\n",
       "      <td>0.439024</td>\n",
       "      <td>عيل احسنلج من دعالتهم اهما اختصروا الطريج</td>\n",
       "      <td>41</td>\n",
       "    </tr>\n",
       "    <tr>\n",
       "      <th>167</th>\n",
       "      <td>Efalajmix</td>\n",
       "      <td>0.578947</td>\n",
       "      <td>اغنية الطريج الطويل</td>\n",
       "      <td>19</td>\n",
       "    </tr>\n",
       "    <tr>\n",
       "      <th>168</th>\n",
       "      <td>alaashobbar</td>\n",
       "      <td>0.447368</td>\n",
       "      <td>اخاف اليوم وانا مضيعه الطريج شفيكم علي</td>\n",
       "      <td>38</td>\n",
       "    </tr>\n",
       "    <tr>\n",
       "      <th>174</th>\n",
       "      <td>mmutairi_95</td>\n",
       "      <td>0.518519</td>\n",
       "      <td>وييع عاد الحين الطريج سااعه</td>\n",
       "      <td>27</td>\n",
       "    </tr>\n",
       "    <tr>\n",
       "      <th>183</th>\n",
       "      <td>o0om_meemy</td>\n",
       "      <td>0.516129</td>\n",
       "      <td>لا وصلت ل احكم توك بدايه الطريج</td>\n",
       "      <td>31</td>\n",
       "    </tr>\n",
       "    <tr>\n",
       "      <th>188</th>\n",
       "      <td>MOoON9q</td>\n",
       "      <td>0.541667</td>\n",
       "      <td>ههههههه روح الطريج مفتوح</td>\n",
       "      <td>24</td>\n",
       "    </tr>\n",
       "    <tr>\n",
       "      <th>195</th>\n",
       "      <td>il7mady</td>\n",
       "      <td>0.451613</td>\n",
       "      <td>وصلت نص الطريج و انكت علي اللبن</td>\n",
       "      <td>31</td>\n",
       "    </tr>\n",
       "    <tr>\n",
       "      <th>202</th>\n",
       "      <td>dalsubaiee37</td>\n",
       "      <td>0.611111</td>\n",
       "      <td>كاني يايه ف الطريج</td>\n",
       "      <td>18</td>\n",
       "    </tr>\n",
       "    <tr>\n",
       "      <th>203</th>\n",
       "      <td>Masha3ell_</td>\n",
       "      <td>0.403509</td>\n",
       "      <td>اكثر شي ينرفز لمن اكون طالعه بروح كلاس و بنص الطريج تعتذر</td>\n",
       "      <td>57</td>\n",
       "    </tr>\n",
       "    <tr>\n",
       "      <th>204</th>\n",
       "      <td>H477xx</td>\n",
       "      <td>0.500000</td>\n",
       "      <td>انا راضيه اتنرفز اذا جذي</td>\n",
       "      <td>24</td>\n",
       "    </tr>\n",
       "    <tr>\n",
       "      <th>205</th>\n",
       "      <td>_emanalr</td>\n",
       "      <td>0.566667</td>\n",
       "      <td>عندي مهارة مبكية بتطويل الطريج</td>\n",
       "      <td>30</td>\n",
       "    </tr>\n",
       "    <tr>\n",
       "      <th>211</th>\n",
       "      <td>Abas22944447</td>\n",
       "      <td>0.640000</td>\n",
       "      <td>صدق من وصفكم بالطكعانيين…</td>\n",
       "      <td>25</td>\n",
       "    </tr>\n",
       "    <tr>\n",
       "      <th>213</th>\n",
       "      <td>rounie47</td>\n",
       "      <td>0.500000</td>\n",
       "      <td>بنص الطريج الدكتور قال اليوم اوف اها</td>\n",
       "      <td>36</td>\n",
       "    </tr>\n",
       "    <tr>\n",
       "      <th>214</th>\n",
       "      <td>ya_qc</td>\n",
       "      <td>0.909091</td>\n",
       "      <td>مساء الطريج</td>\n",
       "      <td>11</td>\n",
       "    </tr>\n",
       "    <tr>\n",
       "      <th>215</th>\n",
       "      <td>BatoolALQ_</td>\n",
       "      <td>0.560000</td>\n",
       "      <td>المزاج نول طول الطريج 🤦‍️</td>\n",
       "      <td>25</td>\n",
       "    </tr>\n",
       "    <tr>\n",
       "      <th>216</th>\n",
       "      <td>BatoolALQ_</td>\n",
       "      <td>0.538462</td>\n",
       "      <td>المزاج نوال طول الطريج 🤦‍️</td>\n",
       "      <td>26</td>\n",
       "    </tr>\n",
       "    <tr>\n",
       "      <th>217</th>\n",
       "      <td>__Danti</td>\n",
       "      <td>0.684211</td>\n",
       "      <td>ابد مسافة الطريج بس</td>\n",
       "      <td>19</td>\n",
       "    </tr>\n",
       "    <tr>\n",
       "      <th>218</th>\n",
       "      <td>mariam__214</td>\n",
       "      <td>0.447368</td>\n",
       "      <td>بحاول اعلم السايق على الطريج الي قلتيه</td>\n",
       "      <td>38</td>\n",
       "    </tr>\n",
       "    <tr>\n",
       "      <th>220</th>\n",
       "      <td>al3baidly656</td>\n",
       "      <td>0.452381</td>\n",
       "      <td>راح انتقل لان الطريج بعيد بس ما ارد حواء ️</td>\n",
       "      <td>42</td>\n",
       "    </tr>\n",
       "    <tr>\n",
       "      <th>...</th>\n",
       "      <td>...</td>\n",
       "      <td>...</td>\n",
       "      <td>...</td>\n",
       "      <td>...</td>\n",
       "    </tr>\n",
       "    <tr>\n",
       "      <th>273</th>\n",
       "      <td>HKHALAWI</td>\n",
       "      <td>0.518519</td>\n",
       "      <td>ما اروم الطريج يضيّق الخْلق</td>\n",
       "      <td>27</td>\n",
       "    </tr>\n",
       "    <tr>\n",
       "      <th>278</th>\n",
       "      <td>eng_wanni</td>\n",
       "      <td>0.619048</td>\n",
       "      <td>خير اختي مضيعه الطريج</td>\n",
       "      <td>21</td>\n",
       "    </tr>\n",
       "    <tr>\n",
       "      <th>280</th>\n",
       "      <td>isarah72</td>\n",
       "      <td>0.583333</td>\n",
       "      <td>لما وصلت نص الطريج تعتذر</td>\n",
       "      <td>24</td>\n",
       "    </tr>\n",
       "    <tr>\n",
       "      <th>281</th>\n",
       "      <td>omjasem23</td>\n",
       "      <td>0.478261</td>\n",
       "      <td>لا لا حشا الطريج كله لك</td>\n",
       "      <td>23</td>\n",
       "    </tr>\n",
       "    <tr>\n",
       "      <th>296</th>\n",
       "      <td>hassanjasim</td>\n",
       "      <td>0.714286</td>\n",
       "      <td>توخو زحمة الطريج باجر</td>\n",
       "      <td>21</td>\n",
       "    </tr>\n",
       "    <tr>\n",
       "      <th>303</th>\n",
       "      <td>om_zeena_93</td>\n",
       "      <td>0.612903</td>\n",
       "      <td>بيسكرون الطريج عشان مؤتمر القمة</td>\n",
       "      <td>31</td>\n",
       "    </tr>\n",
       "    <tr>\n",
       "      <th>313</th>\n",
       "      <td>MHA25_</td>\n",
       "      <td>0.400000</td>\n",
       "      <td>لا راح اداوم بس انا على راسي ويشه يفتحون لي الطريج</td>\n",
       "      <td>50</td>\n",
       "    </tr>\n",
       "    <tr>\n",
       "      <th>315</th>\n",
       "      <td>Malakii_5</td>\n",
       "      <td>0.431818</td>\n",
       "      <td>يا داشه برصيف يامضيعه الطريج بارك الله فيني️</td>\n",
       "      <td>44</td>\n",
       "    </tr>\n",
       "    <tr>\n",
       "      <th>319</th>\n",
       "      <td>h73849092</td>\n",
       "      <td>0.484848</td>\n",
       "      <td>يايماعه الطريج بكره صوب حولي مسكر</td>\n",
       "      <td>33</td>\n",
       "    </tr>\n",
       "    <tr>\n",
       "      <th>326</th>\n",
       "      <td>ManayerAlMuhtab</td>\n",
       "      <td>0.525000</td>\n",
       "      <td>ما لج إلا الدعاء🤦‍️ ان الطريج يكون مفتوح</td>\n",
       "      <td>40</td>\n",
       "    </tr>\n",
       "    <tr>\n",
       "      <th>332</th>\n",
       "      <td>DeviantFatma</td>\n",
       "      <td>0.418605</td>\n",
       "      <td>سووووعال الطريج حق شويخ باجر مثل كل يوم ولا</td>\n",
       "      <td>43</td>\n",
       "    </tr>\n",
       "    <tr>\n",
       "      <th>340</th>\n",
       "      <td>faersn</td>\n",
       "      <td>0.687500</td>\n",
       "      <td>جايز الطريج زحمه</td>\n",
       "      <td>16</td>\n",
       "    </tr>\n",
       "    <tr>\n",
       "      <th>357</th>\n",
       "      <td>hamoodd_99</td>\n",
       "      <td>0.450000</td>\n",
       "      <td>دوامي بس اطلع الحين عشان مايصكرون الطريج</td>\n",
       "      <td>40</td>\n",
       "    </tr>\n",
       "    <tr>\n",
       "      <th>358</th>\n",
       "      <td>mariomalrashed_</td>\n",
       "      <td>0.571429</td>\n",
       "      <td>يارب يتصكر الطريج على المدرس</td>\n",
       "      <td>28</td>\n",
       "    </tr>\n",
       "    <tr>\n",
       "      <th>373</th>\n",
       "      <td>Mobaiid</td>\n",
       "      <td>0.555556</td>\n",
       "      <td>الضجيج ويدل الطريج صح لسانك</td>\n",
       "      <td>27</td>\n",
       "    </tr>\n",
       "    <tr>\n",
       "      <th>374</th>\n",
       "      <td>i_amani27</td>\n",
       "      <td>0.586207</td>\n",
       "      <td>صح لسانك ابيات فخمه بصراحه🤣🤣🤣</td>\n",
       "      <td>29</td>\n",
       "    </tr>\n",
       "    <tr>\n",
       "      <th>382</th>\n",
       "      <td>Wa3ya_</td>\n",
       "      <td>0.800000</td>\n",
       "      <td>يدل الطريج</td>\n",
       "      <td>10</td>\n",
       "    </tr>\n",
       "    <tr>\n",
       "      <th>383</th>\n",
       "      <td>_Dream_Up</td>\n",
       "      <td>0.629630</td>\n",
       "      <td>🤔 منو تقصد اخوي بيدل الطريج</td>\n",
       "      <td>27</td>\n",
       "    </tr>\n",
       "    <tr>\n",
       "      <th>389</th>\n",
       "      <td>Mariam_almuzien</td>\n",
       "      <td>0.461538</td>\n",
       "      <td>هههههه شعليكم بعد فضينالكم الطريج اليوم</td>\n",
       "      <td>39</td>\n",
       "    </tr>\n",
       "    <tr>\n",
       "      <th>391</th>\n",
       "      <td>sa3ooda_75</td>\n",
       "      <td>0.535714</td>\n",
       "      <td>اول مره اشوف جذي الطريج سالك</td>\n",
       "      <td>28</td>\n",
       "    </tr>\n",
       "    <tr>\n",
       "      <th>392</th>\n",
       "      <td>a_roseblog</td>\n",
       "      <td>0.769231</td>\n",
       "      <td>الـ مداومين ️</td>\n",
       "      <td>13</td>\n",
       "    </tr>\n",
       "    <tr>\n",
       "      <th>395</th>\n",
       "      <td>abaalqoluob</td>\n",
       "      <td>0.451613</td>\n",
       "      <td>ياليتك ما تكلمت بذمتك هذي قصيدة</td>\n",
       "      <td>31</td>\n",
       "    </tr>\n",
       "    <tr>\n",
       "      <th>400</th>\n",
       "      <td>SarahAlRu</td>\n",
       "      <td>0.500000</td>\n",
       "      <td>ماعمري شفت الطريج فاضي كثر اليوم</td>\n",
       "      <td>32</td>\n",
       "    </tr>\n",
       "    <tr>\n",
       "      <th>402</th>\n",
       "      <td>bumousa</td>\n",
       "      <td>0.400000</td>\n",
       "      <td>اذا الخامس او المطار بس غيري الطريج</td>\n",
       "      <td>35</td>\n",
       "    </tr>\n",
       "    <tr>\n",
       "      <th>406</th>\n",
       "      <td>BINALYAME</td>\n",
       "      <td>0.800000</td>\n",
       "      <td>انتبه في الطريج</td>\n",
       "      <td>15</td>\n",
       "    </tr>\n",
       "    <tr>\n",
       "      <th>408</th>\n",
       "      <td>NMalajmi36</td>\n",
       "      <td>0.472222</td>\n",
       "      <td>اتوقع فاتحين الطريج بس حقي،سوري بيبي</td>\n",
       "      <td>36</td>\n",
       "    </tr>\n",
       "    <tr>\n",
       "      <th>428</th>\n",
       "      <td>Munai_ALTaqi</td>\n",
       "      <td>0.406250</td>\n",
       "      <td>انا اقول بطلوا الطريج احسن بطلوا</td>\n",
       "      <td>32</td>\n",
       "    </tr>\n",
       "    <tr>\n",
       "      <th>437</th>\n",
       "      <td>mutairiya84</td>\n",
       "      <td>0.551724</td>\n",
       "      <td>ههههههه لا الطريج مفتوح إنطلق</td>\n",
       "      <td>29</td>\n",
       "    </tr>\n",
       "    <tr>\n",
       "      <th>445</th>\n",
       "      <td>NoN_Stop85</td>\n",
       "      <td>0.785714</td>\n",
       "      <td>جم ساعه الطريج</td>\n",
       "      <td>14</td>\n",
       "    </tr>\n",
       "    <tr>\n",
       "      <th>447</th>\n",
       "      <td>AbdullahAlomarr</td>\n",
       "      <td>0.404255</td>\n",
       "      <td>قول حق باريستا تسويلي واحد ثاني لي مسافه الطريج</td>\n",
       "      <td>47</td>\n",
       "    </tr>\n",
       "  </tbody>\n",
       "</table>\n",
       "<p>74 rows × 4 columns</p>\n",
       "</div>"
      ],
      "text/plain": [
       "        cleaned_name  cleaned_text_score  \\\n",
       "7      Hasan95780025            0.454545   \n",
       "17         hodaaa_q8            0.566667   \n",
       "26            R__Aey            0.500000   \n",
       "42            f36s_x            0.631579   \n",
       "53          alnweiam            0.687500   \n",
       "55            subzoe            0.526316   \n",
       "105         mhseen11            0.450000   \n",
       "121     paulsmith_66            0.600000   \n",
       "127         HKBMDH77            0.608696   \n",
       "158  RienMieuxQueMoi            1.000000   \n",
       "161           Z64x_m            0.705882   \n",
       "164     white_pearla            0.439024   \n",
       "167        Efalajmix            0.578947   \n",
       "168      alaashobbar            0.447368   \n",
       "174      mmutairi_95            0.518519   \n",
       "183       o0om_meemy            0.516129   \n",
       "188          MOoON9q            0.541667   \n",
       "195          il7mady            0.451613   \n",
       "202     dalsubaiee37            0.611111   \n",
       "203       Masha3ell_            0.403509   \n",
       "204           H477xx            0.500000   \n",
       "205         _emanalr            0.566667   \n",
       "211     Abas22944447            0.640000   \n",
       "213         rounie47            0.500000   \n",
       "214            ya_qc            0.909091   \n",
       "215       BatoolALQ_            0.560000   \n",
       "216       BatoolALQ_            0.538462   \n",
       "217          __Danti            0.684211   \n",
       "218      mariam__214            0.447368   \n",
       "220     al3baidly656            0.452381   \n",
       "..               ...                 ...   \n",
       "273         HKHALAWI            0.518519   \n",
       "278        eng_wanni            0.619048   \n",
       "280         isarah72            0.583333   \n",
       "281        omjasem23            0.478261   \n",
       "296      hassanjasim            0.714286   \n",
       "303      om_zeena_93            0.612903   \n",
       "313           MHA25_            0.400000   \n",
       "315        Malakii_5            0.431818   \n",
       "319        h73849092            0.484848   \n",
       "326  ManayerAlMuhtab            0.525000   \n",
       "332     DeviantFatma            0.418605   \n",
       "340           faersn            0.687500   \n",
       "357       hamoodd_99            0.450000   \n",
       "358  mariomalrashed_            0.571429   \n",
       "373          Mobaiid            0.555556   \n",
       "374        i_amani27            0.586207   \n",
       "382           Wa3ya_            0.800000   \n",
       "383        _Dream_Up            0.629630   \n",
       "389  Mariam_almuzien            0.461538   \n",
       "391       sa3ooda_75            0.535714   \n",
       "392       a_roseblog            0.769231   \n",
       "395      abaalqoluob            0.451613   \n",
       "400        SarahAlRu            0.500000   \n",
       "402          bumousa            0.400000   \n",
       "406        BINALYAME            0.800000   \n",
       "408       NMalajmi36            0.472222   \n",
       "428     Munai_ALTaqi            0.406250   \n",
       "437      mutairiya84            0.551724   \n",
       "445       NoN_Stop85            0.785714   \n",
       "447  AbdullahAlomarr            0.404255   \n",
       "\n",
       "                                                  cleaned_text  \\\n",
       "7                            وحدة مكافحة الموز في الطريج الموز   \n",
       "17                              اوك مسافة الطريج يايتلچ ‍️‍️‍️   \n",
       "26                      لما أكون مستعيله ويغلط السواق ف الطريج   \n",
       "42                                         ماشفت هالشي شنو هذا   \n",
       "53                                            الطريج يخوف بليل   \n",
       "55                      الله يحييچ يلا مسافة الطريج وأكون عندچ   \n",
       "105                   اتمنى مناقشة طريج الوفرة تعبنا من الطريج   \n",
       "121                                       وقتها تذكرون شنو صار   \n",
       "127                                    الحين أمرج مسافه الطريج   \n",
       "158                                               عبده التصوير   \n",
       "161                                          مضيع الطريج حبيبي   \n",
       "164                  عيل احسنلج من دعالتهم اهما اختصروا الطريج   \n",
       "167                                        اغنية الطريج الطويل   \n",
       "168                     اخاف اليوم وانا مضيعه الطريج شفيكم علي   \n",
       "174                                وييع عاد الحين الطريج سااعه   \n",
       "183                            لا وصلت ل احكم توك بدايه الطريج   \n",
       "188                                   ههههههه روح الطريج مفتوح   \n",
       "195                            وصلت نص الطريج و انكت علي اللبن   \n",
       "202                                         كاني يايه ف الطريج   \n",
       "203  اكثر شي ينرفز لمن اكون طالعه بروح كلاس و بنص الطريج تعتذر   \n",
       "204                                   انا راضيه اتنرفز اذا جذي   \n",
       "205                             عندي مهارة مبكية بتطويل الطريج   \n",
       "211                                  صدق من وصفكم بالطكعانيين…   \n",
       "213                       بنص الطريج الدكتور قال اليوم اوف اها   \n",
       "214                                                مساء الطريج   \n",
       "215                                  المزاج نول طول الطريج 🤦‍️   \n",
       "216                                 المزاج نوال طول الطريج 🤦‍️   \n",
       "217                                        ابد مسافة الطريج بس   \n",
       "218                     بحاول اعلم السايق على الطريج الي قلتيه   \n",
       "220                 راح انتقل لان الطريج بعيد بس ما ارد حواء ️   \n",
       "..                                                         ...   \n",
       "273                                ما اروم الطريج يضيّق الخْلق   \n",
       "278                                      خير اختي مضيعه الطريج   \n",
       "280                                   لما وصلت نص الطريج تعتذر   \n",
       "281                                    لا لا حشا الطريج كله لك   \n",
       "296                                      توخو زحمة الطريج باجر   \n",
       "303                            بيسكرون الطريج عشان مؤتمر القمة   \n",
       "313         لا راح اداوم بس انا على راسي ويشه يفتحون لي الطريج   \n",
       "315               يا داشه برصيف يامضيعه الطريج بارك الله فيني️   \n",
       "319                          يايماعه الطريج بكره صوب حولي مسكر   \n",
       "326                   ما لج إلا الدعاء🤦‍️ ان الطريج يكون مفتوح   \n",
       "332                سووووعال الطريج حق شويخ باجر مثل كل يوم ولا   \n",
       "340                                           جايز الطريج زحمه   \n",
       "357                   دوامي بس اطلع الحين عشان مايصكرون الطريج   \n",
       "358                               يارب يتصكر الطريج على المدرس   \n",
       "373                                الضجيج ويدل الطريج صح لسانك   \n",
       "374                              صح لسانك ابيات فخمه بصراحه🤣🤣🤣   \n",
       "382                                                 يدل الطريج   \n",
       "383                                🤔 منو تقصد اخوي بيدل الطريج   \n",
       "389                    هههههه شعليكم بعد فضينالكم الطريج اليوم   \n",
       "391                               اول مره اشوف جذي الطريج سالك   \n",
       "392                                              الـ مداومين ️   \n",
       "395                            ياليتك ما تكلمت بذمتك هذي قصيدة   \n",
       "400                           ماعمري شفت الطريج فاضي كثر اليوم   \n",
       "402                        اذا الخامس او المطار بس غيري الطريج   \n",
       "406                                            انتبه في الطريج   \n",
       "408                       اتوقع فاتحين الطريج بس حقي،سوري بيبي   \n",
       "428                           انا اقول بطلوا الطريج احسن بطلوا   \n",
       "437                              ههههههه لا الطريج مفتوح إنطلق   \n",
       "445                                             جم ساعه الطريج   \n",
       "447            قول حق باريستا تسويلي واحد ثاني لي مسافه الطريج   \n",
       "\n",
       "     cleaned_text_len  \n",
       "7                  33  \n",
       "17                 30  \n",
       "26                 38  \n",
       "42                 19  \n",
       "53                 16  \n",
       "55                 38  \n",
       "105                40  \n",
       "121                20  \n",
       "127                23  \n",
       "158                12  \n",
       "161                17  \n",
       "164                41  \n",
       "167                19  \n",
       "168                38  \n",
       "174                27  \n",
       "183                31  \n",
       "188                24  \n",
       "195                31  \n",
       "202                18  \n",
       "203                57  \n",
       "204                24  \n",
       "205                30  \n",
       "211                25  \n",
       "213                36  \n",
       "214                11  \n",
       "215                25  \n",
       "216                26  \n",
       "217                19  \n",
       "218                38  \n",
       "220                42  \n",
       "..                ...  \n",
       "273                27  \n",
       "278                21  \n",
       "280                24  \n",
       "281                23  \n",
       "296                21  \n",
       "303                31  \n",
       "313                50  \n",
       "315                44  \n",
       "319                33  \n",
       "326                40  \n",
       "332                43  \n",
       "340                16  \n",
       "357                40  \n",
       "358                28  \n",
       "373                27  \n",
       "374                29  \n",
       "382                10  \n",
       "383                27  \n",
       "389                39  \n",
       "391                28  \n",
       "392                13  \n",
       "395                31  \n",
       "400                32  \n",
       "402                35  \n",
       "406                15  \n",
       "408                36  \n",
       "428                32  \n",
       "437                29  \n",
       "445                14  \n",
       "447                47  \n",
       "\n",
       "[74 rows x 4 columns]"
      ]
     },
     "execution_count": 16,
     "metadata": {},
     "output_type": "execute_result"
    }
   ],
   "source": [
    "#adding mask to exclude tweets under 40 characters\n",
    "df_highest_user_scores[(df_highest_user_scores['cleaned_text_score'] >= 0.10) \n",
    "                         & (df_highest_user_scores['cleaned_text_len'] >= 10)]"
   ]
  },
  {
   "cell_type": "code",
   "execution_count": 17,
   "metadata": {
    "scrolled": false
   },
   "outputs": [
    {
     "data": {
      "text/html": [
       "<div>\n",
       "<table border=\"1\" class=\"dataframe\">\n",
       "  <thead>\n",
       "    <tr style=\"text-align: right;\">\n",
       "      <th></th>\n",
       "      <th>cleaned_name</th>\n",
       "      <th>cleaned_text_score</th>\n",
       "      <th>cleaned_text</th>\n",
       "      <th>cleaned_text_len</th>\n",
       "    </tr>\n",
       "  </thead>\n",
       "  <tbody>\n",
       "    <tr>\n",
       "      <th>170</th>\n",
       "      <td>bander9910</td>\n",
       "      <td>1.0</td>\n",
       "      <td>الطريج</td>\n",
       "      <td>6</td>\n",
       "    </tr>\n",
       "    <tr>\n",
       "      <th>68</th>\n",
       "      <td>Rel211_</td>\n",
       "      <td>1.0</td>\n",
       "      <td>شلون جذي</td>\n",
       "      <td>8</td>\n",
       "    </tr>\n",
       "    <tr>\n",
       "      <th>162</th>\n",
       "      <td>ilulwaa06</td>\n",
       "      <td>1.0</td>\n",
       "      <td>ف الطريج</td>\n",
       "      <td>8</td>\n",
       "    </tr>\n",
       "    <tr>\n",
       "      <th>158</th>\n",
       "      <td>RienMieuxQueMoi</td>\n",
       "      <td>1.0</td>\n",
       "      <td>عبده التصوير</td>\n",
       "      <td>12</td>\n",
       "    </tr>\n",
       "    <tr>\n",
       "      <th>136</th>\n",
       "      <td>shosha1q</td>\n",
       "      <td>1.0</td>\n",
       "      <td>…</td>\n",
       "      <td>1</td>\n",
       "    </tr>\n",
       "  </tbody>\n",
       "</table>\n",
       "</div>"
      ],
      "text/plain": [
       "        cleaned_name  cleaned_text_score  cleaned_text  cleaned_text_len\n",
       "170       bander9910                 1.0        الطريج                 6\n",
       "68           Rel211_                 1.0      شلون جذي                 8\n",
       "162        ilulwaa06                 1.0      ف الطريج                 8\n",
       "158  RienMieuxQueMoi                 1.0  عبده التصوير                12\n",
       "136         shosha1q                 1.0             …                 1"
      ]
     },
     "execution_count": 17,
     "metadata": {},
     "output_type": "execute_result"
    }
   ],
   "source": [
    "df_highest_user_scores.sort_values('cleaned_text_score', ascending=False).head()"
   ]
  },
  {
   "cell_type": "markdown",
   "metadata": {},
   "source": [
    "### Conduct EDA on tweets"
   ]
  },
  {
   "cell_type": "code",
   "execution_count": 18,
   "metadata": {},
   "outputs": [],
   "source": [
    "word_list = [word for line in df_batch_1['cleaned_text'] for word in line.split()]"
   ]
  },
  {
   "cell_type": "code",
   "execution_count": 19,
   "metadata": {},
   "outputs": [
    {
     "data": {
      "text/plain": [
       "['على', 'الاقل', 'ارحم', 'من', 'ان', 'تتعود', 'على', 'وجود', 'احد', 'ويغرقك']"
      ]
     },
     "execution_count": 19,
     "metadata": {},
     "output_type": "execute_result"
    }
   ],
   "source": [
    "word_list[:10]"
   ]
  },
  {
   "cell_type": "code",
   "execution_count": 20,
   "metadata": {},
   "outputs": [
    {
     "data": {
      "text/plain": [
       "0"
      ]
     },
     "execution_count": 20,
     "metadata": {},
     "output_type": "execute_result"
    }
   ],
   "source": [
    "word_list.count('عجل')"
   ]
  },
  {
   "cell_type": "code",
   "execution_count": 21,
   "metadata": {},
   "outputs": [
    {
     "data": {
      "text/plain": [
       "2044"
      ]
     },
     "execution_count": 21,
     "metadata": {},
     "output_type": "execute_result"
    }
   ],
   "source": [
    "len(word_list)"
   ]
  },
  {
   "cell_type": "code",
   "execution_count": 22,
   "metadata": {},
   "outputs": [
    {
     "data": {
      "text/plain": [
       "1218"
      ]
     },
     "execution_count": 22,
     "metadata": {},
     "output_type": "execute_result"
    }
   ],
   "source": [
    "vocab = set(word_list)\n",
    "vocab_size = len(vocab)\n",
    "vocab_size"
   ]
  },
  {
   "cell_type": "code",
   "execution_count": 23,
   "metadata": {},
   "outputs": [],
   "source": [
    "from nltk.text import Text  "
   ]
  },
  {
   "cell_type": "code",
   "execution_count": 24,
   "metadata": {},
   "outputs": [],
   "source": [
    "text_eda = Text(word_list)"
   ]
  },
  {
   "cell_type": "code",
   "execution_count": 25,
   "metadata": {},
   "outputs": [],
   "source": [
    "def percentage(count, total):\n",
    "    return 100 * count / total"
   ]
  },
  {
   "cell_type": "code",
   "execution_count": 26,
   "metadata": {},
   "outputs": [
    {
     "data": {
      "text/plain": [
       "0.0"
      ]
     },
     "execution_count": 26,
     "metadata": {},
     "output_type": "execute_result"
    }
   ],
   "source": [
    "percentage(text_eda.count('عجل'), len(text_eda))"
   ]
  },
  {
   "cell_type": "code",
   "execution_count": 28,
   "metadata": {
    "scrolled": true
   },
   "outputs": [
    {
     "name": "stdout",
     "output_type": "stream",
     "text": [
      "Displaying 25 of 148 matches:\n",
      "                                    الطريج يخليك تعاني وتت… وحدة مكافحة الموز \n",
      "ليك تعاني وتت… وحدة مكافحة الموز في الطريج الموز اوك مسافة الطريج يايتلچ ‍️‍️‍\n",
      "فحة الموز في الطريج الموز اوك مسافة الطريج يايتلچ ‍️‍️‍️ كلام جميل لكن وين الت\n",
      "ان وللحين احنا ناطرين ا… الثالث علي الطريج طولي بالج اول الله️ لما أكون مستعيل\n",
      "له️ لما أكون مستعيله ويغلط السواق ف الطريج احبك كثر ماتوقف على جنب الطريج اشجا\n",
      "اق ف الطريج احبك كثر ماتوقف على جنب الطريج اشجار احبك كثر مايقسى الشتا وتهاجر \n",
      "الله الخيره ماتحسفت الا يوم وصلت نص الطريج بنجر علي التاير بنص الطريج و رجعت ب\n",
      " وصلت نص الطريج بنجر علي التاير بنص الطريج و رجعت بتكسي ايي والله بغيت اغير طر\n",
      "ت اغير طريجي والسبه اني مابي افتحله الطريج وداااايس الطريج يخوف بليل الله يحيي\n",
      "سبه اني مابي افتحله الطريج وداااايس الطريج يخوف بليل الله يحييچ يلا مسافة الطر\n",
      "طريج يخوف بليل الله يحييچ يلا مسافة الطريج وأكون عندچ متعه في خط سريع فاضي بال\n",
      "ه وبعد سوالفه تسمع طرب ابو نوره ودك الطريج يطول️ شلون جذي أقسم بالله لو صايرة \n",
      "ة اتمنى مناقشة طريج الوفرة تعبنا من الطريج وش هذا وقتها تذكرون شنو صار الحين أ\n",
      "تها تذكرون شنو صار الحين أمرج مسافه الطريج انا كنت ناوي جذي بس انتهى فيني الطر\n",
      "طريج انا كنت ناوي جذي بس انتهى فيني الطريج عند كرك السبعينات ف بوكواره لا قمته\n",
      "قمته بعد اليوم بقول مثل و مو حافظته الطريج الي يودي و مادري شنو … زحمة والطريج\n",
      "ريج شبه واقف إطقين هرنات علشان يمشي الطريج جد والله صجج حريييم لا يوجد احد في \n",
      "يرون الخط دشوا الخط الثاني زين مضيع الطريج حبيبي ف الطريج عيل احسنلج من دعالته\n",
      "الخط الثاني زين مضيع الطريج حبيبي ف الطريج عيل احسنلج من دعالتهم اهما اختصروا \n",
      " عيل احسنلج من دعالتهم اهما اختصروا الطريج اغنية الطريج الطويل اخاف اليوم وانا\n",
      "ن دعالتهم اهما اختصروا الطريج اغنية الطريج الطويل اخاف اليوم وانا مضيعه الطريج\n",
      "الطريج الطويل اخاف اليوم وانا مضيعه الطريج شفيكم علي الطريج وييع عاد الحين الط\n",
      "ف اليوم وانا مضيعه الطريج شفيكم علي الطريج وييع عاد الحين الطريج سااعه وشدعوه \n",
      "ريج شفيكم علي الطريج وييع عاد الحين الطريج سااعه وشدعوه ماسووها ايام الطردي با\n",
      "اقتحموا المناطق السكنيه ‼️بعضهم حتى الطريج مايدله ‼️ ما اكلم الدكاترة يغيرون د\n"
     ]
    }
   ],
   "source": [
    "text_eda.concordance(\"الطريج\")"
   ]
  },
  {
   "cell_type": "code",
   "execution_count": 29,
   "metadata": {},
   "outputs": [],
   "source": [
    "from nltk import FreqDist"
   ]
  },
  {
   "cell_type": "code",
   "execution_count": 30,
   "metadata": {},
   "outputs": [],
   "source": [
    "fdist1 = FreqDist(text_eda)"
   ]
  },
  {
   "cell_type": "code",
   "execution_count": 31,
   "metadata": {
    "scrolled": true
   },
   "outputs": [
    {
     "data": {
      "text/plain": [
       "['على',\n",
       " 'الاقل',\n",
       " 'ارحم',\n",
       " 'من',\n",
       " 'ان',\n",
       " 'تتعود',\n",
       " 'وجود',\n",
       " 'احد',\n",
       " 'ويغرقك',\n",
       " 'اهتمام']"
      ]
     },
     "execution_count": 31,
     "metadata": {},
     "output_type": "execute_result"
    }
   ],
   "source": [
    "vocabulary1 = list(fdist1.keys())\n",
    "vocabulary1[:10]"
   ]
  },
  {
   "cell_type": "code",
   "execution_count": 32,
   "metadata": {},
   "outputs": [
    {
     "data": {
      "image/png": "[encoded data removed]",
      "text/plain": [
       "<matplotlib.figure.Figure at 0x7ff4ffc96908>"
      ]
     },
     "metadata": {},
     "output_type": "display_data"
    }
   ],
   "source": [
    "fdist1.plot(50, cumulative=True)"
   ]
  },
  {
   "cell_type": "code",
   "execution_count": 36,
   "metadata": {},
   "outputs": [
    {
     "data": {
      "image/png": "[encoded data removed]",
      "text/plain": [
       "<matplotlib.figure.Figure at 0x7ff4f8774438>"
      ]
     },
     "metadata": {},
     "output_type": "display_data"
    }
   ],
   "source": [
    "text_eda.dispersion_plot([u\"اهتمام\", \"ارحم\", \"ويغرقك\", \"على\", \"الطريج\"])"
   ]
  },
  {
   "cell_type": "code",
   "execution_count": 80,
   "metadata": {},
   "outputs": [
    {
     "name": "stdout",
     "output_type": "stream",
     "text": [
      "\n"
     ]
    }
   ],
   "source": [
    "text_eda.similar(\"عجل\")"
   ]
  },
  {
   "cell_type": "code",
   "execution_count": null,
   "metadata": {},
   "outputs": [],
   "source": [
    "sorted([w for w in set(word_list) if len(w) > 2 and fdist1[w] > 10])"
   ]
  },
  {
   "cell_type": "code",
   "execution_count": null,
   "metadata": {},
   "outputs": [],
   "source": [
    "word_length = [len(w) for w in text_eda]"
   ]
  },
  {
   "cell_type": "code",
   "execution_count": null,
   "metadata": {},
   "outputs": [],
   "source": [
    "word_length[:10]"
   ]
  },
  {
   "cell_type": "code",
   "execution_count": null,
   "metadata": {},
   "outputs": [],
   "source": [
    "fdist = FreqDist([len(w) for w in text_eda])"
   ]
  },
  {
   "cell_type": "code",
   "execution_count": null,
   "metadata": {},
   "outputs": [],
   "source": [
    "print(fdist)"
   ]
  },
  {
   "cell_type": "code",
   "execution_count": null,
   "metadata": {},
   "outputs": [],
   "source": [
    "fdist.items()"
   ]
  },
  {
   "cell_type": "code",
   "execution_count": null,
   "metadata": {
    "scrolled": true
   },
   "outputs": [],
   "source": [
    "fdist.max()"
   ]
  },
  {
   "cell_type": "code",
   "execution_count": null,
   "metadata": {},
   "outputs": [],
   "source": [
    "fdist.freq(2)"
   ]
  },
  {
   "cell_type": "code",
   "execution_count": 40,
   "metadata": {
    "scrolled": true
   },
   "outputs": [],
   "source": [
    "import folium\n",
    "map_osm = folium.Map(location=[26.8206, 30.8025], zoom_start=2.5)"
   ]
  },
  {
   "cell_type": "code",
   "execution_count": 43,
   "metadata": {},
   "outputs": [],
   "source": [
    "eg_marker = folium.Marker([26.8206, 30.8025],\n",
    "                                   popup='Egypt')"
   ]
  },
  {
   "cell_type": "code",
   "execution_count": 44,
   "metadata": {},
   "outputs": [],
   "source": [
    "saudi_marker = folium.Marker([23.8859, 45.0792],\n",
    "                                   popup='Saudi Arabia')"
   ]
  },
  {
   "cell_type": "code",
   "execution_count": 46,
   "metadata": {
    "scrolled": true
   },
   "outputs": [
    {
     "data": {
      "text/html": [
       "<div style=\"width:100%;\"><div style=\"position:relative;width:100%;height:0;padding-bottom:60%;\"><iframe src=\"data:text/html;charset=utf-8;base64,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\" style=\"position:absolute;width:100%;height:100%;left:0;top:0;border:none !important;\" allowfullscreen webkitallowfullscreen mozallowfullscreen></iframe></div></div>"
      ],
      "text/plain": [
       "<folium.folium.Map at 0x7f3a6d125048>"
      ]
     },
     "execution_count": 46,
     "metadata": {},
     "output_type": "execute_result"
    }
   ],
   "source": [
    "map_osm.add_child(eg_marker)"
   ]
  },
  {
   "cell_type": "code",
   "execution_count": 47,
   "metadata": {},
   "outputs": [
    {
     "data": {
      "text/html": [
       "<div style=\"width:100%;\"><div style=\"position:relative;width:100%;height:0;padding-bottom:60%;\"><iframe src=\"data:text/html;charset=utf-8;base64,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\" style=\"position:absolute;width:100%;height:100%;left:0;top:0;border:none !important;\" allowfullscreen webkitallowfullscreen mozallowfullscreen></iframe></div></div>"
      ],
      "text/plain": [
       "<folium.folium.Map at 0x7f3a6d125048>"
      ]
     },
     "execution_count": 47,
     "metadata": {},
     "output_type": "execute_result"
    }
   ],
   "source": [
    "map_osm.add_child(saudi_marker)"
   ]
  },
  {
   "cell_type": "code",
   "execution_count": 48,
   "metadata": {},
   "outputs": [],
   "source": [
    "oman_marker = folium.Marker([21.4735, 55.9754],\n",
    "                                   popup='Oman')"
   ]
  },
  {
   "cell_type": "code",
   "execution_count": 49,
   "metadata": {
    "scrolled": true
   },
   "outputs": [
    {
     "data": {
      "text/html": [
       "<div style=\"width:100%;\"><div style=\"position:relative;width:100%;height:0;padding-bottom:60%;\"><iframe src=\"data:text/html;charset=utf-8;base64,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\" style=\"position:absolute;width:100%;height:100%;left:0;top:0;border:none !important;\" allowfullscreen webkitallowfullscreen mozallowfullscreen></iframe></div></div>"
      ],
      "text/plain": [
       "<folium.folium.Map at 0x7f3a6d125048>"
      ]
     },
     "execution_count": 49,
     "metadata": {},
     "output_type": "execute_result"
    }
   ],
   "source": [
    "map_osm.add_child(oman_marker)"
   ]
  },
  {
   "cell_type": "code",
   "execution_count": 129,
   "metadata": {},
   "outputs": [],
   "source": [
    "data_kuwait = (np.random.normal(size=(53, 2)) *\n",
    "        np.array([[.1, .1]]) +\n",
    "        np.array([[29.3117, 47.4818]])).tolist()\n"
   ]
  },
  {
   "cell_type": "code",
   "execution_count": 130,
   "metadata": {
    "scrolled": true
   },
   "outputs": [
    {
     "data": {
      "text/plain": [
       "[[29.175503599042663, 47.38191344677489],\n",
       " [29.26645995407761, 47.65378950580348]]"
      ]
     },
     "execution_count": 130,
     "metadata": {},
     "output_type": "execute_result"
    }
   ],
   "source": [
    "data_kuwait[:2]\n"
   ]
  },
  {
   "cell_type": "code",
   "execution_count": 147,
   "metadata": {},
   "outputs": [],
   "source": [
    "data_eg = (np.random.normal(size=(200, 2)) *\n",
    "        np.array([[1, 1]]) +\n",
    "        np.array([[26.8206, 30.8025]])).tolist()"
   ]
  },
  {
   "cell_type": "code",
   "execution_count": 148,
   "metadata": {},
   "outputs": [
    {
     "data": {
      "text/plain": [
       "[[28.49133747163001, 31.99060670162688],\n",
       " [26.59802390340164, 30.71304167083134]]"
      ]
     },
     "execution_count": 148,
     "metadata": {},
     "output_type": "execute_result"
    }
   ],
   "source": [
    "data_eg[:2]\n"
   ]
  },
  {
   "cell_type": "code",
   "execution_count": 149,
   "metadata": {
    "scrolled": true
   },
   "outputs": [
    {
     "data": {
      "text/html": [
       "<div style=\"width:100%;\"><div style=\"position:relative;width:100%;height:0;padding-bottom:60%;\"><iframe src=\"data:text/html;charset=utf-8;base64,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\" style=\"position:absolute;width:100%;height:100%;left:0;top:0;border:none !important;\" allowfullscreen webkitallowfullscreen mozallowfullscreen></iframe></div></div>"
      ],
      "text/plain": [
       "<folium.folium.Map at 0x7f3a5af2c3c8>"
      ]
     },
     "execution_count": 149,
     "metadata": {},
     "output_type": "execute_result"
    }
   ],
   "source": [
    "m = folium.Map([21.4735, 55.9754], tiles='stamentoner', zoom_start=3)\n",
    "\n",
    "HeatMap(data_kuwait).add_to(m)\n",
    "HeatMap(data_saud).add_to(m)\n",
    "HeatMap(data_eg).add_to(m)\n",
    "m"
   ]
  },
  {
   "cell_type": "code",
   "execution_count": 122,
   "metadata": {},
   "outputs": [
    {
     "data": {
      "text/plain": [
       "'/home/jovyan/capstone-35/eda'"
      ]
     },
     "execution_count": 122,
     "metadata": {},
     "output_type": "execute_result"
    }
   ],
   "source": [
    "pwd"
   ]
  },
  {
   "cell_type": "code",
   "execution_count": 124,
   "metadata": {},
   "outputs": [],
   "source": [
    "m.save('../map_test.html')"
   ]
  },
  {
   "cell_type": "code",
   "execution_count": 126,
   "metadata": {},
   "outputs": [],
   "source": [
    "data_saud = (np.random.normal(size=(3, 2)) *\n",
    "        np.array([[.1, .1]]) +\n",
    "        np.array([[23.8859, 45.0792]])).tolist()"
   ]
  },
  {
   "cell_type": "code",
   "execution_count": 128,
   "metadata": {},
   "outputs": [
    {
     "data": {
      "text/plain": [
       "[[24.002451989820017, 45.203394543086645],\n",
       " [23.76932268380541, 44.9886096961717],\n",
       " [23.819637040876373, 44.97079894764741]]"
      ]
     },
     "execution_count": 128,
     "metadata": {},
     "output_type": "execute_result"
    }
   ],
   "source": [
    "data_saud[:10]"
   ]
  },
  {
   "cell_type": "code",
   "execution_count": 131,
   "metadata": {},
   "outputs": [],
   "source": [
    "data_uae = (np.random.normal(size=(2, 2)) *\n",
    "        np.array([[.1, .1]]) +\n",
    "        np.array([[3.4241, 53.8478]])).tolist()"
   ]
  },
  {
   "cell_type": "code",
   "execution_count": 111,
   "metadata": {},
   "outputs": [
    {
     "data": {
      "text/plain": [
       "None               62\n",
       "Kuwait             53\n",
       "Saudi Arabia        3\n",
       "UAE                 2\n",
       "بعيدة عن المنال     1\n",
       "Name: cleaned_geo, dtype: int64"
      ]
     },
     "execution_count": 111,
     "metadata": {},
     "output_type": "execute_result"
    }
   ],
   "source": [
    "df_batch_1.cleaned_geo.value_counts().head()"
   ]
  },
  {
   "cell_type": "code",
   "execution_count": 110,
   "metadata": {},
   "outputs": [
    {
     "data": {
      "text/plain": [
       "<bound method IndexOpsMixin.value_counts of 6                       UAE\n",
       "7                    Dokhaa\n",
       "17                     None\n",
       "18                   Kuwait\n",
       "22                     None\n",
       "26                   Konoha\n",
       "30                     None\n",
       "37                   Kuwait\n",
       "42                     None\n",
       "46              مراح الوالد\n",
       "48                   Hateen\n",
       "51                   Kuwait\n",
       "53            قيثارة الشّرق\n",
       "55                     None\n",
       "66                     None\n",
       "68                     None\n",
       "102                     UAE\n",
       "105                  Kuwait\n",
       "117            Saudi Arabia\n",
       "121                    Lost\n",
       "127                  Kuwait\n",
       "128                 البحرين\n",
       "133                    None\n",
       "136                    None\n",
       "140           Fullerton, CA\n",
       "142                  Kuwait\n",
       "145            +965 - CaiRo\n",
       "158                  Kuwait\n",
       "159                  Kuwait\n",
       "161                       \"\n",
       "               ...         \n",
       "352                  Kuwait\n",
       "353           آلَكــوٌيــتـ\n",
       "356                    None\n",
       "357    Kuwait - south surra\n",
       "358                       '\n",
       "373                  Kuwait\n",
       "374                  Kuwait\n",
       "382                    None\n",
       "383            Saudi Arabia\n",
       "388           اليرموك - نجد\n",
       "389                  Kuwait\n",
       "391      Abdullah Mubarak ️\n",
       "392      Kuwait 🇰🇼 - KSA 🇸🇦\n",
       "395                    None\n",
       "400                    None\n",
       "401                  Kuwait\n",
       "402                  Kuwait\n",
       "406                    None\n",
       "408                  Kuwait\n",
       "411                    None\n",
       "424       kuwait,وطن النهار\n",
       "425             Asia Kuwait\n",
       "428                  Kuwait\n",
       "433                    None\n",
       "437                  Kuwait\n",
       "440      قرطبه, دولة الكويت\n",
       "443                    None\n",
       "445         Stamford Bridge\n",
       "447            Saudi Arabia\n",
       "453                  Kuwait\n",
       "Name: cleaned_geo, dtype: object>"
      ]
     },
     "execution_count": 110,
     "metadata": {},
     "output_type": "execute_result"
    }
   ],
   "source": [
    "df_batch_1['cleaned_geo'].value_counts"
   ]
  },
  {
   "cell_type": "code",
   "execution_count": null,
   "metadata": {},
   "outputs": [],
   "source": []
  }
 ],
 "metadata": {
  "kernelspec": {
   "display_name": "Python 3",
   "language": "python",
   "name": "python3"
  },
  "language_info": {
   "codemirror_mode": {
    "name": "ipython",
    "version": 3
   },
   "file_extension": ".py",
   "mimetype": "text/x-python",
   "name": "python",
   "nbconvert_exporter": "python",
   "pygments_lexer": "ipython3",
   "version": "3.6.3"
  }
 },
 "nbformat": 4,
 "nbformat_minor": 2
}
