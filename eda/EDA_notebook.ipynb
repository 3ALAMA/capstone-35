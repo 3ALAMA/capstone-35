{
 "cells": [
  {
   "cell_type": "code",
   "execution_count": null,
   "metadata": {},
   "outputs": [],
   "source": [
    "#!pip install nltk"
   ]
  },
  {
   "cell_type": "markdown",
   "metadata": {},
   "source": [
    "## EDA ON GULF TWEETS"
   ]
  },
  {
   "cell_type": "code",
   "execution_count": 4,
   "metadata": {},
   "outputs": [],
   "source": [
    "import nltk"
   ]
  },
  {
   "cell_type": "code",
   "execution_count": 3,
   "metadata": {},
   "outputs": [],
   "source": [
    "import pandas as pd\n",
    "import json\n",
    "import matplotlib.pyplot as plt\n",
    "%matplotlib inline  "
   ]
  },
  {
   "cell_type": "code",
   "execution_count": null,
   "metadata": {},
   "outputs": [],
   "source": [
    "pd.options.display.max_colwidth = 75"
   ]
  },
  {
   "cell_type": "code",
   "execution_count": null,
   "metadata": {},
   "outputs": [],
   "source": [
    "pwd"
   ]
  },
  {
   "cell_type": "markdown",
   "metadata": {},
   "source": [
    "### Instantiate cleaned pickles"
   ]
  },
  {
   "cell_type": "code",
   "execution_count": 5,
   "metadata": {},
   "outputs": [],
   "source": [
    "df_batch_1 = pd.read_pickle('../gulf_twitter_pickled/stream_مغسلة.p')"
   ]
  },
  {
   "cell_type": "markdown",
   "metadata": {},
   "source": [
    "### Identify most frequent `locations` and `names`"
   ]
  },
  {
   "cell_type": "code",
   "execution_count": 6,
   "metadata": {},
   "outputs": [
    {
     "data": {
      "text/plain": [
       "None                            88\n",
       "Saudi Arabia                    55\n",
       "Kuwait                           4\n",
       "Riyadh | للإعلان التواصل خاص     4\n",
       "مومباي/ الهند                    3\n",
       "Name: cleaned_geo, dtype: int64"
      ]
     },
     "execution_count": 6,
     "metadata": {},
     "output_type": "execute_result"
    }
   ],
   "source": [
    "df_batch_1.cleaned_geo.value_counts().head()"
   ]
  },
  {
   "cell_type": "code",
   "execution_count": 9,
   "metadata": {
    "scrolled": true
   },
   "outputs": [
    {
     "data": {
      "text/plain": [
       "<matplotlib.axes._subplots.AxesSubplot at 0x7efd3eeeb048>"
      ]
     },
     "execution_count": 9,
     "metadata": {},
     "output_type": "execute_result"
    },
    {
     "data": {
      "image/png": "[encoded data removed]",
      "text/plain": [
       "<matplotlib.figure.Figure at 0x7efd3eea12e8>"
      ]
     },
     "metadata": {},
     "output_type": "display_data"
    }
   ],
   "source": [
    "df_batch_1.cleaned_geo.value_counts().hist()"
   ]
  },
  {
   "cell_type": "code",
   "execution_count": 7,
   "metadata": {},
   "outputs": [
    {
     "data": {
      "text/plain": [
       "Dahan_Co        4\n",
       "nissoo58        4\n",
       "shbr11          4\n",
       "Ask_Almadina    4\n",
       "Ask_Riyadh1     4\n",
       "Name: cleaned_name, dtype: int64"
      ]
     },
     "execution_count": 7,
     "metadata": {},
     "output_type": "execute_result"
    }
   ],
   "source": [
    "df_batch_1.cleaned_name.value_counts().head()"
   ]
  },
  {
   "cell_type": "code",
   "execution_count": 8,
   "metadata": {},
   "outputs": [
    {
     "data": {
      "text/plain": [
       "<matplotlib.axes._subplots.AxesSubplot at 0x7efd40febc50>"
      ]
     },
     "execution_count": 8,
     "metadata": {},
     "output_type": "execute_result"
    },
    {
     "data": {
      "image/png": "[encoded data removed]",
      "text/plain": [
       "<matplotlib.figure.Figure at 0x7efd70bfd208>"
      ]
     },
     "metadata": {},
     "output_type": "display_data"
    }
   ],
   "source": [
    "df_batch_1.cleaned_name.value_counts().hist()"
   ]
  },
  {
   "cell_type": "code",
   "execution_count": 10,
   "metadata": {},
   "outputs": [
    {
     "data": {
      "text/plain": [
       "array(['None', 'بِدبِد - SQU - معبيلة سيتي', 'وطني الغالي', 'Saudi Arabia',\n",
       "       '', 'khobar ksa - akkar lebanon', 'مومباي/ الهند',\n",
       "       'في قلبها ... في قلبه', 'ليبيا', 'جــــــــــــدة',\n",
       "       'Riyadh | للإعلان التواصل خاص', 'مومباي . الهند',\n",
       "       'سكاكا, المملكة العربية السعودية', 'BAHA, Kingdom of Saudia Arabia',\n",
       "       'abn-Alkuwait', 'Kuwait - الكويت', 'Saudi , Riyadh', 'Gaza',\n",
       "       'القصيم', 'الرياض، جدة | دبي، أبوظبي',\n",
       "       'مكة المكرمة, المملكة العربية السعودية', 'القصيم-الشماسية',\n",
       "       'الدمام, المملكة العربية السعودية', 'In the middle of nowhere',\n",
       "       'المدينة المنورة', 'Makkah Al Mukarrama, Kingdom of Saudi Arabia',\n",
       "       'الخبر', 'لقائنا في الجنة بإذن الله', 'ينبع الهويّة والهوى',\n",
       "       'Maßbach, Deutschland', 'Saudi Arabia, Riyadh', 'Libya',\n",
       "       'مش_عربية.', 'جدة ..حقنا', 'Jeddah, Saudi Arabia',\n",
       "       ', المملكة العربية السعودية', 'مكة المكرمة, المملكة العربية ا',\n",
       "       'حيـث أگون', 'Al ain/ AbuDhabi', 'United States', 'حيث أكون',\n",
       "       'Kuwait', '\\u200fMadrid, Santiago Bernabéu', 'في سوفي الدمام',\n",
       "       'k.S.A / makkah', 'مسقط, سلطنة عمان', 'بريدة - طريق عمر بن الخطاب',\n",
       "       'تبوك, المملكة العربية السعودية', 'أسكُن حيثُ تسكن البلابل',\n",
       "       'كفر الشيخ, مصر', 'الامارات العربية المتحدة',\n",
       "       'مكة المكرمة, السعودية🇸🇦', 'kuwait ️',\n",
       "       'أينما يكون السلام .. أكون !', 'دار ممر', 'موزمبيق', 'لندن',\n",
       "       'فروعنا بمكه وجده والطايف', 'United Arab Emirates', 'egypt / cairo',\n",
       "       'Taif, Kingdom of Saudi Arabia', 'مومباي الهند',\n",
       "       'حائل, المملكة العربية السعودية'], dtype=object)"
      ]
     },
     "execution_count": 10,
     "metadata": {},
     "output_type": "execute_result"
    }
   ],
   "source": [
    "df_batch_1.cleaned_geo.unique()"
   ]
  },
  {
   "cell_type": "code",
   "execution_count": 23,
   "metadata": {},
   "outputs": [
    {
     "name": "stdout",
     "output_type": "stream",
     "text": [
      "<class 'pandas.core.frame.DataFrame'>\n",
      "Int64Index: 215 entries, 0 to 389\n",
      "Data columns (total 3 columns):\n",
      "cleaned_text    215 non-null object\n",
      "cleaned_name    215 non-null object\n",
      "cleaned_geo     215 non-null object\n",
      "dtypes: object(3)\n",
      "memory usage: 6.7+ KB\n"
     ]
    }
   ],
   "source": [
    "df_batch_1.info()"
   ]
  },
  {
   "cell_type": "code",
   "execution_count": 55,
   "metadata": {},
   "outputs": [
    {
     "data": {
      "text/plain": [
       "187"
      ]
     },
     "execution_count": 55,
     "metadata": {},
     "output_type": "execute_result"
    }
   ],
   "source": [
    "df_batch_1.cleaned_name.nunique()"
   ]
  },
  {
   "cell_type": "markdown",
   "metadata": {},
   "source": [
    "__Finding users with highest lexical diversity scores to add them to timelines search__"
   ]
  },
  {
   "cell_type": "code",
   "execution_count": 11,
   "metadata": {},
   "outputs": [],
   "source": [
    "def lexical_diversity(text):\n",
    "    return len(set(text)) / len(text)"
   ]
  },
  {
   "cell_type": "code",
   "execution_count": 58,
   "metadata": {},
   "outputs": [],
   "source": [
    "#creating cleaned text score in a new column\n",
    "df_batch_1['cleaned_text_score'] = df_batch_1['cleaned_text'].map(lambda x: lexical_diversity(x))"
   ]
  },
  {
   "cell_type": "code",
   "execution_count": 76,
   "metadata": {},
   "outputs": [],
   "source": [
    "#creating length of cleaned text in a new column to remove short tweets w/high lexical diversity score\n",
    "df_batch_1['cleaned_text_len'] = df_batch_1['cleaned_text'].map(lambda x: len(x))"
   ]
  },
  {
   "cell_type": "code",
   "execution_count": 81,
   "metadata": {},
   "outputs": [],
   "source": [
    "#creating mask of tweets w/ lexical diversity scores over 0.4\n",
    "df_highest_user_scores = df_batch_1.loc[df_batch_1['cleaned_text_score'] >= 0.4, ['cleaned_name','cleaned_text_score', 'cleaned_text', 'cleaned_text_len']]"
   ]
  },
  {
   "cell_type": "code",
   "execution_count": 93,
   "metadata": {},
   "outputs": [
    {
     "data": {
      "text/html": [
       "<div>\n",
       "<table border=\"1\" class=\"dataframe\">\n",
       "  <thead>\n",
       "    <tr style=\"text-align: right;\">\n",
       "      <th></th>\n",
       "      <th>cleaned_name</th>\n",
       "      <th>cleaned_text_score</th>\n",
       "      <th>cleaned_text</th>\n",
       "      <th>cleaned_text_len</th>\n",
       "    </tr>\n",
       "  </thead>\n",
       "  <tbody>\n",
       "    <tr>\n",
       "      <th>1</th>\n",
       "      <td>CupsOfKarak</td>\n",
       "      <td>0.422222</td>\n",
       "      <td>حتى هندي مال مغسلة قال لي تدرس هندسة وحده عرف</td>\n",
       "      <td>45</td>\n",
       "    </tr>\n",
       "    <tr>\n",
       "      <th>14</th>\n",
       "      <td>_Riyadh</td>\n",
       "      <td>0.439560</td>\n",
       "      <td>مركز مغسلة فومي للسيارات *عندهم خصومات طيبة تب...</td>\n",
       "      <td>91</td>\n",
       "    </tr>\n",
       "    <tr>\n",
       "      <th>16</th>\n",
       "      <td>al3nbari</td>\n",
       "      <td>0.423077</td>\n",
       "      <td>: ياقو قلبك ياشيخ كيف تدخل مغسلة اموات في مكان...</td>\n",
       "      <td>52</td>\n",
       "    </tr>\n",
       "    <tr>\n",
       "      <th>111</th>\n",
       "      <td>audi_nnn</td>\n",
       "      <td>0.409091</td>\n",
       "      <td>شوف دورات مياه مواقف كدي مغسلة سيارات البرما</td>\n",
       "      <td>44</td>\n",
       "    </tr>\n",
       "    <tr>\n",
       "      <th>115</th>\n",
       "      <td>ragksa2</td>\n",
       "      <td>0.450000</td>\n",
       "      <td>مغسلة سيارات متنقلة حفرالباطن و القيصومة</td>\n",
       "      <td>40</td>\n",
       "    </tr>\n",
       "    <tr>\n",
       "      <th>145</th>\n",
       "      <td>Ask_Almadina</td>\n",
       "      <td>0.431818</td>\n",
       "      <td>مـﻧـــ الخاصــــ احسن مغسلة مفارش فالمدينة ؟</td>\n",
       "      <td>44</td>\n",
       "    </tr>\n",
       "    <tr>\n",
       "      <th>205</th>\n",
       "      <td>amalnaseraa</td>\n",
       "      <td>0.431818</td>\n",
       "      <td>: يلحسوها لك لحاس... عماني يمدح مغسلة سيارات</td>\n",
       "      <td>44</td>\n",
       "    </tr>\n",
       "    <tr>\n",
       "      <th>206</th>\n",
       "      <td>mnoor496</td>\n",
       "      <td>0.434783</td>\n",
       "      <td>بسالك الحوطه فيها مغسلة ملابس بخار ووين موقعها</td>\n",
       "      <td>46</td>\n",
       "    </tr>\n",
       "    <tr>\n",
       "      <th>237</th>\n",
       "      <td>a20002af</td>\n",
       "      <td>0.489362</td>\n",
       "      <td>مغسلة عند شقق عزابيه ، كوفي بمحطه ع طريق سريع ،</td>\n",
       "      <td>47</td>\n",
       "    </tr>\n",
       "    <tr>\n",
       "      <th>270</th>\n",
       "      <td>almazroui_sam</td>\n",
       "      <td>0.458333</td>\n",
       "      <td>خل عنك الجو طارق و تعال شلني من عند مغسلة المحطه</td>\n",
       "      <td>48</td>\n",
       "    </tr>\n",
       "  </tbody>\n",
       "</table>\n",
       "</div>"
      ],
      "text/plain": [
       "      cleaned_name  cleaned_text_score  \\\n",
       "1      CupsOfKarak            0.422222   \n",
       "14         _Riyadh            0.439560   \n",
       "16        al3nbari            0.423077   \n",
       "111       audi_nnn            0.409091   \n",
       "115        ragksa2            0.450000   \n",
       "145   Ask_Almadina            0.431818   \n",
       "205    amalnaseraa            0.431818   \n",
       "206       mnoor496            0.434783   \n",
       "237       a20002af            0.489362   \n",
       "270  almazroui_sam            0.458333   \n",
       "\n",
       "                                          cleaned_text  cleaned_text_len  \n",
       "1        حتى هندي مال مغسلة قال لي تدرس هندسة وحده عرف                45  \n",
       "14   مركز مغسلة فومي للسيارات *عندهم خصومات طيبة تب...                91  \n",
       "16   : ياقو قلبك ياشيخ كيف تدخل مغسلة اموات في مكان...                52  \n",
       "111       شوف دورات مياه مواقف كدي مغسلة سيارات البرما                44  \n",
       "115           مغسلة سيارات متنقلة حفرالباطن و القيصومة                40  \n",
       "145       مـﻧـــ الخاصــــ احسن مغسلة مفارش فالمدينة ؟                44  \n",
       "205       : يلحسوها لك لحاس... عماني يمدح مغسلة سيارات                44  \n",
       "206     بسالك الحوطه فيها مغسلة ملابس بخار ووين موقعها                46  \n",
       "237    مغسلة عند شقق عزابيه ، كوفي بمحطه ع طريق سريع ،                47  \n",
       "270   خل عنك الجو طارق و تعال شلني من عند مغسلة المحطه                48  "
      ]
     },
     "execution_count": 93,
     "metadata": {},
     "output_type": "execute_result"
    }
   ],
   "source": [
    "#adding mask to exclude tweets under 40 characters\n",
    "df_highest_user_scores[(df_highest_user_scores['cleaned_text_score'] >= 0.40) \n",
    "                         & (df_highest_user_scores['cleaned_text_len'] >= 40)].head(10)"
   ]
  },
  {
   "cell_type": "code",
   "execution_count": 91,
   "metadata": {
    "scrolled": false
   },
   "outputs": [
    {
     "data": {
      "text/html": [
       "<div>\n",
       "<table border=\"1\" class=\"dataframe\">\n",
       "  <thead>\n",
       "    <tr style=\"text-align: right;\">\n",
       "      <th></th>\n",
       "      <th>cleaned_name</th>\n",
       "      <th>cleaned_text_score</th>\n",
       "      <th>cleaned_text</th>\n",
       "      <th>cleaned_text_len</th>\n",
       "    </tr>\n",
       "  </thead>\n",
       "  <tbody>\n",
       "    <tr>\n",
       "      <th>383</th>\n",
       "      <td>AboYasser137</td>\n",
       "      <td>1.000000</td>\n",
       "      <td>…</td>\n",
       "      <td>1</td>\n",
       "    </tr>\n",
       "    <tr>\n",
       "      <th>334</th>\n",
       "      <td>fjs2001</td>\n",
       "      <td>0.916667</td>\n",
       "      <td>مغسلة الجوري</td>\n",
       "      <td>12</td>\n",
       "    </tr>\n",
       "    <tr>\n",
       "      <th>201</th>\n",
       "      <td>BaderKurdi</td>\n",
       "      <td>0.916667</td>\n",
       "      <td>مغسلة قطارات</td>\n",
       "      <td>12</td>\n",
       "    </tr>\n",
       "    <tr>\n",
       "      <th>44</th>\n",
       "      <td>sa_sa765h</td>\n",
       "      <td>0.909091</td>\n",
       "      <td>مغسلة الجبر</td>\n",
       "      <td>11</td>\n",
       "    </tr>\n",
       "    <tr>\n",
       "      <th>39</th>\n",
       "      <td>ALSHAREEF__LY</td>\n",
       "      <td>0.888889</td>\n",
       "      <td>اول مغسلة</td>\n",
       "      <td>9</td>\n",
       "    </tr>\n",
       "  </tbody>\n",
       "</table>\n",
       "</div>"
      ],
      "text/plain": [
       "      cleaned_name  cleaned_text_score  cleaned_text  cleaned_text_len\n",
       "383   AboYasser137            1.000000             …                 1\n",
       "334        fjs2001            0.916667  مغسلة الجوري                12\n",
       "201     BaderKurdi            0.916667  مغسلة قطارات                12\n",
       "44       sa_sa765h            0.909091   مغسلة الجبر                11\n",
       "39   ALSHAREEF__LY            0.888889     اول مغسلة                 9"
      ]
     },
     "execution_count": 91,
     "metadata": {},
     "output_type": "execute_result"
    }
   ],
   "source": [
    "df_highest_user_scores.sort_values('cleaned_text_score', ascending=False).head()"
   ]
  },
  {
   "cell_type": "markdown",
   "metadata": {},
   "source": [
    "### Conduct EDA on tweets"
   ]
  },
  {
   "cell_type": "code",
   "execution_count": 112,
   "metadata": {},
   "outputs": [],
   "source": [
    "word_list = [word for line in df_batch_1['cleaned_text'] for word in line.split()]"
   ]
  },
  {
   "cell_type": "code",
   "execution_count": 147,
   "metadata": {},
   "outputs": [
    {
     "data": {
      "text/plain": [
       "['شوف', 'لك', 'مغسلة', 'سيارات', 'قبل']"
      ]
     },
     "execution_count": 147,
     "metadata": {},
     "output_type": "execute_result"
    }
   ],
   "source": [
    "word_list[:5]"
   ]
  },
  {
   "cell_type": "code",
   "execution_count": 114,
   "metadata": {},
   "outputs": [
    {
     "data": {
      "text/plain": [
       "182"
      ]
     },
     "execution_count": 114,
     "metadata": {},
     "output_type": "execute_result"
    }
   ],
   "source": [
    "word_list.count('مغسلة')"
   ]
  },
  {
   "cell_type": "code",
   "execution_count": 115,
   "metadata": {},
   "outputs": [
    {
     "data": {
      "text/plain": [
       "3235"
      ]
     },
     "execution_count": 115,
     "metadata": {},
     "output_type": "execute_result"
    }
   ],
   "source": [
    "len(word_list)"
   ]
  },
  {
   "cell_type": "code",
   "execution_count": 116,
   "metadata": {},
   "outputs": [
    {
     "data": {
      "text/plain": [
       "1378"
      ]
     },
     "execution_count": 116,
     "metadata": {},
     "output_type": "execute_result"
    }
   ],
   "source": [
    "vocab = set(word_list)\n",
    "vocab_size = len(vocab)\n",
    "vocab_size"
   ]
  },
  {
   "cell_type": "code",
   "execution_count": 117,
   "metadata": {},
   "outputs": [],
   "source": [
    "from nltk.text import Text  "
   ]
  },
  {
   "cell_type": "code",
   "execution_count": null,
   "metadata": {},
   "outputs": [],
   "source": [
    "text_eda = Text(word_list)"
   ]
  },
  {
   "cell_type": "code",
   "execution_count": 125,
   "metadata": {},
   "outputs": [],
   "source": [
    "def percentage(count, total):\n",
    "    return 100 * count / total"
   ]
  },
  {
   "cell_type": "code",
   "execution_count": 126,
   "metadata": {},
   "outputs": [
    {
     "data": {
      "text/plain": [
       "5.62596599690881"
      ]
     },
     "execution_count": 126,
     "metadata": {},
     "output_type": "execute_result"
    }
   ],
   "source": [
    "percentage(text_eda.count('مغسلة'), len(text_eda))"
   ]
  },
  {
   "cell_type": "code",
   "execution_count": 118,
   "metadata": {
    "scrolled": true
   },
   "outputs": [
    {
     "name": "stdout",
     "output_type": "stream",
     "text": [
      "Displaying 25 of 182 matches:\n",
      "                                     مغسلة سيارات قبل يحرقوها عليك حتى هندي مال\n",
      "                                     مغسلة قال لي تدرس هندسة وحده عرف يتعطل عند\n",
      " تدرس هندسة وحده عرف يتعطل عندك خلاط مغسلة تروح مكتب مؤسسة صيانة يستقبلك صاحب ا\n",
      "تب سعودي تتفق معه وتأخذ… مخطط من بعد مغسلة الضاحي مغسلة طيبه الاوتوماتيكيه اسعا\n",
      " معه وتأخذ… مخطط من بعد مغسلة الضاحي مغسلة طيبه الاوتوماتيكيه اسعارهم حلوه مغسل\n",
      "غسلة طيبه الاوتوماتيكيه اسعارهم حلوه مغسلة مركبة بمسمارين و شوية سيلكون مصيرها \n",
      " استثماري في اليمن..؟ قال :احسن… فيه مغسلة في مخطط الملك فهد، جنب محطة الوصابي \n",
      "ونها صدقة ، بس للاسف ان… : شباب فتحت مغسلة سيارات لغسل السيارة من الداخل والخار\n",
      " لما كبرو شوفو الي واقفين بالدور عند مغسلة السيارات بمحطات الوق… مركز مغسلة فوم\n",
      "عند مغسلة السيارات بمحطات الوق… مركز مغسلة فومي للسيارات *عندهم خصومات طيبة تبد\n",
      " Jeddah … : ياقو قلبك ياشيخ كيف تدخل مغسلة اموات في مكان مهجور 🤐🤐 يَــب قصدك ال\n",
      "هم شي تكون ماركة ونظيفة ولا السيجارة مغسلة يدي وقلبي أين أجد مغسلة تقوم بغسل مر\n",
      "ولا السيجارة مغسلة يدي وقلبي أين أجد مغسلة تقوم بغسل مراتب الاسرة مغسلة لمال ال\n",
      "أين أجد مغسلة تقوم بغسل مراتب الاسرة مغسلة لمال المخدرات الوطني والجنوب أمريكية\n",
      "فة عامل معماري عامل تربية مواشي عامل مغسلة عامل الجبس عامل استراحة بعض الأنشطة \n",
      " أنها يدوية كمغاسل السيارات مثلاً كل مغسلة لها سعر لماذا لا تصنف ويصبح لها تسعي\n",
      "سلونها ويطلعونها صدقة ، بس للاسف ان… مغسلة السيارات المتنقلة تلميع او غسيل السي\n",
      "قديم و جديد سواقين عامل استراحة عامل مغسلة ع… اول مغسلة : مغسلة رخامية كاملة : \n",
      "واقين عامل استراحة عامل مغسلة ع… اول مغسلة : مغسلة رخامية كاملة : مغسلة السيارا\n",
      "مل استراحة عامل مغسلة ع… اول مغسلة : مغسلة رخامية كاملة : مغسلة السيارات المتنق\n",
      " ع… اول مغسلة : مغسلة رخامية كاملة : مغسلة السيارات المتنقلة تلميع او غسيل السي\n",
      "دوامك و استراحتك للتواصل … : أين أجد مغسلة تقوم بغسل مراتب الاسرة مغسلة الجبر ت\n",
      "أين أجد مغسلة تقوم بغسل مراتب الاسرة مغسلة الجبر تكنت: اعتقال متهم بسرقة مغسلة \n",
      " مغسلة الجبر تكنت: اعتقال متهم بسرقة مغسلة بانواكشوط مـﻧـــ الخاصــــ ابغى مغسل\n",
      "غسلة بانواكشوط مـﻧـــ الخاصــــ ابغى مغسلة تغسل بستم بخار؟ : مغسلة صينى حوضين خ\n"
     ]
    }
   ],
   "source": [
    "text_eda.concordance(\"مغسلة\")"
   ]
  },
  {
   "cell_type": "code",
   "execution_count": 119,
   "metadata": {},
   "outputs": [],
   "source": [
    "from nltk import FreqDist"
   ]
  },
  {
   "cell_type": "code",
   "execution_count": 120,
   "metadata": {},
   "outputs": [],
   "source": [
    "fdist1 = FreqDist(text_eda)"
   ]
  },
  {
   "cell_type": "code",
   "execution_count": 121,
   "metadata": {
    "scrolled": true
   },
   "outputs": [
    {
     "data": {
      "text/plain": [
       "['شوف',\n",
       " 'لك',\n",
       " 'مغسلة',\n",
       " 'سيارات',\n",
       " 'قبل',\n",
       " 'يحرقوها',\n",
       " 'عليك',\n",
       " 'حتى',\n",
       " 'هندي',\n",
       " 'مال']"
      ]
     },
     "execution_count": 121,
     "metadata": {},
     "output_type": "execute_result"
    }
   ],
   "source": [
    "vocabulary1 = list(fdist1.keys())\n",
    "vocabulary1[:10]"
   ]
  },
  {
   "cell_type": "code",
   "execution_count": 122,
   "metadata": {},
   "outputs": [
    {
     "data": {
      "image/png": "[encoded data removed]",
      "text/plain": [
       "<matplotlib.figure.Figure at 0x7f339c05a6a0>"
      ]
     },
     "metadata": {},
     "output_type": "display_data"
    }
   ],
   "source": [
    "fdist1.plot(50, cumulative=True)"
   ]
  },
  {
   "cell_type": "code",
   "execution_count": 123,
   "metadata": {},
   "outputs": [
    {
     "data": {
      "image/png": "[encoded data removed]",
      "text/plain": [
       "<matplotlib.figure.Figure at 0x7f339bd8a6a0>"
      ]
     },
     "metadata": {},
     "output_type": "display_data"
    }
   ],
   "source": [
    "text_eda.dispersion_plot([u\"مغسلة\", \"ياخذون\", \"فقط\", \"داخل\", \"عايز\"])"
   ]
  },
  {
   "cell_type": "code",
   "execution_count": 124,
   "metadata": {},
   "outputs": [
    {
     "name": "stdout",
     "output_type": "stream",
     "text": [
      "نظافة معماري الجبس استراحة منزلي القطعه عادي مزارع مطعم\n"
     ]
    }
   ],
   "source": [
    "text_eda.similar(\"مغسلة\")"
   ]
  },
  {
   "cell_type": "code",
   "execution_count": 127,
   "metadata": {},
   "outputs": [
    {
     "data": {
      "text/plain": [
       "['السلام',\n",
       " 'اللي',\n",
       " 'بأكثر',\n",
       " 'جامعة',\n",
       " 'داليا',\n",
       " 'ريال',\n",
       " 'سنتين',\n",
       " 'سنوات',\n",
       " 'سيارات',\n",
       " 'شاور',\n",
       " 'شطاف',\n",
       " 'ضمان',\n",
       " 'عامل',\n",
       " 'على',\n",
       " 'عليكم',\n",
       " 'فقط',\n",
       " 'كاديا',\n",
       " 'لون',\n",
       " 'مسطرة(صاعد',\n",
       " 'مغسلة',\n",
       " 'ملابس',\n",
       " 'موديل',\n",
       " 'نازل)']"
      ]
     },
     "execution_count": 127,
     "metadata": {},
     "output_type": "execute_result"
    }
   ],
   "source": [
    "sorted([w for w in set(word_list) if len(w) > 2 and fdist1[w] > 10])"
   ]
  },
  {
   "cell_type": "code",
   "execution_count": 134,
   "metadata": {},
   "outputs": [],
   "source": [
    "word_length = [len(w) for w in text_eda]"
   ]
  },
  {
   "cell_type": "code",
   "execution_count": 136,
   "metadata": {},
   "outputs": [
    {
     "data": {
      "text/plain": [
       "[3, 2, 5, 6, 3, 7, 4, 3, 4, 3]"
      ]
     },
     "execution_count": 136,
     "metadata": {},
     "output_type": "execute_result"
    }
   ],
   "source": [
    "word_length[:10]"
   ]
  },
  {
   "cell_type": "code",
   "execution_count": 137,
   "metadata": {},
   "outputs": [],
   "source": [
    "fdist = FreqDist([len(w) for w in text_eda])"
   ]
  },
  {
   "cell_type": "code",
   "execution_count": 138,
   "metadata": {},
   "outputs": [
    {
     "name": "stdout",
     "output_type": "stream",
     "text": [
      "<FreqDist with 15 samples and 3235 outcomes>\n"
     ]
    }
   ],
   "source": [
    "print(fdist)"
   ]
  },
  {
   "cell_type": "code",
   "execution_count": 139,
   "metadata": {},
   "outputs": [
    {
     "data": {
      "text/plain": [
       "dict_items([(3, 404), (2, 364), (5, 859), (6, 354), (7, 194), (4, 690), (13, 2), (8, 97), (1, 210), (9, 33), (11, 5), (14, 2), (10, 17), (21, 2), (12, 2)])"
      ]
     },
     "execution_count": 139,
     "metadata": {},
     "output_type": "execute_result"
    }
   ],
   "source": [
    "fdist.items()"
   ]
  },
  {
   "cell_type": "code",
   "execution_count": 132,
   "metadata": {
    "scrolled": true
   },
   "outputs": [
    {
     "data": {
      "text/plain": [
       "5"
      ]
     },
     "execution_count": 132,
     "metadata": {},
     "output_type": "execute_result"
    }
   ],
   "source": [
    "fdist.max()"
   ]
  },
  {
   "cell_type": "code",
   "execution_count": 133,
   "metadata": {},
   "outputs": [
    {
     "data": {
      "text/plain": [
       "0.1125193199381762"
      ]
     },
     "execution_count": 133,
     "metadata": {},
     "output_type": "execute_result"
    }
   ],
   "source": [
    "fdist.freq(2)"
   ]
  }
 ],
 "metadata": {
  "kernelspec": {
   "display_name": "Python 3",
   "language": "python",
   "name": "python3"
  },
  "language_info": {
   "codemirror_mode": {
    "name": "ipython",
    "version": 3
   },
   "file_extension": ".py",
   "mimetype": "text/x-python",
   "name": "python",
   "nbconvert_exporter": "python",
   "pygments_lexer": "ipython3",
   "version": "3.6.3"
  }
 },
 "nbformat": 4,
 "nbformat_minor": 2
}
