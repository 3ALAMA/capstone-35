{
 "cells": [
  {
   "cell_type": "code",
   "execution_count": 1,
   "metadata": {},
   "outputs": [],
   "source": [
    "#!pip install tweet-preprocessor"
   ]
  },
  {
   "cell_type": "code",
   "execution_count": 528,
   "metadata": {},
   "outputs": [],
   "source": [
    "import preprocessor as p\n",
    "import pandas as pd\n",
    "import json\n",
    "import re"
   ]
  },
  {
   "cell_type": "code",
   "execution_count": 529,
   "metadata": {},
   "outputs": [],
   "source": [
    "pd.options.display.max_colwidth = 75"
   ]
  },
  {
   "cell_type": "code",
   "execution_count": 703,
   "metadata": {
    "scrolled": false
   },
   "outputs": [
    {
     "data": {
      "text/plain": [
       "'/home/jovyan/capstone-35/gulf_twitter_pickled'"
      ]
     },
     "execution_count": 703,
     "metadata": {},
     "output_type": "execute_result"
    }
   ],
   "source": [
    "pwd"
   ]
  },
  {
   "cell_type": "code",
   "execution_count": 704,
   "metadata": {},
   "outputs": [
    {
     "name": "stdout",
     "output_type": "stream",
     "text": [
      "/home/jovyan/capstone-35/gulf_twitter_raw/gulf_timelines\n"
     ]
    }
   ],
   "source": [
    "cd ../gulf_twitter_raw/gulf_timelines/"
   ]
  },
  {
   "cell_type": "code",
   "execution_count": 705,
   "metadata": {
    "scrolled": true
   },
   "outputs": [
    {
     "name": "stdout",
     "output_type": "stream",
     "text": [
      "user_timeline_Basbosah.jsonl\r\n"
     ]
    }
   ],
   "source": [
    "ls"
   ]
  },
  {
   "cell_type": "markdown",
   "metadata": {},
   "source": [
    "### Turn query documents (tweets) into generators"
   ]
  },
  {
   "cell_type": "code",
   "execution_count": 124,
   "metadata": {},
   "outputs": [],
   "source": [
    "def load_tweets(file):\n",
    "    with open(file, 'r') as f:\n",
    "        tweets = (json.loads(line) for line in f.readlines())\n",
    "    return tweets"
   ]
  },
  {
   "cell_type": "code",
   "execution_count": 706,
   "metadata": {
    "scrolled": false
   },
   "outputs": [],
   "source": [
    "query_gen = load_tweets('d')"
   ]
  },
  {
   "cell_type": "markdown",
   "metadata": {},
   "source": [
    "### Turn query generators into dataframes"
   ]
  },
  {
   "cell_type": "code",
   "execution_count": 707,
   "metadata": {},
   "outputs": [],
   "source": [
    "def tweet_to_df(tweets):\n",
    "    data = {'text': [], 'screen_name': [], 'geo': [],\n",
    "       }\n",
    "    \n",
    "    for t in tweets:\n",
    "    \n",
    "        data['text'].append(t['text'])\n",
    "        data['screen_name'].append(t['user']['screen_name'])\n",
    "        data['geo'].append(t['user']['location'])\n",
    "    \n",
    "    return pd.DataFrame(data)"
   ]
  },
  {
   "cell_type": "code",
   "execution_count": 708,
   "metadata": {},
   "outputs": [],
   "source": [
    "query_df = tweet_to_df(query_gen)"
   ]
  },
  {
   "cell_type": "code",
   "execution_count": 709,
   "metadata": {
    "scrolled": true
   },
   "outputs": [
    {
     "name": "stdout",
     "output_type": "stream",
     "text": [
      "<class 'pandas.core.frame.DataFrame'>\n",
      "RangeIndex: 3183 entries, 0 to 3182\n",
      "Data columns (total 3 columns):\n",
      "geo            3183 non-null object\n",
      "screen_name    3183 non-null object\n",
      "text           3183 non-null object\n",
      "dtypes: object(3)\n",
      "memory usage: 74.7+ KB\n"
     ]
    }
   ],
   "source": [
    "query_df.info() "
   ]
  },
  {
   "cell_type": "markdown",
   "metadata": {},
   "source": [
    "### Clean tweets (removes emojis, links, special characters, and ASCII chars/digits from tweet text)"
   ]
  },
  {
   "cell_type": "markdown",
   "metadata": {},
   "source": [
    "Using regular expressions such as `[0-9A-Za-z:&!/._?)؟'+-=—]` can filter out much of the unwanted data and retain Arabic characters but still seems to also retain a more recently released generation of emojis. Try updating tweet-preprocessor to version 0.5.0 or using another tweet processing package. \n",
    "\n",
    "Different scenarios will require different regex combinations. For example, the below approach wouldn't be of much use if you're building English dialect classifiers."
   ]
  },
  {
   "cell_type": "code",
   "execution_count": 710,
   "metadata": {},
   "outputs": [],
   "source": [
    "def cleaner(message):\n",
    "    message = re.sub(\"([0-9A-Za-z:&!/._?)؟'+-=—])\", \" \", message)\n",
    "    return message"
   ]
  },
  {
   "cell_type": "code",
   "execution_count": 711,
   "metadata": {},
   "outputs": [],
   "source": [
    "cleaned_text = []\n",
    "\n",
    "for tweet in query_df['text']:\n",
    "    cleaned_text.append(p.clean(cleaner(tweet)))\n",
    "\n",
    "query_df['cleaned_text']=cleaned_text"
   ]
  },
  {
   "cell_type": "code",
   "execution_count": 712,
   "metadata": {},
   "outputs": [],
   "source": [
    "cleaned_name = []\n",
    "\n",
    "for tweet in query_df['screen_name']:\n",
    "    cleaned_name.append(p.clean(tweet))\n",
    "\n",
    "query_df['cleaned_name']=cleaned_name"
   ]
  },
  {
   "cell_type": "code",
   "execution_count": 713,
   "metadata": {},
   "outputs": [],
   "source": [
    "cleaned_geo = []\n",
    "\n",
    "for tweet in query_df.geo:\n",
    "    cleaned_geo.append(p.clean(str(tweet)))\n",
    "\n",
    "query_df['cleaned_geo']=cleaned_geo\n"
   ]
  },
  {
   "cell_type": "code",
   "execution_count": 714,
   "metadata": {},
   "outputs": [
    {
     "data": {
      "text/html": [
       "<div>\n",
       "<table border=\"1\" class=\"dataframe\">\n",
       "  <thead>\n",
       "    <tr style=\"text-align: right;\">\n",
       "      <th></th>\n",
       "      <th>geo</th>\n",
       "      <th>screen_name</th>\n",
       "      <th>text</th>\n",
       "      <th>cleaned_text</th>\n",
       "      <th>cleaned_name</th>\n",
       "      <th>cleaned_geo</th>\n",
       "    </tr>\n",
       "  </thead>\n",
       "  <tbody>\n",
       "    <tr>\n",
       "      <th>700</th>\n",
       "      <td>East - مملكتي</td>\n",
       "      <td>Basbosah</td>\n",
       "      <td>@albassamah Whose this 🙄🙄🙄</td>\n",
       "      <td></td>\n",
       "      <td>Basbosah</td>\n",
       "      <td>East - مملكتي</td>\n",
       "    </tr>\n",
       "    <tr>\n",
       "      <th>860</th>\n",
       "      <td>East - مملكتي</td>\n",
       "      <td>Basbosah</td>\n",
       "      <td>Oh Winter what surprises do you carry for us 🤓its getting warmer 😉</td>\n",
       "      <td>🤓</td>\n",
       "      <td>Basbosah</td>\n",
       "      <td>East - مملكتي</td>\n",
       "    </tr>\n",
       "    <tr>\n",
       "      <th>3130</th>\n",
       "      <td>East - مملكتي</td>\n",
       "      <td>Basbosah</td>\n",
       "      <td>اللي يبينا عيت النفس تبغيه ✋🏼 \\nواللي نبيه عيا البخت لا يجيبه 👊🏼</td>\n",
       "      <td>اللي يبينا عيت النفس تبغيه واللي نبيه عيا البخت لا يجيبه</td>\n",
       "      <td>Basbosah</td>\n",
       "      <td>East - مملكتي</td>\n",
       "    </tr>\n",
       "    <tr>\n",
       "      <th>3065</th>\n",
       "      <td>East - مملكتي</td>\n",
       "      <td>Basbosah</td>\n",
       "      <td>@nawal66 شكله بيرد عليك : إنت ع إيش مستعجله 😜</td>\n",
       "      <td>شكله بيرد عليك إنت ع إيش مستعجله</td>\n",
       "      <td>Basbosah</td>\n",
       "      <td>East - مملكتي</td>\n",
       "    </tr>\n",
       "  </tbody>\n",
       "</table>\n",
       "</div>"
      ],
      "text/plain": [
       "                geo screen_name  \\\n",
       "700   East - مملكتي    Basbosah   \n",
       "860   East - مملكتي    Basbosah   \n",
       "3130  East - مملكتي    Basbosah   \n",
       "3065  East - مملكتي    Basbosah   \n",
       "\n",
       "                                                                    text  \\\n",
       "700                                           @albassamah Whose this 🙄🙄🙄   \n",
       "860   Oh Winter what surprises do you carry for us 🤓its getting warmer 😉   \n",
       "3130    اللي يبينا عيت النفس تبغيه ✋🏼 \\nواللي نبيه عيا البخت لا يجيبه 👊🏼   \n",
       "3065                       @nawal66 شكله بيرد عليك : إنت ع إيش مستعجله 😜   \n",
       "\n",
       "                                                  cleaned_text cleaned_name  \\\n",
       "700                                                                Basbosah   \n",
       "860                                                          🤓     Basbosah   \n",
       "3130  اللي يبينا عيت النفس تبغيه واللي نبيه عيا البخت لا يجيبه     Basbosah   \n",
       "3065                          شكله بيرد عليك إنت ع إيش مستعجله     Basbosah   \n",
       "\n",
       "        cleaned_geo  \n",
       "700   East - مملكتي  \n",
       "860   East - مملكتي  \n",
       "3130  East - مملكتي  \n",
       "3065  East - مملكتي  "
      ]
     },
     "execution_count": 714,
     "metadata": {},
     "output_type": "execute_result"
    }
   ],
   "source": [
    "query_df.sample(4)"
   ]
  },
  {
   "cell_type": "markdown",
   "metadata": {},
   "source": [
    "### Remove duplicated tweets"
   ]
  },
  {
   "cell_type": "code",
   "execution_count": 715,
   "metadata": {},
   "outputs": [
    {
     "data": {
      "text/plain": [
       "681     False\n",
       "1279    False\n",
       "570     False\n",
       "2661    False\n",
       "1256    False\n",
       "Name: cleaned_text, dtype: bool"
      ]
     },
     "execution_count": 715,
     "metadata": {},
     "output_type": "execute_result"
    }
   ],
   "source": [
    "query_df['cleaned_text'].duplicated().sample(5)"
   ]
  },
  {
   "cell_type": "code",
   "execution_count": 716,
   "metadata": {},
   "outputs": [],
   "source": [
    "query_cleaned = query_df.drop_duplicates(['cleaned_text'], keep=False)\n",
    "query_cleaned = query_cleaned.drop(['screen_name', 'text', 'geo'], axis=1)"
   ]
  },
  {
   "cell_type": "code",
   "execution_count": 717,
   "metadata": {},
   "outputs": [
    {
     "data": {
      "text/html": [
       "<div>\n",
       "<table border=\"1\" class=\"dataframe\">\n",
       "  <thead>\n",
       "    <tr style=\"text-align: right;\">\n",
       "      <th></th>\n",
       "      <th>cleaned_text</th>\n",
       "      <th>cleaned_name</th>\n",
       "      <th>cleaned_geo</th>\n",
       "    </tr>\n",
       "  </thead>\n",
       "  <tbody>\n",
       "    <tr>\n",
       "      <th>642</th>\n",
       "      <td>من الخبل اللي بيقلب لونه بكلوركس ياربيييه</td>\n",
       "      <td>Basbosah</td>\n",
       "      <td>East - مملكتي</td>\n",
       "    </tr>\n",
       "    <tr>\n",
       "      <th>2363</th>\n",
       "      <td>و ع ناااار انتظر الحلقه الاخيره من قيم اوف ثرونز تخلص داونلوود يا الله ...</td>\n",
       "      <td>Basbosah</td>\n",
       "      <td>East - مملكتي</td>\n",
       "    </tr>\n",
       "    <tr>\n",
       "      <th>2325</th>\n",
       "      <td>وساعه أنتظر وشو اللي كومز ات ناديت ماعندهم ماعند جدي واجد يقهر الفلم سخيف</td>\n",
       "      <td>Basbosah</td>\n",
       "      <td>East - مملكتي</td>\n",
       "    </tr>\n",
       "    <tr>\n",
       "      <th>2305</th>\n",
       "      <td>نحمد الله أن مكّن لهذه البلاد خدمة ضيوف الرحمن، ونحمده أن بلغنا عيد الأ...</td>\n",
       "      <td>Basbosah</td>\n",
       "      <td>East - مملكتي</td>\n",
       "    </tr>\n",
       "    <tr>\n",
       "      <th>2234</th>\n",
       "      <td>قبلوا تراب الوطن هذا الزمان أخضر واشكروا مجزي النعم يزيدكم أكثر كرامةٍ ...</td>\n",
       "      <td>Basbosah</td>\n",
       "      <td>East - مملكتي</td>\n",
       "    </tr>\n",
       "  </tbody>\n",
       "</table>\n",
       "</div>"
      ],
      "text/plain": [
       "                                                                    cleaned_text  \\\n",
       "642                                    من الخبل اللي بيقلب لونه بكلوركس ياربيييه   \n",
       "2363  و ع ناااار انتظر الحلقه الاخيره من قيم اوف ثرونز تخلص داونلوود يا الله ...   \n",
       "2325   وساعه أنتظر وشو اللي كومز ات ناديت ماعندهم ماعند جدي واجد يقهر الفلم سخيف   \n",
       "2305  نحمد الله أن مكّن لهذه البلاد خدمة ضيوف الرحمن، ونحمده أن بلغنا عيد الأ...   \n",
       "2234  قبلوا تراب الوطن هذا الزمان أخضر واشكروا مجزي النعم يزيدكم أكثر كرامةٍ ...   \n",
       "\n",
       "     cleaned_name    cleaned_geo  \n",
       "642      Basbosah  East - مملكتي  \n",
       "2363     Basbosah  East - مملكتي  \n",
       "2325     Basbosah  East - مملكتي  \n",
       "2305     Basbosah  East - مملكتي  \n",
       "2234     Basbosah  East - مملكتي  "
      ]
     },
     "execution_count": 717,
     "metadata": {},
     "output_type": "execute_result"
    }
   ],
   "source": [
    "query_cleaned.sample(5)"
   ]
  },
  {
   "cell_type": "code",
   "execution_count": 718,
   "metadata": {},
   "outputs": [
    {
     "data": {
      "text/html": [
       "<div>\n",
       "<table border=\"1\" class=\"dataframe\">\n",
       "  <thead>\n",
       "    <tr style=\"text-align: right;\">\n",
       "      <th></th>\n",
       "      <th>cleaned_text</th>\n",
       "      <th>cleaned_name</th>\n",
       "      <th>cleaned_geo</th>\n",
       "    </tr>\n",
       "  </thead>\n",
       "  <tbody>\n",
       "    <tr>\n",
       "      <th>0</th>\n",
       "      <td>فديت اهل الإمارات 🤗🤗🤗</td>\n",
       "      <td>Basbosah</td>\n",
       "      <td>East - مملكتي</td>\n",
       "    </tr>\n",
       "    <tr>\n",
       "      <th>1</th>\n",
       "      <td>تخيلي مليار نسمة وتحبيلك واحد ياختي اقل حاجة حبي عشرين</td>\n",
       "      <td>Basbosah</td>\n",
       "      <td>East - مملكتي</td>\n",
       "    </tr>\n",
       "    <tr>\n",
       "      <th>2</th>\n",
       "      <td>استقبل بشار الأسد اليوم الرئيس الروسي بوتن بدا كل شيء طبيعي ولكن رواد و...</td>\n",
       "      <td>Basbosah</td>\n",
       "      <td>East - مملكتي</td>\n",
       "    </tr>\n",
       "    <tr>\n",
       "      <th>3</th>\n",
       "      <td>برررررد</td>\n",
       "      <td>Basbosah</td>\n",
       "      <td>East - مملكتي</td>\n",
       "    </tr>\n",
       "    <tr>\n",
       "      <th>4</th>\n",
       "      <td>🤗🤗🤗🤗</td>\n",
       "      <td>Basbosah</td>\n",
       "      <td>East - مملكتي</td>\n",
       "    </tr>\n",
       "    <tr>\n",
       "      <th>5</th>\n",
       "      <td>في السعوديه زمان حنا نشوف بعض الدول العربيه متحررين بزود وهم ينظرون لنف...</td>\n",
       "      <td>Basbosah</td>\n",
       "      <td>East - مملكتي</td>\n",
       "    </tr>\n",
       "    <tr>\n",
       "      <th>7</th>\n",
       "      <td>ههههههههه الزيت 🤣🤣🤣روح تزحلق فيه</td>\n",
       "      <td>Basbosah</td>\n",
       "      <td>East - مملكتي</td>\n",
       "    </tr>\n",
       "    <tr>\n",
       "      <th>8</th>\n",
       "      <td>شوفوا الملعنه جايزتن له وهو مسبب لها الحزن وقاعد يتغزل بدموعها اللي نزل...</td>\n",
       "      <td>Basbosah</td>\n",
       "      <td>East - مملكتي</td>\n",
       "    </tr>\n",
       "    <tr>\n",
       "      <th>9</th>\n",
       "      <td>ياريتك ملبي النداء يايوسف وفاكنا</td>\n",
       "      <td>Basbosah</td>\n",
       "      <td>East - مملكتي</td>\n",
       "    </tr>\n",
       "    <tr>\n",
       "      <th>10</th>\n",
       "      <td>ممكن ابوها عنده زهايمر ونسى انه زوجها طيب هي عادي عندها 🤔</td>\n",
       "      <td>Basbosah</td>\n",
       "      <td>East - مملكتي</td>\n",
       "    </tr>\n",
       "    <tr>\n",
       "      <th>11</th>\n",
       "      <td>سألني صديق أوروبي ماهو أكبر إنجاز سعودي في فقلت له (وعي الشعب السعودي🇸🇦...</td>\n",
       "      <td>Basbosah</td>\n",
       "      <td>East - مملكتي</td>\n",
       "    </tr>\n",
       "    <tr>\n",
       "      <th>12</th>\n",
       "      <td>انثبر إنت آخر من يتكلم عن الحلال والحرام ياخي ماتحس انك مررره مفصخ ومتع...</td>\n",
       "      <td>Basbosah</td>\n",
       "      <td>East - مملكتي</td>\n",
       "    </tr>\n",
       "    <tr>\n",
       "      <th>13</th>\n",
       "      <td>ترى يعني مو لهالدرجه السينما ممتعه يعني لما اروح البحرين ما اروحها لأن ...</td>\n",
       "      <td>Basbosah</td>\n",
       "      <td>East - مملكتي</td>\n",
       "    </tr>\n",
       "    <tr>\n",
       "      <th>14</th>\n",
       "      <td>يوم اشتهوا نفضوا العواميه بالشرقيه وشالوا الاحياء شيل وضبطوها فليه ماتس...</td>\n",
       "      <td>Basbosah</td>\n",
       "      <td>East - مملكتي</td>\n",
       "    </tr>\n",
       "    <tr>\n",
       "      <th>17</th>\n",
       "      <td>تتميز الجماهير بسرعة انفعالهم وإنصهار الأفراد في عاطفة مشتركة تقضي على ...</td>\n",
       "      <td>Basbosah</td>\n",
       "      <td>East - مملكتي</td>\n",
       "    </tr>\n",
       "    <tr>\n",
       "      <th>18</th>\n",
       "      <td>كلام يصف الحاله بالضبط رغم ان المردود عليه مبلكني مدري مين</td>\n",
       "      <td>Basbosah</td>\n",
       "      <td>East - مملكتي</td>\n",
       "    </tr>\n",
       "    <tr>\n",
       "      <th>19</th>\n",
       "      <td>مافيه تناقض هي تحط مقاطع من سنابها هنا زي ماهي وهاذي مجرد صوره للعرض اع...</td>\n",
       "      <td>Basbosah</td>\n",
       "      <td>East - مملكتي</td>\n",
       "    </tr>\n",
       "    <tr>\n",
       "      <th>20</th>\n",
       "      <td>خساره ليتها جايه الشرقيه مررره ودي احضر واسمع هالصوت الحلو 🤗🤗🤗 شكرا هيئ...</td>\n",
       "      <td>Basbosah</td>\n",
       "      <td>East - مملكتي</td>\n",
       "    </tr>\n",
       "    <tr>\n",
       "      <th>21</th>\n",
       "      <td>اقول كنك متحمس واجد</td>\n",
       "      <td>Basbosah</td>\n",
       "      <td>East - مملكتي</td>\n",
       "    </tr>\n",
       "    <tr>\n",
       "      <th>22</th>\n",
       "      <td>معليش هذا يبيله ساحه يطرد فيها حاشرينه وطاقته مكبله بالمساحه البسيطه ال...</td>\n",
       "      <td>Basbosah</td>\n",
       "      <td>East - مملكتي</td>\n",
       "    </tr>\n",
       "    <tr>\n",
       "      <th>23</th>\n",
       "      <td>اليوم الأول سنقطع العلاقات مع أسرائيل اليوم الثاني قد نقطع العلاقات الي...</td>\n",
       "      <td>Basbosah</td>\n",
       "      <td>East - مملكتي</td>\n",
       "    </tr>\n",
       "    <tr>\n",
       "      <th>24</th>\n",
       "      <td>مو هاذي بالبحرين</td>\n",
       "      <td>Basbosah</td>\n",
       "      <td>East - مملكتي</td>\n",
       "    </tr>\n",
       "    <tr>\n",
       "      <th>25</th>\n",
       "      <td>هيرد يقولك طب اطردوا السفير الاسرائيلي من السعودية طب مش لما يبقى في سف...</td>\n",
       "      <td>Basbosah</td>\n",
       "      <td>East - مملكتي</td>\n",
       "    </tr>\n",
       "    <tr>\n",
       "      <th>26</th>\n",
       "      <td>أكثر من مليون مصلي فلسطيني في يوم الجمعة قاموا بسب وشتم الملك عبدالله ب...</td>\n",
       "      <td>Basbosah</td>\n",
       "      <td>East - مملكتي</td>\n",
       "    </tr>\n",
       "    <tr>\n",
       "      <th>27</th>\n",
       "      <td>ما احب الحسابات اللي كوبي بيست وعايشين جو غيرهم ابي ناس كذا تكتب وتتفاع...</td>\n",
       "      <td>Basbosah</td>\n",
       "      <td>East - مملكتي</td>\n",
       "    </tr>\n",
       "    <tr>\n",
       "      <th>28</th>\n",
       "      <td>عناصر مسلحة عرفوا عن نفسهم بأنهم و السلام وقالوا انهم على نهج في جنوب ل...</td>\n",
       "      <td>Basbosah</td>\n",
       "      <td>East - مملكتي</td>\n",
       "    </tr>\n",
       "    <tr>\n",
       "      <th>29</th>\n",
       "      <td>صباح الخير صباح الدفا والنوم 🤗</td>\n",
       "      <td>Basbosah</td>\n",
       "      <td>East - مملكتي</td>\n",
       "    </tr>\n",
       "    <tr>\n",
       "      <th>30</th>\n",
       "      <td>تعقيبي على تصريحات أردوغان لست متعودا على تلقي المحاضرات عن الأخلاق من ...</td>\n",
       "      <td>Basbosah</td>\n",
       "      <td>East - مملكتي</td>\n",
       "    </tr>\n",
       "    <tr>\n",
       "      <th>31</th>\n",
       "      <td>خلال الاسبوع الماضي فقط نشرت قناة التابعة ل الحمدين ( تقرير ومقال ضد ( ...</td>\n",
       "      <td>Basbosah</td>\n",
       "      <td>East - مملكتي</td>\n",
       "    </tr>\n",
       "    <tr>\n",
       "      <th>32</th>\n",
       "      <td>دايم اللامنتمي لما يشبع مايحمد يتجبر</td>\n",
       "      <td>Basbosah</td>\n",
       "      <td>East - مملكتي</td>\n",
       "    </tr>\n",
       "    <tr>\n",
       "      <th>...</th>\n",
       "      <td>...</td>\n",
       "      <td>...</td>\n",
       "      <td>...</td>\n",
       "    </tr>\n",
       "    <tr>\n",
       "      <th>3143</th>\n",
       "      <td>طبعا الاهلي بيماطل</td>\n",
       "      <td>Basbosah</td>\n",
       "      <td>East - مملكتي</td>\n",
       "    </tr>\n",
       "    <tr>\n",
       "      <th>3144</th>\n",
       "      <td>بس عشر ليه مرتشي مثلاً هذا خطط لارهاب وقتل مع الاصرار والتعمد</td>\n",
       "      <td>Basbosah</td>\n",
       "      <td>East - مملكتي</td>\n",
       "    </tr>\n",
       "    <tr>\n",
       "      <th>3145</th>\n",
       "      <td>موب هذا الخطيب اللي قالوا قتل غدرا مدري مات مختنق بحريق بمنزله حسب سوال...</td>\n",
       "      <td>Basbosah</td>\n",
       "      <td>East - مملكتي</td>\n",
       "    </tr>\n",
       "    <tr>\n",
       "      <th>3146</th>\n",
       "      <td>جوك الموسوسين 🤣🤣🤣</td>\n",
       "      <td>Basbosah</td>\n",
       "      <td>East - مملكتي</td>\n",
       "    </tr>\n",
       "    <tr>\n",
       "      <th>3147</th>\n",
       "      <td>لا ارجوك بطبخه وآكله ووه يلعن ابليسك اشتهيت ربيان 🤤🤤</td>\n",
       "      <td>Basbosah</td>\n",
       "      <td>East - مملكتي</td>\n",
       "    </tr>\n",
       "    <tr>\n",
       "      <th>3148</th>\n",
       "      <td>فضيحة مدوية لـ \"قطر\" في البرلمان الأوروبي ومراسل الجزيرة عثمان آي فرح ف...</td>\n",
       "      <td>Basbosah</td>\n",
       "      <td>East - مملكتي</td>\n",
       "    </tr>\n",
       "    <tr>\n",
       "      <th>3149</th>\n",
       "      <td>قصبن تصدق عشان كلمة قصبن والله محد فاتح شي 🤣🤣🤣</td>\n",
       "      <td>Basbosah</td>\n",
       "      <td>East - مملكتي</td>\n",
       "    </tr>\n",
       "    <tr>\n",
       "      <th>3150</th>\n",
       "      <td>عندنا وعندكم خير</td>\n",
       "      <td>Basbosah</td>\n",
       "      <td>East - مملكتي</td>\n",
       "    </tr>\n",
       "    <tr>\n",
       "      <th>3151</th>\n",
       "      <td>هذا وجهه والا فلتر سوري مدري وش جاني ‍️‍️‍️</td>\n",
       "      <td>Basbosah</td>\n",
       "      <td>East - مملكتي</td>\n",
       "    </tr>\n",
       "    <tr>\n",
       "      <th>3153</th>\n",
       "      <td>في السابعة من مساء اليوم الاربعاء قناة نيوز تبث فيلما وثائقيا عن في هجم...</td>\n",
       "      <td>Basbosah</td>\n",
       "      <td>East - مملكتي</td>\n",
       "    </tr>\n",
       "    <tr>\n",
       "      <th>3154</th>\n",
       "      <td>المحكمة العليا تؤيد حكم (القتل تعزيرا بحق ( خائنا تجسسوا وارتبطوا وتخاب...</td>\n",
       "      <td>Basbosah</td>\n",
       "      <td>East - مملكتي</td>\n",
       "    </tr>\n",
       "    <tr>\n",
       "      <th>3155</th>\n",
       "      <td>مايصير ياخي تبشرنا بحسابك كل يوم بالدرجات العاليه للجو ️ وتسوي دعايه لأ...</td>\n",
       "      <td>Basbosah</td>\n",
       "      <td>East - مملكتي</td>\n",
       "    </tr>\n",
       "    <tr>\n",
       "      <th>3156</th>\n",
       "      <td>المبدعان عبد الحسين عبد الرضا وحياة الفهد في مشاهد لم ترونها عندما يغلب...</td>\n",
       "      <td>Basbosah</td>\n",
       "      <td>East - مملكتي</td>\n",
       "    </tr>\n",
       "    <tr>\n",
       "      <th>3157</th>\n",
       "      <td>والله مانقصنا ولابتزيدنا السواقه شي يوم نعتبرها عيب ونشيل هم سخرية العا...</td>\n",
       "      <td>Basbosah</td>\n",
       "      <td>East - مملكتي</td>\n",
       "    </tr>\n",
       "    <tr>\n",
       "      <th>3158</th>\n",
       "      <td>اقول احذف حسابك ياملعون الجدف انت ماتستحق تتكلم باسم الشعب السعودي بطلت...</td>\n",
       "      <td>Basbosah</td>\n",
       "      <td>East - مملكتي</td>\n",
       "    </tr>\n",
       "    <tr>\n",
       "      <th>3159</th>\n",
       "      <td>انت وش حارك اذا ذوقك باين من الصوره اللي انت حاطه 🤢اكيد بتقهرك الوطنيه ...</td>\n",
       "      <td>Basbosah</td>\n",
       "      <td>East - مملكتي</td>\n",
       "    </tr>\n",
       "    <tr>\n",
       "      <th>3160</th>\n",
       "      <td>يختي يماني مروح غرقوه فلوس عشان يخون ديرته وربعه وتبينهم مايعطون ربم اه...</td>\n",
       "      <td>Basbosah</td>\n",
       "      <td>East - مملكتي</td>\n",
       "    </tr>\n",
       "    <tr>\n",
       "      <th>3161</th>\n",
       "      <td>افااا تخرفن الرخمه</td>\n",
       "      <td>Basbosah</td>\n",
       "      <td>East - مملكتي</td>\n",
       "    </tr>\n",
       "    <tr>\n",
       "      <th>3162</th>\n",
       "      <td>انا ساكنة في القطيف والان سأضع رأسي على وسادتي وسأنام مطمئنة لأنني اعلم...</td>\n",
       "      <td>Basbosah</td>\n",
       "      <td>East - مملكتي</td>\n",
       "    </tr>\n",
       "    <tr>\n",
       "      <th>3163</th>\n",
       "      <td>مع اني قطيفية بس ياعسكرنا اذا ما طهرتوا القطيف من هالفيران ترى بيجينا ي...</td>\n",
       "      <td>Basbosah</td>\n",
       "      <td>East - مملكتي</td>\n",
       "    </tr>\n",
       "    <tr>\n",
       "      <th>3164</th>\n",
       "      <td>سكان العواميه ساعدو كثيرا بالابلاغ عن الاشخاص الارهابيين الذين يهددون ا...</td>\n",
       "      <td>Basbosah</td>\n",
       "      <td>East - مملكتي</td>\n",
       "    </tr>\n",
       "    <tr>\n",
       "      <th>3165</th>\n",
       "      <td>عزف العود يطرب ، وكل مانسنس عود فقط</td>\n",
       "      <td>Basbosah</td>\n",
       "      <td>East - مملكتي</td>\n",
       "    </tr>\n",
       "    <tr>\n",
       "      <th>3167</th>\n",
       "      <td>هذا اللي ماودكم لو كبر 🤕</td>\n",
       "      <td>Basbosah</td>\n",
       "      <td>East - مملكتي</td>\n",
       "    </tr>\n",
       "    <tr>\n",
       "      <th>3171</th>\n",
       "      <td>🤗 …</td>\n",
       "      <td>Basbosah</td>\n",
       "      <td>East - مملكتي</td>\n",
       "    </tr>\n",
       "    <tr>\n",
       "      <th>3177</th>\n",
       "      <td>نجتمع تحت المكيف</td>\n",
       "      <td>Basbosah</td>\n",
       "      <td>East - مملكتي</td>\n",
       "    </tr>\n",
       "    <tr>\n",
       "      <th>3178</th>\n",
       "      <td>منعونه البطله</td>\n",
       "      <td>Basbosah</td>\n",
       "      <td>East - مملكتي</td>\n",
       "    </tr>\n",
       "    <tr>\n",
       "      <th>3179</th>\n",
       "      <td>ضحكة ملك</td>\n",
       "      <td>Basbosah</td>\n",
       "      <td>East - مملكتي</td>\n",
       "    </tr>\n",
       "    <tr>\n",
       "      <th>3180</th>\n",
       "      <td>( …</td>\n",
       "      <td>Basbosah</td>\n",
       "      <td>East - مملكتي</td>\n",
       "    </tr>\n",
       "    <tr>\n",
       "      <th>3181</th>\n",
       "      <td>اناملاحظه إن اخوتناالعرب مساندينابكل شي وبكل الاحداث وبكل المشاكل اللي ...</td>\n",
       "      <td>Basbosah</td>\n",
       "      <td>East - مملكتي</td>\n",
       "    </tr>\n",
       "    <tr>\n",
       "      <th>3182</th>\n",
       "      <td>شف ابتسامات المعجبين وراه</td>\n",
       "      <td>Basbosah</td>\n",
       "      <td>East - مملكتي</td>\n",
       "    </tr>\n",
       "  </tbody>\n",
       "</table>\n",
       "<p>2705 rows × 3 columns</p>\n",
       "</div>"
      ],
      "text/plain": [
       "                                                                    cleaned_text  \\\n",
       "0                                                          فديت اهل الإمارات 🤗🤗🤗   \n",
       "1                         تخيلي مليار نسمة وتحبيلك واحد ياختي اقل حاجة حبي عشرين   \n",
       "2     استقبل بشار الأسد اليوم الرئيس الروسي بوتن بدا كل شيء طبيعي ولكن رواد و...   \n",
       "3                                                                        برررررد   \n",
       "4                                                                           🤗🤗🤗🤗   \n",
       "5     في السعوديه زمان حنا نشوف بعض الدول العربيه متحررين بزود وهم ينظرون لنف...   \n",
       "7                                               ههههههههه الزيت 🤣🤣🤣روح تزحلق فيه   \n",
       "8     شوفوا الملعنه جايزتن له وهو مسبب لها الحزن وقاعد يتغزل بدموعها اللي نزل...   \n",
       "9                                               ياريتك ملبي النداء يايوسف وفاكنا   \n",
       "10                     ممكن ابوها عنده زهايمر ونسى انه زوجها طيب هي عادي عندها 🤔   \n",
       "11    سألني صديق أوروبي ماهو أكبر إنجاز سعودي في فقلت له (وعي الشعب السعودي🇸🇦...   \n",
       "12    انثبر إنت آخر من يتكلم عن الحلال والحرام ياخي ماتحس انك مررره مفصخ ومتع...   \n",
       "13    ترى يعني مو لهالدرجه السينما ممتعه يعني لما اروح البحرين ما اروحها لأن ...   \n",
       "14    يوم اشتهوا نفضوا العواميه بالشرقيه وشالوا الاحياء شيل وضبطوها فليه ماتس...   \n",
       "17    تتميز الجماهير بسرعة انفعالهم وإنصهار الأفراد في عاطفة مشتركة تقضي على ...   \n",
       "18                    كلام يصف الحاله بالضبط رغم ان المردود عليه مبلكني مدري مين   \n",
       "19    مافيه تناقض هي تحط مقاطع من سنابها هنا زي ماهي وهاذي مجرد صوره للعرض اع...   \n",
       "20    خساره ليتها جايه الشرقيه مررره ودي احضر واسمع هالصوت الحلو 🤗🤗🤗 شكرا هيئ...   \n",
       "21                                                           اقول كنك متحمس واجد   \n",
       "22    معليش هذا يبيله ساحه يطرد فيها حاشرينه وطاقته مكبله بالمساحه البسيطه ال...   \n",
       "23    اليوم الأول سنقطع العلاقات مع أسرائيل اليوم الثاني قد نقطع العلاقات الي...   \n",
       "24                                                              مو هاذي بالبحرين   \n",
       "25    هيرد يقولك طب اطردوا السفير الاسرائيلي من السعودية طب مش لما يبقى في سف...   \n",
       "26    أكثر من مليون مصلي فلسطيني في يوم الجمعة قاموا بسب وشتم الملك عبدالله ب...   \n",
       "27    ما احب الحسابات اللي كوبي بيست وعايشين جو غيرهم ابي ناس كذا تكتب وتتفاع...   \n",
       "28    عناصر مسلحة عرفوا عن نفسهم بأنهم و السلام وقالوا انهم على نهج في جنوب ل...   \n",
       "29                                                صباح الخير صباح الدفا والنوم 🤗   \n",
       "30    تعقيبي على تصريحات أردوغان لست متعودا على تلقي المحاضرات عن الأخلاق من ...   \n",
       "31    خلال الاسبوع الماضي فقط نشرت قناة التابعة ل الحمدين ( تقرير ومقال ضد ( ...   \n",
       "32                                          دايم اللامنتمي لما يشبع مايحمد يتجبر   \n",
       "...                                                                          ...   \n",
       "3143                                                          طبعا الاهلي بيماطل   \n",
       "3144               بس عشر ليه مرتشي مثلاً هذا خطط لارهاب وقتل مع الاصرار والتعمد   \n",
       "3145  موب هذا الخطيب اللي قالوا قتل غدرا مدري مات مختنق بحريق بمنزله حسب سوال...   \n",
       "3146                                                           جوك الموسوسين 🤣🤣🤣   \n",
       "3147                        لا ارجوك بطبخه وآكله ووه يلعن ابليسك اشتهيت ربيان 🤤🤤   \n",
       "3148  فضيحة مدوية لـ \"قطر\" في البرلمان الأوروبي ومراسل الجزيرة عثمان آي فرح ف...   \n",
       "3149                              قصبن تصدق عشان كلمة قصبن والله محد فاتح شي 🤣🤣🤣   \n",
       "3150                                                            عندنا وعندكم خير   \n",
       "3151                                 هذا وجهه والا فلتر سوري مدري وش جاني ‍️‍️‍️   \n",
       "3153  في السابعة من مساء اليوم الاربعاء قناة نيوز تبث فيلما وثائقيا عن في هجم...   \n",
       "3154  المحكمة العليا تؤيد حكم (القتل تعزيرا بحق ( خائنا تجسسوا وارتبطوا وتخاب...   \n",
       "3155  مايصير ياخي تبشرنا بحسابك كل يوم بالدرجات العاليه للجو ️ وتسوي دعايه لأ...   \n",
       "3156  المبدعان عبد الحسين عبد الرضا وحياة الفهد في مشاهد لم ترونها عندما يغلب...   \n",
       "3157  والله مانقصنا ولابتزيدنا السواقه شي يوم نعتبرها عيب ونشيل هم سخرية العا...   \n",
       "3158  اقول احذف حسابك ياملعون الجدف انت ماتستحق تتكلم باسم الشعب السعودي بطلت...   \n",
       "3159  انت وش حارك اذا ذوقك باين من الصوره اللي انت حاطه 🤢اكيد بتقهرك الوطنيه ...   \n",
       "3160  يختي يماني مروح غرقوه فلوس عشان يخون ديرته وربعه وتبينهم مايعطون ربم اه...   \n",
       "3161                                                          افااا تخرفن الرخمه   \n",
       "3162  انا ساكنة في القطيف والان سأضع رأسي على وسادتي وسأنام مطمئنة لأنني اعلم...   \n",
       "3163  مع اني قطيفية بس ياعسكرنا اذا ما طهرتوا القطيف من هالفيران ترى بيجينا ي...   \n",
       "3164  سكان العواميه ساعدو كثيرا بالابلاغ عن الاشخاص الارهابيين الذين يهددون ا...   \n",
       "3165                                         عزف العود يطرب ، وكل مانسنس عود فقط   \n",
       "3167                                                    هذا اللي ماودكم لو كبر 🤕   \n",
       "3171                                                                         🤗 …   \n",
       "3177                                                            نجتمع تحت المكيف   \n",
       "3178                                                               منعونه البطله   \n",
       "3179                                                                    ضحكة ملك   \n",
       "3180                                                                         ( …   \n",
       "3181  اناملاحظه إن اخوتناالعرب مساندينابكل شي وبكل الاحداث وبكل المشاكل اللي ...   \n",
       "3182                                                   شف ابتسامات المعجبين وراه   \n",
       "\n",
       "     cleaned_name    cleaned_geo  \n",
       "0        Basbosah  East - مملكتي  \n",
       "1        Basbosah  East - مملكتي  \n",
       "2        Basbosah  East - مملكتي  \n",
       "3        Basbosah  East - مملكتي  \n",
       "4        Basbosah  East - مملكتي  \n",
       "5        Basbosah  East - مملكتي  \n",
       "7        Basbosah  East - مملكتي  \n",
       "8        Basbosah  East - مملكتي  \n",
       "9        Basbosah  East - مملكتي  \n",
       "10       Basbosah  East - مملكتي  \n",
       "11       Basbosah  East - مملكتي  \n",
       "12       Basbosah  East - مملكتي  \n",
       "13       Basbosah  East - مملكتي  \n",
       "14       Basbosah  East - مملكتي  \n",
       "17       Basbosah  East - مملكتي  \n",
       "18       Basbosah  East - مملكتي  \n",
       "19       Basbosah  East - مملكتي  \n",
       "20       Basbosah  East - مملكتي  \n",
       "21       Basbosah  East - مملكتي  \n",
       "22       Basbosah  East - مملكتي  \n",
       "23       Basbosah  East - مملكتي  \n",
       "24       Basbosah  East - مملكتي  \n",
       "25       Basbosah  East - مملكتي  \n",
       "26       Basbosah  East - مملكتي  \n",
       "27       Basbosah  East - مملكتي  \n",
       "28       Basbosah  East - مملكتي  \n",
       "29       Basbosah  East - مملكتي  \n",
       "30       Basbosah  East - مملكتي  \n",
       "31       Basbosah  East - مملكتي  \n",
       "32       Basbosah  East - مملكتي  \n",
       "...           ...            ...  \n",
       "3143     Basbosah  East - مملكتي  \n",
       "3144     Basbosah  East - مملكتي  \n",
       "3145     Basbosah  East - مملكتي  \n",
       "3146     Basbosah  East - مملكتي  \n",
       "3147     Basbosah  East - مملكتي  \n",
       "3148     Basbosah  East - مملكتي  \n",
       "3149     Basbosah  East - مملكتي  \n",
       "3150     Basbosah  East - مملكتي  \n",
       "3151     Basbosah  East - مملكتي  \n",
       "3153     Basbosah  East - مملكتي  \n",
       "3154     Basbosah  East - مملكتي  \n",
       "3155     Basbosah  East - مملكتي  \n",
       "3156     Basbosah  East - مملكتي  \n",
       "3157     Basbosah  East - مملكتي  \n",
       "3158     Basbosah  East - مملكتي  \n",
       "3159     Basbosah  East - مملكتي  \n",
       "3160     Basbosah  East - مملكتي  \n",
       "3161     Basbosah  East - مملكتي  \n",
       "3162     Basbosah  East - مملكتي  \n",
       "3163     Basbosah  East - مملكتي  \n",
       "3164     Basbosah  East - مملكتي  \n",
       "3165     Basbosah  East - مملكتي  \n",
       "3167     Basbosah  East - مملكتي  \n",
       "3171     Basbosah  East - مملكتي  \n",
       "3177     Basbosah  East - مملكتي  \n",
       "3178     Basbosah  East - مملكتي  \n",
       "3179     Basbosah  East - مملكتي  \n",
       "3180     Basbosah  East - مملكتي  \n",
       "3181     Basbosah  East - مملكتي  \n",
       "3182     Basbosah  East - مملكتي  \n",
       "\n",
       "[2705 rows x 3 columns]"
      ]
     },
     "execution_count": 718,
     "metadata": {},
     "output_type": "execute_result"
    }
   ],
   "source": [
    "query_cleaned.fillna('None')"
   ]
  },
  {
   "cell_type": "code",
   "execution_count": 719,
   "metadata": {},
   "outputs": [
    {
     "name": "stdout",
     "output_type": "stream",
     "text": [
      "<class 'pandas.core.frame.DataFrame'>\n",
      "Int64Index: 2705 entries, 0 to 3182\n",
      "Data columns (total 3 columns):\n",
      "cleaned_text    2705 non-null object\n",
      "cleaned_name    2705 non-null object\n",
      "cleaned_geo     2705 non-null object\n",
      "dtypes: object(3)\n",
      "memory usage: 84.5+ KB\n"
     ]
    }
   ],
   "source": [
    "query_cleaned.info() "
   ]
  },
  {
   "cell_type": "markdown",
   "metadata": {},
   "source": [
    "### Consolidate different geo tags"
   ]
  },
  {
   "cell_type": "code",
   "execution_count": 720,
   "metadata": {},
   "outputs": [],
   "source": [
    "locations = {'Saudi Arabia': ['Kingdom of Saudi Arabia', 'MAKKAH', 'saudi arabia', 'jeddah', 'مكة المكرمة', 'المملكة العربية', 'Jeddah', 'Riyadh', 'المملكة العربية السعودية', 'الرياض, المملكة العربية السعودية', 'الرياض, المملكة العربية السعودية', 'jeddah , saudi arabia', 'الرياض', 'آلقصيم ، بريده', 'جدة, المملكة العربية السعودية', 'المدينة المنورة, المملكة العربية السعودية', 'Riyadh, Kingdom of Saudi Arabia', 'makkah - saudi arabia', 'جده', 'Dammam', 'Dammam, Eastern', 'Al Khobar, Kingdom of Saudi Arabia', 'الخبر, المملكة العربية السعودي', 'السعودية', 'القصيم', 'تبوك, المملكة العربية السعودية', 'جدة', 'الخفجي, المملكة العربية السعودية'],\n",
    "             'Kuwait': ['الكويت', 'Alkuwait', 'kuwait', 'KUWAIT', 'Kuwait , Salwa', 'Qortuba, Kuwait', 'دولة الكويت', 'العاصمه, دولة الكويت', 'The Capital, Kuwait', 'Al Salam, Kuwait', 'Salwa, Kuwait', 'كوكب الشرق - Kuwait', 'دولة الكويت-الفيحاء', 'Al Adailiya, Kuwait'],\n",
    "             'Egypt': ['Domiat, Egypt', 'Damitta', 'Alexandria, Egypt', 'Damitta-Egypt', 'Giza, Egypt', 'New damieta city', 'مصر', 'القاهرة, مصر', 'El Behera, Egypt', 'الجيزة, مصر', 'Elmansoura', 'El Menia, Egypt', 'El Qaliobia, Egypt', 'البحيرة, مصر', 'Domyat elgadeda', 'El Sharkia, Egypt', 'sharkia_fakous', 'Cairo, Egypt', 'Alexandria,Egypt', 'ELsharkia , Egypt', 'شمال سيناء, مصر', 'كفر الشيخ, مصر', 'Port Said, Egypt', 'Beni Suef, Egypt', 'القليوبية, مصر', 'بنها', 'Aswan', 'Beni Suef, Egypt', 'Zagazig,Egypt', 'Ismalia, Egypt', 'Kafr El Shikh, Egypt', 'القاهرة, مصر', 'البحيرة, مصر', 'live in q8 .. bas masrya', 'القاهرة, مصر', 'Domiat, Egypt', 'Alexandria, Egypt', 'Cairo, Egypt', 'El Menia', 'أسكندرية', 'Alexandria', 'tanta', 'giza,egypt', 'Giza Governorate, Egypt', 'Mansoura', 'Mansura,Egypt','المنوفية, مصر', 'مصر الاسكندرية','El Sharkia, Egypt', 'El Daqahlia, Egypt', 'Cairo -Egypt', 'Cairo , Egypt', 'Aswan, Egypt', 'Mansurah, Egypt', 'الأسكندرية, مصر', 'alexandria', 'الأقصر, مصر', 'Cairo', 'El Gharbia, Egypt', 'egypt', 'Mansoura,Egypt', 'Beni Suef, Egypt', 'Mansoura', 'El Daqahlia, Egypt', 'El Monofia, Egypt'],\n",
    "             'UAE': ['United Arab Emirates', 'Dubai, United Arab Emirates', 'Dubai'],\n",
    "             'Oman': ['سلطنة عمان', 'oman']\n",
    "            }"
   ]
  },
  {
   "cell_type": "code",
   "execution_count": 693,
   "metadata": {},
   "outputs": [
    {
     "data": {
      "text/plain": [
       "True"
      ]
     },
     "execution_count": 693,
     "metadata": {},
     "output_type": "execute_result"
    }
   ],
   "source": [
    "'MAKKAH' in list(locations.values())[0]"
   ]
  },
  {
   "cell_type": "code",
   "execution_count": 694,
   "metadata": {},
   "outputs": [
    {
     "data": {
      "text/plain": [
       "False"
      ]
     },
     "execution_count": 694,
     "metadata": {},
     "output_type": "execute_result"
    }
   ],
   "source": [
    "'MAKKAH' in list(locations.values())[1]"
   ]
  },
  {
   "cell_type": "code",
   "execution_count": 695,
   "metadata": {},
   "outputs": [
    {
     "data": {
      "text/plain": [
       "dict_values([['Kingdom of Saudi Arabia', 'MAKKAH', 'saudi arabia', 'jeddah', 'مكة المكرمة', 'المملكة العربية', 'Jeddah', 'Riyadh', 'المملكة العربية السعودية', 'الرياض, المملكة العربية السعودية', 'الرياض, المملكة العربية السعودية', 'jeddah , saudi arabia', 'الرياض', 'آلقصيم ، بريده', 'جدة, المملكة العربية السعودية', 'المدينة المنورة, المملكة العربية السعودية', 'Riyadh, Kingdom of Saudi Arabia', 'makkah - saudi arabia', 'جده', 'Dammam', 'Dammam, Eastern', 'Al Khobar, Kingdom of Saudi Arabia', 'الخبر, المملكة العربية السعودي', 'السعودية', 'القصيم', 'تبوك, المملكة العربية السعودية', 'جدة', 'الخفجي, المملكة العربية السعودية'], ['الكويت', 'Alkuwait', 'kuwait', 'KUWAIT', 'Kuwait , Salwa', 'Qortuba, Kuwait', 'دولة الكويت', 'العاصمه, دولة الكويت', 'The Capital, Kuwait', 'Al Salam, Kuwait', 'Salwa, Kuwait', 'كوكب الشرق - Kuwait', 'دولة الكويت-الفيحاء', 'Al Adailiya, Kuwait'], ['Domiat, Egypt', 'Damitta', 'Alexandria, Egypt', 'Damitta-Egypt', 'Giza, Egypt', 'New damieta city', 'مصر', 'القاهرة, مصر', 'El Behera, Egypt', 'الجيزة, مصر', 'Elmansoura', 'El Menia, Egypt', 'El Qaliobia, Egypt', 'البحيرة, مصر', 'Domyat elgadeda', 'El Sharkia, Egypt', 'sharkia_fakous', 'Cairo, Egypt', 'Alexandria,Egypt', 'ELsharkia , Egypt', 'شمال سيناء, مصر', 'كفر الشيخ, مصر', 'Port Said, Egypt', 'Beni Suef, Egypt', 'القليوبية, مصر', 'بنها', 'Aswan', 'Beni Suef, Egypt', 'Zagazig,Egypt', 'Ismalia, Egypt', 'Kafr El Shikh, Egypt', 'القاهرة, مصر', 'البحيرة, مصر', 'live in q8 .. bas masrya', 'القاهرة, مصر', 'Domiat, Egypt', 'Alexandria, Egypt', 'Cairo, Egypt', 'El Menia', 'أسكندرية', 'Alexandria', 'tanta', 'giza,egypt', 'Giza Governorate, Egypt', 'Mansoura', 'Mansura,Egypt', 'المنوفية, مصر', 'مصر الاسكندرية', 'El Sharkia, Egypt', 'El Daqahlia, Egypt', 'Cairo -Egypt', 'Cairo , Egypt', 'Aswan, Egypt', 'Mansurah, Egypt', 'الأسكندرية, مصر', 'alexandria', 'الأقصر, مصر', 'Cairo', 'El Gharbia, Egypt', 'egypt', 'Mansoura,Egypt', 'Beni Suef, Egypt', 'Mansoura', 'El Daqahlia, Egypt', 'El Monofia, Egypt'], ['United Arab Emirates', 'Dubai, United Arab Emirates', 'Dubai'], ['سلطنة عمان', 'oman']])"
      ]
     },
     "execution_count": 695,
     "metadata": {},
     "output_type": "execute_result"
    }
   ],
   "source": [
    "locations.values()"
   ]
  },
  {
   "cell_type": "code",
   "execution_count": 721,
   "metadata": {},
   "outputs": [],
   "source": [
    "for word in query_cleaned['cleaned_geo'].str.split('_'):\n",
    "    if word[0] in list(locations.values())[0]:\n",
    "        query_cleaned['cleaned_geo'].replace(word, 'Saudi Arabia', inplace=True)\n",
    "    elif word[0] in list(locations.values())[1]:\n",
    "            query_cleaned['cleaned_geo'].replace(word, 'Kuwait', inplace=True)\n",
    "    elif word[0] in list(locations.values())[2]:\n",
    "            query_cleaned['cleaned_geo'].replace(word, 'Egypt', inplace=True)\n",
    "    elif word[0] in list(locations.values())[3]:\n",
    "            query_cleaned['cleaned_geo'].replace(word, 'UAE', inplace=True)\n",
    "    else:\n",
    "        if word[0] in list(locations.values())[4]:\n",
    "            query_cleaned['cleaned_geo'].replace(word, 'Oman', inplace=True)"
   ]
  },
  {
   "cell_type": "code",
   "execution_count": 722,
   "metadata": {},
   "outputs": [
    {
     "data": {
      "text/html": [
       "<div>\n",
       "<table border=\"1\" class=\"dataframe\">\n",
       "  <thead>\n",
       "    <tr style=\"text-align: right;\">\n",
       "      <th></th>\n",
       "      <th>cleaned_text</th>\n",
       "      <th>cleaned_name</th>\n",
       "      <th>cleaned_geo</th>\n",
       "    </tr>\n",
       "  </thead>\n",
       "  <tbody>\n",
       "    <tr>\n",
       "      <th>2695</th>\n",
       "      <td>الوساطات الحقيقية لا تعلن والتصريحات المراد منها بطولة وانتشار لا قيمة لها</td>\n",
       "      <td>Basbosah</td>\n",
       "      <td>East - مملكتي</td>\n",
       "    </tr>\n",
       "    <tr>\n",
       "      <th>886</th>\n",
       "      <td>استقالة الحريري أقوى تحذير يوجه لحزب الله… آن الأوان للمخدوعين أن يقفزو...</td>\n",
       "      <td>Basbosah</td>\n",
       "      <td>East - مملكتي</td>\n",
       "    </tr>\n",
       "    <tr>\n",
       "      <th>882</th>\n",
       "      <td>لماذا الحب يستمر في الأفلام لأن الفيلم ساعتين بس</td>\n",
       "      <td>Basbosah</td>\n",
       "      <td>East - مملكتي</td>\n",
       "    </tr>\n",
       "    <tr>\n",
       "      <th>973</th>\n",
       "      <td>وفي مقابل هذا يدفع لصاحب السجل مبلغ مالي مقطوع شهري عن كل صيدلية يتم اف...</td>\n",
       "      <td>Basbosah</td>\n",
       "      <td>East - مملكتي</td>\n",
       "    </tr>\n",
       "    <tr>\n",
       "      <th>24</th>\n",
       "      <td>مو هاذي بالبحرين</td>\n",
       "      <td>Basbosah</td>\n",
       "      <td>East - مملكتي</td>\n",
       "    </tr>\n",
       "  </tbody>\n",
       "</table>\n",
       "</div>"
      ],
      "text/plain": [
       "                                                                    cleaned_text  \\\n",
       "2695  الوساطات الحقيقية لا تعلن والتصريحات المراد منها بطولة وانتشار لا قيمة لها   \n",
       "886   استقالة الحريري أقوى تحذير يوجه لحزب الله… آن الأوان للمخدوعين أن يقفزو...   \n",
       "882                             لماذا الحب يستمر في الأفلام لأن الفيلم ساعتين بس   \n",
       "973   وفي مقابل هذا يدفع لصاحب السجل مبلغ مالي مقطوع شهري عن كل صيدلية يتم اف...   \n",
       "24                                                              مو هاذي بالبحرين   \n",
       "\n",
       "     cleaned_name    cleaned_geo  \n",
       "2695     Basbosah  East - مملكتي  \n",
       "886      Basbosah  East - مملكتي  \n",
       "882      Basbosah  East - مملكتي  \n",
       "973      Basbosah  East - مملكتي  \n",
       "24       Basbosah  East - مملكتي  "
      ]
     },
     "execution_count": 722,
     "metadata": {},
     "output_type": "execute_result"
    }
   ],
   "source": [
    "query_cleaned.sample(5)"
   ]
  },
  {
   "cell_type": "markdown",
   "metadata": {},
   "source": [
    "### Pickle to conduct EDA in seperate notebook"
   ]
  },
  {
   "cell_type": "code",
   "execution_count": 723,
   "metadata": {},
   "outputs": [
    {
     "data": {
      "text/plain": [
       "'/home/jovyan/capstone-35/gulf_twitter_raw/gulf_timelines'"
      ]
     },
     "execution_count": 723,
     "metadata": {},
     "output_type": "execute_result"
    }
   ],
   "source": [
    "pwd"
   ]
  },
  {
   "cell_type": "code",
   "execution_count": 724,
   "metadata": {},
   "outputs": [
    {
     "name": "stdout",
     "output_type": "stream",
     "text": [
      "/home/jovyan/capstone-35/gulf_twitter_pickled\n"
     ]
    }
   ],
   "source": [
    "cd ../../gulf_twitter_pickled/"
   ]
  },
  {
   "cell_type": "code",
   "execution_count": 725,
   "metadata": {},
   "outputs": [],
   "source": [
    "query_cleaned.to_pickle('../gulf_twitter_pickled/user_timeline_Basbosah.p')"
   ]
  },
  {
   "cell_type": "code",
   "execution_count": null,
   "metadata": {},
   "outputs": [],
   "source": []
  }
 ],
 "metadata": {
  "kernelspec": {
   "display_name": "Python 3",
   "language": "python",
   "name": "python3"
  },
  "language_info": {
   "codemirror_mode": {
    "name": "ipython",
    "version": 3
   },
   "file_extension": ".py",
   "mimetype": "text/x-python",
   "name": "python",
   "nbconvert_exporter": "python",
   "pygments_lexer": "ipython3",
   "version": "3.6.3"
  }
 },
 "nbformat": 4,
 "nbformat_minor": 2
}
