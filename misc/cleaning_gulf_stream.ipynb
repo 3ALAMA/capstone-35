{
 "cells": [
  {
   "cell_type": "code",
   "execution_count": null,
   "metadata": {},
   "outputs": [],
   "source": [
    "#!pip install tweet-preprocessor"
   ]
  },
  {
   "cell_type": "code",
   "execution_count": 12,
   "metadata": {},
   "outputs": [],
   "source": [
    "import preprocessor as p\n",
    "import pandas as pd\n",
    "import json\n",
    "import re"
   ]
  },
  {
   "cell_type": "code",
   "execution_count": 11,
   "metadata": {},
   "outputs": [],
   "source": [
    "pd.options.display.max_colwidth = 75"
   ]
  },
  {
   "cell_type": "code",
   "execution_count": 410,
   "metadata": {
    "scrolled": false
   },
   "outputs": [
    {
     "data": {
      "text/plain": [
       "'/home/jovyan/capstone-35/gulf_twitter_pickled'"
      ]
     },
     "execution_count": 410,
     "metadata": {},
     "output_type": "execute_result"
    }
   ],
   "source": [
    "pwd"
   ]
  },
  {
   "cell_type": "code",
   "execution_count": 1,
   "metadata": {},
   "outputs": [
    {
     "name": "stdout",
     "output_type": "stream",
     "text": [
      "/home/jovyan/capstone-35/gulf_twitter_raw/gulf_timelines\n"
     ]
    }
   ],
   "source": [
    "cd ../gulf_twitter_raw/gulf_timelines/"
   ]
  },
  {
   "cell_type": "code",
   "execution_count": 2,
   "metadata": {},
   "outputs": [],
   "source": [
    "#cd ../gulf_twitter_raw"
   ]
  },
  {
   "cell_type": "code",
   "execution_count": 3,
   "metadata": {},
   "outputs": [
    {
     "name": "stdout",
     "output_type": "stream",
     "text": [
      "user_timeline_fhth2020.jsonl\r\n"
     ]
    }
   ],
   "source": [
    "ls"
   ]
  },
  {
   "cell_type": "markdown",
   "metadata": {},
   "source": [
    "### Turn query documents (tweets) into generators"
   ]
  },
  {
   "cell_type": "code",
   "execution_count": 5,
   "metadata": {},
   "outputs": [],
   "source": [
    "def load_tweets(file):\n",
    "    with open(file, 'r') as f:\n",
    "        tweets = (json.loads(line) for line in f.readlines())\n",
    "    return tweets"
   ]
  },
  {
   "cell_type": "code",
   "execution_count": 6,
   "metadata": {
    "scrolled": false
   },
   "outputs": [],
   "source": [
    "query_gen = load_tweets('user_timeline_fhth2020.jsonl')"
   ]
  },
  {
   "cell_type": "markdown",
   "metadata": {},
   "source": [
    "### Turn query generators into dataframes"
   ]
  },
  {
   "cell_type": "code",
   "execution_count": 7,
   "metadata": {},
   "outputs": [],
   "source": [
    "def tweet_to_df(tweets):\n",
    "    data = {'text': [], 'screen_name': [], 'geo': [],\n",
    "       }\n",
    "    \n",
    "    for t in tweets:\n",
    "    \n",
    "        data['text'].append(t['text'])\n",
    "        data['screen_name'].append(t['user']['screen_name'])\n",
    "        data['geo'].append(t['user']['location'])\n",
    "    \n",
    "    return pd.DataFrame(data)"
   ]
  },
  {
   "cell_type": "code",
   "execution_count": 13,
   "metadata": {},
   "outputs": [],
   "source": [
    "query_df = tweet_to_df(query_gen)"
   ]
  },
  {
   "cell_type": "code",
   "execution_count": 14,
   "metadata": {
    "scrolled": true
   },
   "outputs": [
    {
     "name": "stdout",
     "output_type": "stream",
     "text": [
      "<class 'pandas.core.frame.DataFrame'>\n",
      "RangeIndex: 0 entries\n",
      "Data columns (total 3 columns):\n",
      "geo            0 non-null float64\n",
      "screen_name    0 non-null float64\n",
      "text           0 non-null float64\n",
      "dtypes: float64(3)\n",
      "memory usage: 76.0 bytes\n"
     ]
    }
   ],
   "source": [
    "query_df.info() "
   ]
  },
  {
   "cell_type": "markdown",
   "metadata": {},
   "source": [
    "### Clean tweets (removes emojis, links, special characters, and ASCII chars/digits from tweet text)"
   ]
  },
  {
   "cell_type": "markdown",
   "metadata": {},
   "source": [
    "Using regular expressions such as `[0-9A-Za-z:&!/._?)؟'+-=—]` can filter out much of the unwanted data and retain Arabic characters but still seems to also retain a more recently released generation of emojis. Try updating tweet-preprocessor to version 0.5.0 or using another tweet processing package. \n",
    "\n",
    "Different scenarios will require different regex combinations. For example, the below approach wouldn't be of much use if you're building English dialect classifiers."
   ]
  },
  {
   "cell_type": "code",
   "execution_count": null,
   "metadata": {},
   "outputs": [],
   "source": [
    "def cleaner(message):\n",
    "    message = re.sub(\"([0-9A-Za-z:&!/._?)؟'+-=—])\", \" \", message)\n",
    "    return message"
   ]
  },
  {
   "cell_type": "code",
   "execution_count": 445,
   "metadata": {},
   "outputs": [],
   "source": [
    "cleaned_text = []\n",
    "\n",
    "for tweet in query_df['text']:\n",
    "    cleaned_text.append(p.clean(cleaner(tweet)))\n",
    "\n",
    "query_df['cleaned_text']=cleaned_text"
   ]
  },
  {
   "cell_type": "code",
   "execution_count": 446,
   "metadata": {},
   "outputs": [],
   "source": [
    "cleaned_name = []\n",
    "\n",
    "for tweet in query_df['screen_name']:\n",
    "    cleaned_name.append(p.clean(tweet))\n",
    "\n",
    "query_df['cleaned_name']=cleaned_name"
   ]
  },
  {
   "cell_type": "code",
   "execution_count": 447,
   "metadata": {},
   "outputs": [],
   "source": [
    "cleaned_geo = []\n",
    "\n",
    "for tweet in query_df.geo:\n",
    "    cleaned_geo.append(p.clean(str(tweet)))\n",
    "\n",
    "query_df['cleaned_geo']=cleaned_geo\n"
   ]
  },
  {
   "cell_type": "code",
   "execution_count": 448,
   "metadata": {},
   "outputs": [
    {
     "data": {
      "text/html": [
       "<div>\n",
       "<table border=\"1\" class=\"dataframe\">\n",
       "  <thead>\n",
       "    <tr style=\"text-align: right;\">\n",
       "      <th></th>\n",
       "      <th>geo</th>\n",
       "      <th>screen_name</th>\n",
       "      <th>text</th>\n",
       "      <th>cleaned_text</th>\n",
       "      <th>cleaned_name</th>\n",
       "      <th>cleaned_geo</th>\n",
       "    </tr>\n",
       "  </thead>\n",
       "  <tbody>\n",
       "    <tr>\n",
       "      <th>1431</th>\n",
       "      <td>اعتذر لا ابادل اقل من 10k ❌❌</td>\n",
       "      <td>ME__BROTHER</td>\n",
       "      <td>RT @AFkhamaa: تخفيضات حتى نهايه اليوم \\nمفرش شتوي ثقيل وراقي جدا \\nيتكو...</td>\n",
       "      <td>تخفيضات حتى نهايه اليوم مفرش شتوي ثقيل وراقي جدا يتكون من قطع لحاف مطرز...</td>\n",
       "      <td>ME__BROTHER</td>\n",
       "      <td>اعتذر لا ابادل اقل من k</td>\n",
       "    </tr>\n",
       "    <tr>\n",
       "      <th>572</th>\n",
       "      <td>UG</td>\n",
       "      <td>iii1la</td>\n",
       "      <td>RT @wexlo: بصير ثقيل وبرد متأخر يحسبوني ميت عليهم\\n12:00 : الوو\\n12:02 ...</td>\n",
       "      <td>بصير ثقيل وبرد متأخر يحسبوني ميت عليهم الوو عيونه</td>\n",
       "      <td>iii1la</td>\n",
       "      <td>UG</td>\n",
       "    </tr>\n",
       "    <tr>\n",
       "      <th>1134</th>\n",
       "      <td>الرياض</td>\n",
       "      <td>AMERTA_ANA</td>\n",
       "      <td>RT @a2e355d: ثقيل شعور الشوق ويهلك.. من ثقله كنه حجر يكتم أنفاسي.. 💜</td>\n",
       "      <td>ثقيل شعور الشوق ويهلك من ثقله كنه حجر يكتم أنفاسي</td>\n",
       "      <td>AMERTA_ANA</td>\n",
       "      <td>الرياض</td>\n",
       "    </tr>\n",
       "    <tr>\n",
       "      <th>2015</th>\n",
       "      <td>AL DABBOUS KINGDOM FAHAHEEL</td>\n",
       "      <td>akd_boshafi</td>\n",
       "      <td>ما يروح إلا الغبار مع مهب الريح \\nولا الذهب ثقيل مقامه</td>\n",
       "      <td>ما يروح إلا الغبار مع مهب الريح ولا الذهب ثقيل مقامه</td>\n",
       "      <td>akd_boshafi</td>\n",
       "      <td>AL DABBOUS KINGDOM FAHAHEEL</td>\n",
       "    </tr>\n",
       "  </tbody>\n",
       "</table>\n",
       "</div>"
      ],
      "text/plain": [
       "                               geo  screen_name  \\\n",
       "1431  اعتذر لا ابادل اقل من 10k ❌❌  ME__BROTHER   \n",
       "572                             UG       iii1la   \n",
       "1134                        الرياض   AMERTA_ANA   \n",
       "2015   AL DABBOUS KINGDOM FAHAHEEL  akd_boshafi   \n",
       "\n",
       "                                                                            text  \\\n",
       "1431  RT @AFkhamaa: تخفيضات حتى نهايه اليوم \\nمفرش شتوي ثقيل وراقي جدا \\nيتكو...   \n",
       "572   RT @wexlo: بصير ثقيل وبرد متأخر يحسبوني ميت عليهم\\n12:00 : الوو\\n12:02 ...   \n",
       "1134        RT @a2e355d: ثقيل شعور الشوق ويهلك.. من ثقله كنه حجر يكتم أنفاسي.. 💜   \n",
       "2015                      ما يروح إلا الغبار مع مهب الريح \\nولا الذهب ثقيل مقامه   \n",
       "\n",
       "                                                                    cleaned_text  \\\n",
       "1431  تخفيضات حتى نهايه اليوم مفرش شتوي ثقيل وراقي جدا يتكون من قطع لحاف مطرز...   \n",
       "572                            بصير ثقيل وبرد متأخر يحسبوني ميت عليهم الوو عيونه   \n",
       "1134                           ثقيل شعور الشوق ويهلك من ثقله كنه حجر يكتم أنفاسي   \n",
       "2015                        ما يروح إلا الغبار مع مهب الريح ولا الذهب ثقيل مقامه   \n",
       "\n",
       "     cleaned_name                  cleaned_geo  \n",
       "1431  ME__BROTHER      اعتذر لا ابادل اقل من k  \n",
       "572        iii1la                           UG  \n",
       "1134   AMERTA_ANA                       الرياض  \n",
       "2015  akd_boshafi  AL DABBOUS KINGDOM FAHAHEEL  "
      ]
     },
     "execution_count": 448,
     "metadata": {},
     "output_type": "execute_result"
    }
   ],
   "source": [
    "query_df.sample(4)"
   ]
  },
  {
   "cell_type": "markdown",
   "metadata": {},
   "source": [
    "### Remove duplicated tweets"
   ]
  },
  {
   "cell_type": "code",
   "execution_count": 449,
   "metadata": {},
   "outputs": [
    {
     "data": {
      "text/plain": [
       "346      True\n",
       "1516     True\n",
       "2049    False\n",
       "815      True\n",
       "3223     True\n",
       "Name: cleaned_text, dtype: bool"
      ]
     },
     "execution_count": 449,
     "metadata": {},
     "output_type": "execute_result"
    }
   ],
   "source": [
    "query_df['cleaned_text'].duplicated().sample(5)"
   ]
  },
  {
   "cell_type": "code",
   "execution_count": 450,
   "metadata": {},
   "outputs": [],
   "source": [
    "query_cleaned = query_df.drop_duplicates(['cleaned_text'], keep=False)\n",
    "query_cleaned = query_cleaned.drop(['screen_name', 'text', 'geo'], axis=1)"
   ]
  },
  {
   "cell_type": "code",
   "execution_count": 451,
   "metadata": {},
   "outputs": [
    {
     "data": {
      "text/html": [
       "<div>\n",
       "<table border=\"1\" class=\"dataframe\">\n",
       "  <thead>\n",
       "    <tr style=\"text-align: right;\">\n",
       "      <th></th>\n",
       "      <th>cleaned_text</th>\n",
       "      <th>cleaned_name</th>\n",
       "      <th>cleaned_geo</th>\n",
       "    </tr>\n",
       "  </thead>\n",
       "  <tbody>\n",
       "    <tr>\n",
       "      <th>1731</th>\n",
       "      <td>لا مو خفيف ثقيل دم</td>\n",
       "      <td>Ze</td>\n",
       "      <td>None</td>\n",
       "    </tr>\n",
       "    <tr>\n",
       "      <th>1205</th>\n",
       "      <td>ولا تجعلني يا الله ثقيل على قلب احد وابعدني عن من يتمنى بٌعدي حتى لو كا...</td>\n",
       "      <td>Shoog81325016</td>\n",
       "      <td>المملكة العربية السعودية</td>\n",
       "    </tr>\n",
       "    <tr>\n",
       "      <th>1053</th>\n",
       "      <td>اي خبره و افضليه على الموجودين مهما تواضعت مستوياتهم براعي مشاكل وكروت ...</td>\n",
       "      <td>_ibrahim_otaibi</td>\n",
       "      <td>قلب السعوديه ( نجد )</td>\n",
       "    </tr>\n",
       "    <tr>\n",
       "      <th>4203</th>\n",
       "      <td>استسلام شرطي مع رشاش ثقيل وكلاشنكوف للمجاهدين في خاص روزجان</td>\n",
       "      <td>alemara_ar</td>\n",
       "      <td>Afghanistan</td>\n",
       "    </tr>\n",
       "    <tr>\n",
       "      <th>4896</th>\n",
       "      <td>الآن يوجد تصدع في قلبي وتخدرفي إدراكي هذا الألم ثقيل جدآ تعال وأنظر لاط...</td>\n",
       "      <td>balshan5959</td>\n",
       "      <td>None</td>\n",
       "    </tr>\n",
       "  </tbody>\n",
       "</table>\n",
       "</div>"
      ],
      "text/plain": [
       "                                                                    cleaned_text  \\\n",
       "1731                                                          لا مو خفيف ثقيل دم   \n",
       "1205  ولا تجعلني يا الله ثقيل على قلب احد وابعدني عن من يتمنى بٌعدي حتى لو كا...   \n",
       "1053  اي خبره و افضليه على الموجودين مهما تواضعت مستوياتهم براعي مشاكل وكروت ...   \n",
       "4203                 استسلام شرطي مع رشاش ثقيل وكلاشنكوف للمجاهدين في خاص روزجان   \n",
       "4896  الآن يوجد تصدع في قلبي وتخدرفي إدراكي هذا الألم ثقيل جدآ تعال وأنظر لاط...   \n",
       "\n",
       "         cleaned_name               cleaned_geo  \n",
       "1731               Ze                      None  \n",
       "1205    Shoog81325016  المملكة العربية السعودية  \n",
       "1053  _ibrahim_otaibi      قلب السعوديه ( نجد )  \n",
       "4203       alemara_ar               Afghanistan  \n",
       "4896      balshan5959                      None  "
      ]
     },
     "execution_count": 451,
     "metadata": {},
     "output_type": "execute_result"
    }
   ],
   "source": [
    "query_cleaned.sample(5)"
   ]
  },
  {
   "cell_type": "code",
   "execution_count": 452,
   "metadata": {},
   "outputs": [
    {
     "data": {
      "text/html": [
       "<div>\n",
       "<table border=\"1\" class=\"dataframe\">\n",
       "  <thead>\n",
       "    <tr style=\"text-align: right;\">\n",
       "      <th></th>\n",
       "      <th>cleaned_text</th>\n",
       "      <th>cleaned_name</th>\n",
       "      <th>cleaned_geo</th>\n",
       "    </tr>\n",
       "  </thead>\n",
       "  <tbody>\n",
       "    <tr>\n",
       "      <th>14</th>\n",
       "      <td>تياقو نيفيز قال اول انا ماراح ارجع للهلال برونو صح لعيب لكنه ثقيل فابيو...</td>\n",
       "      <td>ii_as18</td>\n",
       "      <td>None</td>\n",
       "    </tr>\n",
       "    <tr>\n",
       "      <th>18</th>\n",
       "      <td>صباح الخير لكل الذين يعلمون أن الصبر ثقيل وأن الانتظار مرير وأن الكلام ...</td>\n",
       "      <td>A___aisha1</td>\n",
       "      <td>None</td>\n",
       "    </tr>\n",
       "    <tr>\n",
       "      <th>23</th>\n",
       "      <td>الحزن عبء ثقيل جدا</td>\n",
       "      <td>Alnshadii</td>\n",
       "      <td>None</td>\n",
       "    </tr>\n",
       "    <tr>\n",
       "      <th>24</th>\n",
       "      <td>ارحمنا يا الله لأننا لاندري ، وارحمنا مرة أخرى لأننا حين ندري لا نتمكن ...</td>\n",
       "      <td>al3nziwafa</td>\n",
       "      <td>نصفي دُفن مع أبي.</td>\n",
       "    </tr>\n",
       "    <tr>\n",
       "      <th>47</th>\n",
       "      <td>طبعي ثقيل واعشق الثقل والزين واحب اوصل شيء صعبٍ وصوله</td>\n",
       "      <td>m7aamadd</td>\n",
       "      <td>Manchester, Kuwait</td>\n",
       "    </tr>\n",
       "    <tr>\n",
       "      <th>66</th>\n",
       "      <td>ارحمنا يا الله لأننا لاندري، وارحمنا مرة أخرى لأننا حين ندري لا نتمكن، ...</td>\n",
       "      <td>alkhelagitoma</td>\n",
       "      <td>جدة, مكة المكرمة</td>\n",
       "    </tr>\n",
       "    <tr>\n",
       "      <th>74</th>\n",
       "      <td>ü ı وهل بعد حديثك يااسيدي سأسعدبحديث غيره حديثنا الجميل بكأس شاي ثقيل و...</td>\n",
       "      <td>Q860Gala</td>\n",
       "      <td>دولة الكويت 🇰🇼</td>\n",
       "    </tr>\n",
       "    <tr>\n",
       "      <th>77</th>\n",
       "      <td>الهادي شفت سنابات زوجها وحامت كبدي ثقيل دم مدري كيف متحملته وكل شوي انا...</td>\n",
       "      <td>Sarah_MH6</td>\n",
       "      <td>None</td>\n",
       "    </tr>\n",
       "    <tr>\n",
       "      <th>81</th>\n",
       "      <td>تكون السعوديه في اهل الجنوب ليل الشتاء مايشبه الا شعوري بارد ، ثقيل وكل...</td>\n",
       "      <td>S7</td>\n",
       "      <td>يارب انك ترحم أمي️</td>\n",
       "    </tr>\n",
       "    <tr>\n",
       "      <th>85</th>\n",
       "      <td>ليا مرني اسمه افز وانا اللي طبعي ثقيل يابري حالي حبيته بكل ماانخلقت من ...</td>\n",
       "      <td>fayez_585</td>\n",
       "      <td>None</td>\n",
       "    </tr>\n",
       "    <tr>\n",
       "      <th>89</th>\n",
       "      <td>تكثر في فصل الشتاء الجلطات مشاكل الباطنية خاصة القولون السكته القلبية ا...</td>\n",
       "      <td>axaxaxvv</td>\n",
       "      <td>المملكة العربية السعودية</td>\n",
       "    </tr>\n",
       "    <tr>\n",
       "      <th>96</th>\n",
       "      <td>اللهم اعدّم كل شعور ثقيل على صدري</td>\n",
       "      <td>athary_ath</td>\n",
       "      <td>None</td>\n",
       "    </tr>\n",
       "    <tr>\n",
       "      <th>97</th>\n",
       "      <td>بس جد احسه بيكون ثقيل دم</td>\n",
       "      <td>Nfbof</td>\n",
       "      <td>None</td>\n",
       "    </tr>\n",
       "    <tr>\n",
       "      <th>101</th>\n",
       "      <td>عجبني جداً ولا استطيع الإنكار إنه فيلم يحمل أفكار تدعو للتفكير والمناقش...</td>\n",
       "      <td>BenelAamer</td>\n",
       "      <td>None</td>\n",
       "    </tr>\n",
       "    <tr>\n",
       "      <th>102</th>\n",
       "      <td>المشكله هو سعودي و برى السعودية و مصورها حاطها ستوري وللحين موجودة الحم...</td>\n",
       "      <td>_iiturki_</td>\n",
       "      <td>None</td>\n",
       "    </tr>\n",
       "    <tr>\n",
       "      <th>119</th>\n",
       "      <td>اسامحك على ايش انا اقول احس انك ثقيل دم (عطيتك احساسي ت…</td>\n",
       "      <td>wah0bi</td>\n",
       "      <td>None</td>\n",
       "    </tr>\n",
       "    <tr>\n",
       "      <th>136</th>\n",
       "      <td>يالله بحمل ثقيل ويالله بكتف يشله الضعيفة لأهلها وأنا على الضلع اتهايا ك...</td>\n",
       "      <td>LabaaRakaan</td>\n",
       "      <td>kuwait</td>\n",
       "    </tr>\n",
       "    <tr>\n",
       "      <th>137</th>\n",
       "      <td>بعض الناس الواحد مايدري هو نشبه لما يهتم ليهم لو ثقيل دم لما مايهتم ليه...</td>\n",
       "      <td>L0oly98</td>\n",
       "      <td>القطيف</td>\n",
       "    </tr>\n",
       "    <tr>\n",
       "      <th>138</th>\n",
       "      <td>الله يديم لنا الصوت اللي اول مانسمعه نحس كل شيء ثقيل على قلوبنا فجأة اخ...</td>\n",
       "      <td>Najla</td>\n",
       "      <td>saudi arabia,Qatar</td>\n",
       "    </tr>\n",
       "    <tr>\n",
       "      <th>139</th>\n",
       "      <td>الله لايجعلني وجع لأحد،ولايبقيني بحياة شخص شايفني حمل ثقيل عليه،يارب أب...</td>\n",
       "      <td>xiix935</td>\n",
       "      <td>تبوك, المملكة العربية السعودية</td>\n",
       "    </tr>\n",
       "    <tr>\n",
       "      <th>147</th>\n",
       "      <td>هههههه صج مخطووبه طلعتي هنياله فيييج والله لو يعرفلج جان زين بس لا يصير...</td>\n",
       "      <td>f7lq8q</td>\n",
       "      <td>None</td>\n",
       "    </tr>\n",
       "    <tr>\n",
       "      <th>149</th>\n",
       "      <td>ارحمنا يا الله لأننا لاندري وارحمنا مرة أخرى لأننا حين ندري لا نتمكن وا...</td>\n",
       "      <td>_Mi921</td>\n",
       "      <td>Dammam, Saudi Arabia</td>\n",
       "    </tr>\n",
       "    <tr>\n",
       "      <th>151</th>\n",
       "      <td>القلب حين يكون مليئاً بالحب قريباً ممن يُحِب يبقيك دافئ جداً كمعطف ثقيل...</td>\n",
       "      <td>_sz</td>\n",
       "      <td>None</td>\n",
       "    </tr>\n",
       "    <tr>\n",
       "      <th>153</th>\n",
       "      <td>تباهى بي ترا غيرك يطق بابي ولاني راضي افتح له تباهى بحبي واعجابي ترا قل...</td>\n",
       "      <td>wejdan_F3</td>\n",
       "      <td></td>\n",
       "    </tr>\n",
       "    <tr>\n",
       "      <th>154</th>\n",
       "      <td>دمك ثقيل</td>\n",
       "      <td>KahledRashdi</td>\n",
       "      <td>جدة, مكة المكرمة</td>\n",
       "    </tr>\n",
       "    <tr>\n",
       "      <th>155</th>\n",
       "      <td>يعجبني الشخص إللي مايخليك تندم على المبادرة بالتواصل معاه، ردة فعله الح...</td>\n",
       "      <td>slamy_124</td>\n",
       "      <td>دبي, الامارات العربية المتحدة</td>\n",
       "    </tr>\n",
       "    <tr>\n",
       "      <th>158</th>\n",
       "      <td>اكره الولد اللي مسوي نفسه ثقيل وهو بالخاص متسدح عند بنت اكره الولد اللي...</td>\n",
       "      <td>miiix_11</td>\n",
       "      <td>None</td>\n",
       "    </tr>\n",
       "    <tr>\n",
       "      <th>174</th>\n",
       "      <td>انت قبلة المسلمين وقائد الامه الاسلاميه ، لذا فالحمل ثقيل والمسؤلية كبي...</td>\n",
       "      <td>lrashed16</td>\n",
       "      <td>None</td>\n",
       "    </tr>\n",
       "    <tr>\n",
       "      <th>175</th>\n",
       "      <td>لا صار شفك بعيد ومحزمك فاضي والوقت حمله ثقيل وعلته عله لا تلتفت في حساي...</td>\n",
       "      <td>Flow279</td>\n",
       "      <td>مكتفيه قروبات</td>\n",
       "    </tr>\n",
       "    <tr>\n",
       "      <th>183</th>\n",
       "      <td>قلبي لغيرك ثقيل وصعب يهُوى</td>\n",
       "      <td>qc1919</td>\n",
       "      <td>None</td>\n",
       "    </tr>\n",
       "    <tr>\n",
       "      <th>...</th>\n",
       "      <td>...</td>\n",
       "      <td>...</td>\n",
       "      <td>...</td>\n",
       "    </tr>\n",
       "    <tr>\n",
       "      <th>5920</th>\n",
       "      <td>كلام مسؤول ، عارف ببواطن الأمور و تفاصيلها ، الوقت أمامكم و تاريخ الشبا...</td>\n",
       "      <td>A_alfugaier</td>\n",
       "      <td>Kingdom of Saudi Arabia</td>\n",
       "    </tr>\n",
       "    <tr>\n",
       "      <th>5937</th>\n",
       "      <td>لو تدري شكثر الوقت ثقيل من دونك 🥀</td>\n",
       "      <td>viivl0</td>\n",
       "      <td>Dammam</td>\n",
       "    </tr>\n",
       "    <tr>\n",
       "      <th>5943</th>\n",
       "      <td>لأصحاب الوزن الزائد اذا البحر بعيد يمكنك استخدام حوض السباحة لأن ينزل ا...</td>\n",
       "      <td>IBRAHIMKALBAWI2</td>\n",
       "      <td>None</td>\n",
       "    </tr>\n",
       "    <tr>\n",
       "      <th>5945</th>\n",
       "      <td>مساء الخير للجميع يكثر في فصل الشتاء الجلطات مشاكل الباطنية خاصة القولو...</td>\n",
       "      <td>p_xgu9</td>\n",
       "      <td>المملكة العربية السعودية</td>\n",
       "    </tr>\n",
       "    <tr>\n",
       "      <th>5952</th>\n",
       "      <td>الكرامة حملها ثقيل لكنها هي مايبقيك على الأرض فالعيش بدونها أشبه بأن تك...</td>\n",
       "      <td>CloudNov</td>\n",
       "      <td>None</td>\n",
       "    </tr>\n",
       "    <tr>\n",
       "      <th>5974</th>\n",
       "      <td>برونو ثقيل الْيَوْمَ</td>\n",
       "      <td>alqareeh</td>\n",
       "      <td>None</td>\n",
       "    </tr>\n",
       "    <tr>\n",
       "      <th>5976</th>\n",
       "      <td>الذ علاقه ممكن تعيشها، تحب شخص ثقيل قوي مع غيرك ، وطفل وضعيف معاك</td>\n",
       "      <td>aishabdulla33</td>\n",
       "      <td>/alfailkawei</td>\n",
       "    </tr>\n",
       "    <tr>\n",
       "      <th>5982</th>\n",
       "      <td>من جد ثقيل والاخلاق صفر</td>\n",
       "      <td>jack59242687</td>\n",
       "      <td>None</td>\n",
       "    </tr>\n",
       "    <tr>\n",
       "      <th>5988</th>\n",
       "      <td>لمه انسان يضيفك وتقدره وتضيفه بس مع الوقت تحس انك ثقيل شتسوي</td>\n",
       "      <td>HROOFALREEEM</td>\n",
       "      <td>نفسي</td>\n",
       "    </tr>\n",
       "    <tr>\n",
       "      <th>5995</th>\n",
       "      <td>ككل مساء ثقيل ، أخرج وحدي إلى الليل أجر خلفي صوتي وذاكرتي وصندوق أحزاني</td>\n",
       "      <td>sham_dream</td>\n",
       "      <td>None</td>\n",
       "    </tr>\n",
       "    <tr>\n",
       "      <th>5998</th>\n",
       "      <td>مدري متى بستوعب واحس ان خلاص الشتاء دخل والبس ثقيل بالبيت، لابسة خفييف ...</td>\n",
       "      <td>raabd8</td>\n",
       "      <td>None</td>\n",
       "    </tr>\n",
       "    <tr>\n",
       "      <th>6011</th>\n",
       "      <td>رساله من الواتساب | يكثر في فصل الجلطات مشاكل الباطنية خاصة القولون الس...</td>\n",
       "      <td>Bo_Yousef9</td>\n",
       "      <td>Kuwait , HalaMadrid y Nada Más</td>\n",
       "    </tr>\n",
       "    <tr>\n",
       "      <th>6019</th>\n",
       "      <td>عرفتي ان مزحك ثقيل هيا لاعاد تمزحين</td>\n",
       "      <td>xneyad</td>\n",
       "      <td>STARLING,CITY</td>\n",
       "    </tr>\n",
       "    <tr>\n",
       "      <th>6022</th>\n",
       "      <td>المستفز بالموضوع انو البنت حقيقي حقيقي سنابتها اقل من البايخة كل شوي بس...</td>\n",
       "      <td>iarwakf</td>\n",
       "      <td>Artist Animation</td>\n",
       "    </tr>\n",
       "    <tr>\n",
       "      <th>6034</th>\n",
       "      <td>المقاومة تطلق النار من سلاح ثقيل على طائرات الاحتلال بشمال غزة عاصمه فل...</td>\n",
       "      <td>malikakoki2</td>\n",
       "      <td>Algérie</td>\n",
       "    </tr>\n",
       "    <tr>\n",
       "      <th>6037</th>\n",
       "      <td>أوضح له إني اللي يسويه غلط لذالك أوضح له وأبين له انن مزحه الثقيل ياذي ...</td>\n",
       "      <td>Z508Z</td>\n",
       "      <td>ربي اجعلني مباركاً اينما كنت</td>\n",
       "    </tr>\n",
       "    <tr>\n",
       "      <th>6043</th>\n",
       "      <td>كن خفيف النفس لا خفيف العقل وكن ثقيل الاخلاق لا ثقيل الدم هكذا هي الحيا...</td>\n",
       "      <td>b6h_66</td>\n",
       "      <td>كلنا للوطن 🇸🇦</td>\n",
       "    </tr>\n",
       "    <tr>\n",
       "      <th>6044</th>\n",
       "      <td>الفتح إلى الان لم يقابل النصر فريق ثقيل فنيا عشان نحكم عليه الرائد والا...</td>\n",
       "      <td>fawaz__alsaeed</td>\n",
       "      <td>Makkah</td>\n",
       "    </tr>\n",
       "    <tr>\n",
       "      <th>6048</th>\n",
       "      <td>أسوي له مقلب ثقيل وخليه يحس بلي يسويه</td>\n",
       "      <td>almagdiking</td>\n",
       "      <td>None</td>\n",
       "    </tr>\n",
       "    <tr>\n",
       "      <th>6051</th>\n",
       "      <td>الا طرالي بس مسوي ثقيل</td>\n",
       "      <td>Lv____q8</td>\n",
       "      <td>لعبتي</td>\n",
       "    </tr>\n",
       "    <tr>\n",
       "      <th>6052</th>\n",
       "      <td>الوقت ثقيل جدا</td>\n",
       "      <td>r2s4_</td>\n",
       "      <td>HalaMadrid</td>\n",
       "    </tr>\n",
       "    <tr>\n",
       "      <th>6064</th>\n",
       "      <td>عافيه وزن ثقيل عليج طلب بالشتا🤣🤣🤣</td>\n",
       "      <td>BeeeZan6Y</td>\n",
       "      <td>None</td>\n",
       "    </tr>\n",
       "    <tr>\n",
       "      <th>6082</th>\n",
       "      <td>اللهم عونك اذا بات كُل شي ثقيل</td>\n",
       "      <td>xncc</td>\n",
       "      <td>:58:00</td>\n",
       "    </tr>\n",
       "    <tr>\n",
       "      <th>6088</th>\n",
       "      <td>انصحه انه مب كويس وبعدين اجرب عليه مقلب ثقيل عشان يحس بغيره ويتأكد انه ...</td>\n",
       "      <td>_nehal_FF</td>\n",
       "      <td>المملكة العربية السعودية</td>\n",
       "    </tr>\n",
       "    <tr>\n",
       "      <th>6096</th>\n",
       "      <td>طبعي ثقيل واعشق الثقل والزين واحب اوصل شئ صعبن وصوله وماني من اللي باله...</td>\n",
       "      <td>Sk4EsDTKaGknM1</td>\n",
       "      <td>None</td>\n",
       "    </tr>\n",
       "    <tr>\n",
       "      <th>6106</th>\n",
       "      <td>بدر طارق ما يلعب اساسي العازمي كبير محمد الفهد ثقيل الرشيدي ما اعرفه</td>\n",
       "      <td>daif1975</td>\n",
       "      <td>بومحمد</td>\n",
       "    </tr>\n",
       "    <tr>\n",
       "      <th>6110</th>\n",
       "      <td>ملعب النصر مليان مساحات محتاجين القادسيه مهاجم سريع يتمركز بالثلث الاخي...</td>\n",
       "      <td>Azozi_nasser502</td>\n",
       "      <td>كل ما هو جميل</td>\n",
       "    </tr>\n",
       "    <tr>\n",
       "      <th>6115</th>\n",
       "      <td>ليل الشتاء ما يشّبه إلا شعُوري بارد ، ثقيل ، وكل مافيه هـادي</td>\n",
       "      <td>alhajri_22q</td>\n",
       "      <td>None</td>\n",
       "    </tr>\n",
       "    <tr>\n",
       "      <th>6121</th>\n",
       "      <td>بتوجعني تلميحات سخيفه عننا السودانين اننا ناس دجل وشعوذه وزي البقولو عن...</td>\n",
       "      <td>hudatalha2015</td>\n",
       "      <td>Canda, Veneto</td>\n",
       "    </tr>\n",
       "    <tr>\n",
       "      <th>6126</th>\n",
       "      <td>مزحه ثقيل شوي</td>\n",
       "      <td>no_op0</td>\n",
       "      <td>WITH THE UNICORNS 🦄⭐️</td>\n",
       "    </tr>\n",
       "  </tbody>\n",
       "</table>\n",
       "<p>912 rows × 3 columns</p>\n",
       "</div>"
      ],
      "text/plain": [
       "                                                                    cleaned_text  \\\n",
       "14    تياقو نيفيز قال اول انا ماراح ارجع للهلال برونو صح لعيب لكنه ثقيل فابيو...   \n",
       "18    صباح الخير لكل الذين يعلمون أن الصبر ثقيل وأن الانتظار مرير وأن الكلام ...   \n",
       "23                                                            الحزن عبء ثقيل جدا   \n",
       "24    ارحمنا يا الله لأننا لاندري ، وارحمنا مرة أخرى لأننا حين ندري لا نتمكن ...   \n",
       "47                         طبعي ثقيل واعشق الثقل والزين واحب اوصل شيء صعبٍ وصوله   \n",
       "66    ارحمنا يا الله لأننا لاندري، وارحمنا مرة أخرى لأننا حين ندري لا نتمكن، ...   \n",
       "74    ü ı وهل بعد حديثك يااسيدي سأسعدبحديث غيره حديثنا الجميل بكأس شاي ثقيل و...   \n",
       "77    الهادي شفت سنابات زوجها وحامت كبدي ثقيل دم مدري كيف متحملته وكل شوي انا...   \n",
       "81    تكون السعوديه في اهل الجنوب ليل الشتاء مايشبه الا شعوري بارد ، ثقيل وكل...   \n",
       "85    ليا مرني اسمه افز وانا اللي طبعي ثقيل يابري حالي حبيته بكل ماانخلقت من ...   \n",
       "89    تكثر في فصل الشتاء الجلطات مشاكل الباطنية خاصة القولون السكته القلبية ا...   \n",
       "96                                             اللهم اعدّم كل شعور ثقيل على صدري   \n",
       "97                                                      بس جد احسه بيكون ثقيل دم   \n",
       "101   عجبني جداً ولا استطيع الإنكار إنه فيلم يحمل أفكار تدعو للتفكير والمناقش...   \n",
       "102   المشكله هو سعودي و برى السعودية و مصورها حاطها ستوري وللحين موجودة الحم...   \n",
       "119                     اسامحك على ايش انا اقول احس انك ثقيل دم (عطيتك احساسي ت…   \n",
       "136   يالله بحمل ثقيل ويالله بكتف يشله الضعيفة لأهلها وأنا على الضلع اتهايا ك...   \n",
       "137   بعض الناس الواحد مايدري هو نشبه لما يهتم ليهم لو ثقيل دم لما مايهتم ليه...   \n",
       "138   الله يديم لنا الصوت اللي اول مانسمعه نحس كل شيء ثقيل على قلوبنا فجأة اخ...   \n",
       "139   الله لايجعلني وجع لأحد،ولايبقيني بحياة شخص شايفني حمل ثقيل عليه،يارب أب...   \n",
       "147   هههههه صج مخطووبه طلعتي هنياله فيييج والله لو يعرفلج جان زين بس لا يصير...   \n",
       "149   ارحمنا يا الله لأننا لاندري وارحمنا مرة أخرى لأننا حين ندري لا نتمكن وا...   \n",
       "151   القلب حين يكون مليئاً بالحب قريباً ممن يُحِب يبقيك دافئ جداً كمعطف ثقيل...   \n",
       "153   تباهى بي ترا غيرك يطق بابي ولاني راضي افتح له تباهى بحبي واعجابي ترا قل...   \n",
       "154                                                                     دمك ثقيل   \n",
       "155   يعجبني الشخص إللي مايخليك تندم على المبادرة بالتواصل معاه، ردة فعله الح...   \n",
       "158   اكره الولد اللي مسوي نفسه ثقيل وهو بالخاص متسدح عند بنت اكره الولد اللي...   \n",
       "174   انت قبلة المسلمين وقائد الامه الاسلاميه ، لذا فالحمل ثقيل والمسؤلية كبي...   \n",
       "175   لا صار شفك بعيد ومحزمك فاضي والوقت حمله ثقيل وعلته عله لا تلتفت في حساي...   \n",
       "183                                                   قلبي لغيرك ثقيل وصعب يهُوى   \n",
       "...                                                                          ...   \n",
       "5920  كلام مسؤول ، عارف ببواطن الأمور و تفاصيلها ، الوقت أمامكم و تاريخ الشبا...   \n",
       "5937                                           لو تدري شكثر الوقت ثقيل من دونك 🥀   \n",
       "5943  لأصحاب الوزن الزائد اذا البحر بعيد يمكنك استخدام حوض السباحة لأن ينزل ا...   \n",
       "5945  مساء الخير للجميع يكثر في فصل الشتاء الجلطات مشاكل الباطنية خاصة القولو...   \n",
       "5952  الكرامة حملها ثقيل لكنها هي مايبقيك على الأرض فالعيش بدونها أشبه بأن تك...   \n",
       "5974                                                        برونو ثقيل الْيَوْمَ   \n",
       "5976           الذ علاقه ممكن تعيشها، تحب شخص ثقيل قوي مع غيرك ، وطفل وضعيف معاك   \n",
       "5982                                                     من جد ثقيل والاخلاق صفر   \n",
       "5988                لمه انسان يضيفك وتقدره وتضيفه بس مع الوقت تحس انك ثقيل شتسوي   \n",
       "5995     ككل مساء ثقيل ، أخرج وحدي إلى الليل أجر خلفي صوتي وذاكرتي وصندوق أحزاني   \n",
       "5998  مدري متى بستوعب واحس ان خلاص الشتاء دخل والبس ثقيل بالبيت، لابسة خفييف ...   \n",
       "6011  رساله من الواتساب | يكثر في فصل الجلطات مشاكل الباطنية خاصة القولون الس...   \n",
       "6019                                         عرفتي ان مزحك ثقيل هيا لاعاد تمزحين   \n",
       "6022  المستفز بالموضوع انو البنت حقيقي حقيقي سنابتها اقل من البايخة كل شوي بس...   \n",
       "6034  المقاومة تطلق النار من سلاح ثقيل على طائرات الاحتلال بشمال غزة عاصمه فل...   \n",
       "6037  أوضح له إني اللي يسويه غلط لذالك أوضح له وأبين له انن مزحه الثقيل ياذي ...   \n",
       "6043  كن خفيف النفس لا خفيف العقل وكن ثقيل الاخلاق لا ثقيل الدم هكذا هي الحيا...   \n",
       "6044  الفتح إلى الان لم يقابل النصر فريق ثقيل فنيا عشان نحكم عليه الرائد والا...   \n",
       "6048                                       أسوي له مقلب ثقيل وخليه يحس بلي يسويه   \n",
       "6051                                                      الا طرالي بس مسوي ثقيل   \n",
       "6052                                                              الوقت ثقيل جدا   \n",
       "6064                                           عافيه وزن ثقيل عليج طلب بالشتا🤣🤣🤣   \n",
       "6082                                              اللهم عونك اذا بات كُل شي ثقيل   \n",
       "6088  انصحه انه مب كويس وبعدين اجرب عليه مقلب ثقيل عشان يحس بغيره ويتأكد انه ...   \n",
       "6096  طبعي ثقيل واعشق الثقل والزين واحب اوصل شئ صعبن وصوله وماني من اللي باله...   \n",
       "6106        بدر طارق ما يلعب اساسي العازمي كبير محمد الفهد ثقيل الرشيدي ما اعرفه   \n",
       "6110  ملعب النصر مليان مساحات محتاجين القادسيه مهاجم سريع يتمركز بالثلث الاخي...   \n",
       "6115                ليل الشتاء ما يشّبه إلا شعُوري بارد ، ثقيل ، وكل مافيه هـادي   \n",
       "6121  بتوجعني تلميحات سخيفه عننا السودانين اننا ناس دجل وشعوذه وزي البقولو عن...   \n",
       "6126                                                               مزحه ثقيل شوي   \n",
       "\n",
       "         cleaned_name                     cleaned_geo  \n",
       "14            ii_as18                            None  \n",
       "18         A___aisha1                            None  \n",
       "23          Alnshadii                            None  \n",
       "24         al3nziwafa               نصفي دُفن مع أبي.  \n",
       "47           m7aamadd              Manchester, Kuwait  \n",
       "66      alkhelagitoma                جدة, مكة المكرمة  \n",
       "74           Q860Gala                  دولة الكويت 🇰🇼  \n",
       "77          Sarah_MH6                            None  \n",
       "81                 S7              يارب انك ترحم أمي️  \n",
       "85          fayez_585                            None  \n",
       "89           axaxaxvv        المملكة العربية السعودية  \n",
       "96         athary_ath                            None  \n",
       "97              Nfbof                            None  \n",
       "101        BenelAamer                            None  \n",
       "102         _iiturki_                            None  \n",
       "119            wah0bi                            None  \n",
       "136       LabaaRakaan                          kuwait  \n",
       "137           L0oly98                          القطيف  \n",
       "138             Najla              saudi arabia,Qatar  \n",
       "139           xiix935  تبوك, المملكة العربية السعودية  \n",
       "147            f7lq8q                            None  \n",
       "149            _Mi921            Dammam, Saudi Arabia  \n",
       "151               _sz                            None  \n",
       "153         wejdan_F3                                  \n",
       "154      KahledRashdi                جدة, مكة المكرمة  \n",
       "155         slamy_124   دبي, الامارات العربية المتحدة  \n",
       "158          miiix_11                            None  \n",
       "174         lrashed16                            None  \n",
       "175           Flow279                   مكتفيه قروبات  \n",
       "183            qc1919                            None  \n",
       "...               ...                             ...  \n",
       "5920      A_alfugaier         Kingdom of Saudi Arabia  \n",
       "5937           viivl0                          Dammam  \n",
       "5943  IBRAHIMKALBAWI2                            None  \n",
       "5945           p_xgu9        المملكة العربية السعودية  \n",
       "5952         CloudNov                            None  \n",
       "5974         alqareeh                            None  \n",
       "5976    aishabdulla33                    /alfailkawei  \n",
       "5982     jack59242687                            None  \n",
       "5988     HROOFALREEEM                            نفسي  \n",
       "5995       sham_dream                            None  \n",
       "5998           raabd8                            None  \n",
       "6011       Bo_Yousef9  Kuwait , HalaMadrid y Nada Más  \n",
       "6019           xneyad                   STARLING,CITY  \n",
       "6022          iarwakf                Artist Animation  \n",
       "6034      malikakoki2                         Algérie  \n",
       "6037            Z508Z    ربي اجعلني مباركاً اينما كنت  \n",
       "6043           b6h_66                   كلنا للوطن 🇸🇦  \n",
       "6044   fawaz__alsaeed                          Makkah  \n",
       "6048      almagdiking                            None  \n",
       "6051         Lv____q8                           لعبتي  \n",
       "6052            r2s4_                      HalaMadrid  \n",
       "6064        BeeeZan6Y                            None  \n",
       "6082             xncc                          :58:00  \n",
       "6088        _nehal_FF        المملكة العربية السعودية  \n",
       "6096   Sk4EsDTKaGknM1                            None  \n",
       "6106         daif1975                          بومحمد  \n",
       "6110  Azozi_nasser502                   كل ما هو جميل  \n",
       "6115      alhajri_22q                            None  \n",
       "6121    hudatalha2015                   Canda, Veneto  \n",
       "6126           no_op0           WITH THE UNICORNS 🦄⭐️  \n",
       "\n",
       "[912 rows x 3 columns]"
      ]
     },
     "execution_count": 452,
     "metadata": {},
     "output_type": "execute_result"
    }
   ],
   "source": [
    "query_cleaned.fillna('None')"
   ]
  },
  {
   "cell_type": "code",
   "execution_count": 453,
   "metadata": {},
   "outputs": [
    {
     "name": "stdout",
     "output_type": "stream",
     "text": [
      "<class 'pandas.core.frame.DataFrame'>\n",
      "Int64Index: 912 entries, 14 to 6126\n",
      "Data columns (total 3 columns):\n",
      "cleaned_text    912 non-null object\n",
      "cleaned_name    912 non-null object\n",
      "cleaned_geo     912 non-null object\n",
      "dtypes: object(3)\n",
      "memory usage: 28.5+ KB\n"
     ]
    }
   ],
   "source": [
    "query_cleaned.info() "
   ]
  },
  {
   "cell_type": "markdown",
   "metadata": {},
   "source": [
    "### Consolidate different geo tags"
   ]
  },
  {
   "cell_type": "code",
   "execution_count": 454,
   "metadata": {},
   "outputs": [],
   "source": [
    "locations = {'Saudi Arabia': ['Kingdom of Saudi Arabia', 'MAKKAH', 'saudi arabia', 'jeddah', 'مكة المكرمة', 'المملكة العربية', 'Jeddah', 'Riyadh', 'المملكة العربية السعودية', 'الرياض, المملكة العربية السعودية', 'الرياض, المملكة العربية السعودية', 'jeddah , saudi arabia', 'الرياض', 'آلقصيم ، بريده', 'جدة, المملكة العربية السعودية', 'المدينة المنورة, المملكة العربية السعودية', 'Riyadh, Kingdom of Saudi Arabia', 'makkah - saudi arabia', 'جده', 'Dammam', 'Dammam, Eastern', 'Al Khobar, Kingdom of Saudi Arabia', 'الخبر, المملكة العربية السعودي', 'السعودية', 'القصيم', 'تبوك, المملكة العربية السعودية'],\n",
    "             'Kuwait': ['الكويت', 'Alkuwait', 'kuwait', 'KUWAIT', 'Kuwait , Salwa', 'Qortuba, Kuwait', 'دولة الكويت', 'العاصمه, دولة الكويت', 'The Capital, Kuwait', 'Al Salam, Kuwait', 'Salwa, Kuwait', 'كوكب الشرق - Kuwait', 'دولة الكويت-الفيحاء', 'Al Adailiya, Kuwait'],\n",
    "             'Egypt': ['Domiat, Egypt', 'Damitta', 'Alexandria, Egypt', 'Damitta-Egypt', 'Giza, Egypt', 'New damieta city', 'مصر', 'القاهرة, مصر', 'El Behera, Egypt', 'الجيزة, مصر', 'Elmansoura', 'El Menia, Egypt', 'El Qaliobia, Egypt', 'البحيرة, مصر', 'Domyat elgadeda', 'El Sharkia, Egypt', 'sharkia_fakous', 'Cairo, Egypt', 'Alexandria,Egypt', 'ELsharkia , Egypt', 'شمال سيناء, مصر', 'كفر الشيخ, مصر', 'Port Said, Egypt', 'Beni Suef, Egypt', 'القليوبية, مصر', 'بنها', 'Aswan', 'Beni Suef, Egypt', 'Zagazig,Egypt', 'Ismalia, Egypt', 'Kafr El Shikh, Egypt', 'القاهرة, مصر', 'البحيرة, مصر', 'live in q8 .. bas masrya', 'القاهرة, مصر', 'Domiat, Egypt', 'Alexandria, Egypt', 'Cairo, Egypt', 'El Menia', 'أسكندرية', 'Alexandria', 'tanta', 'giza,egypt', 'Giza Governorate, Egypt', 'Mansoura', 'Mansura,Egypt','المنوفية, مصر', 'مصر الاسكندرية','El Sharkia, Egypt', 'El Daqahlia, Egypt', 'Cairo -Egypt', 'Cairo , Egypt', 'Aswan, Egypt', 'Mansurah, Egypt', 'الأسكندرية, مصر', 'alexandria', 'الأقصر, مصر', 'Cairo', 'El Gharbia, Egypt', 'egypt', 'Mansoura,Egypt', 'Beni Suef, Egypt', 'Mansoura', 'El Daqahlia, Egypt', 'El Monofia, Egypt'],\n",
    "             'UAE': ['United Arab Emirates', 'Dubai, United Arab Emirates', 'Dubai']\n",
    "            }"
   ]
  },
  {
   "cell_type": "code",
   "execution_count": 455,
   "metadata": {},
   "outputs": [
    {
     "data": {
      "text/plain": [
       "True"
      ]
     },
     "execution_count": 455,
     "metadata": {},
     "output_type": "execute_result"
    }
   ],
   "source": [
    "'MAKKAH' in list(locations.values())[0]"
   ]
  },
  {
   "cell_type": "code",
   "execution_count": 456,
   "metadata": {},
   "outputs": [
    {
     "data": {
      "text/plain": [
       "False"
      ]
     },
     "execution_count": 456,
     "metadata": {},
     "output_type": "execute_result"
    }
   ],
   "source": [
    "'MAKKAH' in list(locations.values())[1]"
   ]
  },
  {
   "cell_type": "code",
   "execution_count": 457,
   "metadata": {},
   "outputs": [
    {
     "data": {
      "text/plain": [
       "dict_values([['Kingdom of Saudi Arabia', 'MAKKAH', 'saudi arabia', 'jeddah', 'مكة المكرمة', 'المملكة العربية', 'Jeddah', 'Riyadh', 'المملكة العربية السعودية', 'الرياض, المملكة العربية السعودية', 'الرياض, المملكة العربية السعودية', 'jeddah , saudi arabia', 'الرياض', 'آلقصيم ، بريده', 'جدة, المملكة العربية السعودية', 'المدينة المنورة, المملكة العربية السعودية', 'Riyadh, Kingdom of Saudi Arabia', 'makkah - saudi arabia', 'جده', 'Dammam', 'Dammam, Eastern', 'Al Khobar, Kingdom of Saudi Arabia', 'الخبر, المملكة العربية السعودي', 'السعودية', 'القصيم', 'تبوك, المملكة العربية السعودية'], ['الكويت', 'Alkuwait', 'kuwait', 'KUWAIT', 'Kuwait , Salwa', 'Qortuba, Kuwait', 'دولة الكويت', 'العاصمه, دولة الكويت', 'The Capital, Kuwait', 'Al Salam, Kuwait', 'Salwa, Kuwait', 'كوكب الشرق - Kuwait', 'دولة الكويت-الفيحاء', 'Al Adailiya, Kuwait'], ['Domiat, Egypt', 'Damitta', 'Alexandria, Egypt', 'Damitta-Egypt', 'Giza, Egypt', 'New damieta city', 'مصر', 'القاهرة, مصر', 'El Behera, Egypt', 'الجيزة, مصر', 'Elmansoura', 'El Menia, Egypt', 'El Qaliobia, Egypt', 'البحيرة, مصر', 'Domyat elgadeda', 'El Sharkia, Egypt', 'sharkia_fakous', 'Cairo, Egypt', 'Alexandria,Egypt', 'ELsharkia , Egypt', 'شمال سيناء, مصر', 'كفر الشيخ, مصر', 'Port Said, Egypt', 'Beni Suef, Egypt', 'القليوبية, مصر', 'بنها', 'Aswan', 'Beni Suef, Egypt', 'Zagazig,Egypt', 'Ismalia, Egypt', 'Kafr El Shikh, Egypt', 'القاهرة, مصر', 'البحيرة, مصر', 'live in q8 .. bas masrya', 'القاهرة, مصر', 'Domiat, Egypt', 'Alexandria, Egypt', 'Cairo, Egypt', 'El Menia', 'أسكندرية', 'Alexandria', 'tanta', 'giza,egypt', 'Giza Governorate, Egypt', 'Mansoura', 'Mansura,Egypt', 'المنوفية, مصر', 'مصر الاسكندرية', 'El Sharkia, Egypt', 'El Daqahlia, Egypt', 'Cairo -Egypt', 'Cairo , Egypt', 'Aswan, Egypt', 'Mansurah, Egypt', 'الأسكندرية, مصر', 'alexandria', 'الأقصر, مصر', 'Cairo', 'El Gharbia, Egypt', 'egypt', 'Mansoura,Egypt', 'Beni Suef, Egypt', 'Mansoura', 'El Daqahlia, Egypt', 'El Monofia, Egypt'], ['United Arab Emirates', 'Dubai, United Arab Emirates', 'Dubai']])"
      ]
     },
     "execution_count": 457,
     "metadata": {},
     "output_type": "execute_result"
    }
   ],
   "source": [
    "locations.values()"
   ]
  },
  {
   "cell_type": "code",
   "execution_count": 458,
   "metadata": {},
   "outputs": [],
   "source": [
    "for word in query_cleaned['cleaned_geo'].str.split('_'):\n",
    "    if word[0] in list(locations.values())[0]:\n",
    "        query_cleaned['cleaned_geo'].replace(word, 'Saudi Arabia', inplace=True)\n",
    "    elif word[0] in list(locations.values())[1]:\n",
    "            query_cleaned['cleaned_geo'].replace(word, 'Kuwait', inplace=True)\n",
    "    elif word[0] in list(locations.values())[2]:\n",
    "            query_cleaned['cleaned_geo'].replace(word, 'Egypt', inplace=True)\n",
    "    else:\n",
    "        if word[0] in list(locations.values())[3]:\n",
    "            query_cleaned['cleaned_geo'].replace(word, 'UAE', inplace=True)"
   ]
  },
  {
   "cell_type": "code",
   "execution_count": 463,
   "metadata": {},
   "outputs": [
    {
     "data": {
      "text/html": [
       "<div>\n",
       "<table border=\"1\" class=\"dataframe\">\n",
       "  <thead>\n",
       "    <tr style=\"text-align: right;\">\n",
       "      <th></th>\n",
       "      <th>cleaned_text</th>\n",
       "      <th>cleaned_name</th>\n",
       "      <th>cleaned_geo</th>\n",
       "    </tr>\n",
       "  </thead>\n",
       "  <tbody>\n",
       "    <tr>\n",
       "      <th>5456</th>\n",
       "      <td>\"من الأشياء المكروهه ان اكون ثقيل عليك ولم تخبرني بذلك\"</td>\n",
       "      <td>ma0997</td>\n",
       "      <td>أدخل الرابط واشبع فضولك</td>\n",
       "    </tr>\n",
       "    <tr>\n",
       "      <th>4369</th>\n",
       "      <td>بس ترا ماراح تستمر هالتشكيله اسينسو بيرجع دكه وايسكو بيرجع اساسي وبيرجع...</td>\n",
       "      <td>F_A__RMA</td>\n",
       "      <td>Kuwait</td>\n",
       "    </tr>\n",
       "    <tr>\n",
       "      <th>4659</th>\n",
       "      <td>في ناس يسوو انفولو مع كل تغريدة اكتبها ضد العنصرية او ضد التحرش او او ل...</td>\n",
       "      <td>fish_fash</td>\n",
       "      <td>Saudi Arabia</td>\n",
       "    </tr>\n",
       "    <tr>\n",
       "      <th>6106</th>\n",
       "      <td>بدر طارق ما يلعب اساسي العازمي كبير محمد الفهد ثقيل الرشيدي ما اعرفه</td>\n",
       "      <td>daif1975</td>\n",
       "      <td>بومحمد</td>\n",
       "    </tr>\n",
       "    <tr>\n",
       "      <th>835</th>\n",
       "      <td>فراش ثقيل ، طعام شهي ، شراب دافيء ، نوم هاديء ، أمن وأمان واطمئنان، فـ ...</td>\n",
       "      <td>mostafa_safan</td>\n",
       "      <td>بلاد الله خلق الله</td>\n",
       "    </tr>\n",
       "  </tbody>\n",
       "</table>\n",
       "</div>"
      ],
      "text/plain": [
       "                                                                    cleaned_text  \\\n",
       "5456                     \"من الأشياء المكروهه ان اكون ثقيل عليك ولم تخبرني بذلك\"   \n",
       "4369  بس ترا ماراح تستمر هالتشكيله اسينسو بيرجع دكه وايسكو بيرجع اساسي وبيرجع...   \n",
       "4659  في ناس يسوو انفولو مع كل تغريدة اكتبها ضد العنصرية او ضد التحرش او او ل...   \n",
       "6106        بدر طارق ما يلعب اساسي العازمي كبير محمد الفهد ثقيل الرشيدي ما اعرفه   \n",
       "835   فراش ثقيل ، طعام شهي ، شراب دافيء ، نوم هاديء ، أمن وأمان واطمئنان، فـ ...   \n",
       "\n",
       "       cleaned_name              cleaned_geo  \n",
       "5456         ma0997  أدخل الرابط واشبع فضولك  \n",
       "4369       F_A__RMA                   Kuwait  \n",
       "4659      fish_fash             Saudi Arabia  \n",
       "6106       daif1975                   بومحمد  \n",
       "835   mostafa_safan       بلاد الله خلق الله  "
      ]
     },
     "execution_count": 463,
     "metadata": {},
     "output_type": "execute_result"
    }
   ],
   "source": [
    "query_cleaned.sample(5)"
   ]
  },
  {
   "cell_type": "markdown",
   "metadata": {},
   "source": [
    "### Pickle to conduct EDA in seperate notebook"
   ]
  },
  {
   "cell_type": "code",
   "execution_count": 464,
   "metadata": {},
   "outputs": [
    {
     "data": {
      "text/plain": [
       "'/home/jovyan/capstone-35/gulf_twitter_raw'"
      ]
     },
     "execution_count": 464,
     "metadata": {},
     "output_type": "execute_result"
    }
   ],
   "source": [
    "pwd"
   ]
  },
  {
   "cell_type": "code",
   "execution_count": 466,
   "metadata": {},
   "outputs": [
    {
     "name": "stdout",
     "output_type": "stream",
     "text": [
      "/home/jovyan/capstone-35/gulf_twitter_pickled\n"
     ]
    }
   ],
   "source": [
    "cd ../gulf_twitter_pickled/"
   ]
  },
  {
   "cell_type": "code",
   "execution_count": 467,
   "metadata": {},
   "outputs": [],
   "source": [
    "query_cleaned.to_pickle('../gulf_twitter_pickled/stream_ثقيل.p')"
   ]
  },
  {
   "cell_type": "code",
   "execution_count": null,
   "metadata": {},
   "outputs": [],
   "source": []
  }
 ],
 "metadata": {
  "kernelspec": {
   "display_name": "Python 3",
   "language": "python",
   "name": "python3"
  },
  "language_info": {
   "codemirror_mode": {
    "name": "ipython",
    "version": 3
   },
   "file_extension": ".py",
   "mimetype": "text/x-python",
   "name": "python",
   "nbconvert_exporter": "python",
   "pygments_lexer": "ipython3",
   "version": "3.6.3"
  }
 },
 "nbformat": 4,
 "nbformat_minor": 2
}
