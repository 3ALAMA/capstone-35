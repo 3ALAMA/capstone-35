{
 "cells": [
  {
   "cell_type": "code",
   "execution_count": null,
   "metadata": {},
   "outputs": [],
   "source": [
    "!pip install tweet-preprocessor"
   ]
  },
  {
   "cell_type": "code",
   "execution_count": 1,
   "metadata": {},
   "outputs": [],
   "source": [
    "import preprocessor as p\n",
    "import pandas as pd\n",
    "import json\n",
    "import re"
   ]
  },
  {
   "cell_type": "code",
   "execution_count": 3,
   "metadata": {},
   "outputs": [],
   "source": [
    "pd.options.display.max_colwidth = 75"
   ]
  },
  {
   "cell_type": "markdown",
   "metadata": {},
   "source": [
    "### Turn query documents (tweets) into generators"
   ]
  },
  {
   "cell_type": "code",
   "execution_count": 2,
   "metadata": {},
   "outputs": [],
   "source": [
    "def load_tweets(file):\n",
    "    with open(file, 'r') as f:\n",
    "        tweets = (json.loads(line) for line in f.readlines())\n",
    "    return tweets"
   ]
  },
  {
   "cell_type": "code",
   "execution_count": 9,
   "metadata": {},
   "outputs": [
    {
     "name": "stdout",
     "output_type": "stream",
     "text": [
      "stream_ابخص.jsonl  stream_الطريج.jsonl  stream_خربز.jsonl  stream_مغسلة.jsonl\r\n"
     ]
    }
   ],
   "source": [
    "ls"
   ]
  },
  {
   "cell_type": "code",
   "execution_count": 50,
   "metadata": {
    "scrolled": false
   },
   "outputs": [],
   "source": [
    "query_gen = load_tweets('stream_الطريج.jsonl')"
   ]
  },
  {
   "cell_type": "markdown",
   "metadata": {},
   "source": [
    "### Turn query generators into dataframes"
   ]
  },
  {
   "cell_type": "code",
   "execution_count": 51,
   "metadata": {},
   "outputs": [],
   "source": [
    "def tweet_to_df(tweets):\n",
    "    data = {'text': [], 'screen_name': [], 'geo': [],\n",
    "       }\n",
    "    \n",
    "    for t in tweets:\n",
    "    \n",
    "        data['text'].append(t['text'])\n",
    "        data['screen_name'].append(t['user']['screen_name'])\n",
    "        data['geo'].append(t['user']['location'])\n",
    "    \n",
    "    return pd.DataFrame(data)"
   ]
  },
  {
   "cell_type": "code",
   "execution_count": 52,
   "metadata": {},
   "outputs": [],
   "source": [
    "query_df = tweet_to_df(query_gen)"
   ]
  },
  {
   "cell_type": "code",
   "execution_count": 53,
   "metadata": {
    "scrolled": true
   },
   "outputs": [
    {
     "name": "stdout",
     "output_type": "stream",
     "text": [
      "<class 'pandas.core.frame.DataFrame'>\n",
      "RangeIndex: 354 entries, 0 to 353\n",
      "Data columns (total 3 columns):\n",
      "geo            231 non-null object\n",
      "screen_name    354 non-null object\n",
      "text           354 non-null object\n",
      "dtypes: object(3)\n",
      "memory usage: 8.4+ KB\n"
     ]
    }
   ],
   "source": [
    "query_df.info() "
   ]
  },
  {
   "cell_type": "markdown",
   "metadata": {},
   "source": [
    "### Clean tweets (remove emojis, links, http, etc.)"
   ]
  },
  {
   "cell_type": "code",
   "execution_count": 54,
   "metadata": {},
   "outputs": [],
   "source": [
    "cleaned_text = []\n",
    "\n",
    "for tweet in query_df['text']:\n",
    "    cleaned_text.append(p.clean(tweet)) \n",
    "\n",
    "query_df['cleaned_text']=cleaned_text"
   ]
  },
  {
   "cell_type": "code",
   "execution_count": 55,
   "metadata": {},
   "outputs": [],
   "source": [
    "cleaned_name = []\n",
    "\n",
    "for tweet in query_df['screen_name']:\n",
    "    cleaned_name.append(p.clean(tweet))\n",
    "\n",
    "query_df['cleaned_name']=cleaned_name"
   ]
  },
  {
   "cell_type": "code",
   "execution_count": 56,
   "metadata": {},
   "outputs": [],
   "source": [
    "cleaned_geo = []\n",
    "\n",
    "for tweet in query_df.geo:\n",
    "    cleaned_geo.append(p.clean(str(tweet)))\n",
    "\n",
    "query_df['cleaned_geo']=cleaned_geo\n"
   ]
  },
  {
   "cell_type": "code",
   "execution_count": 57,
   "metadata": {},
   "outputs": [
    {
     "data": {
      "text/html": [
       "<div>\n",
       "<table border=\"1\" class=\"dataframe\">\n",
       "  <thead>\n",
       "    <tr style=\"text-align: right;\">\n",
       "      <th></th>\n",
       "      <th>geo</th>\n",
       "      <th>screen_name</th>\n",
       "      <th>text</th>\n",
       "      <th>cleaned_text</th>\n",
       "      <th>cleaned_name</th>\n",
       "      <th>cleaned_geo</th>\n",
       "    </tr>\n",
       "  </thead>\n",
       "  <tbody>\n",
       "    <tr>\n",
       "      <th>319</th>\n",
       "      <td>Kuwait</td>\n",
       "      <td>h73849092</td>\n",
       "      <td>يايماعه الطريج بكره صوب حولي مسكر؟؟</td>\n",
       "      <td>يايماعه الطريج بكره صوب حولي مسكر؟؟</td>\n",
       "      <td>h73849092</td>\n",
       "      <td>Kuwait</td>\n",
       "    </tr>\n",
       "    <tr>\n",
       "      <th>322</th>\n",
       "      <td>الكويت</td>\n",
       "      <td>abotalal71</td>\n",
       "      <td>@shacaleta1 شاطره يا عطيات .... الوضع لا صواري...</td>\n",
       "      <td>شاطره يا عطيات .... الوضع لا صواريخ ولا غيره م...</td>\n",
       "      <td>abotalal71</td>\n",
       "      <td>الكويت</td>\n",
       "    </tr>\n",
       "    <tr>\n",
       "      <th>242</th>\n",
       "      <td>None</td>\n",
       "      <td>Ai2x1</td>\n",
       "      <td>@i29xx_ أي وطول الطريج أدعي عالي معطيج الليسن 😊</td>\n",
       "      <td>أي وطول الطريج أدعي عالي معطيج الليسن</td>\n",
       "      <td>Ai2x1</td>\n",
       "      <td>None</td>\n",
       "    </tr>\n",
       "    <tr>\n",
       "      <th>332</th>\n",
       "      <td>None</td>\n",
       "      <td>DeviantFatma</td>\n",
       "      <td>سووووعال\\nالطريج حق شويخ باجر مثل كل يوم ولا؟</td>\n",
       "      <td>سووووعال الطريج حق شويخ باجر مثل كل يوم ولا؟</td>\n",
       "      <td>DeviantFatma</td>\n",
       "      <td>None</td>\n",
       "    </tr>\n",
       "  </tbody>\n",
       "</table>\n",
       "</div>"
      ],
      "text/plain": [
       "        geo   screen_name                                               text  \\\n",
       "319  Kuwait     h73849092                يايماعه الطريج بكره صوب حولي مسكر؟؟   \n",
       "322  الكويت    abotalal71  @shacaleta1 شاطره يا عطيات .... الوضع لا صواري...   \n",
       "242    None         Ai2x1    @i29xx_ أي وطول الطريج أدعي عالي معطيج الليسن 😊   \n",
       "332    None  DeviantFatma      سووووعال\\nالطريج حق شويخ باجر مثل كل يوم ولا؟   \n",
       "\n",
       "                                          cleaned_text  cleaned_name  \\\n",
       "319                يايماعه الطريج بكره صوب حولي مسكر؟؟     h73849092   \n",
       "322  شاطره يا عطيات .... الوضع لا صواريخ ولا غيره م...    abotalal71   \n",
       "242              أي وطول الطريج أدعي عالي معطيج الليسن         Ai2x1   \n",
       "332       سووووعال الطريج حق شويخ باجر مثل كل يوم ولا؟  DeviantFatma   \n",
       "\n",
       "    cleaned_geo  \n",
       "319      Kuwait  \n",
       "322      الكويت  \n",
       "242        None  \n",
       "332        None  "
      ]
     },
     "execution_count": 57,
     "metadata": {},
     "output_type": "execute_result"
    }
   ],
   "source": [
    "query_df.sample(4)"
   ]
  },
  {
   "cell_type": "markdown",
   "metadata": {},
   "source": [
    "### Remove duplicated tweets"
   ]
  },
  {
   "cell_type": "code",
   "execution_count": 58,
   "metadata": {},
   "outputs": [
    {
     "data": {
      "text/plain": [
       "238    False\n",
       "73      True\n",
       "141    False\n",
       "312    False\n",
       "138     True\n",
       "Name: cleaned_text, dtype: bool"
      ]
     },
     "execution_count": 58,
     "metadata": {},
     "output_type": "execute_result"
    }
   ],
   "source": [
    "query_df['cleaned_text'].duplicated().sample(5)"
   ]
  },
  {
   "cell_type": "code",
   "execution_count": 59,
   "metadata": {},
   "outputs": [],
   "source": [
    "query_cleaned = query_df.drop_duplicates(['cleaned_text'], keep='last')\n",
    "query_cleaned = query_cleaned.drop(['screen_name', 'text', 'geo'], axis=1)"
   ]
  },
  {
   "cell_type": "code",
   "execution_count": 60,
   "metadata": {},
   "outputs": [
    {
     "data": {
      "text/plain": [
       "(207, 3)"
      ]
     },
     "execution_count": 60,
     "metadata": {},
     "output_type": "execute_result"
    }
   ],
   "source": [
    "query_cleaned.shape"
   ]
  },
  {
   "cell_type": "code",
   "execution_count": 61,
   "metadata": {},
   "outputs": [
    {
     "data": {
      "text/html": [
       "<div>\n",
       "<table border=\"1\" class=\"dataframe\">\n",
       "  <thead>\n",
       "    <tr style=\"text-align: right;\">\n",
       "      <th></th>\n",
       "      <th>cleaned_text</th>\n",
       "      <th>cleaned_name</th>\n",
       "      <th>cleaned_geo</th>\n",
       "    </tr>\n",
       "  </thead>\n",
       "  <tbody>\n",
       "    <tr>\n",
       "      <th>89</th>\n",
       "      <td>: • خاطري طاب من ذاك الفريج صـد قلـبي وانـا تـ...</td>\n",
       "      <td>wael_alyaseen</td>\n",
       "      <td>None</td>\n",
       "    </tr>\n",
       "    <tr>\n",
       "      <th>313</th>\n",
       "      <td>لا راح اداوم بس انا على راسي ويشه يفتحون لي ال...</td>\n",
       "      <td>MHA25_</td>\n",
       "      <td>عالمي دونك صغير</td>\n",
       "    </tr>\n",
       "    <tr>\n",
       "      <th>263</th>\n",
       "      <td>من زعلك؟بعيونك السود نظرة لا شفتها حسيت بالحزن...</td>\n",
       "      <td>Maysonalsaleh84</td>\n",
       "      <td>None</td>\n",
       "    </tr>\n",
       "    <tr>\n",
       "      <th>273</th>\n",
       "      <td>ما اروم ... الطريج يضيّق الخْلق</td>\n",
       "      <td>HKHALAWI</td>\n",
       "      <td>الله ثم الوطن ثم رئيس الدولة</td>\n",
       "    </tr>\n",
       "    <tr>\n",
       "      <th>321</th>\n",
       "      <td>ايييي والله لانه نفس الفكره الحين عطلو اللمدار...</td>\n",
       "      <td>baadryaa</td>\n",
       "      <td>KUWAIT</td>\n",
       "    </tr>\n",
       "  </tbody>\n",
       "</table>\n",
       "</div>"
      ],
      "text/plain": [
       "                                          cleaned_text     cleaned_name  \\\n",
       "89   : • خاطري طاب من ذاك الفريج صـد قلـبي وانـا تـ...    wael_alyaseen   \n",
       "313  لا راح اداوم بس انا على راسي ويشه يفتحون لي ال...           MHA25_   \n",
       "263  من زعلك؟بعيونك السود نظرة لا شفتها حسيت بالحزن...  Maysonalsaleh84   \n",
       "273                    ما اروم ... الطريج يضيّق الخْلق         HKHALAWI   \n",
       "321  ايييي والله لانه نفس الفكره الحين عطلو اللمدار...         baadryaa   \n",
       "\n",
       "                      cleaned_geo  \n",
       "89                           None  \n",
       "313               عالمي دونك صغير  \n",
       "263                          None  \n",
       "273  الله ثم الوطن ثم رئيس الدولة  \n",
       "321                        KUWAIT  "
      ]
     },
     "execution_count": 61,
     "metadata": {},
     "output_type": "execute_result"
    }
   ],
   "source": [
    "query_cleaned.sample(5)"
   ]
  },
  {
   "cell_type": "code",
   "execution_count": 62,
   "metadata": {
    "scrolled": true
   },
   "outputs": [
    {
     "data": {
      "text/plain": [
       "None             72\n",
       "Kuwait           19\n",
       "دولة الكويت      12\n",
       "Salwa, Kuwait     8\n",
       "kuwait            7\n",
       "Name: cleaned_geo, dtype: int64"
      ]
     },
     "execution_count": 62,
     "metadata": {},
     "output_type": "execute_result"
    }
   ],
   "source": [
    "query_cleaned.cleaned_geo.value_counts().head()"
   ]
  },
  {
   "cell_type": "code",
   "execution_count": 63,
   "metadata": {},
   "outputs": [
    {
     "data": {
      "text/plain": [
       "Fahad_alenze      7\n",
       "Nora_buhamad      4\n",
       "savagecoffe_t     3\n",
       "hadeelnasser34    2\n",
       "albraikiq8        2\n",
       "Name: cleaned_name, dtype: int64"
      ]
     },
     "execution_count": 63,
     "metadata": {},
     "output_type": "execute_result"
    }
   ],
   "source": [
    "query_cleaned.cleaned_name.value_counts().head()"
   ]
  },
  {
   "cell_type": "code",
   "execution_count": 64,
   "metadata": {},
   "outputs": [
    {
     "data": {
      "text/html": [
       "<div>\n",
       "<table border=\"1\" class=\"dataframe\">\n",
       "  <thead>\n",
       "    <tr style=\"text-align: right;\">\n",
       "      <th></th>\n",
       "      <th>cleaned_text</th>\n",
       "      <th>cleaned_name</th>\n",
       "      <th>cleaned_geo</th>\n",
       "    </tr>\n",
       "  </thead>\n",
       "  <tbody>\n",
       "    <tr>\n",
       "      <th>6</th>\n",
       "      <td>: على الاقل ارحم من ان تتعود على وجود احد ويغر...</td>\n",
       "      <td>typicallynorah</td>\n",
       "      <td>United Arab Emirates</td>\n",
       "    </tr>\n",
       "    <tr>\n",
       "      <th>7</th>\n",
       "      <td>وحدة مكافحة الموز في الطريج</td>\n",
       "      <td>Hasan95780025</td>\n",
       "      <td>Dokhaa</td>\n",
       "    </tr>\n",
       "    <tr>\n",
       "      <th>8</th>\n",
       "      <td>انا صوت الفريج وبنتٍ تناديك تدليك الفرح وينه ا...</td>\n",
       "      <td>FathiyaAjlan1</td>\n",
       "      <td>None</td>\n",
       "    </tr>\n",
       "    <tr>\n",
       "      <th>17</th>\n",
       "      <td>اوك مسافة الطريج يايتلچ ‍️‍️‍️</td>\n",
       "      <td>hodaaa_q8</td>\n",
       "      <td>None</td>\n",
       "    </tr>\n",
       "    <tr>\n",
       "      <th>18</th>\n",
       "      <td>كلام جميل لكن وين التطبيق.طلع قانون للخدم ونشر...</td>\n",
       "      <td>DzY9d</td>\n",
       "      <td>Kuwait</td>\n",
       "    </tr>\n",
       "    <tr>\n",
       "      <th>22</th>\n",
       "      <td>الثالث علي الطريج طولي بالج اول الله️</td>\n",
       "      <td>ZuSX6cXU62tZPUW</td>\n",
       "      <td>None</td>\n",
       "    </tr>\n",
       "    <tr>\n",
       "      <th>26</th>\n",
       "      <td>لما أكون مستعيله ويغلط السواق ف الطريج</td>\n",
       "      <td>R__Aey</td>\n",
       "      <td>Konoha</td>\n",
       "    </tr>\n",
       "    <tr>\n",
       "      <th>30</th>\n",
       "      <td>احبك كثر ماتوقف على جنب الطريج اشجار احبك كثر ...</td>\n",
       "      <td>almutairi43__</td>\n",
       "      <td>None</td>\n",
       "    </tr>\n",
       "    <tr>\n",
       "      <th>34</th>\n",
       "      <td>لحد يسلمي الAUX ويقولي بسج توقفين بنص الاغنيه,...</td>\n",
       "      <td>skullxcrusherx</td>\n",
       "      <td>None</td>\n",
       "    </tr>\n",
       "    <tr>\n",
       "      <th>35</th>\n",
       "      <td>انا نظامي اخليهم يسمعون اول دقايق والي بعده</td>\n",
       "      <td>_Alsh67</td>\n",
       "      <td>None</td>\n",
       "    </tr>\n",
       "    <tr>\n",
       "      <th>37</th>\n",
       "      <td>حدة حدة</td>\n",
       "      <td>_fatmaa114</td>\n",
       "      <td>Kuwait</td>\n",
       "    </tr>\n",
       "    <tr>\n",
       "      <th>39</th>\n",
       "      <td>: لحد يسلمي الAUX ويقولي بسج توقفين بنص الاغني...</td>\n",
       "      <td>ig47j</td>\n",
       "      <td>upside down</td>\n",
       "    </tr>\n",
       "    <tr>\n",
       "      <th>42</th>\n",
       "      <td>ماشفت هالشي شنو هذا</td>\n",
       "      <td>f36s_x</td>\n",
       "      <td>None</td>\n",
       "    </tr>\n",
       "    <tr>\n",
       "      <th>46</th>\n",
       "      <td>متعني للعاشره عشان اتقهوى يالله الخيره ماتحسفت...</td>\n",
       "      <td>mle3_al8eem</td>\n",
       "      <td>مراح الوالد</td>\n",
       "    </tr>\n",
       "    <tr>\n",
       "      <th>48</th>\n",
       "      <td>بنجر علي التاير بنص الطريج و رجعت بتكسي LIVE on</td>\n",
       "      <td>B_aljenae</td>\n",
       "      <td>Hateen</td>\n",
       "    </tr>\n",
       "    <tr>\n",
       "      <th>51</th>\n",
       "      <td>ايي والله بغيت اغير طريجي والسبه اني مابي افتح...</td>\n",
       "      <td>NafNoof</td>\n",
       "      <td>Kuwait</td>\n",
       "    </tr>\n",
       "    <tr>\n",
       "      <th>52</th>\n",
       "      <td>: انا نظامي اخليهم يسمعون اول دقايق والي بعده</td>\n",
       "      <td>Ha2928</td>\n",
       "      <td>None</td>\n",
       "    </tr>\n",
       "    <tr>\n",
       "      <th>53</th>\n",
       "      <td>الطريج يخوف بليل</td>\n",
       "      <td>alnweiam</td>\n",
       "      <td>قيثارة الشّرق</td>\n",
       "    </tr>\n",
       "    <tr>\n",
       "      <th>55</th>\n",
       "      <td>الله يحييچ يلا مسافة الطريج وأكون عندچ</td>\n",
       "      <td>subzoe</td>\n",
       "      <td>None</td>\n",
       "    </tr>\n",
       "    <tr>\n",
       "      <th>66</th>\n",
       "      <td>متعه في خط سريع فاضي بالليل ويمك غالي تحبه وبع...</td>\n",
       "      <td>aIshoq</td>\n",
       "      <td>None</td>\n",
       "    </tr>\n",
       "    <tr>\n",
       "      <th>67</th>\n",
       "      <td>شنو هذا ابي اعرف !!</td>\n",
       "      <td>almahdi__f</td>\n",
       "      <td>None</td>\n",
       "    </tr>\n",
       "    <tr>\n",
       "      <th>68</th>\n",
       "      <td>شلون جذي</td>\n",
       "      <td>Rel211_</td>\n",
       "      <td>None</td>\n",
       "    </tr>\n",
       "    <tr>\n",
       "      <th>76</th>\n",
       "      <td>: شنو هذا ابي اعرف !!</td>\n",
       "      <td>Fahad_alenze</td>\n",
       "      <td>Salwa, Kuwait</td>\n",
       "    </tr>\n",
       "    <tr>\n",
       "      <th>78</th>\n",
       "      <td>انزين الناس منحاشة لي وين هي جايتكم جايتكم</td>\n",
       "      <td>albraikiq8</td>\n",
       "      <td>كوكب الشرق - Kuwait</td>\n",
       "    </tr>\n",
       "    <tr>\n",
       "      <th>80</th>\n",
       "      <td>: انزين الناس منحاشة لي وين هي جايتكم جايتكم</td>\n",
       "      <td>Fahad_alenze</td>\n",
       "      <td>Salwa, Kuwait</td>\n",
       "    </tr>\n",
       "    <tr>\n",
       "      <th>82</th>\n",
       "      <td>ريتويت اذا كان عبالك يوم القيامة</td>\n",
       "      <td>albraikiq8</td>\n",
       "      <td>كوكب الشرق - Kuwait</td>\n",
       "    </tr>\n",
       "    <tr>\n",
       "      <th>83</th>\n",
       "      <td>: ريتويت اذا كان عبالك يوم القيامة</td>\n",
       "      <td>Fahad_alenze</td>\n",
       "      <td>Salwa, Kuwait</td>\n",
       "    </tr>\n",
       "    <tr>\n",
       "      <th>89</th>\n",
       "      <td>: • خاطري طاب من ذاك الفريج صـد قلـبي وانـا تـ...</td>\n",
       "      <td>wael_alyaseen</td>\n",
       "      <td>None</td>\n",
       "    </tr>\n",
       "    <tr>\n",
       "      <th>97</th>\n",
       "      <td>تقريباً كان قبل سنوات .. يوم مانساه!</td>\n",
       "      <td>hadeelnasser34</td>\n",
       "      <td>Al Khobar, Kingdom of Saudi Arabia</td>\n",
       "    </tr>\n",
       "    <tr>\n",
       "      <th>98</th>\n",
       "      <td>: تقريباً كان قبل سنوات .. يوم مانساه!</td>\n",
       "      <td>hadeelnasser34</td>\n",
       "      <td>Al Khobar, Kingdom of Saudi Arabia</td>\n",
       "    </tr>\n",
       "    <tr>\n",
       "      <th>...</th>\n",
       "      <td>...</td>\n",
       "      <td>...</td>\n",
       "      <td>...</td>\n",
       "    </tr>\n",
       "    <tr>\n",
       "      <th>320</th>\n",
       "      <td>سلام عليكم دكتوره باجر ما راح اقدر احضر الشوار...</td>\n",
       "      <td>Rawoony_</td>\n",
       "      <td>Kuwait</td>\n",
       "    </tr>\n",
       "    <tr>\n",
       "      <th>321</th>\n",
       "      <td>ايييي والله لانه نفس الفكره الحين عطلو اللمدار...</td>\n",
       "      <td>baadryaa</td>\n",
       "      <td>KUWAIT</td>\n",
       "    </tr>\n",
       "    <tr>\n",
       "      <th>322</th>\n",
       "      <td>شاطره يا عطيات .... الوضع لا صواريخ ولا غيره م...</td>\n",
       "      <td>abotalal71</td>\n",
       "      <td>الكويت</td>\n",
       "    </tr>\n",
       "    <tr>\n",
       "      <th>323</th>\n",
       "      <td>الطريج اللي يكون اقل من دقايق عشان تشوفون احد ...</td>\n",
       "      <td>ws_alshammarii</td>\n",
       "      <td>miles away</td>\n",
       "    </tr>\n",
       "    <tr>\n",
       "      <th>324</th>\n",
       "      <td>دكاترتي بلييز بليييز اعتذروا احنا خلقة مانعرف ...</td>\n",
       "      <td>h_hhhq8</td>\n",
       "      <td>None</td>\n",
       "    </tr>\n",
       "    <tr>\n",
       "      <th>325</th>\n",
       "      <td>وشلون على الي بيوتهم بعيده من دواماتهم احنا من...</td>\n",
       "      <td>sheikha_732</td>\n",
       "      <td>None</td>\n",
       "    </tr>\n",
       "    <tr>\n",
       "      <th>326</th>\n",
       "      <td>ما لج إلا الدعاء🤦‍️ ان الطريج يكون مفتوح</td>\n",
       "      <td>ManayerAlMuhtab</td>\n",
       "      <td>Al Salam, Kuwait</td>\n",
       "    </tr>\n",
       "    <tr>\n",
       "      <th>327</th>\n",
       "      <td>مانسلم علي خونه خذلك نص ديايه مكينه علي الطريج</td>\n",
       "      <td>Alali55sultan</td>\n",
       "      <td>الأمارات&amp; دبي دار الحي</td>\n",
       "    </tr>\n",
       "    <tr>\n",
       "      <th>328</th>\n",
       "      <td>اللي انقتل شبيهه مثل ماقالوا عن الكاولي يوم اع...</td>\n",
       "      <td>almohallabkw</td>\n",
       "      <td>None</td>\n",
       "    </tr>\n",
       "    <tr>\n",
       "      <th>329</th>\n",
       "      <td>لمن اطلع مع امي وخالتي ويكون الطريج طويل</td>\n",
       "      <td>itsawrad2</td>\n",
       "      <td>الشمري.</td>\n",
       "    </tr>\n",
       "    <tr>\n",
       "      <th>330</th>\n",
       "      <td>: حدث في الكويت قبل جم سنه ،، لكن مو إهني المش...</td>\n",
       "      <td>Goldeen_Girl</td>\n",
       "      <td>Kuwait | LosAndalous</td>\n",
       "    </tr>\n",
       "    <tr>\n",
       "      <th>331</th>\n",
       "      <td>: . . أخو يسجاد وطبعك هذا من هلك وأدري تكمل ال...</td>\n",
       "      <td>S_jj_D_S</td>\n",
       "      <td>None</td>\n",
       "    </tr>\n",
       "    <tr>\n",
       "      <th>332</th>\n",
       "      <td>سووووعال الطريج حق شويخ باجر مثل كل يوم ولا؟</td>\n",
       "      <td>DeviantFatma</td>\n",
       "      <td>None</td>\n",
       "    </tr>\n",
       "    <tr>\n",
       "      <th>333</th>\n",
       "      <td>: اطالب بعطله مدرستي بمنطقه بعيده عني اصلا اطل...</td>\n",
       "      <td>jal3wdhi</td>\n",
       "      <td>J'245</td>\n",
       "    </tr>\n",
       "    <tr>\n",
       "      <th>334</th>\n",
       "      <td>مخيمنا ما يضيع بنص الطريج بين الشارعين تحت الش...</td>\n",
       "      <td>jmbaaze</td>\n",
       "      <td>ابيع لكم السمج بالماي</td>\n",
       "    </tr>\n",
       "    <tr>\n",
       "      <th>335</th>\n",
       "      <td>الحين أنا أبي أعرف طلاب الجامعة يروحون بشنو مو...</td>\n",
       "      <td>mahmoud4325</td>\n",
       "      <td>دولة الكويت</td>\n",
       "    </tr>\n",
       "    <tr>\n",
       "      <th>336</th>\n",
       "      <td>محددين الطريج المصكر أنزين انا ساكن بالسلام وم...</td>\n",
       "      <td>al_9ager727</td>\n",
       "      <td>Al Salam, Kuwait</td>\n",
       "    </tr>\n",
       "    <tr>\n",
       "      <th>337</th>\n",
       "      <td>انتي قلبي اللي في قلبي و الطريج اللي بدربي \"هي...</td>\n",
       "      <td>lulwaalawadhi</td>\n",
       "      <td>Kuwait</td>\n",
       "    </tr>\n",
       "    <tr>\n",
       "      <th>338</th>\n",
       "      <td>على حظج الخايس رحت نص الطريج شفت الزحمه وعطيته...</td>\n",
       "      <td>a__</td>\n",
       "      <td>None</td>\n",
       "    </tr>\n",
       "    <tr>\n",
       "      <th>339</th>\n",
       "      <td>نعم الذنب على الوالدين خوفهم على نفسهم من الدو...</td>\n",
       "      <td>freehanan197559</td>\n",
       "      <td>دولة الكويت</td>\n",
       "    </tr>\n",
       "    <tr>\n",
       "      <th>340</th>\n",
       "      <td>جايز الطريج زحمه</td>\n",
       "      <td>faersn</td>\n",
       "      <td>Egypt .. Kuwait</td>\n",
       "    </tr>\n",
       "    <tr>\n",
       "      <th>341</th>\n",
       "      <td>اخوان سته كلنا نمشي بنفس الطريج 🇦🇪️🇧🇭️🇸🇦️🇴🇲️🇶🇦️🇰🇼</td>\n",
       "      <td>ghzlan12345</td>\n",
       "      <td>None</td>\n",
       "    </tr>\n",
       "    <tr>\n",
       "      <th>343</th>\n",
       "      <td>: اخوان سته كلنا نمشي بنفس الطريج 🇦🇪️🇧🇭️🇸🇦️🇴🇲️...</td>\n",
       "      <td>HifaaYousef</td>\n",
       "      <td>None</td>\n",
       "    </tr>\n",
       "    <tr>\n",
       "      <th>344</th>\n",
       "      <td>لما بابا يهد قضايا الشعب كلها ويقول انا بفهم ش...</td>\n",
       "      <td>moona95</td>\n",
       "      <td>Kuwait .. ɪкαяυѕ</td>\n",
       "    </tr>\n",
       "    <tr>\n",
       "      <th>345</th>\n",
       "      <td>يارب الموكب السعودي يظيع الطريج ويچيور ويدش با...</td>\n",
       "      <td>aljaddah_kw</td>\n",
       "      <td>الفيحاء, دولة الكويت</td>\n",
       "    </tr>\n",
       "    <tr>\n",
       "      <th>348</th>\n",
       "      <td>مالي شغل بالدوام ابي الطريج اللي يودي مستشفى ا...</td>\n",
       "      <td>Babo_oshA</td>\n",
       "      <td>وطنُـ النــهار +965</td>\n",
       "    </tr>\n",
       "    <tr>\n",
       "      <th>350</th>\n",
       "      <td>: يارب الموكب السعودي يظيع الطريج ويچيور ويدش ...</td>\n",
       "      <td>yesandyes94</td>\n",
       "      <td>Kuwait</td>\n",
       "    </tr>\n",
       "    <tr>\n",
       "      <th>351</th>\n",
       "      <td>انت الذي اخترت الطريج و أشعلت في يوفي حريق</td>\n",
       "      <td>ilsotiljare7</td>\n",
       "      <td>بلدي الكويت</td>\n",
       "    </tr>\n",
       "    <tr>\n",
       "      <th>352</th>\n",
       "      <td>وليلحين معزم انه اغلب المدارس يعطلون يا كثر ال...</td>\n",
       "      <td>AmSara75</td>\n",
       "      <td>دولة الكويت-الفيحاء</td>\n",
       "    </tr>\n",
       "    <tr>\n",
       "      <th>353</th>\n",
       "      <td>حطيلهم لافتات علي الشبات الشوارع خوفج يضيعون ا...</td>\n",
       "      <td>A6aif</td>\n",
       "      <td>آلَكــوٌيــتـ</td>\n",
       "    </tr>\n",
       "  </tbody>\n",
       "</table>\n",
       "<p>207 rows × 3 columns</p>\n",
       "</div>"
      ],
      "text/plain": [
       "                                          cleaned_text     cleaned_name  \\\n",
       "6    : على الاقل ارحم من ان تتعود على وجود احد ويغر...   typicallynorah   \n",
       "7                          وحدة مكافحة الموز في الطريج    Hasan95780025   \n",
       "8    انا صوت الفريج وبنتٍ تناديك تدليك الفرح وينه ا...    FathiyaAjlan1   \n",
       "17                      اوك مسافة الطريج يايتلچ ‍️‍️‍️        hodaaa_q8   \n",
       "18   كلام جميل لكن وين التطبيق.طلع قانون للخدم ونشر...            DzY9d   \n",
       "22               الثالث علي الطريج طولي بالج اول الله️  ZuSX6cXU62tZPUW   \n",
       "26              لما أكون مستعيله ويغلط السواق ف الطريج           R__Aey   \n",
       "30   احبك كثر ماتوقف على جنب الطريج اشجار احبك كثر ...    almutairi43__   \n",
       "34   لحد يسلمي الAUX ويقولي بسج توقفين بنص الاغنيه,...   skullxcrusherx   \n",
       "35         انا نظامي اخليهم يسمعون اول دقايق والي بعده          _Alsh67   \n",
       "37                                             حدة حدة       _fatmaa114   \n",
       "39   : لحد يسلمي الAUX ويقولي بسج توقفين بنص الاغني...            ig47j   \n",
       "42                                 ماشفت هالشي شنو هذا           f36s_x   \n",
       "46   متعني للعاشره عشان اتقهوى يالله الخيره ماتحسفت...      mle3_al8eem   \n",
       "48     بنجر علي التاير بنص الطريج و رجعت بتكسي LIVE on        B_aljenae   \n",
       "51   ايي والله بغيت اغير طريجي والسبه اني مابي افتح...          NafNoof   \n",
       "52       : انا نظامي اخليهم يسمعون اول دقايق والي بعده           Ha2928   \n",
       "53                                    الطريج يخوف بليل         alnweiam   \n",
       "55              الله يحييچ يلا مسافة الطريج وأكون عندچ           subzoe   \n",
       "66   متعه في خط سريع فاضي بالليل ويمك غالي تحبه وبع...           aIshoq   \n",
       "67                                 شنو هذا ابي اعرف !!       almahdi__f   \n",
       "68                                            شلون جذي          Rel211_   \n",
       "76                               : شنو هذا ابي اعرف !!     Fahad_alenze   \n",
       "78          انزين الناس منحاشة لي وين هي جايتكم جايتكم       albraikiq8   \n",
       "80        : انزين الناس منحاشة لي وين هي جايتكم جايتكم     Fahad_alenze   \n",
       "82                    ريتويت اذا كان عبالك يوم القيامة       albraikiq8   \n",
       "83                  : ريتويت اذا كان عبالك يوم القيامة     Fahad_alenze   \n",
       "89   : • خاطري طاب من ذاك الفريج صـد قلـبي وانـا تـ...    wael_alyaseen   \n",
       "97                تقريباً كان قبل سنوات .. يوم مانساه!   hadeelnasser34   \n",
       "98              : تقريباً كان قبل سنوات .. يوم مانساه!   hadeelnasser34   \n",
       "..                                                 ...              ...   \n",
       "320  سلام عليكم دكتوره باجر ما راح اقدر احضر الشوار...         Rawoony_   \n",
       "321  ايييي والله لانه نفس الفكره الحين عطلو اللمدار...         baadryaa   \n",
       "322  شاطره يا عطيات .... الوضع لا صواريخ ولا غيره م...       abotalal71   \n",
       "323  الطريج اللي يكون اقل من دقايق عشان تشوفون احد ...   ws_alshammarii   \n",
       "324  دكاترتي بلييز بليييز اعتذروا احنا خلقة مانعرف ...          h_hhhq8   \n",
       "325  وشلون على الي بيوتهم بعيده من دواماتهم احنا من...      sheikha_732   \n",
       "326           ما لج إلا الدعاء🤦‍️ ان الطريج يكون مفتوح  ManayerAlMuhtab   \n",
       "327     مانسلم علي خونه خذلك نص ديايه مكينه علي الطريج    Alali55sultan   \n",
       "328  اللي انقتل شبيهه مثل ماقالوا عن الكاولي يوم اع...     almohallabkw   \n",
       "329           لمن اطلع مع امي وخالتي ويكون الطريج طويل        itsawrad2   \n",
       "330  : حدث في الكويت قبل جم سنه ،، لكن مو إهني المش...     Goldeen_Girl   \n",
       "331  : . . أخو يسجاد وطبعك هذا من هلك وأدري تكمل ال...         S_jj_D_S   \n",
       "332       سووووعال الطريج حق شويخ باجر مثل كل يوم ولا؟     DeviantFatma   \n",
       "333  : اطالب بعطله مدرستي بمنطقه بعيده عني اصلا اطل...         jal3wdhi   \n",
       "334  مخيمنا ما يضيع بنص الطريج بين الشارعين تحت الش...          jmbaaze   \n",
       "335  الحين أنا أبي أعرف طلاب الجامعة يروحون بشنو مو...      mahmoud4325   \n",
       "336  محددين الطريج المصكر أنزين انا ساكن بالسلام وم...      al_9ager727   \n",
       "337  انتي قلبي اللي في قلبي و الطريج اللي بدربي \"هي...    lulwaalawadhi   \n",
       "338  على حظج الخايس رحت نص الطريج شفت الزحمه وعطيته...              a__   \n",
       "339  نعم الذنب على الوالدين خوفهم على نفسهم من الدو...  freehanan197559   \n",
       "340                                   جايز الطريج زحمه           faersn   \n",
       "341  اخوان سته كلنا نمشي بنفس الطريج 🇦🇪️🇧🇭️🇸🇦️🇴🇲️🇶🇦️🇰🇼      ghzlan12345   \n",
       "343  : اخوان سته كلنا نمشي بنفس الطريج 🇦🇪️🇧🇭️🇸🇦️🇴🇲️...      HifaaYousef   \n",
       "344  لما بابا يهد قضايا الشعب كلها ويقول انا بفهم ش...          moona95   \n",
       "345  يارب الموكب السعودي يظيع الطريج ويچيور ويدش با...      aljaddah_kw   \n",
       "348  مالي شغل بالدوام ابي الطريج اللي يودي مستشفى ا...        Babo_oshA   \n",
       "350  : يارب الموكب السعودي يظيع الطريج ويچيور ويدش ...      yesandyes94   \n",
       "351         انت الذي اخترت الطريج و أشعلت في يوفي حريق     ilsotiljare7   \n",
       "352  وليلحين معزم انه اغلب المدارس يعطلون يا كثر ال...         AmSara75   \n",
       "353  حطيلهم لافتات علي الشبات الشوارع خوفج يضيعون ا...            A6aif   \n",
       "\n",
       "                            cleaned_geo  \n",
       "6                  United Arab Emirates  \n",
       "7                                Dokhaa  \n",
       "8                                  None  \n",
       "17                                 None  \n",
       "18                               Kuwait  \n",
       "22                                 None  \n",
       "26                               Konoha  \n",
       "30                                 None  \n",
       "34                                 None  \n",
       "35                                 None  \n",
       "37                               Kuwait  \n",
       "39                          upside down  \n",
       "42                                 None  \n",
       "46                          مراح الوالد  \n",
       "48                               Hateen  \n",
       "51                               Kuwait  \n",
       "52                                 None  \n",
       "53                        قيثارة الشّرق  \n",
       "55                                 None  \n",
       "66                                 None  \n",
       "67                                 None  \n",
       "68                                 None  \n",
       "76                        Salwa, Kuwait  \n",
       "78                  كوكب الشرق - Kuwait  \n",
       "80                        Salwa, Kuwait  \n",
       "82                  كوكب الشرق - Kuwait  \n",
       "83                        Salwa, Kuwait  \n",
       "89                                 None  \n",
       "97   Al Khobar, Kingdom of Saudi Arabia  \n",
       "98   Al Khobar, Kingdom of Saudi Arabia  \n",
       "..                                  ...  \n",
       "320                              Kuwait  \n",
       "321                              KUWAIT  \n",
       "322                              الكويت  \n",
       "323                          miles away  \n",
       "324                                None  \n",
       "325                                None  \n",
       "326                    Al Salam, Kuwait  \n",
       "327              الأمارات& دبي دار الحي  \n",
       "328                                None  \n",
       "329                             الشمري.  \n",
       "330                Kuwait | LosAndalous  \n",
       "331                                None  \n",
       "332                                None  \n",
       "333                               J'245  \n",
       "334               ابيع لكم السمج بالماي  \n",
       "335                         دولة الكويت  \n",
       "336                    Al Salam, Kuwait  \n",
       "337                              Kuwait  \n",
       "338                                None  \n",
       "339                         دولة الكويت  \n",
       "340                     Egypt .. Kuwait  \n",
       "341                                None  \n",
       "343                                None  \n",
       "344                    Kuwait .. ɪкαяυѕ  \n",
       "345                الفيحاء, دولة الكويت  \n",
       "348                 وطنُـ النــهار +965  \n",
       "350                              Kuwait  \n",
       "351                         بلدي الكويت  \n",
       "352                 دولة الكويت-الفيحاء  \n",
       "353                       آلَكــوٌيــتـ  \n",
       "\n",
       "[207 rows x 3 columns]"
      ]
     },
     "execution_count": 64,
     "metadata": {},
     "output_type": "execute_result"
    }
   ],
   "source": [
    "query_cleaned.fillna('None')"
   ]
  },
  {
   "cell_type": "code",
   "execution_count": 65,
   "metadata": {},
   "outputs": [
    {
     "name": "stdout",
     "output_type": "stream",
     "text": [
      "<class 'pandas.core.frame.DataFrame'>\n",
      "Int64Index: 207 entries, 6 to 353\n",
      "Data columns (total 3 columns):\n",
      "cleaned_text    207 non-null object\n",
      "cleaned_name    207 non-null object\n",
      "cleaned_geo     207 non-null object\n",
      "dtypes: object(3)\n",
      "memory usage: 6.5+ KB\n"
     ]
    }
   ],
   "source": [
    "query_cleaned.info() "
   ]
  },
  {
   "cell_type": "markdown",
   "metadata": {},
   "source": [
    "### Consolidate different geo tags"
   ]
  },
  {
   "cell_type": "code",
   "execution_count": 80,
   "metadata": {},
   "outputs": [],
   "source": [
    "locations = {'Saudi Arabia': ['Kingdom of Saudi Arabia', 'MAKKAH', 'saudi arabia', 'jeddah', 'مكة المكرمة', 'المملكة العربية', 'Jeddah', 'Riyadh', 'المملكة العربية السعودية', 'الرياض, المملكة العربية السعودية', 'الرياض, المملكة العربية السعودية', 'jeddah , saudi arabia', 'الرياض', 'آلقصيم ، بريده', 'جدة, المملكة العربية السعودية', 'المدينة المنورة, المملكة العربية السعودية', 'Riyadh, Kingdom of Saudi Arabia', 'makkah - saudi arabia', 'جده', 'Dammam', 'Dammam, Eastern', 'Al Khobar, Kingdom of Saudi Arabia'],\n",
    "             'Kuwait': ['الكويت', 'Alkuwait', 'kuwait', 'KUWAIT', 'Kuwait , Salwa', 'Qortuba, Kuwait', 'دولة الكويت', 'العاصمه, دولة الكويت', 'The Capital, Kuwait', 'Al Salam, Kuwait', 'Salwa, Kuwait', 'كوكب الشرق - Kuwait']\n",
    "            }"
   ]
  },
  {
   "cell_type": "code",
   "execution_count": 81,
   "metadata": {},
   "outputs": [
    {
     "data": {
      "text/plain": [
       "True"
      ]
     },
     "execution_count": 81,
     "metadata": {},
     "output_type": "execute_result"
    }
   ],
   "source": [
    "'MAKKAH' in list(locations.values())[0]"
   ]
  },
  {
   "cell_type": "code",
   "execution_count": 82,
   "metadata": {},
   "outputs": [
    {
     "data": {
      "text/plain": [
       "False"
      ]
     },
     "execution_count": 82,
     "metadata": {},
     "output_type": "execute_result"
    }
   ],
   "source": [
    "'MAKKAH' in list(locations.values())[1]"
   ]
  },
  {
   "cell_type": "code",
   "execution_count": 83,
   "metadata": {},
   "outputs": [
    {
     "data": {
      "text/plain": [
       "dict_values([['Kingdom of Saudi Arabia', 'MAKKAH', 'saudi arabia', 'jeddah', 'مكة المكرمة', 'المملكة العربية', 'Jeddah', 'Riyadh', 'المملكة العربية السعودية', 'الرياض, المملكة العربية السعودية', 'الرياض, المملكة العربية السعودية', 'jeddah , saudi arabia', 'الرياض', 'آلقصيم ، بريده', 'جدة, المملكة العربية السعودية', 'المدينة المنورة, المملكة العربية السعودية', 'Riyadh, Kingdom of Saudi Arabia', 'makkah - saudi arabia', 'جده', 'Dammam', 'Dammam, Eastern', 'Al Khobar, Kingdom of Saudi Arabia'], ['الكويت', 'Alkuwait', 'kuwait', 'KUWAIT', 'Kuwait , Salwa', 'Qortuba, Kuwait', 'دولة الكويت', 'العاصمه, دولة الكويت', 'The Capital, Kuwait', 'Al Salam, Kuwait', 'Salwa, Kuwait', 'كوكب الشرق - Kuwait']])"
      ]
     },
     "execution_count": 83,
     "metadata": {},
     "output_type": "execute_result"
    }
   ],
   "source": [
    "locations.values()"
   ]
  },
  {
   "cell_type": "code",
   "execution_count": 90,
   "metadata": {},
   "outputs": [],
   "source": [
    "#pseudo code\n",
    "\n",
    "for word in query_cleaned['cleaned_geo'].str.split('_'):\n",
    "    if word[0] in list(locations.values())[0]:\n",
    "        query_cleaned['cleaned_geo'].replace(word, 'Saudi Arabia', inplace=True)\n",
    "    else:\n",
    "        if word[0] in list(locations.values())[1]:\n",
    "            query_cleaned['cleaned_geo'].replace(word, 'Kuwait', inplace=True)"
   ]
  },
  {
   "cell_type": "code",
   "execution_count": 91,
   "metadata": {},
   "outputs": [
    {
     "data": {
      "text/plain": [
       "6        United Arab Emirates\n",
       "7                      Dokhaa\n",
       "8                        None\n",
       "17                       None\n",
       "18                     Kuwait\n",
       "22                       None\n",
       "26                     Konoha\n",
       "30                       None\n",
       "34                       None\n",
       "35                       None\n",
       "37                     Kuwait\n",
       "39                upside down\n",
       "42                       None\n",
       "46                مراح الوالد\n",
       "48                     Hateen\n",
       "51                     Kuwait\n",
       "52                       None\n",
       "53              قيثارة الشّرق\n",
       "55                       None\n",
       "66                       None\n",
       "67                       None\n",
       "68                       None\n",
       "76                     Kuwait\n",
       "78                     Kuwait\n",
       "80                     Kuwait\n",
       "82                     Kuwait\n",
       "83                     Kuwait\n",
       "89                       None\n",
       "97               Saudi Arabia\n",
       "98               Saudi Arabia\n",
       "                ...          \n",
       "320                    Kuwait\n",
       "321                    Kuwait\n",
       "322                    Kuwait\n",
       "323                miles away\n",
       "324                      None\n",
       "325                      None\n",
       "326                    Kuwait\n",
       "327    الأمارات& دبي دار الحي\n",
       "328                      None\n",
       "329                   الشمري.\n",
       "330      Kuwait | LosAndalous\n",
       "331                      None\n",
       "332                      None\n",
       "333                     J'245\n",
       "334     ابيع لكم السمج بالماي\n",
       "335                    Kuwait\n",
       "336                    Kuwait\n",
       "337                    Kuwait\n",
       "338                      None\n",
       "339                    Kuwait\n",
       "340           Egypt .. Kuwait\n",
       "341                      None\n",
       "343                      None\n",
       "344          Kuwait .. ɪкαяυѕ\n",
       "345      الفيحاء, دولة الكويت\n",
       "348       وطنُـ النــهار +965\n",
       "350                    Kuwait\n",
       "351               بلدي الكويت\n",
       "352       دولة الكويت-الفيحاء\n",
       "353             آلَكــوٌيــتـ\n",
       "Name: cleaned_geo, dtype: object"
      ]
     },
     "execution_count": 91,
     "metadata": {},
     "output_type": "execute_result"
    }
   ],
   "source": [
    "query_cleaned.cleaned_geo"
   ]
  },
  {
   "cell_type": "code",
   "execution_count": 86,
   "metadata": {},
   "outputs": [
    {
     "name": "stdout",
     "output_type": "stream",
     "text": [
      "<class 'pandas.core.frame.DataFrame'>\n",
      "Int64Index: 207 entries, 6 to 353\n",
      "Data columns (total 3 columns):\n",
      "cleaned_text    207 non-null object\n",
      "cleaned_name    207 non-null object\n",
      "cleaned_geo     207 non-null object\n",
      "dtypes: object(3)\n",
      "memory usage: 6.5+ KB\n"
     ]
    }
   ],
   "source": [
    "query_cleaned.info()"
   ]
  },
  {
   "cell_type": "code",
   "execution_count": 87,
   "metadata": {},
   "outputs": [
    {
     "data": {
      "text/html": [
       "<div>\n",
       "<table border=\"1\" class=\"dataframe\">\n",
       "  <thead>\n",
       "    <tr style=\"text-align: right;\">\n",
       "      <th></th>\n",
       "      <th>cleaned_text</th>\n",
       "      <th>cleaned_name</th>\n",
       "      <th>cleaned_geo</th>\n",
       "    </tr>\n",
       "  </thead>\n",
       "  <tbody>\n",
       "    <tr>\n",
       "      <th>303</th>\n",
       "      <td>بيسكرون الطريج عشان مؤتمر القمة</td>\n",
       "      <td>om_zeena_93</td>\n",
       "      <td>None</td>\n",
       "    </tr>\n",
       "    <tr>\n",
       "      <th>279</th>\n",
       "      <td>: حياهم الله .. وان شاء الله تكون الأمور على م...</td>\n",
       "      <td>MaherAlMalalha</td>\n",
       "      <td>Kuwait</td>\n",
       "    </tr>\n",
       "    <tr>\n",
       "      <th>137</th>\n",
       "      <td>: من صجج احس بينزلني بنص الطريج</td>\n",
       "      <td>m_memoshi</td>\n",
       "      <td>Kuwait</td>\n",
       "    </tr>\n",
       "    <tr>\n",
       "      <th>220</th>\n",
       "      <td>راح انتقل لان الطريج بعيد بس ما ارد حواء ️</td>\n",
       "      <td>al3baidly656</td>\n",
       "      <td>None</td>\n",
       "    </tr>\n",
       "    <tr>\n",
       "      <th>89</th>\n",
       "      <td>: • خاطري طاب من ذاك الفريج صـد قلـبي وانـا تـ...</td>\n",
       "      <td>wael_alyaseen</td>\n",
       "      <td>None</td>\n",
       "    </tr>\n",
       "  </tbody>\n",
       "</table>\n",
       "</div>"
      ],
      "text/plain": [
       "                                          cleaned_text    cleaned_name  \\\n",
       "303                    بيسكرون الطريج عشان مؤتمر القمة     om_zeena_93   \n",
       "279  : حياهم الله .. وان شاء الله تكون الأمور على م...  MaherAlMalalha   \n",
       "137                    : من صجج احس بينزلني بنص الطريج       m_memoshi   \n",
       "220         راح انتقل لان الطريج بعيد بس ما ارد حواء ️    al3baidly656   \n",
       "89   : • خاطري طاب من ذاك الفريج صـد قلـبي وانـا تـ...   wael_alyaseen   \n",
       "\n",
       "    cleaned_geo  \n",
       "303        None  \n",
       "279      Kuwait  \n",
       "137      Kuwait  \n",
       "220        None  \n",
       "89         None  "
      ]
     },
     "execution_count": 87,
     "metadata": {},
     "output_type": "execute_result"
    }
   ],
   "source": [
    "query_cleaned.sample(5)"
   ]
  },
  {
   "cell_type": "code",
   "execution_count": null,
   "metadata": {},
   "outputs": [],
   "source": []
  },
  {
   "cell_type": "markdown",
   "metadata": {},
   "source": [
    "### Pickle to conduct EDA in seperate notebook"
   ]
  },
  {
   "cell_type": "code",
   "execution_count": 88,
   "metadata": {},
   "outputs": [
    {
     "data": {
      "text/plain": [
       "'/home/jovyan/capstone/gulf_twitter_raw'"
      ]
     },
     "execution_count": 88,
     "metadata": {},
     "output_type": "execute_result"
    }
   ],
   "source": [
    "pwd"
   ]
  },
  {
   "cell_type": "code",
   "execution_count": 89,
   "metadata": {},
   "outputs": [],
   "source": [
    "query_cleaned.to_pickle('../gulf_twitter_pickled/stream_الطريج.p')"
   ]
  },
  {
   "cell_type": "code",
   "execution_count": null,
   "metadata": {},
   "outputs": [],
   "source": []
  }
 ],
 "metadata": {
  "kernelspec": {
   "display_name": "Python 3",
   "language": "python",
   "name": "python3"
  },
  "language_info": {
   "codemirror_mode": {
    "name": "ipython",
    "version": 3
   },
   "file_extension": ".py",
   "mimetype": "text/x-python",
   "name": "python",
   "nbconvert_exporter": "python",
   "pygments_lexer": "ipython3",
   "version": "3.6.3"
  }
 },
 "nbformat": 4,
 "nbformat_minor": 2
}
