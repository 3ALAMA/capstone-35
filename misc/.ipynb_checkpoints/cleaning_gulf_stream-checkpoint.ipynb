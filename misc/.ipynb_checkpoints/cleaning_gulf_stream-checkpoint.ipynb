{
 "cells": [
  {
   "cell_type": "code",
   "execution_count": null,
   "metadata": {},
   "outputs": [],
   "source": [
    "!pip install tweet-preprocessor"
   ]
  },
  {
   "cell_type": "code",
   "execution_count": 3,
   "metadata": {},
   "outputs": [],
   "source": [
    "import preprocessor as p\n",
    "import pandas as pd\n",
    "import json\n",
    "import re"
   ]
  },
  {
   "cell_type": "code",
   "execution_count": 4,
   "metadata": {},
   "outputs": [],
   "source": [
    "pd.options.display.max_colwidth = 75"
   ]
  },
  {
   "cell_type": "markdown",
   "metadata": {},
   "source": [
    "### Turn query documents (tweets) into generators"
   ]
  },
  {
   "cell_type": "code",
   "execution_count": 115,
   "metadata": {},
   "outputs": [],
   "source": [
    "def load_tweets(file):\n",
    "    with open(file, 'r') as f:\n",
    "        tweets = (json.loads(line) for line in f.readlines())\n",
    "    return tweets"
   ]
  },
  {
   "cell_type": "code",
   "execution_count": 116,
   "metadata": {},
   "outputs": [
    {
     "name": "stdout",
     "output_type": "stream",
     "text": [
      "\u001b[0m\u001b[01;34mgulf_timelines\u001b[0m/    stream_الطريج.jsonl  stream_خربز.jsonl   stream_ياهوي.jsonl\r\n",
      "stream_ابخص.jsonl  stream_تميلح.jsonl   stream_مغسلة.jsonl\r\n"
     ]
    }
   ],
   "source": [
    "ls"
   ]
  },
  {
   "cell_type": "code",
   "execution_count": 154,
   "metadata": {
    "scrolled": false
   },
   "outputs": [],
   "source": [
    "query_gen = load_tweets('stream_الطريج.jsonl')"
   ]
  },
  {
   "cell_type": "markdown",
   "metadata": {},
   "source": [
    "### Turn query generators into dataframes"
   ]
  },
  {
   "cell_type": "code",
   "execution_count": 155,
   "metadata": {},
   "outputs": [],
   "source": [
    "def cleaner(message):\n",
    "    message = re.sub(\"([0-9A-Za-z:!/.])\", \" \", message)\n",
    "    return message"
   ]
  },
  {
   "cell_type": "code",
   "execution_count": 156,
   "metadata": {},
   "outputs": [],
   "source": [
    "def tweet_to_df(tweets):\n",
    "    data = {'text': [], 'screen_name': [], 'geo': [],\n",
    "       }\n",
    "    \n",
    "    for t in tweets:\n",
    "    \n",
    "        data['text'].append(t['text'])\n",
    "        data['screen_name'].append(t['user']['screen_name'])\n",
    "        data['geo'].append(t['user']['location'])\n",
    "    \n",
    "    return pd.DataFrame(data)"
   ]
  },
  {
   "cell_type": "code",
   "execution_count": 157,
   "metadata": {},
   "outputs": [],
   "source": [
    "query_df = tweet_to_df(query_gen)"
   ]
  },
  {
   "cell_type": "code",
   "execution_count": 158,
   "metadata": {
    "scrolled": true
   },
   "outputs": [
    {
     "name": "stdout",
     "output_type": "stream",
     "text": [
      "<class 'pandas.core.frame.DataFrame'>\n",
      "RangeIndex: 454 entries, 0 to 453\n",
      "Data columns (total 3 columns):\n",
      "geo            301 non-null object\n",
      "screen_name    454 non-null object\n",
      "text           454 non-null object\n",
      "dtypes: object(3)\n",
      "memory usage: 10.7+ KB\n"
     ]
    }
   ],
   "source": [
    "query_df.info() "
   ]
  },
  {
   "cell_type": "markdown",
   "metadata": {},
   "source": [
    "### Clean tweets (remove emojis, links, http, etc.)"
   ]
  },
  {
   "cell_type": "code",
   "execution_count": 159,
   "metadata": {},
   "outputs": [],
   "source": [
    "cleaned_text = []\n",
    "\n",
    "for tweet in query_df['text']:\n",
    "    cleaned_text.append(p.clean(cleaner(tweet)))\n",
    "\n",
    "query_df['cleaned_text']=cleaned_text"
   ]
  },
  {
   "cell_type": "code",
   "execution_count": 160,
   "metadata": {},
   "outputs": [],
   "source": [
    "cleaned_name = []\n",
    "\n",
    "for tweet in query_df['screen_name']:\n",
    "    cleaned_name.append(p.clean(tweet))\n",
    "\n",
    "query_df['cleaned_name']=cleaned_name"
   ]
  },
  {
   "cell_type": "code",
   "execution_count": 161,
   "metadata": {},
   "outputs": [],
   "source": [
    "cleaned_geo = []\n",
    "\n",
    "for tweet in query_df.geo:\n",
    "    cleaned_geo.append(p.clean(str(tweet)))\n",
    "\n",
    "query_df['cleaned_geo']=cleaned_geo\n"
   ]
  },
  {
   "cell_type": "code",
   "execution_count": 162,
   "metadata": {},
   "outputs": [
    {
     "data": {
      "text/html": [
       "<div>\n",
       "<table border=\"1\" class=\"dataframe\">\n",
       "  <thead>\n",
       "    <tr style=\"text-align: right;\">\n",
       "      <th></th>\n",
       "      <th>geo</th>\n",
       "      <th>screen_name</th>\n",
       "      <th>text</th>\n",
       "      <th>cleaned_text</th>\n",
       "      <th>cleaned_name</th>\n",
       "      <th>cleaned_geo</th>\n",
       "    </tr>\n",
       "  </thead>\n",
       "  <tbody>\n",
       "    <tr>\n",
       "      <th>291</th>\n",
       "      <td>Bahrain</td>\n",
       "      <td>sarajohn85</td>\n",
       "      <td>RT @FathiyaAjlan1: انا صوت الفريج وبنتٍ تناديك\\nتدليك الفرح وينه\\nانا ث...</td>\n",
       "      <td>انا صوت الفريج وبنتٍ تناديك تدليك الفرح وينه انا ثوبك وسبحةٍ في يدك وال...</td>\n",
       "      <td>sarajohn85</td>\n",
       "      <td>Bahrain</td>\n",
       "    </tr>\n",
       "    <tr>\n",
       "      <th>102</th>\n",
       "      <td>Dubai, United Arab Emirates</td>\n",
       "      <td>zayynzeyad</td>\n",
       "      <td>أقسم بالله لو صايرة قدامي لا ابركن عجمب و اتفرج عل منظر و أدخن والله رو...</td>\n",
       "      <td>أقسم بالله لو صايرة قدامي لا ابركن عجمب و اتفرج عل منظر و أدخن والله روعة</td>\n",
       "      <td>zayynzeyad</td>\n",
       "      <td>Dubai, United Arab Emirates</td>\n",
       "    </tr>\n",
       "    <tr>\n",
       "      <th>335</th>\n",
       "      <td>دولة الكويت</td>\n",
       "      <td>mahmoud4325</td>\n",
       "      <td>@Almajlliss الحين أنا أبي أعرف طلاب الجامعة يروحون بشنو مو بسيارة يعني ...</td>\n",
       "      <td>الحين أنا أبي أعرف طلاب الجامعة يروحون بشنو مو بسيارة يعني أكيد راح تسك...</td>\n",
       "      <td>mahmoud4325</td>\n",
       "      <td>دولة الكويت</td>\n",
       "    </tr>\n",
       "    <tr>\n",
       "      <th>130</th>\n",
       "      <td>None</td>\n",
       "      <td>dana_824</td>\n",
       "      <td>RT @FathiyaAjlan1: انا صوت الفريج وبنتٍ تناديك\\nتدليك الفرح وينه\\nانا ث...</td>\n",
       "      <td>انا صوت الفريج وبنتٍ تناديك تدليك الفرح وينه انا ثوبك وسبحةٍ في يدك وال...</td>\n",
       "      <td>dana_824</td>\n",
       "      <td>None</td>\n",
       "    </tr>\n",
       "  </tbody>\n",
       "</table>\n",
       "</div>"
      ],
      "text/plain": [
       "                             geo  screen_name  \\\n",
       "291                      Bahrain   sarajohn85   \n",
       "102  Dubai, United Arab Emirates   zayynzeyad   \n",
       "335                  دولة الكويت  mahmoud4325   \n",
       "130                         None     dana_824   \n",
       "\n",
       "                                                                           text  \\\n",
       "291  RT @FathiyaAjlan1: انا صوت الفريج وبنتٍ تناديك\\nتدليك الفرح وينه\\nانا ث...   \n",
       "102  أقسم بالله لو صايرة قدامي لا ابركن عجمب و اتفرج عل منظر و أدخن والله رو...   \n",
       "335  @Almajlliss الحين أنا أبي أعرف طلاب الجامعة يروحون بشنو مو بسيارة يعني ...   \n",
       "130  RT @FathiyaAjlan1: انا صوت الفريج وبنتٍ تناديك\\nتدليك الفرح وينه\\nانا ث...   \n",
       "\n",
       "                                                                   cleaned_text  \\\n",
       "291  انا صوت الفريج وبنتٍ تناديك تدليك الفرح وينه انا ثوبك وسبحةٍ في يدك وال...   \n",
       "102   أقسم بالله لو صايرة قدامي لا ابركن عجمب و اتفرج عل منظر و أدخن والله روعة   \n",
       "335  الحين أنا أبي أعرف طلاب الجامعة يروحون بشنو مو بسيارة يعني أكيد راح تسك...   \n",
       "130  انا صوت الفريج وبنتٍ تناديك تدليك الفرح وينه انا ثوبك وسبحةٍ في يدك وال...   \n",
       "\n",
       "    cleaned_name                  cleaned_geo  \n",
       "291   sarajohn85                      Bahrain  \n",
       "102   zayynzeyad  Dubai, United Arab Emirates  \n",
       "335  mahmoud4325                  دولة الكويت  \n",
       "130     dana_824                         None  "
      ]
     },
     "execution_count": 162,
     "metadata": {},
     "output_type": "execute_result"
    }
   ],
   "source": [
    "query_df.sample(4)"
   ]
  },
  {
   "cell_type": "markdown",
   "metadata": {},
   "source": [
    "### Remove duplicated tweets"
   ]
  },
  {
   "cell_type": "code",
   "execution_count": 163,
   "metadata": {},
   "outputs": [
    {
     "data": {
      "text/plain": [
       "280    False\n",
       "290     True\n",
       "407     True\n",
       "294    False\n",
       "60      True\n",
       "Name: cleaned_text, dtype: bool"
      ]
     },
     "execution_count": 163,
     "metadata": {},
     "output_type": "execute_result"
    }
   ],
   "source": [
    "query_df['cleaned_text'].duplicated().sample(5)"
   ]
  },
  {
   "cell_type": "code",
   "execution_count": 164,
   "metadata": {},
   "outputs": [],
   "source": [
    "query_cleaned = query_df.drop_duplicates(['cleaned_text'], keep='last')\n",
    "query_cleaned = query_cleaned.drop(['screen_name', 'text', 'geo'], axis=1)"
   ]
  },
  {
   "cell_type": "code",
   "execution_count": 165,
   "metadata": {},
   "outputs": [
    {
     "data": {
      "text/plain": [
       "(230, 3)"
      ]
     },
     "execution_count": 165,
     "metadata": {},
     "output_type": "execute_result"
    }
   ],
   "source": [
    "query_cleaned.shape"
   ]
  },
  {
   "cell_type": "code",
   "execution_count": 166,
   "metadata": {},
   "outputs": [
    {
     "data": {
      "text/html": [
       "<div>\n",
       "<table border=\"1\" class=\"dataframe\">\n",
       "  <thead>\n",
       "    <tr style=\"text-align: right;\">\n",
       "      <th></th>\n",
       "      <th>cleaned_text</th>\n",
       "      <th>cleaned_name</th>\n",
       "      <th>cleaned_geo</th>\n",
       "    </tr>\n",
       "  </thead>\n",
       "  <tbody>\n",
       "    <tr>\n",
       "      <th>158</th>\n",
       "      <td>عبده التصوير</td>\n",
       "      <td>RienMieuxQueMoi</td>\n",
       "      <td>Kuwait</td>\n",
       "    </tr>\n",
       "    <tr>\n",
       "      <th>280</th>\n",
       "      <td>لما وصلت نص الطريج تعتذر؟؟؟؟؟؟؟؟</td>\n",
       "      <td>isarah72</td>\n",
       "      <td>دولة الكويت</td>\n",
       "    </tr>\n",
       "    <tr>\n",
       "      <th>429</th>\n",
       "      <td>اخوان سته كلنا نمشي بنفس الطريج 🇦🇪️🇧🇭️🇸🇦️🇴🇲️🇶🇦️🇰🇼</td>\n",
       "      <td>someoneee04</td>\n",
       "      <td>دولة الكويت</td>\n",
       "    </tr>\n",
       "    <tr>\n",
       "      <th>320</th>\n",
       "      <td>_ سلام عليكم دكتوره باجر ما راح اقدر احضر الشوارع مسكره وانا بيتنا بصبا...</td>\n",
       "      <td>Rawoony_</td>\n",
       "      <td>Kuwait</td>\n",
       "    </tr>\n",
       "    <tr>\n",
       "      <th>224</th>\n",
       "      <td>اهل الفحيحيل اولى عشان نفضيلهم الطريج بعد</td>\n",
       "      <td>sarasaladwani</td>\n",
       "      <td>None</td>\n",
       "    </tr>\n",
       "  </tbody>\n",
       "</table>\n",
       "</div>"
      ],
      "text/plain": [
       "                                                                   cleaned_text  \\\n",
       "158                                                                عبده التصوير   \n",
       "280                                            لما وصلت نص الطريج تعتذر؟؟؟؟؟؟؟؟   \n",
       "429                           اخوان سته كلنا نمشي بنفس الطريج 🇦🇪️🇧🇭️🇸🇦️🇴🇲️🇶🇦️🇰🇼   \n",
       "320  _ سلام عليكم دكتوره باجر ما راح اقدر احضر الشوارع مسكره وانا بيتنا بصبا...   \n",
       "224                                   اهل الفحيحيل اولى عشان نفضيلهم الطريج بعد   \n",
       "\n",
       "        cleaned_name  cleaned_geo  \n",
       "158  RienMieuxQueMoi       Kuwait  \n",
       "280         isarah72  دولة الكويت  \n",
       "429      someoneee04  دولة الكويت  \n",
       "320         Rawoony_       Kuwait  \n",
       "224    sarasaladwani         None  "
      ]
     },
     "execution_count": 166,
     "metadata": {},
     "output_type": "execute_result"
    }
   ],
   "source": [
    "query_cleaned.sample(5)"
   ]
  },
  {
   "cell_type": "code",
   "execution_count": 167,
   "metadata": {
    "scrolled": true
   },
   "outputs": [
    {
     "data": {
      "text/plain": [
       "None             78\n",
       "Kuwait           26\n",
       "دولة الكويت      13\n",
       "kuwait            9\n",
       "Salwa, Kuwait     8\n",
       "Name: cleaned_geo, dtype: int64"
      ]
     },
     "execution_count": 167,
     "metadata": {},
     "output_type": "execute_result"
    }
   ],
   "source": [
    "query_cleaned.cleaned_geo.value_counts().head()"
   ]
  },
  {
   "cell_type": "code",
   "execution_count": 168,
   "metadata": {},
   "outputs": [
    {
     "data": {
      "text/plain": [
       "Fahad_alenze     7\n",
       "Nora_buhamad     4\n",
       "savagecoffe_t    3\n",
       "BatoolALQ_       2\n",
       "mi3ado_1989      2\n",
       "Name: cleaned_name, dtype: int64"
      ]
     },
     "execution_count": 168,
     "metadata": {},
     "output_type": "execute_result"
    }
   ],
   "source": [
    "query_cleaned.cleaned_name.value_counts().head()"
   ]
  },
  {
   "cell_type": "code",
   "execution_count": 169,
   "metadata": {},
   "outputs": [
    {
     "data": {
      "text/html": [
       "<div>\n",
       "<table border=\"1\" class=\"dataframe\">\n",
       "  <thead>\n",
       "    <tr style=\"text-align: right;\">\n",
       "      <th></th>\n",
       "      <th>cleaned_text</th>\n",
       "      <th>cleaned_name</th>\n",
       "      <th>cleaned_geo</th>\n",
       "    </tr>\n",
       "  </thead>\n",
       "  <tbody>\n",
       "    <tr>\n",
       "      <th>6</th>\n",
       "      <td>_ على الاقل ارحم من ان تتعود على وجود احد ويغرقك اهتمام وحب ويغنيك عن ا...</td>\n",
       "      <td>typicallynorah</td>\n",
       "      <td>United Arab Emirates</td>\n",
       "    </tr>\n",
       "    <tr>\n",
       "      <th>7</th>\n",
       "      <td>وحدة مكافحة الموز في الطريج</td>\n",
       "      <td>Hasan95780025</td>\n",
       "      <td>Dokhaa</td>\n",
       "    </tr>\n",
       "    <tr>\n",
       "      <th>17</th>\n",
       "      <td>اوك مسافة الطريج يايتلچ ‍️‍️‍️</td>\n",
       "      <td>hodaaa_q8</td>\n",
       "      <td>None</td>\n",
       "    </tr>\n",
       "    <tr>\n",
       "      <th>18</th>\n",
       "      <td>_ كلام جميل لكن وين التطبيق طلع قانون للخدم ونشر بالجريدة الرسمية من زم...</td>\n",
       "      <td>DzY9d</td>\n",
       "      <td>Kuwait</td>\n",
       "    </tr>\n",
       "    <tr>\n",
       "      <th>22</th>\n",
       "      <td>الثالث علي الطريج طولي بالج اول الله️</td>\n",
       "      <td>ZuSX6cXU62tZPUW</td>\n",
       "      <td>None</td>\n",
       "    </tr>\n",
       "    <tr>\n",
       "      <th>26</th>\n",
       "      <td>لما أكون مستعيله ويغلط السواق ف الطريج</td>\n",
       "      <td>R__Aey</td>\n",
       "      <td>Konoha</td>\n",
       "    </tr>\n",
       "    <tr>\n",
       "      <th>30</th>\n",
       "      <td>احبك كثر ماتوقف على جنب الطريج اشجار احبك كثر مايقسى الشتا وتهاجر طيوره</td>\n",
       "      <td>almutairi43__</td>\n",
       "      <td>None</td>\n",
       "    </tr>\n",
       "    <tr>\n",
       "      <th>37</th>\n",
       "      <td>حدة حدة</td>\n",
       "      <td>_fatmaa114</td>\n",
       "      <td>Kuwait</td>\n",
       "    </tr>\n",
       "    <tr>\n",
       "      <th>39</th>\n",
       "      <td>لحد يسلمي ال ويقولي بسج توقفين بنص الاغنيه, الطريج دقايق وانا عندي اغني...</td>\n",
       "      <td>ig47j</td>\n",
       "      <td>upside down</td>\n",
       "    </tr>\n",
       "    <tr>\n",
       "      <th>42</th>\n",
       "      <td>ماشفت هالشي شنو هذا</td>\n",
       "      <td>f36s_x</td>\n",
       "      <td>None</td>\n",
       "    </tr>\n",
       "    <tr>\n",
       "      <th>46</th>\n",
       "      <td>متعني للعاشره عشان اتقهوى يالله الخيره ماتحسفت الا يوم وصلت نص الطريج</td>\n",
       "      <td>mle3_al8eem</td>\n",
       "      <td>مراح الوالد</td>\n",
       "    </tr>\n",
       "    <tr>\n",
       "      <th>48</th>\n",
       "      <td>بنجر علي التاير بنص الطريج و رجعت بتكسي</td>\n",
       "      <td>B_aljenae</td>\n",
       "      <td>Hateen</td>\n",
       "    </tr>\n",
       "    <tr>\n",
       "      <th>51</th>\n",
       "      <td>ايي والله بغيت اغير طريجي والسبه اني مابي افتحله الطريج وداااايس</td>\n",
       "      <td>NafNoof</td>\n",
       "      <td>Kuwait</td>\n",
       "    </tr>\n",
       "    <tr>\n",
       "      <th>52</th>\n",
       "      <td>انا نظامي اخليهم يسمعون اول دقايق والي بعده</td>\n",
       "      <td>Ha2928</td>\n",
       "      <td>None</td>\n",
       "    </tr>\n",
       "    <tr>\n",
       "      <th>53</th>\n",
       "      <td>الطريج يخوف بليل</td>\n",
       "      <td>alnweiam</td>\n",
       "      <td>قيثارة الشّرق</td>\n",
       "    </tr>\n",
       "    <tr>\n",
       "      <th>55</th>\n",
       "      <td>الله يحييچ يلا مسافة الطريج وأكون عندچ</td>\n",
       "      <td>subzoe</td>\n",
       "      <td>None</td>\n",
       "    </tr>\n",
       "    <tr>\n",
       "      <th>66</th>\n",
       "      <td>متعه في خط سريع فاضي بالليل ويمك غالي تحبه وبعد سوالفه تسمع طرب ابو نور...</td>\n",
       "      <td>aIshoq</td>\n",
       "      <td>None</td>\n",
       "    </tr>\n",
       "    <tr>\n",
       "      <th>67</th>\n",
       "      <td>شنو هذا ابي اعرف</td>\n",
       "      <td>almahdi__f</td>\n",
       "      <td>None</td>\n",
       "    </tr>\n",
       "    <tr>\n",
       "      <th>68</th>\n",
       "      <td>شلون جذي</td>\n",
       "      <td>Rel211_</td>\n",
       "      <td>None</td>\n",
       "    </tr>\n",
       "    <tr>\n",
       "      <th>76</th>\n",
       "      <td>__ شنو هذا ابي اعرف</td>\n",
       "      <td>Fahad_alenze</td>\n",
       "      <td>Salwa, Kuwait</td>\n",
       "    </tr>\n",
       "    <tr>\n",
       "      <th>80</th>\n",
       "      <td>انزين الناس منحاشة لي وين هي جايتكم جايتكم</td>\n",
       "      <td>Fahad_alenze</td>\n",
       "      <td>Salwa, Kuwait</td>\n",
       "    </tr>\n",
       "    <tr>\n",
       "      <th>83</th>\n",
       "      <td>ريتويت اذا كان عبالك يوم القيامة</td>\n",
       "      <td>Fahad_alenze</td>\n",
       "      <td>Salwa, Kuwait</td>\n",
       "    </tr>\n",
       "    <tr>\n",
       "      <th>89</th>\n",
       "      <td>_ • خاطري طاب من ذاك الفريج صـد قلـبي وانـا تـابع هـواه • كل يوم وانا أ...</td>\n",
       "      <td>wael_alyaseen</td>\n",
       "      <td>None</td>\n",
       "    </tr>\n",
       "    <tr>\n",
       "      <th>98</th>\n",
       "      <td>تقريباً كان قبل سنوات يوم مانساه</td>\n",
       "      <td>hadeelnasser34</td>\n",
       "      <td>Al Khobar, Kingdom of Saudi Arabia</td>\n",
       "    </tr>\n",
       "    <tr>\n",
       "      <th>99</th>\n",
       "      <td>حدث في الكويت قبل جم سنه ،، لكن مو إهني المشكله ، المشكله الناس من الرع...</td>\n",
       "      <td>savagecoffe_t</td>\n",
       "      <td>ديرة الكافيهات</td>\n",
       "    </tr>\n",
       "    <tr>\n",
       "      <th>102</th>\n",
       "      <td>أقسم بالله لو صايرة قدامي لا ابركن عجمب و اتفرج عل منظر و أدخن والله روعة</td>\n",
       "      <td>zayynzeyad</td>\n",
       "      <td>Dubai, United Arab Emirates</td>\n",
       "    </tr>\n",
       "    <tr>\n",
       "      <th>105</th>\n",
       "      <td>اتمنى مناقشة طريج الوفرة تعبنا من الطريج</td>\n",
       "      <td>mhseen11</td>\n",
       "      <td>دولة الكويت</td>\n",
       "    </tr>\n",
       "    <tr>\n",
       "      <th>114</th>\n",
       "      <td>ما انسى هاليوم</td>\n",
       "      <td>Fahad_alenze</td>\n",
       "      <td>Salwa, Kuwait</td>\n",
       "    </tr>\n",
       "    <tr>\n",
       "      <th>117</th>\n",
       "      <td>وش هذا</td>\n",
       "      <td>Var5ne</td>\n",
       "      <td>جدة, المملكة العربية السعودية</td>\n",
       "    </tr>\n",
       "    <tr>\n",
       "      <th>121</th>\n",
       "      <td>وقتها تذكرون شنو صار _</td>\n",
       "      <td>paulsmith_66</td>\n",
       "      <td>Lost</td>\n",
       "    </tr>\n",
       "    <tr>\n",
       "      <th>...</th>\n",
       "      <td>...</td>\n",
       "      <td>...</td>\n",
       "      <td>...</td>\n",
       "    </tr>\n",
       "    <tr>\n",
       "      <th>395</th>\n",
       "      <td>ياليتك ما تكلمت بذمتك هذي قصيدة؟؟؟</td>\n",
       "      <td>abaalqoluob</td>\n",
       "      <td>None</td>\n",
       "    </tr>\n",
       "    <tr>\n",
       "      <th>400</th>\n",
       "      <td>ماعمري شفت الطريج فاضي كثر اليوم</td>\n",
       "      <td>SarahAlRu</td>\n",
       "      <td>None</td>\n",
       "    </tr>\n",
       "    <tr>\n",
       "      <th>401</th>\n",
       "      <td>يوم الي ماعندي دواااام الطريج ربع ساعه وايام المحاضرات ساعه او دقيقه اذ...</td>\n",
       "      <td>amnah_101</td>\n",
       "      <td>Kuwait</td>\n",
       "    </tr>\n",
       "    <tr>\n",
       "      <th>402</th>\n",
       "      <td>اذا الخامس او المطار بس غيري الطريج</td>\n",
       "      <td>bumousa</td>\n",
       "      <td>kuwait</td>\n",
       "    </tr>\n",
       "    <tr>\n",
       "      <th>406</th>\n",
       "      <td>انتبه في الطريج</td>\n",
       "      <td>BINALYAME</td>\n",
       "      <td>None</td>\n",
       "    </tr>\n",
       "    <tr>\n",
       "      <th>408</th>\n",
       "      <td>اتوقع فاتحين الطريج بس حقي،سوري بيبي</td>\n",
       "      <td>NMalajmi36</td>\n",
       "      <td>Kuwait</td>\n",
       "    </tr>\n",
       "    <tr>\n",
       "      <th>410</th>\n",
       "      <td>نمشي بنفس الطريج ستة من نفس الفريج قلوبنا تنبض عروبه وكل شي فينا خليج</td>\n",
       "      <td>Hamad_Alshamlan</td>\n",
       "      <td>Kuwait</td>\n",
       "    </tr>\n",
       "    <tr>\n",
       "      <th>411</th>\n",
       "      <td>يومها كنت مع أخوي بفروسية الفروانية، وأول ما بيّن الغبار من بعيد كنا نح...</td>\n",
       "      <td>mr__3esa</td>\n",
       "      <td>None</td>\n",
       "    </tr>\n",
       "    <tr>\n",
       "      <th>412</th>\n",
       "      <td>اغنية الموسم ثلاث دقات طول الطريج روحة و ردة قاعد اسمعها</td>\n",
       "      <td>F_alsane3</td>\n",
       "      <td>KUWAIT</td>\n",
       "    </tr>\n",
       "    <tr>\n",
       "      <th>414</th>\n",
       "      <td>ممممن ججججد ههههههههههههههههههههههههههههه</td>\n",
       "      <td>Zeinep_99</td>\n",
       "      <td>Ahsa,</td>\n",
       "    </tr>\n",
       "    <tr>\n",
       "      <th>415</th>\n",
       "      <td>_ اغنية الموسم ثلاث دقات طول الطريج روحة و ردة قاعد اسمعها</td>\n",
       "      <td>nadi501</td>\n",
       "      <td>Q8</td>\n",
       "    </tr>\n",
       "    <tr>\n",
       "      <th>424</th>\n",
       "      <td>ها بشروا الطريج سالك والا اكمل شغلي بالمكتب واطلبلي غدا</td>\n",
       "      <td>q8lawyer7</td>\n",
       "      <td>kuwait,وطن النهار</td>\n",
       "    </tr>\n",
       "    <tr>\n",
       "      <th>425</th>\n",
       "      <td>نتمنى من الداخلية يفتحون الطريج والحبايب الي وصلو خل يغصون بالزحمة معان...</td>\n",
       "      <td>O__Alshatti</td>\n",
       "      <td>Asia Kuwait</td>\n",
       "    </tr>\n",
       "    <tr>\n",
       "      <th>426</th>\n",
       "      <td>نتمنى من الداخلية يفتحون الطريج والحبايب الي وصلو خل يغصون بالزحمة معان...</td>\n",
       "      <td>O__Alshatti</td>\n",
       "      <td>Asia Kuwait</td>\n",
       "    </tr>\n",
       "    <tr>\n",
       "      <th>427</th>\n",
       "      <td>__ نتمنى من الداخلية يفتحون الطريج والحبايب الي وصلو خل يغصون بالزحمة م...</td>\n",
       "      <td>A_SH_R</td>\n",
       "      <td>Doha</td>\n",
       "    </tr>\n",
       "    <tr>\n",
       "      <th>428</th>\n",
       "      <td>انا اقول بطلوا الطريج احسن بطلوا</td>\n",
       "      <td>Munai_ALTaqi</td>\n",
       "      <td>Kuwait</td>\n",
       "    </tr>\n",
       "    <tr>\n",
       "      <th>429</th>\n",
       "      <td>اخوان سته كلنا نمشي بنفس الطريج 🇦🇪️🇧🇭️🇸🇦️🇴🇲️🇶🇦️🇰🇼</td>\n",
       "      <td>someoneee04</td>\n",
       "      <td>دولة الكويت</td>\n",
       "    </tr>\n",
       "    <tr>\n",
       "      <th>431</th>\n",
       "      <td>_ ممممن ججججد ههههههههههههههههههههههههههههه</td>\n",
       "      <td>F_alsane3</td>\n",
       "      <td>KUWAIT</td>\n",
       "    </tr>\n",
       "    <tr>\n",
       "      <th>432</th>\n",
       "      <td>انت الذي اخترت الطريج و أشعلت في يوفي حريق</td>\n",
       "      <td>DuMurier70</td>\n",
       "      <td>None</td>\n",
       "    </tr>\n",
       "    <tr>\n",
       "      <th>433</th>\n",
       "      <td>اي صححح سبب روقاني اليوم اني شفت القمر الصبح طول الطريج اطالعه شكله حيي...</td>\n",
       "      <td>ieifff</td>\n",
       "      <td>None</td>\n",
       "    </tr>\n",
       "    <tr>\n",
       "      <th>437</th>\n",
       "      <td>ههههههه لا الطريج مفتوح إنطلق</td>\n",
       "      <td>mutairiya84</td>\n",
       "      <td>Kuwait</td>\n",
       "    </tr>\n",
       "    <tr>\n",
       "      <th>440</th>\n",
       "      <td>ما شاء الله من زمان ما طلعت ع الملك فهد وجذي الطريج سالك 🇰🇼</td>\n",
       "      <td>ms100fj</td>\n",
       "      <td>قرطبه, دولة الكويت</td>\n",
       "    </tr>\n",
       "    <tr>\n",
       "      <th>443</th>\n",
       "      <td>% من سحباتي للدوام، ماتكون بسبب إني مالي خلق أداوم، بل تكون بسبب إني ما...</td>\n",
       "      <td>thebestsays</td>\n",
       "      <td>None</td>\n",
       "    </tr>\n",
       "    <tr>\n",
       "      <th>444</th>\n",
       "      <td>صحّو إللي في عداوتنا ، إحلمو وإللي سوّو بينا &amp; ; هذا الضجيج 🇰🇼🇧🇭🇦🇪🇸🇦🇶🇦🇴...</td>\n",
       "      <td>artisanbh</td>\n",
       "      <td>None</td>\n",
       "    </tr>\n",
       "    <tr>\n",
       "      <th>445</th>\n",
       "      <td>_ _ جم ساعه الطريج ؟</td>\n",
       "      <td>NoN_Stop85</td>\n",
       "      <td>Stamford Bridge</td>\n",
       "    </tr>\n",
       "    <tr>\n",
       "      <th>447</th>\n",
       "      <td>قول حق باريستا تسويلي واحد ثاني لي مسافه الطريج</td>\n",
       "      <td>AbdullahAlomarr</td>\n",
       "      <td>Saudi Arabia</td>\n",
       "    </tr>\n",
       "    <tr>\n",
       "      <th>448</th>\n",
       "      <td>_ حدث في الكويت قبل جم سنه ،، لكن مو إهني المشكله ، المشكله الناس من ال...</td>\n",
       "      <td>love123741</td>\n",
       "      <td>None</td>\n",
       "    </tr>\n",
       "    <tr>\n",
       "      <th>450</th>\n",
       "      <td>_ نمشي بنفس الطريج ستة من نفس الفريج قلوبنا تنبض عروبه وكل شي فينا خليج</td>\n",
       "      <td>Hayaa_90</td>\n",
       "      <td>None</td>\n",
       "    </tr>\n",
       "    <tr>\n",
       "      <th>452</th>\n",
       "      <td>الكويت حالياً هي الدولة الوحيدة اللي حريصة على مجلس التعاون الخليجي، بت...</td>\n",
       "      <td>Q8118Q</td>\n",
       "      <td>None</td>\n",
       "    </tr>\n",
       "    <tr>\n",
       "      <th>453</th>\n",
       "      <td>مستحيل اسوي شيء ينرفز مني و الطريج عاد انتو و حركاتكم البايخه،انا مالي شغل</td>\n",
       "      <td>jameela56_</td>\n",
       "      <td>kuwait</td>\n",
       "    </tr>\n",
       "  </tbody>\n",
       "</table>\n",
       "<p>230 rows × 3 columns</p>\n",
       "</div>"
      ],
      "text/plain": [
       "                                                                   cleaned_text  \\\n",
       "6    _ على الاقل ارحم من ان تتعود على وجود احد ويغرقك اهتمام وحب ويغنيك عن ا...   \n",
       "7                                                   وحدة مكافحة الموز في الطريج   \n",
       "17                                               اوك مسافة الطريج يايتلچ ‍️‍️‍️   \n",
       "18   _ كلام جميل لكن وين التطبيق طلع قانون للخدم ونشر بالجريدة الرسمية من زم...   \n",
       "22                                        الثالث علي الطريج طولي بالج اول الله️   \n",
       "26                                       لما أكون مستعيله ويغلط السواق ف الطريج   \n",
       "30      احبك كثر ماتوقف على جنب الطريج اشجار احبك كثر مايقسى الشتا وتهاجر طيوره   \n",
       "37                                                                      حدة حدة   \n",
       "39   لحد يسلمي ال ويقولي بسج توقفين بنص الاغنيه, الطريج دقايق وانا عندي اغني...   \n",
       "42                                                          ماشفت هالشي شنو هذا   \n",
       "46        متعني للعاشره عشان اتقهوى يالله الخيره ماتحسفت الا يوم وصلت نص الطريج   \n",
       "48                                      بنجر علي التاير بنص الطريج و رجعت بتكسي   \n",
       "51             ايي والله بغيت اغير طريجي والسبه اني مابي افتحله الطريج وداااايس   \n",
       "52                                  انا نظامي اخليهم يسمعون اول دقايق والي بعده   \n",
       "53                                                             الطريج يخوف بليل   \n",
       "55                                       الله يحييچ يلا مسافة الطريج وأكون عندچ   \n",
       "66   متعه في خط سريع فاضي بالليل ويمك غالي تحبه وبعد سوالفه تسمع طرب ابو نور...   \n",
       "67                                                             شنو هذا ابي اعرف   \n",
       "68                                                                     شلون جذي   \n",
       "76                                                          __ شنو هذا ابي اعرف   \n",
       "80                                   انزين الناس منحاشة لي وين هي جايتكم جايتكم   \n",
       "83                                             ريتويت اذا كان عبالك يوم القيامة   \n",
       "89   _ • خاطري طاب من ذاك الفريج صـد قلـبي وانـا تـابع هـواه • كل يوم وانا أ...   \n",
       "98                                             تقريباً كان قبل سنوات يوم مانساه   \n",
       "99   حدث في الكويت قبل جم سنه ،، لكن مو إهني المشكله ، المشكله الناس من الرع...   \n",
       "102   أقسم بالله لو صايرة قدامي لا ابركن عجمب و اتفرج عل منظر و أدخن والله روعة   \n",
       "105                                    اتمنى مناقشة طريج الوفرة تعبنا من الطريج   \n",
       "114                                                              ما انسى هاليوم   \n",
       "117                                                                      وش هذا   \n",
       "121                                                      وقتها تذكرون شنو صار _   \n",
       "..                                                                          ...   \n",
       "395                                          ياليتك ما تكلمت بذمتك هذي قصيدة؟؟؟   \n",
       "400                                            ماعمري شفت الطريج فاضي كثر اليوم   \n",
       "401  يوم الي ماعندي دواااام الطريج ربع ساعه وايام المحاضرات ساعه او دقيقه اذ...   \n",
       "402                                         اذا الخامس او المطار بس غيري الطريج   \n",
       "406                                                             انتبه في الطريج   \n",
       "408                                        اتوقع فاتحين الطريج بس حقي،سوري بيبي   \n",
       "410       نمشي بنفس الطريج ستة من نفس الفريج قلوبنا تنبض عروبه وكل شي فينا خليج   \n",
       "411  يومها كنت مع أخوي بفروسية الفروانية، وأول ما بيّن الغبار من بعيد كنا نح...   \n",
       "412                    اغنية الموسم ثلاث دقات طول الطريج روحة و ردة قاعد اسمعها   \n",
       "414                                   ممممن ججججد ههههههههههههههههههههههههههههه   \n",
       "415                  _ اغنية الموسم ثلاث دقات طول الطريج روحة و ردة قاعد اسمعها   \n",
       "424                     ها بشروا الطريج سالك والا اكمل شغلي بالمكتب واطلبلي غدا   \n",
       "425  نتمنى من الداخلية يفتحون الطريج والحبايب الي وصلو خل يغصون بالزحمة معان...   \n",
       "426  نتمنى من الداخلية يفتحون الطريج والحبايب الي وصلو خل يغصون بالزحمة معان...   \n",
       "427  __ نتمنى من الداخلية يفتحون الطريج والحبايب الي وصلو خل يغصون بالزحمة م...   \n",
       "428                                            انا اقول بطلوا الطريج احسن بطلوا   \n",
       "429                           اخوان سته كلنا نمشي بنفس الطريج 🇦🇪️🇧🇭️🇸🇦️🇴🇲️🇶🇦️🇰🇼   \n",
       "431                                 _ ممممن ججججد ههههههههههههههههههههههههههههه   \n",
       "432                                  انت الذي اخترت الطريج و أشعلت في يوفي حريق   \n",
       "433  اي صححح سبب روقاني اليوم اني شفت القمر الصبح طول الطريج اطالعه شكله حيي...   \n",
       "437                                               ههههههه لا الطريج مفتوح إنطلق   \n",
       "440                 ما شاء الله من زمان ما طلعت ع الملك فهد وجذي الطريج سالك 🇰🇼   \n",
       "443  % من سحباتي للدوام، ماتكون بسبب إني مالي خلق أداوم، بل تكون بسبب إني ما...   \n",
       "444  صحّو إللي في عداوتنا ، إحلمو وإللي سوّو بينا & ; هذا الضجيج 🇰🇼🇧🇭🇦🇪🇸🇦🇶🇦🇴...   \n",
       "445                                                        _ _ جم ساعه الطريج ؟   \n",
       "447                             قول حق باريستا تسويلي واحد ثاني لي مسافه الطريج   \n",
       "448  _ حدث في الكويت قبل جم سنه ،، لكن مو إهني المشكله ، المشكله الناس من ال...   \n",
       "450     _ نمشي بنفس الطريج ستة من نفس الفريج قلوبنا تنبض عروبه وكل شي فينا خليج   \n",
       "452  الكويت حالياً هي الدولة الوحيدة اللي حريصة على مجلس التعاون الخليجي، بت...   \n",
       "453  مستحيل اسوي شيء ينرفز مني و الطريج عاد انتو و حركاتكم البايخه،انا مالي شغل   \n",
       "\n",
       "        cleaned_name                         cleaned_geo  \n",
       "6     typicallynorah                United Arab Emirates  \n",
       "7      Hasan95780025                              Dokhaa  \n",
       "17         hodaaa_q8                                None  \n",
       "18             DzY9d                              Kuwait  \n",
       "22   ZuSX6cXU62tZPUW                                None  \n",
       "26            R__Aey                              Konoha  \n",
       "30     almutairi43__                                None  \n",
       "37        _fatmaa114                              Kuwait  \n",
       "39             ig47j                         upside down  \n",
       "42            f36s_x                                None  \n",
       "46       mle3_al8eem                         مراح الوالد  \n",
       "48         B_aljenae                              Hateen  \n",
       "51           NafNoof                              Kuwait  \n",
       "52            Ha2928                                None  \n",
       "53          alnweiam                       قيثارة الشّرق  \n",
       "55            subzoe                                None  \n",
       "66            aIshoq                                None  \n",
       "67        almahdi__f                                None  \n",
       "68           Rel211_                                None  \n",
       "76      Fahad_alenze                       Salwa, Kuwait  \n",
       "80      Fahad_alenze                       Salwa, Kuwait  \n",
       "83      Fahad_alenze                       Salwa, Kuwait  \n",
       "89     wael_alyaseen                                None  \n",
       "98    hadeelnasser34  Al Khobar, Kingdom of Saudi Arabia  \n",
       "99     savagecoffe_t                      ديرة الكافيهات  \n",
       "102       zayynzeyad         Dubai, United Arab Emirates  \n",
       "105         mhseen11                         دولة الكويت  \n",
       "114     Fahad_alenze                       Salwa, Kuwait  \n",
       "117           Var5ne       جدة, المملكة العربية السعودية  \n",
       "121     paulsmith_66                                Lost  \n",
       "..               ...                                 ...  \n",
       "395      abaalqoluob                                None  \n",
       "400        SarahAlRu                                None  \n",
       "401        amnah_101                              Kuwait  \n",
       "402          bumousa                              kuwait  \n",
       "406        BINALYAME                                None  \n",
       "408       NMalajmi36                              Kuwait  \n",
       "410  Hamad_Alshamlan                              Kuwait  \n",
       "411         mr__3esa                                None  \n",
       "412        F_alsane3                              KUWAIT  \n",
       "414        Zeinep_99                               Ahsa,  \n",
       "415          nadi501                                  Q8  \n",
       "424        q8lawyer7                   kuwait,وطن النهار  \n",
       "425      O__Alshatti                         Asia Kuwait  \n",
       "426      O__Alshatti                         Asia Kuwait  \n",
       "427           A_SH_R                                Doha  \n",
       "428     Munai_ALTaqi                              Kuwait  \n",
       "429      someoneee04                         دولة الكويت  \n",
       "431        F_alsane3                              KUWAIT  \n",
       "432       DuMurier70                                None  \n",
       "433           ieifff                                None  \n",
       "437      mutairiya84                              Kuwait  \n",
       "440          ms100fj                  قرطبه, دولة الكويت  \n",
       "443      thebestsays                                None  \n",
       "444        artisanbh                                None  \n",
       "445       NoN_Stop85                     Stamford Bridge  \n",
       "447  AbdullahAlomarr                        Saudi Arabia  \n",
       "448       love123741                                None  \n",
       "450         Hayaa_90                                None  \n",
       "452           Q8118Q                                None  \n",
       "453       jameela56_                              kuwait  \n",
       "\n",
       "[230 rows x 3 columns]"
      ]
     },
     "execution_count": 169,
     "metadata": {},
     "output_type": "execute_result"
    }
   ],
   "source": [
    "query_cleaned.fillna('None')"
   ]
  },
  {
   "cell_type": "code",
   "execution_count": 170,
   "metadata": {},
   "outputs": [
    {
     "name": "stdout",
     "output_type": "stream",
     "text": [
      "<class 'pandas.core.frame.DataFrame'>\n",
      "Int64Index: 230 entries, 6 to 453\n",
      "Data columns (total 3 columns):\n",
      "cleaned_text    230 non-null object\n",
      "cleaned_name    230 non-null object\n",
      "cleaned_geo     230 non-null object\n",
      "dtypes: object(3)\n",
      "memory usage: 7.2+ KB\n"
     ]
    }
   ],
   "source": [
    "query_cleaned.info() "
   ]
  },
  {
   "cell_type": "markdown",
   "metadata": {},
   "source": [
    "### Consolidate different geo tags"
   ]
  },
  {
   "cell_type": "code",
   "execution_count": 103,
   "metadata": {},
   "outputs": [],
   "source": [
    "locations = {'Saudi Arabia': ['Kingdom of Saudi Arabia', 'MAKKAH', 'saudi arabia', 'jeddah', 'مكة المكرمة', 'المملكة العربية', 'Jeddah', 'Riyadh', 'المملكة العربية السعودية', 'الرياض, المملكة العربية السعودية', 'الرياض, المملكة العربية السعودية', 'jeddah , saudi arabia', 'الرياض', 'آلقصيم ، بريده', 'جدة, المملكة العربية السعودية', 'المدينة المنورة, المملكة العربية السعودية', 'Riyadh, Kingdom of Saudi Arabia', 'makkah - saudi arabia', 'جده', 'Dammam', 'Dammam, Eastern', 'Al Khobar, Kingdom of Saudi Arabia'],\n",
    "             'Kuwait': ['الكويت', 'Alkuwait', 'kuwait', 'KUWAIT', 'Kuwait , Salwa', 'Qortuba, Kuwait', 'دولة الكويت', 'العاصمه, دولة الكويت', 'The Capital, Kuwait', 'Al Salam, Kuwait', 'Salwa, Kuwait', 'كوكب الشرق - Kuwait']\n",
    "            }"
   ]
  },
  {
   "cell_type": "code",
   "execution_count": 104,
   "metadata": {},
   "outputs": [
    {
     "data": {
      "text/plain": [
       "True"
      ]
     },
     "execution_count": 104,
     "metadata": {},
     "output_type": "execute_result"
    }
   ],
   "source": [
    "'MAKKAH' in list(locations.values())[0]"
   ]
  },
  {
   "cell_type": "code",
   "execution_count": 105,
   "metadata": {},
   "outputs": [
    {
     "data": {
      "text/plain": [
       "False"
      ]
     },
     "execution_count": 105,
     "metadata": {},
     "output_type": "execute_result"
    }
   ],
   "source": [
    "'MAKKAH' in list(locations.values())[1]"
   ]
  },
  {
   "cell_type": "code",
   "execution_count": 106,
   "metadata": {},
   "outputs": [
    {
     "data": {
      "text/plain": [
       "dict_values([['Kingdom of Saudi Arabia', 'MAKKAH', 'saudi arabia', 'jeddah', 'مكة المكرمة', 'المملكة العربية', 'Jeddah', 'Riyadh', 'المملكة العربية السعودية', 'الرياض, المملكة العربية السعودية', 'الرياض, المملكة العربية السعودية', 'jeddah , saudi arabia', 'الرياض', 'آلقصيم ، بريده', 'جدة, المملكة العربية السعودية', 'المدينة المنورة, المملكة العربية السعودية', 'Riyadh, Kingdom of Saudi Arabia', 'makkah - saudi arabia', 'جده', 'Dammam', 'Dammam, Eastern', 'Al Khobar, Kingdom of Saudi Arabia'], ['الكويت', 'Alkuwait', 'kuwait', 'KUWAIT', 'Kuwait , Salwa', 'Qortuba, Kuwait', 'دولة الكويت', 'العاصمه, دولة الكويت', 'The Capital, Kuwait', 'Al Salam, Kuwait', 'Salwa, Kuwait', 'كوكب الشرق - Kuwait']])"
      ]
     },
     "execution_count": 106,
     "metadata": {},
     "output_type": "execute_result"
    }
   ],
   "source": [
    "locations.values()"
   ]
  },
  {
   "cell_type": "code",
   "execution_count": 107,
   "metadata": {},
   "outputs": [],
   "source": [
    "#pseudo code\n",
    "\n",
    "for word in query_cleaned['cleaned_geo'].str.split('_'):\n",
    "    if word[0] in list(locations.values())[0]:\n",
    "        query_cleaned['cleaned_geo'].replace(word, 'Saudi Arabia', inplace=True)\n",
    "    else:\n",
    "        if word[0] in list(locations.values())[1]:\n",
    "            query_cleaned['cleaned_geo'].replace(word, 'Kuwait', inplace=True)"
   ]
  },
  {
   "cell_type": "code",
   "execution_count": 108,
   "metadata": {},
   "outputs": [
    {
     "data": {
      "text/plain": [
       "6                                 United Arab Emirates\n",
       "7                                               Dokhaa\n",
       "8                                                 None\n",
       "17                                                None\n",
       "18                                              Kuwait\n",
       "22                                                None\n",
       "26                                              Konoha\n",
       "30                                                None\n",
       "34                                                None\n",
       "35                                                None\n",
       "37                                              Kuwait\n",
       "39                                         upside down\n",
       "42                                                None\n",
       "46                                         مراح الوالد\n",
       "48                                              Hateen\n",
       "51                                              Kuwait\n",
       "52                                                None\n",
       "53                                       قيثارة الشّرق\n",
       "55                                                None\n",
       "66                                                None\n",
       "67                                                None\n",
       "68                                                None\n",
       "76                                              Kuwait\n",
       "78                                              Kuwait\n",
       "80                                              Kuwait\n",
       "82                                              Kuwait\n",
       "83                                              Kuwait\n",
       "89                                                None\n",
       "97                                        Saudi Arabia\n",
       "98                                        Saudi Arabia\n",
       "                            ...                       \n",
       "401                                             Kuwait\n",
       "402                                             Kuwait\n",
       "406                                               None\n",
       "408                                             Kuwait\n",
       "409                                     الْـكُـوَيْـتْ\n",
       "410                                             Kuwait\n",
       "411                                               None\n",
       "412                                             Kuwait\n",
       "414                                              Ahsa,\n",
       "415                                                 Q8\n",
       "424                                  kuwait,وطن النهار\n",
       "425                                        Asia Kuwait\n",
       "426                                        Asia Kuwait\n",
       "427                                               Doha\n",
       "428                                             Kuwait\n",
       "429                                             Kuwait\n",
       "431                                             Kuwait\n",
       "432                                               None\n",
       "433                                               None\n",
       "437                                             Kuwait\n",
       "440                                 قرطبه, دولة الكويت\n",
       "443                                               None\n",
       "444                                               None\n",
       "445                                    Stamford Bridge\n",
       "447                                       Saudi Arabia\n",
       "448                                               None\n",
       "450                                               None\n",
       "451    Jubail Industrial City, Kingdom of Saudi Arabia\n",
       "452                                               None\n",
       "453                                             Kuwait\n",
       "Name: cleaned_geo, dtype: object"
      ]
     },
     "execution_count": 108,
     "metadata": {},
     "output_type": "execute_result"
    }
   ],
   "source": [
    "query_cleaned.cleaned_geo"
   ]
  },
  {
   "cell_type": "code",
   "execution_count": 109,
   "metadata": {},
   "outputs": [
    {
     "name": "stdout",
     "output_type": "stream",
     "text": [
      "<class 'pandas.core.frame.DataFrame'>\n",
      "Int64Index: 250 entries, 6 to 453\n",
      "Data columns (total 3 columns):\n",
      "cleaned_text    250 non-null object\n",
      "cleaned_name    250 non-null object\n",
      "cleaned_geo     250 non-null object\n",
      "dtypes: object(3)\n",
      "memory usage: 7.8+ KB\n"
     ]
    }
   ],
   "source": [
    "query_cleaned.info()"
   ]
  },
  {
   "cell_type": "code",
   "execution_count": 187,
   "metadata": {},
   "outputs": [
    {
     "data": {
      "text/html": [
       "<div>\n",
       "<table border=\"1\" class=\"dataframe\">\n",
       "  <thead>\n",
       "    <tr style=\"text-align: right;\">\n",
       "      <th></th>\n",
       "      <th>cleaned_text</th>\n",
       "      <th>cleaned_name</th>\n",
       "      <th>cleaned_geo</th>\n",
       "    </tr>\n",
       "  </thead>\n",
       "  <tbody>\n",
       "    <tr>\n",
       "      <th>308</th>\n",
       "      <td>الفروانيه المقصد مو المحافظه المنطقه لانه يم الطريج ويم خيطان</td>\n",
       "      <td>MmrMmr41</td>\n",
       "      <td>None</td>\n",
       "    </tr>\n",
       "    <tr>\n",
       "      <th>280</th>\n",
       "      <td>لما وصلت نص الطريج تعتذر؟؟؟؟؟؟؟؟</td>\n",
       "      <td>isarah72</td>\n",
       "      <td>دولة الكويت</td>\n",
       "    </tr>\n",
       "    <tr>\n",
       "      <th>55</th>\n",
       "      <td>الله يحييچ يلا مسافة الطريج وأكون عندچ</td>\n",
       "      <td>subzoe</td>\n",
       "      <td>None</td>\n",
       "    </tr>\n",
       "    <tr>\n",
       "      <th>203</th>\n",
       "      <td>اكثر شي ينرفز لمن اكون طالعه بروح كلاس و بنص الطريج تعتذر</td>\n",
       "      <td>Masha3ell_</td>\n",
       "      <td>Kuwait - Bahrain</td>\n",
       "    </tr>\n",
       "    <tr>\n",
       "      <th>231</th>\n",
       "      <td>بعده في الطريج واقف يشرب كرك</td>\n",
       "      <td>AishaSalem77</td>\n",
       "      <td>None</td>\n",
       "    </tr>\n",
       "  </tbody>\n",
       "</table>\n",
       "</div>"
      ],
      "text/plain": [
       "                                                      cleaned_text  \\\n",
       "308  الفروانيه المقصد مو المحافظه المنطقه لانه يم الطريج ويم خيطان   \n",
       "280                               لما وصلت نص الطريج تعتذر؟؟؟؟؟؟؟؟   \n",
       "55                          الله يحييچ يلا مسافة الطريج وأكون عندچ   \n",
       "203      اكثر شي ينرفز لمن اكون طالعه بروح كلاس و بنص الطريج تعتذر   \n",
       "231                                   بعده في الطريج واقف يشرب كرك   \n",
       "\n",
       "     cleaned_name       cleaned_geo  \n",
       "308      MmrMmr41              None  \n",
       "280      isarah72       دولة الكويت  \n",
       "55         subzoe              None  \n",
       "203    Masha3ell_  Kuwait - Bahrain  \n",
       "231  AishaSalem77              None  "
      ]
     },
     "execution_count": 187,
     "metadata": {},
     "output_type": "execute_result"
    }
   ],
   "source": [
    "query_cleaned.sample(5)"
   ]
  },
  {
   "cell_type": "code",
   "execution_count": null,
   "metadata": {},
   "outputs": [],
   "source": []
  },
  {
   "cell_type": "markdown",
   "metadata": {},
   "source": [
    "### Pickle to conduct EDA in seperate notebook"
   ]
  },
  {
   "cell_type": "code",
   "execution_count": 111,
   "metadata": {},
   "outputs": [
    {
     "data": {
      "text/plain": [
       "'/home/jovyan/capstone-35/gulf_twitter_raw'"
      ]
     },
     "execution_count": 111,
     "metadata": {},
     "output_type": "execute_result"
    }
   ],
   "source": [
    "pwd"
   ]
  },
  {
   "cell_type": "code",
   "execution_count": 112,
   "metadata": {},
   "outputs": [],
   "source": [
    "query_cleaned.to_pickle('../gulf_twitter_pickled/stream_الطريج.p')"
   ]
  },
  {
   "cell_type": "code",
   "execution_count": null,
   "metadata": {},
   "outputs": [],
   "source": []
  },
  {
   "cell_type": "code",
   "execution_count": null,
   "metadata": {},
   "outputs": [],
   "source": []
  },
  {
   "cell_type": "code",
   "execution_count": null,
   "metadata": {},
   "outputs": [],
   "source": []
  },
  {
   "cell_type": "code",
   "execution_count": null,
   "metadata": {},
   "outputs": [],
   "source": []
  },
  {
   "cell_type": "code",
   "execution_count": null,
   "metadata": {},
   "outputs": [],
   "source": []
  },
  {
   "cell_type": "code",
   "execution_count": null,
   "metadata": {},
   "outputs": [],
   "source": []
  }
 ],
 "metadata": {
  "kernelspec": {
   "display_name": "Python 3",
   "language": "python",
   "name": "python3"
  },
  "language_info": {
   "codemirror_mode": {
    "name": "ipython",
    "version": 3
   },
   "file_extension": ".py",
   "mimetype": "text/x-python",
   "name": "python",
   "nbconvert_exporter": "python",
   "pygments_lexer": "ipython3",
   "version": "3.6.3"
  }
 },
 "nbformat": 4,
 "nbformat_minor": 2
}
